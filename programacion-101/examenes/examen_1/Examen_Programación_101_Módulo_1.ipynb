{
  "nbformat": 4,
  "nbformat_minor": 0,
  "metadata": {
    "colab": {
      "provenance": [],
      "include_colab_link": true
    },
    "kernelspec": {
      "name": "python3",
      "display_name": "Python 3"
    },
    "language_info": {
      "name": "python"
    }
  },
  "cells": [
    {
      "cell_type": "markdown",
      "metadata": {
        "id": "view-in-github",
        "colab_type": "text"
      },
      "source": [
        "<a href=\"https://colab.research.google.com/github/gianmarcomejia96/UTEC_PROGRA/blob/main/programacion-101/examenes/examen_1/Examen_Programaci%C3%B3n_101_M%C3%B3dulo_1.ipynb\" target=\"_parent\"><img src=\"https://colab.research.google.com/assets/colab-badge.svg\" alt=\"Open In Colab\"/></a>"
      ]
    },
    {
      "cell_type": "markdown",
      "source": [
        "<img src=\"https://posgrado.utec.edu.pe/sites/default/files/2023-08/Testimonial-home-2.jpg\" alt=\"HTML5 Icon\" width=\"900\" height=\"250\" >\n"
      ],
      "metadata": {
        "id": "ub41hbIV6UQ6"
      }
    },
    {
      "cell_type": "markdown",
      "source": [
        "#**Examen Programación 101 – Módulo 1**\n"
      ],
      "metadata": {
        "id": "zpZSxKDI51_7"
      }
    },
    {
      "cell_type": "markdown",
      "source": [
        "**Contexto**\n",
        "\n",
        "Estás colaborando en el diseño de un sistema básico de autenticación y validación de datos para una empresa tecnológica en expansión. El sistema debe realizar verificaciones fundamentales sobre usuarios, contraseñas, códigos de acceso e identificadores, utilizando únicamente estructuras condicionales y operaciones básicas, dado que el prototipo está pensado para funcionar en dispositivos con capacidad de cómputo muy limitada.\n",
        "\n",
        "Cada pregunta del examen representa uno de los desafíos que debes resolver en este sistema: desde validar un código, clasificar niveles de acceso, hasta verificar si una entrada cumple con múltiples criterios simultáneamente."
      ],
      "metadata": {
        "id": "qphDGB6eAe-K"
      }
    },
    {
      "cell_type": "markdown",
      "source": [
        "\n",
        "\n",
        "**Nombre y Apellido:**\n",
        "\n",
        "---"
      ],
      "metadata": {
        "id": "_MYFZY5D97r5"
      }
    },
    {
      "cell_type": "markdown",
      "source": [
        "Duración: 45 minutos\n",
        "\n",
        "**Instrucciones**\n",
        "\n",
        "1. No está permitido el uso de funciones (def), bucles (for, while)\n",
        "\n",
        "2. Puedes utilizar:\n",
        "\n",
        "  * Asignación de variables\n",
        "  * Operadores aritméticos y lógicos\n",
        "  * Condicionales (if, elif, else)\n",
        "  * Funciones input() y print()\n",
        "\n",
        "3. Se evaluará no solo la respuesta correcta, sino también la claridad, buenas prácticas, uso correcto de tipos de datos y estructura lógica.\n",
        "\n",
        "---"
      ],
      "metadata": {
        "id": "VInsS6-u7MUH"
      }
    },
    {
      "cell_type": "markdown",
      "source": [
        "**Pregunta 1: Validación de Usuario**\n"
      ],
      "metadata": {
        "id": "xVGPY6H68IO_"
      }
    },
    {
      "cell_type": "markdown",
      "source": [
        "Escribe un programa que valide un usuario según estas reglas:\n",
        "\n",
        "* El usuario debe tener exactamente 5 caracteres.\n",
        "* El primer carácter debe ser mayúscula.\n",
        "* El último carácter debe ser un número.\n",
        "\n",
        "Imprime \"Usuario válido\" o \"Usuario inválido\" según corresponda."
      ],
      "metadata": {
        "id": "2mSAVboy8Q6m"
      }
    },
    {
      "cell_type": "code",
      "execution_count": 9,
      "metadata": {
        "id": "mOSniL8V5jR4",
        "colab": {
          "base_uri": "https://localhost:8080/"
        },
        "outputId": "6393d4f1-c3a6-4863-8676-6193caecca93"
      },
      "outputs": [
        {
          "output_type": "stream",
          "name": "stdout",
          "text": [
            "Ingrese el usuarioGmej9\n",
            "Usuario valido\n"
          ]
        }
      ],
      "source": [
        "# Your code starts here\n",
        "# user_example: usuario = \"A12b4\"\n",
        "\n",
        "usuario=input(\"Ingrese el usuario\").strip() # Pedido de datos al usuario\n",
        "\n",
        "if len(usuario)==5 and usuario[0].isupper() and usuario[-1].isdigit(): #las 3 condiciones solicitadas\n",
        "  print(\"Usuario valido\") #cumple la condición\n",
        "else:\n",
        "  print(\"Usuario invalido\") #no cumple la condición\n",
        "\n",
        "\n",
        "# Your code ends here"
      ]
    },
    {
      "cell_type": "markdown",
      "source": [
        "**Pregunta 2: Nivel de Seguridad Numérico**\n",
        "\n",
        "Pide tres dígitos separados al usuario usando input(). Luego:\n",
        "\n",
        "* Imprime \"ALTO\" si los tres dígitos son diferentes.\n",
        "* Imprime \"MEDIO\" si solo dos son iguales.\n",
        "* Imprime \"BAJO\" si los tres son iguales."
      ],
      "metadata": {
        "id": "ZI1HrCRe8uU6"
      }
    },
    {
      "cell_type": "code",
      "source": [
        "print(\"Bienvenido al validador númerico, esto aquí para asegurar tu información: \") #Bienvenida del programa\n",
        "\n",
        "\n",
        "#Pedir dígitos al usuario\n",
        "d_1=input(\"Ingrese el primer digito: \").strip()\n",
        "if d_1.isdigit():\n",
        "  print(\"Se ingresó un dígito \")\n",
        "else:\n",
        "    print(\"No es válido\")\n",
        "    d_1=input(\"Ingrese el primer digito: \").strip().int()\n",
        "\n",
        "d_2=input(\"Ingrese el segundo digito: \").strip()\n",
        "if d_2.isdigit():\n",
        "  print(\"Se ingresó un dígito \")\n",
        "else:\n",
        "    print(\"No es válido\")\n",
        "    d_2=input(\"Ingrese el primer digito: \").strip()\n",
        "\n",
        "d_3=input(\"Ingrese el tercer digito: \").strip()\n",
        "if d_3.isdigit():\n",
        "  print(\"Se ingresó un dígito \")\n",
        "else:\n",
        "    print(\"No es válido\")\n",
        "    d_3=input(\"Ingrese el primer digito: \").strip().int()\n",
        "\n",
        "\n",
        "#Condiciones\n",
        "c_1= d_1.isdigit()\n",
        "c_2= d_2.isdigit()\n",
        "c_3= d_3.isdigit()\n",
        "\n",
        "\n",
        "#Condicionales considerando True como 1 y False como 0.\n",
        "if c_1+c_2+c_3==3:\n",
        "  print(\"Nivel de seguridad: ALTO\")\n",
        "elif c_1+c_2+c_3==2:\n",
        "  print(\"Nivel de seguridad: MEDIO\")\n",
        "else:\n",
        "  print(\"Nivel de seguridad: BAJO\")\n",
        "\n",
        "print(\"La seguridad es muy importante, gracias por tu interacción\")\n",
        "\n",
        "\n",
        "\n",
        "\n",
        "# Your code ends here"
      ],
      "metadata": {
        "id": "hEUnfNCK88lF",
        "colab": {
          "base_uri": "https://localhost:8080/"
        },
        "outputId": "d4d41cfc-90ce-462c-9777-f7e85d91cb0d"
      },
      "execution_count": 25,
      "outputs": [
        {
          "output_type": "stream",
          "name": "stdout",
          "text": [
            "Ingrese el primer digito: 1\n",
            "Se ingresó un dígito \n",
            "Ingrese el segundo digito: 2\n",
            "Se ingresó un dígito \n",
            "Ingrese el tercer digito: 3\n",
            "Se ingresó un dígito \n",
            "Nivel de seguridad: ALTO\n",
            "La seguridad es muy importante, gracias por tu interacción\n"
          ]
        }
      ]
    },
    {
      "cell_type": "markdown",
      "source": [
        "**Pregunta 3: Código de Acceso**\n",
        "\n",
        "Pide al usuario ingresar un número entero de tres dígitos.\n",
        "Verifica si la suma de sus tres dígitos es exactamente 10:\n",
        "\n",
        "* Si lo es, imprime \"Código válido\".\n",
        "* Si no, imprime \"Código inválido\"."
      ],
      "metadata": {
        "id": "DaAUaft_9DMe"
      }
    },
    {
      "cell_type": "code",
      "source": [
        "# Your code starts here\n",
        "\n",
        "dato=input(\"por favor ingresa un número de 3 dígitos: \") #dato ingresado\n",
        "\n",
        "if len(dato)==3 and int(dato[0]) + int(dato[1]) + int(dato[2]) == 10: #condicion para el código válido\n",
        "  print(\"Código válido, bienvenido!\")\n",
        "else:\n",
        "  print(\"Código inválido\")\n",
        "\n",
        "\n",
        "\n",
        "\n",
        "\n",
        "\n",
        "\n",
        "\n"
      ],
      "metadata": {
        "id": "Xa15jei89HaU",
        "colab": {
          "base_uri": "https://localhost:8080/"
        },
        "outputId": "151ba74c-eeb4-434e-b09f-b83ab0494ad1"
      },
      "execution_count": 50,
      "outputs": [
        {
          "output_type": "stream",
          "name": "stdout",
          "text": [
            "por favor ingresa un número de 3 dígitos: 811\n",
            "Código válido\n"
          ]
        }
      ]
    },
    {
      "cell_type": "markdown",
      "source": [
        "**Pregunta 4: Identificador de carácter**\n",
        "\n",
        "Pide al usuario un solo carácter y determina:\n",
        "\n",
        "* Si es vocal minúscula → \"Vocal minúscula\"\n",
        "* Si es vocal mayúscula → \"Vocal MAYÚSCULA\"\n",
        "* Si es número → \"Número\"\n",
        "* En cualquier otro caso → \"Símbolo especial\""
      ],
      "metadata": {
        "id": "zHCprzaP9fpB"
      }
    },
    {
      "cell_type": "code",
      "source": [
        "\n",
        "dato=input(\"Por favor ingrese un carácter: \").strip() #Dato ingresado por el usuario\n",
        "\n",
        "if len(dato)==1 and dato.lower() in \"aeiou\":          #Identificador de vocal minúscula\n",
        "  print(\"Es una vocal minúscula\")\n",
        "elif len(dato)==1 and dato.upper() in \"AEIOU\":        #Identificador de vocal MAYÚSCULA\n",
        "  print(\"Es una vocal mayúscula\")\n",
        "elif dato.isdigit():                                   #Identificador de número\n",
        "  print(\"Bien, es un número\")\n",
        "else:\n",
        "  print(\"Símbolo especial\")                             #Todo lo demás que no cumplan las condiciones escritas\n",
        "\n",
        "\n"
      ],
      "metadata": {
        "id": "OvCpLVUT92uZ",
        "colab": {
          "base_uri": "https://localhost:8080/"
        },
        "outputId": "307c8f6a-b818-475b-95fb-cf95d688cdae"
      },
      "execution_count": 51,
      "outputs": [
        {
          "output_type": "stream",
          "name": "stdout",
          "text": [
            "Por favor ingrese un carácter: #\n",
            "Símbolo especial\n"
          ]
        }
      ]
    },
    {
      "cell_type": "markdown",
      "source": [
        "**Pregunta 5: Verificación cruzada de identidad**\n",
        "\n",
        "Un sistema de validación recibe los siguientes tres datos como entrada:\n",
        "\n",
        "\n",
        "1. Un código de 6 caracteres (ej. \"A1b2C3\")\n",
        "2. Un número de 3 cifras (ej. 528)\n",
        "3. Una letra (ej. \"b\")\n",
        "\n",
        "El programa debe:\n",
        "\n",
        "* Verificar si:\n",
        "\n",
        "  1. El primer carácter del código es una letra mayúscula,\n",
        "  2. El último carácter del código es un número,\n",
        "  3. La suma de los tres dígitos del número es par, y\n",
        "  4. La letra ingresada se encuentra dentro del código sin distinguir mayúsculas/minúsculas.\n",
        "\n",
        "* Si todas las condiciones se cumplen, imprimir: \"Identidad verificada\"\n",
        "\n",
        "* Si alguna no se cumple, imprimir: \"Acceso denegado\""
      ],
      "metadata": {
        "id": "FJyAxh0I-0N8"
      }
    },
    {
      "cell_type": "code",
      "source": [
        "# Your code starts here\n",
        "print(\"bienvenido al sistema de validación de identidad, ingresa lo siguiente: \")\n",
        "\n",
        "cod_6 = input(\"Código de 6 caracteres: \")\n",
        "if len(cod_6) == 6: and cod_6[0].isupper() and cod_6[-1].isdigit():\n",
        "    print(\"Es un codigo válido, el código es una letra máyúscula y un número\")\n",
        "else:\n",
        "    print(\"Es un codigo inválido\")\n",
        "\n",
        "num_3 = input(\"ingrese un número de 3 cifras: \")\n",
        "if len(num_3)==3 and int(num_3)>=100 and int(num_3)<=999:\n",
        "    print(\"Es un número válido\")\n",
        "\n",
        "letra = input(\"ingrese una letra: \")\n",
        "if len(letra)==1 and letra.isalpha():\n",
        "    print(\"Es una letra válida\")\n"
      ],
      "metadata": {
        "id": "Z16sSPRc_TDH",
        "colab": {
          "base_uri": "https://localhost:8080/"
        },
        "outputId": "8856e9f8-3118-43e2-9592-d49b7e0109d7"
      },
      "execution_count": 53,
      "outputs": [
        {
          "output_type": "stream",
          "name": "stdout",
          "text": [
            "bienvenido al sistema de validación de identidad, ingresa lo siguiente: \n",
            "Código de 6 caracteres: 989456\n",
            "Es un codigo válido\n",
            "ingrese un número de 3 cifras: 298\n",
            "Es un número válido\n"
          ]
        }
      ]
    },
    {
      "cell_type": "markdown",
      "source": [
        "---\n",
        "\n",
        "### Gracias por completar este examen!\n",
        "\n",
        "---\n"
      ],
      "metadata": {
        "id": "vWNdqa91-NiX"
      }
    }
  ]
}