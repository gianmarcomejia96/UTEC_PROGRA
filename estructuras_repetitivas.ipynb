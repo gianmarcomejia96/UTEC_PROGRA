{
  "nbformat": 4,
  "nbformat_minor": 0,
  "metadata": {
    "colab": {
      "provenance": [],
      "include_colab_link": true
    },
    "kernelspec": {
      "name": "python3",
      "display_name": "Python 3"
    },
    "language_info": {
      "name": "python"
    }
  },
  "cells": [
    {
      "cell_type": "markdown",
      "metadata": {
        "id": "view-in-github",
        "colab_type": "text"
      },
      "source": [
        "<a href=\"https://colab.research.google.com/github/gianmarcomejia96/UTEC_PROGRA/blob/main/estructuras_repetitivas.ipynb\" target=\"_parent\"><img src=\"https://colab.research.google.com/assets/colab-badge.svg\" alt=\"Open In Colab\"/></a>"
      ]
    },
    {
      "cell_type": "markdown",
      "source": [
        "<img src=\"https://posgrado.utec.edu.pe/sites/default/files/2023-08/Testimonial-home-2.jpg\" alt=\"HTML5 Icon\" width=\"900\" height=\"250\" >\n"
      ],
      "metadata": {
        "id": "18v8Y4Ho6Coz"
      }
    },
    {
      "cell_type": "markdown",
      "source": [
        "# **Estructuras Repetitivas**\n"
      ],
      "metadata": {
        "id": "3aOR6rX86FIO"
      }
    },
    {
      "cell_type": "markdown",
      "source": [
        "**Objetivos**\n",
        "\n",
        "- Comprender el funcionamiento detallado de los bucles `while` y `for` en Python.\n",
        "- Controlar flujos repetitivos con banderas, `break` y `continue`.\n",
        "- Desarrollar habilidades prácticas en resolución de problemas utilizando estructuras repetitivas.\n",
        "\n",
        "---"
      ],
      "metadata": {
        "id": "yvkULT4_6OON"
      }
    },
    {
      "cell_type": "markdown",
      "source": [
        "**Contenido**\n",
        "\n",
        "- 1. Bucle `while`\n",
        "- 2. Dejar que el usuario decida cuándo salir\n",
        "- 3. Uso de bandera (flag)\n",
        "- 4. Uso de `break`\n",
        "- 5. Uso de `continue`\n",
        "- 6. Bucle `for`\n",
        "- 7. Bucle `for` con `range()`\n",
        "- 8. Ejercicios de reto final"
      ],
      "metadata": {
        "id": "vC9JHrQ06UNL"
      }
    },
    {
      "cell_type": "markdown",
      "source": [
        "## 1. Bucle `while`\n"
      ],
      "metadata": {
        "id": "oscManXk6ZmY"
      }
    },
    {
      "cell_type": "markdown",
      "source": [
        "El bucle `while` repite acciones mientras una condición sea verdadera. Es ideal cuando no sabemos previamente cuántas veces se repetirá.\n"
      ],
      "metadata": {
        "id": "U9GbyDk86bxp"
      }
    },
    {
      "cell_type": "markdown",
      "source": [
        "**Ejemplo 1.1**\n"
      ],
      "metadata": {
        "id": "deNpmxkP6e0D"
      }
    },
    {
      "cell_type": "code",
      "execution_count": null,
      "metadata": {
        "id": "kyekYQu95xx9"
      },
      "outputs": [],
      "source": [
        "contador = 1\n",
        "while contador <= 5:\n",
        "    print(f\"Número actual: {contador}\")\n",
        "    contador += 1\n",
        "print(\"Terminó el conteo.\")"
      ]
    },
    {
      "cell_type": "code",
      "source": [
        "message = ''  #Se tiene que definir que cosa es message\n",
        "while message != 'salir':\n",
        "    message = input(\"Escribe 'salir' para terminar: \")\n"
      ],
      "metadata": {
        "colab": {
          "base_uri": "https://localhost:8080/"
        },
        "id": "Nwe0A_rgl5KD",
        "outputId": "d9e91e34-c979-418c-a6d6-4a5e0fb77c31"
      },
      "execution_count": null,
      "outputs": [
        {
          "name": "stdout",
          "output_type": "stream",
          "text": [
            "Escribe 'salir' para terminar: 2\n",
            "Escribe 'salir' para terminar: 2\n",
            "Escribe 'salir' para terminar: salir\n"
          ]
        }
      ]
    },
    {
      "cell_type": "markdown",
      "source": [
        "**Ejercicio 1.1**\n",
        "\n",
        "Solicita al usuario un número y muestra todos los números desde 1 hasta ese número.\n",
        "\n"
      ],
      "metadata": {
        "id": "i9ktGgFL6iZv"
      }
    },
    {
      "cell_type": "code",
      "source": [],
      "metadata": {
        "id": "yiIKKpaO6nfb"
      },
      "execution_count": null,
      "outputs": []
    },
    {
      "cell_type": "markdown",
      "source": [
        "**Ejercicio 1.2**\n",
        "\n",
        "Realiza un programa que solicite números hasta que la suma acumulada sea mayor o igual a 100.\n",
        "\n"
      ],
      "metadata": {
        "id": "BZlXT-y86n0X"
      }
    },
    {
      "cell_type": "code",
      "source": [],
      "metadata": {
        "id": "unv7_Rev6w36"
      },
      "execution_count": null,
      "outputs": []
    },
    {
      "cell_type": "markdown",
      "source": [
        "## 2. Dejar que el usuario decida cuándo salir\n"
      ],
      "metadata": {
        "id": "HiAtV2fe6zi-"
      }
    },
    {
      "cell_type": "markdown",
      "source": [
        "Permite al usuario controlar cuándo finalizar la ejecución del bucle mediante una entrada específica.\n"
      ],
      "metadata": {
        "id": "9TaTdlCp62Ln"
      }
    },
    {
      "cell_type": "markdown",
      "source": [
        "**Ejemplo 2.1**"
      ],
      "metadata": {
        "id": "X3ehnMdu63sF"
      }
    },
    {
      "cell_type": "code",
      "source": [
        "mensaje = ''\n",
        "while mensaje.lower() != 'salir':\n",
        "    mensaje = input(\"Escribe 'salir' para terminar: \")\n",
        "    if mensaje.lower() != 'salir':\n",
        "        print(f\"Ingresaste: {mensaje}\")\n",
        "print(\"Programa terminado.\")"
      ],
      "metadata": {
        "id": "9AXqylJZ67KJ"
      },
      "execution_count": null,
      "outputs": []
    },
    {
      "cell_type": "markdown",
      "source": [
        "**Ejercicio 2.1.**\n",
        "\n",
        "Crea un programa que permita introducir números indefinidamente hasta escribir \"fin\" y luego muestre la suma de todos los números ingresados.\n"
      ],
      "metadata": {
        "id": "1_ZsLH6U69XU"
      }
    },
    {
      "cell_type": "code",
      "source": [],
      "metadata": {
        "id": "ZU5tnAfm7Bzt"
      },
      "execution_count": null,
      "outputs": []
    },
    {
      "cell_type": "markdown",
      "source": [
        "**Ejercicio 2.2.**\n",
        "\n",
        "Implementa un menú de opciones (mostrar, ingresar, salir) que repita hasta elegir salir.\n"
      ],
      "metadata": {
        "id": "EmhoSya87CI1"
      }
    },
    {
      "cell_type": "code",
      "source": [],
      "metadata": {
        "id": "EHTPcxGJ7H22"
      },
      "execution_count": null,
      "outputs": []
    },
    {
      "cell_type": "markdown",
      "source": [
        "## 3. Uso de bandera (flag)\n"
      ],
      "metadata": {
        "id": "uIYEi2vn7J_L"
      }
    },
    {
      "cell_type": "markdown",
      "source": [
        "Una bandera (`flag`) es una variable lógica usada para controlar cuándo debe finalizar un bucle.\n"
      ],
      "metadata": {
        "id": "YHe7O2jS7NCy"
      }
    },
    {
      "cell_type": "markdown",
      "source": [
        "**Ejemplo 3.1**"
      ],
      "metadata": {
        "id": "hrVhKmX_8K8X"
      }
    },
    {
      "cell_type": "code",
      "source": [
        "active = True\n",
        "\n",
        "while active:\n",
        "  message = input('dime un mensaje y lo repetiré (o escribe salir): ')\n",
        "  print(message)\n",
        "  if message.lower() == 'salir':\n",
        "    active = False\n",
        "print(\"Programa terminado.\")"
      ],
      "metadata": {
        "colab": {
          "base_uri": "https://localhost:8080/"
        },
        "id": "71uD3bvimIZj",
        "outputId": "50692967-3871-4781-9b94-b6ebf2591f15"
      },
      "execution_count": null,
      "outputs": [
        {
          "output_type": "stream",
          "name": "stdout",
          "text": [
            "dime un mensaje y lo repetiré (o escribe salir): 2\n",
            "2\n",
            "dime un mensaje y lo repetiré (o escribe salir): salir\n",
            "salir\n",
            "Programa terminado.\n"
          ]
        }
      ]
    },
    {
      "cell_type": "code",
      "source": [
        "activo = True\n",
        "while activo:\n",
        "    opcion = input(\"Continuar (s/n): \")\n",
        "    if opcion.lower() == 'n':\n",
        "        activo = False\n",
        "print(\"Programa finalizado.\")"
      ],
      "metadata": {
        "id": "njCEJiY37PiC"
      },
      "execution_count": null,
      "outputs": []
    },
    {
      "cell_type": "markdown",
      "source": [
        "**Ejercicio 3.1**\n",
        "\n",
        "Desarrolla un juego simple donde el usuario adivine un número secreto y use una bandera para determinar cuándo finalizar.\n"
      ],
      "metadata": {
        "id": "5_sLbMFD7SUj"
      }
    },
    {
      "cell_type": "code",
      "source": [
        "active = True\n",
        "secreto = 2\n",
        "\n",
        "while active:\n",
        "  secreto = int(input(\"Adivina el número secreto: \"))\n",
        "  print('secreto')\n",
        "  if secreto == 2:\n",
        "    active = False\n",
        "print(\"¡Ganaste!\")\n"
      ],
      "metadata": {
        "id": "a26x6Fld7h7t",
        "colab": {
          "base_uri": "https://localhost:8080/"
        },
        "outputId": "b8878866-9cdc-4e3f-f392-bfbb6531c6fb"
      },
      "execution_count": null,
      "outputs": [
        {
          "output_type": "stream",
          "name": "stdout",
          "text": [
            "Adivina el número secreto: 2\n",
            "¡Ganaste!\n"
          ]
        }
      ]
    },
    {
      "cell_type": "markdown",
      "source": [
        "**Ejercicio 3.2**\n",
        "\n",
        "\n",
        "Crea un simulador de encuestas que registre respuestas hasta que el usuario indique explícitamente que desea detenerse.\n"
      ],
      "metadata": {
        "id": "KtLRZMCf7iZ6"
      }
    },
    {
      "cell_type": "code",
      "source": [
        "active = True\n",
        "\n",
        "while active:\n",
        "\n",
        "  respuesta = input('registra tu respuesta: ')\n",
        "  print(respuesta)\n",
        "  if respuesta == \"deseo detenerme\":\n",
        "    active = False\n",
        "print('muahahah')"
      ],
      "metadata": {
        "id": "NF-Pza0K7l0_",
        "colab": {
          "base_uri": "https://localhost:8080/",
          "height": 738
        },
        "outputId": "152103e1-d583-4f6e-af35-df910d830880"
      },
      "execution_count": null,
      "outputs": [
        {
          "output_type": "stream",
          "name": "stdout",
          "text": [
            "registra tu respuesta: hola\n",
            "respuesta\n",
            "registra tu respuesta: \n",
            "respuesta\n",
            "registra tu respuesta: 2\n",
            "respuesta\n",
            "registra tu respuesta: 2\n",
            "respuesta\n",
            "registra tu respuesta: manzana\n",
            "respuesta\n",
            "registra tu respuesta: 2\n",
            "respuesta\n",
            "registra tu respuesta: 2\n",
            "respuesta\n",
            "registra tu respuesta: salir\n",
            "respuesta\n",
            "registra tu respuesta: 2\n",
            "respuesta\n",
            "registra tu respuesta: 2\n",
            "respuesta\n",
            "registra tu respuesta: 2\n",
            "respuesta\n"
          ]
        },
        {
          "output_type": "error",
          "ename": "KeyboardInterrupt",
          "evalue": "Interrupted by user",
          "traceback": [
            "\u001b[0;31m---------------------------------------------------------------------------\u001b[0m",
            "\u001b[0;31mKeyboardInterrupt\u001b[0m                         Traceback (most recent call last)",
            "\u001b[0;32m<ipython-input-27-053a26d29557>\u001b[0m in \u001b[0;36m<cell line: 0>\u001b[0;34m()\u001b[0m\n\u001b[1;32m      2\u001b[0m \u001b[0;34m\u001b[0m\u001b[0m\n\u001b[1;32m      3\u001b[0m \u001b[0;32mwhile\u001b[0m \u001b[0mactive\u001b[0m\u001b[0;34m:\u001b[0m\u001b[0;34m\u001b[0m\u001b[0;34m\u001b[0m\u001b[0m\n\u001b[0;32m----> 4\u001b[0;31m   \u001b[0mrespuesta\u001b[0m \u001b[0;34m=\u001b[0m \u001b[0minput\u001b[0m\u001b[0;34m(\u001b[0m\u001b[0;34m'registra tu respuesta: '\u001b[0m\u001b[0;34m)\u001b[0m\u001b[0;34m\u001b[0m\u001b[0;34m\u001b[0m\u001b[0m\n\u001b[0m\u001b[1;32m      5\u001b[0m   \u001b[0mprint\u001b[0m\u001b[0;34m(\u001b[0m\u001b[0;34m'respuesta'\u001b[0m\u001b[0;34m)\u001b[0m\u001b[0;34m\u001b[0m\u001b[0;34m\u001b[0m\u001b[0m\n\u001b[1;32m      6\u001b[0m   \u001b[0;32mif\u001b[0m \u001b[0mrespuesta\u001b[0m \u001b[0;34m==\u001b[0m \u001b[0;34m\"deseo detenerme\"\u001b[0m\u001b[0;34m:\u001b[0m\u001b[0;34m\u001b[0m\u001b[0;34m\u001b[0m\u001b[0m\n",
            "\u001b[0;32m/usr/local/lib/python3.11/dist-packages/ipykernel/kernelbase.py\u001b[0m in \u001b[0;36mraw_input\u001b[0;34m(self, prompt)\u001b[0m\n\u001b[1;32m   1175\u001b[0m                 \u001b[0;34m\"raw_input was called, but this frontend does not support input requests.\"\u001b[0m\u001b[0;34m\u001b[0m\u001b[0;34m\u001b[0m\u001b[0m\n\u001b[1;32m   1176\u001b[0m             )\n\u001b[0;32m-> 1177\u001b[0;31m         return self._input_request(\n\u001b[0m\u001b[1;32m   1178\u001b[0m             \u001b[0mstr\u001b[0m\u001b[0;34m(\u001b[0m\u001b[0mprompt\u001b[0m\u001b[0;34m)\u001b[0m\u001b[0;34m,\u001b[0m\u001b[0;34m\u001b[0m\u001b[0;34m\u001b[0m\u001b[0m\n\u001b[1;32m   1179\u001b[0m             \u001b[0mself\u001b[0m\u001b[0;34m.\u001b[0m\u001b[0m_parent_ident\u001b[0m\u001b[0;34m[\u001b[0m\u001b[0;34m\"shell\"\u001b[0m\u001b[0;34m]\u001b[0m\u001b[0;34m,\u001b[0m\u001b[0;34m\u001b[0m\u001b[0;34m\u001b[0m\u001b[0m\n",
            "\u001b[0;32m/usr/local/lib/python3.11/dist-packages/ipykernel/kernelbase.py\u001b[0m in \u001b[0;36m_input_request\u001b[0;34m(self, prompt, ident, parent, password)\u001b[0m\n\u001b[1;32m   1217\u001b[0m             \u001b[0;32mexcept\u001b[0m \u001b[0mKeyboardInterrupt\u001b[0m\u001b[0;34m:\u001b[0m\u001b[0;34m\u001b[0m\u001b[0;34m\u001b[0m\u001b[0m\n\u001b[1;32m   1218\u001b[0m                 \u001b[0;31m# re-raise KeyboardInterrupt, to truncate traceback\u001b[0m\u001b[0;34m\u001b[0m\u001b[0;34m\u001b[0m\u001b[0m\n\u001b[0;32m-> 1219\u001b[0;31m                 \u001b[0;32mraise\u001b[0m \u001b[0mKeyboardInterrupt\u001b[0m\u001b[0;34m(\u001b[0m\u001b[0;34m\"Interrupted by user\"\u001b[0m\u001b[0;34m)\u001b[0m \u001b[0;32mfrom\u001b[0m \u001b[0;32mNone\u001b[0m\u001b[0;34m\u001b[0m\u001b[0;34m\u001b[0m\u001b[0m\n\u001b[0m\u001b[1;32m   1220\u001b[0m             \u001b[0;32mexcept\u001b[0m \u001b[0mException\u001b[0m\u001b[0;34m:\u001b[0m\u001b[0;34m\u001b[0m\u001b[0;34m\u001b[0m\u001b[0m\n\u001b[1;32m   1221\u001b[0m                 \u001b[0mself\u001b[0m\u001b[0;34m.\u001b[0m\u001b[0mlog\u001b[0m\u001b[0;34m.\u001b[0m\u001b[0mwarning\u001b[0m\u001b[0;34m(\u001b[0m\u001b[0;34m\"Invalid Message:\"\u001b[0m\u001b[0;34m,\u001b[0m \u001b[0mexc_info\u001b[0m\u001b[0;34m=\u001b[0m\u001b[0;32mTrue\u001b[0m\u001b[0;34m)\u001b[0m\u001b[0;34m\u001b[0m\u001b[0;34m\u001b[0m\u001b[0m\n",
            "\u001b[0;31mKeyboardInterrupt\u001b[0m: Interrupted by user"
          ]
        }
      ]
    },
    {
      "cell_type": "code",
      "source": [
        "from typing import no_type_check_decorator\n",
        "no_type_check_decorator"
      ],
      "metadata": {
        "id": "K3F8jIAHqClG"
      },
      "execution_count": null,
      "outputs": []
    },
    {
      "cell_type": "markdown",
      "source": [],
      "metadata": {
        "id": "p_tM9Laf7mNx"
      }
    },
    {
      "cell_type": "markdown",
      "source": [
        "## 4. Uso de `break`\n"
      ],
      "metadata": {
        "id": "bQ49vDpd7nxl"
      }
    },
    {
      "cell_type": "markdown",
      "source": [
        "El comando `break` interrumpe inmediatamente la ejecución del bucle actual y continúa con el código siguiente fuera del bucle.\n"
      ],
      "metadata": {
        "id": "mNi_oK2e7p7h"
      }
    },
    {
      "cell_type": "markdown",
      "source": [
        "**Ejemplo 4.1**"
      ],
      "metadata": {
        "id": "i_NeJak88Mit"
      }
    },
    {
      "cell_type": "code",
      "source": [
        "while True:\n",
        "    contraseña = input(\"Introduce la contraseña: \")\n",
        "    if contraseña == '1234':\n",
        "        print(\"Acceso concedido.\")\n",
        "        break\n",
        "    print(\"Contraseña incorrecta, inténtalo de nuevo.\")"
      ],
      "metadata": {
        "id": "SZ3NAl_D7r7O"
      },
      "execution_count": null,
      "outputs": []
    },
    {
      "cell_type": "code",
      "source": [
        "Detiene el 'while' donde esta contenido."
      ],
      "metadata": {
        "id": "pcPLDjUspouO"
      },
      "execution_count": null,
      "outputs": []
    },
    {
      "cell_type": "code",
      "source": [
        "# buscar el número de multiplos de 13 menores a 277\n",
        "\n",
        "i=0\n",
        "\n",
        "while True:\n",
        "  i +=13\n",
        "  if i > 277:\n",
        "    break\n",
        "\n",
        "print(f'existen {i/13} multiplos de 13 menores que 277')"
      ],
      "metadata": {
        "colab": {
          "base_uri": "https://localhost:8080/"
        },
        "id": "7Mi1ZDMyrBhV",
        "outputId": "7ce2bbb8-8ef8-4172-ed62-ff3648a81bea"
      },
      "execution_count": null,
      "outputs": [
        {
          "output_type": "stream",
          "name": "stdout",
          "text": [
            "existen 22.0 multiplos de 13 menores que 277\n"
          ]
        }
      ]
    },
    {
      "cell_type": "markdown",
      "source": [
        "**Ejercicio 4.1.**\n",
        "\n",
        "Programa una simulación de un cajero automático que finalice inmediatamente al ingresar el pin correcto.\n",
        "\n"
      ],
      "metadata": {
        "id": "blY9Uyi_7sYT"
      }
    },
    {
      "cell_type": "code",
      "source": [
        "#imprime los multiplos de 13 menores a 277\n",
        "i = 0\n",
        "while True:\n",
        "  i +=1\n",
        "  if i < 277:\n",
        "      if i%13 == 0:\n",
        "          print(i)\n",
        "      else:\n",
        "        continue #detiene el proceso del while, pero regresa al while.\n",
        "      print(f'el numero {i} fue encontrado ')\n",
        "  else:\n",
        "    break\n",
        "print('programa terminado')"
      ],
      "metadata": {
        "colab": {
          "base_uri": "https://localhost:8080/"
        },
        "id": "1J_JC_q8rfQX",
        "outputId": "c829bde8-3328-4982-bdcb-48de05308875"
      },
      "execution_count": null,
      "outputs": [
        {
          "output_type": "stream",
          "name": "stdout",
          "text": [
            "13\n",
            "el numero 13 fue encontrado \n",
            "26\n",
            "el numero 26 fue encontrado \n",
            "39\n",
            "el numero 39 fue encontrado \n",
            "52\n",
            "el numero 52 fue encontrado \n",
            "65\n",
            "el numero 65 fue encontrado \n",
            "78\n",
            "el numero 78 fue encontrado \n",
            "91\n",
            "el numero 91 fue encontrado \n",
            "104\n",
            "el numero 104 fue encontrado \n",
            "117\n",
            "el numero 117 fue encontrado \n",
            "130\n",
            "el numero 130 fue encontrado \n",
            "143\n",
            "el numero 143 fue encontrado \n",
            "156\n",
            "el numero 156 fue encontrado \n",
            "169\n",
            "el numero 169 fue encontrado \n",
            "182\n",
            "el numero 182 fue encontrado \n",
            "195\n",
            "el numero 195 fue encontrado \n",
            "208\n",
            "el numero 208 fue encontrado \n",
            "221\n",
            "el numero 221 fue encontrado \n",
            "234\n",
            "el numero 234 fue encontrado \n",
            "247\n",
            "el numero 247 fue encontrado \n",
            "260\n",
            "el numero 260 fue encontrado \n",
            "273\n",
            "el numero 273 fue encontrado \n",
            "programa terminado\n"
          ]
        }
      ]
    },
    {
      "cell_type": "code",
      "source": [],
      "metadata": {
        "id": "luLubC-j70yf"
      },
      "execution_count": null,
      "outputs": []
    },
    {
      "cell_type": "markdown",
      "source": [
        "**Ejercicio 4.2.**\n",
        "\n",
        "Implementa un sistema que detenga la ejecución de un ciclo al detectar un número primo.\n"
      ],
      "metadata": {
        "id": "OMwgGQtN71pn"
      }
    },
    {
      "cell_type": "code",
      "source": [],
      "metadata": {
        "id": "lXAsluPh71FK"
      },
      "execution_count": null,
      "outputs": []
    },
    {
      "cell_type": "markdown",
      "source": [
        "## 5. Uso de `continue`\n"
      ],
      "metadata": {
        "id": "n3_A0xyy74E8"
      }
    },
    {
      "cell_type": "markdown",
      "source": [
        "El comando `continue` permite saltar la iteración actual y continuar directamente con la siguiente iteración del bucle.\n"
      ],
      "metadata": {
        "id": "k8xvQ7RF77Rc"
      }
    },
    {
      "cell_type": "markdown",
      "source": [
        "**Ejemplo 5.1**"
      ],
      "metadata": {
        "id": "SPFNjXXg8N5c"
      }
    },
    {
      "cell_type": "code",
      "source": [
        "for numero in range(10):\n",
        "    if numero % 2 == 0:\n",
        "        continue\n",
        "    print(numero, \"es impar.\")"
      ],
      "metadata": {
        "id": "z7ojd6o875S7",
        "colab": {
          "base_uri": "https://localhost:8080/"
        },
        "outputId": "35946166-0525-4d41-b0a9-e7c2be7d6f55"
      },
      "execution_count": null,
      "outputs": [
        {
          "output_type": "stream",
          "name": "stdout",
          "text": [
            "1 es impar.\n",
            "3 es impar.\n",
            "5 es impar.\n",
            "7 es impar.\n",
            "9 es impar.\n"
          ]
        }
      ]
    },
    {
      "cell_type": "markdown",
      "source": [
        "**Ejercicio 5.1.**\n",
        "\n",
        "Crea un programa que pida números pero ignore (no los imprima) aquellos que sean múltiplos de 5.\n"
      ],
      "metadata": {
        "id": "2ANEL3x77_aA"
      }
    },
    {
      "cell_type": "code",
      "source": [],
      "metadata": {
        "id": "JPcGOsFw8G6y"
      },
      "execution_count": null,
      "outputs": []
    },
    {
      "cell_type": "markdown",
      "source": [
        "\n",
        "**Ejercicio 5.2.**\n",
        "\n",
        "Solicita al usuario 7 números y muestra solamente aquellos que sean positivos."
      ],
      "metadata": {
        "id": "OfzwakeO79WP"
      }
    },
    {
      "cell_type": "code",
      "source": [],
      "metadata": {
        "id": "bPww6bOQ8IAY"
      },
      "execution_count": null,
      "outputs": []
    },
    {
      "cell_type": "code",
      "source": [],
      "metadata": {
        "id": "DOJVGqTWwU_R"
      },
      "execution_count": null,
      "outputs": []
    },
    {
      "cell_type": "markdown",
      "source": [
        "El programa debe generar un numero aleatorio del 1-100. Luego el usuario debe tratar de adivinar ese número y el programa le debe dar como pista si el número secreto esta por encima o por debajo del número que dió. Una vez que adivine felicita al usuario y pregunta si desea jugar otra vez."
      ],
      "metadata": {
        "id": "el_ce1o3waH7"
      }
    },
    {
      "cell_type": "code",
      "source": [
        "from random import randint"
      ],
      "metadata": {
        "id": "gonp3dpRwR8k"
      },
      "execution_count": null,
      "outputs": []
    },
    {
      "cell_type": "code",
      "source": [
        "numero = randint(1,100)\n",
        "print(numero)"
      ],
      "metadata": {
        "colab": {
          "base_uri": "https://localhost:8080/"
        },
        "id": "U0dJlnqvwW1b",
        "outputId": "512fb228-7387-4c19-9716-a47f8c4159c2"
      },
      "execution_count": null,
      "outputs": [
        {
          "output_type": "stream",
          "name": "stdout",
          "text": [
            "62\n"
          ]
        }
      ]
    },
    {
      "cell_type": "code",
      "source": [
        "\n",
        "\n",
        "\n",
        "Secret_number= randint(1,100)\n",
        "\n",
        "while True:\n",
        "  respuesta = int(input('adivina el número secreto: '))\n",
        "  if respuesta == secret_number:\n",
        "    print('ganaste')\n",
        "    message = input('Deseas jugar nuevamente? (s/n): ')\n",
        "    if message.lower().strip() == 's':\n",
        "      continue\n",
        "    else:\n",
        "      break\n",
        "\n",
        "  elif respuesta > secret_number:\n",
        "    print('el número secreto es menor')\n",
        "  else\n",
        "    print('el número secreto es mayor')\n",
        "\n",
        "\n",
        "\n",
        "\n"
      ],
      "metadata": {
        "colab": {
          "base_uri": "https://localhost:8080/"
        },
        "id": "aVyysXR2woNA",
        "outputId": "384c2f15-96bf-4c12-fec0-ffdde18e37b4"
      },
      "execution_count": null,
      "outputs": [
        {
          "output_type": "stream",
          "name": "stdout",
          "text": [
            "dime un numero: 61\n",
            "esta por debajo\n",
            "dime un numero: 62\n",
            "dime un numero: 2\n",
            "esta por debajo\n",
            "dime un numero: 3\n",
            "esta por debajo\n",
            "dime un numero: 4\n",
            "esta por debajo\n",
            "dime un numero: 7\n",
            "esta por debajo\n",
            "dime un numero: 200\n",
            "esta por encima\n",
            "dime un numero: 1\n",
            "esta por debajo\n",
            "dime un numero: 50\n",
            "esta por debajo\n",
            "dime un numero: 20\n",
            "esta por debajo\n",
            "dime un numero: 15\n",
            "esta por debajo\n",
            "dime un numero: 12\n",
            "esta por debajo\n",
            "dime un numero: 6\n",
            "esta por debajo\n",
            "dime un numero: 5\n",
            "esta por debajo\n",
            "dime un numero: 2\n",
            "esta por debajo\n"
          ]
        }
      ]
    },
    {
      "cell_type": "markdown",
      "source": [
        "## 6. Bucle `for`\n"
      ],
      "metadata": {
        "id": "7OcruVUY8R0h"
      }
    },
    {
      "cell_type": "markdown",
      "source": [
        "El bucle `for` recorre elementos de una secuencia conocida, permitiendo automatizar tareas repetitivas sobre listas, cadenas o cualquier secuencia iterable.\n"
      ],
      "metadata": {
        "id": "vIK_1Oz18Wg0"
      }
    },
    {
      "cell_type": "markdown",
      "source": [
        "**Ejemplo 6.1**"
      ],
      "metadata": {
        "id": "T5idR_D48UeL"
      }
    },
    {
      "cell_type": "code",
      "source": [
        "colores = ['rojo', 'verde', 'azul']\n",
        "for color in colores:\n",
        "    print(\"El color es\", color)"
      ],
      "metadata": {
        "id": "oQAKORFj8aol"
      },
      "execution_count": null,
      "outputs": []
    },
    {
      "cell_type": "markdown",
      "source": [
        "**Ejercicio 6.1.**\n",
        "\n",
        "Solicita 5 nombres y salúdalos individualmente usando un bucle `for`.\n"
      ],
      "metadata": {
        "id": "nSKYPrkA8dMT"
      }
    },
    {
      "cell_type": "code",
      "source": [],
      "metadata": {
        "id": "c9tmoekN8jco"
      },
      "execution_count": null,
      "outputs": []
    },
    {
      "cell_type": "markdown",
      "source": [
        "**Ejercicio 6.2.**\n",
        "\n",
        "Recorre una cadena de texto e imprime solo las letras vocales.\n"
      ],
      "metadata": {
        "id": "kpS-l4598jxI"
      }
    },
    {
      "cell_type": "code",
      "source": [],
      "metadata": {
        "id": "cAbGJKPi8orn"
      },
      "execution_count": null,
      "outputs": []
    },
    {
      "cell_type": "markdown",
      "source": [
        "## 7. Bucle `for` con `range()`\n"
      ],
      "metadata": {
        "id": "gq6iDWD88oPL"
      }
    },
    {
      "cell_type": "markdown",
      "source": [
        "La función `range()` genera una secuencia numérica ideal para controlar iteraciones con límites definidos.\n"
      ],
      "metadata": {
        "id": "F9nu8pBa8rQg"
      }
    },
    {
      "cell_type": "markdown",
      "source": [
        "**Ejemplo 7.1.**"
      ],
      "metadata": {
        "id": "W7FY33Xo8tMd"
      }
    },
    {
      "cell_type": "code",
      "source": [
        "for i in range(1, 6):\n",
        "    print(f\"Número: {i}\")"
      ],
      "metadata": {
        "id": "cu5H61Fm8szL"
      },
      "execution_count": null,
      "outputs": []
    },
    {
      "cell_type": "markdown",
      "source": [
        "**Ejercicio 7.1.**\n",
        "\n",
        "Realiza un programa que imprima todos los números pares entre 1 y 50.\n",
        "\n"
      ],
      "metadata": {
        "id": "W_t1FFCT8w83"
      }
    },
    {
      "cell_type": "code",
      "source": [],
      "metadata": {
        "id": "doe0H_jb86Ij"
      },
      "execution_count": null,
      "outputs": []
    },
    {
      "cell_type": "markdown",
      "source": [
        "**Ejercicio 7.2.**\n",
        "\n",
        "Usa `range()` para calcular y mostrar la suma de los primeros 20 números naturales.\n",
        "\n"
      ],
      "metadata": {
        "id": "J1D5oHeZ86ga"
      }
    },
    {
      "cell_type": "code",
      "source": [],
      "metadata": {
        "id": "go4Vvtnt87qz"
      },
      "execution_count": null,
      "outputs": []
    },
    {
      "cell_type": "markdown",
      "source": [
        "\n",
        "**Ejercicio 7.3.**\n",
        "\n",
        "Crea un programa que muestre una cuenta regresiva desde 15 hasta 0 con un mensaje especial en cero."
      ],
      "metadata": {
        "id": "7b7oby7_879-"
      }
    },
    {
      "cell_type": "markdown",
      "source": [
        "---\n",
        "\n",
        "## Ejercicios adicionales\n",
        "\n",
        "1. Simula un sistema de votación que cuente votos hasta que el usuario decida terminar y muestre el total.\n",
        "\n",
        "2. Crea un juego en el que el usuario adivine un número generado aleatoriamente con límite de intentos.\n",
        "\n",
        "3. Desarrolla un programa que imprima la tabla de multiplicar de cualquier número ingresado por el usuario.\n",
        "\n",
        "4. Realiza un programa que solicite números continuamente hasta que ingrese un número negativo y luego muestre la cantidad de números ingresados.\n",
        "\n",
        "5. Simula un cronómetro que imprima los segundos hasta llegar a un tiempo ingresado por el usuario.\n",
        "\n",
        "6. Pide al usuario una palabra e imprime sus letras alternando mayúsculas y minúsculas.\n",
        "\n",
        "7. Implementa un buscador que solicite nombres continuamente y los almacene en una lista hasta que el usuario escriba \"salir\".\n",
        "\n",
        "8. Solicita al usuario números y determina cuántos números primos se han ingresado al finalizar la entrada de datos.\n",
        "\n",
        "---"
      ],
      "metadata": {
        "id": "1DwFMbVi8-Uj"
      }
    },
    {
      "cell_type": "markdown",
      "source": [
        "## Conclusión\n",
        "\n",
        "A lo largo de este laboratorio, aprendiste cómo usar estructuras repetitivas para automatizar tareas, controlar condiciones dinámicas y solucionar problemas complejos de forma eficiente y clara en Python. Estas habilidades son esenciales para la programación estructurada y eficiente.\n"
      ],
      "metadata": {
        "id": "4AfCerGB9Hjl"
      }
    },
    {
      "cell_type": "markdown",
      "source": [
        "---\n",
        "\n",
        "# Gracias por completar este laboratorio!\n",
        "\n",
        "---\n"
      ],
      "metadata": {
        "id": "uPP5akR29Iub"
      }
    }
  ]
}