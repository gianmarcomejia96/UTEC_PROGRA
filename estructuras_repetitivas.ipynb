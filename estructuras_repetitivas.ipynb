{
  "nbformat": 4,
  "nbformat_minor": 0,
  "metadata": {
    "colab": {
      "provenance": [],
      "include_colab_link": true
    },
    "kernelspec": {
      "name": "python3",
      "display_name": "Python 3"
    },
    "language_info": {
      "name": "python"
    }
  },
  "cells": [
    {
      "cell_type": "markdown",
      "metadata": {
        "id": "view-in-github",
        "colab_type": "text"
      },
      "source": [
        "<a href=\"https://colab.research.google.com/github/gianmarcomejia96/UTEC_PROGRA/blob/main/estructuras_repetitivas.ipynb\" target=\"_parent\"><img src=\"https://colab.research.google.com/assets/colab-badge.svg\" alt=\"Open In Colab\"/></a>"
      ]
    },
    {
      "cell_type": "markdown",
      "source": [
        "<img src=\"https://posgrado.utec.edu.pe/sites/default/files/2023-08/Testimonial-home-2.jpg\" alt=\"HTML5 Icon\" width=\"900\" height=\"250\" >\n"
      ],
      "metadata": {
        "id": "18v8Y4Ho6Coz"
      }
    },
    {
      "cell_type": "markdown",
      "source": [
        "# **Estructuras Repetitivas**\n"
      ],
      "metadata": {
        "id": "3aOR6rX86FIO"
      }
    },
    {
      "cell_type": "markdown",
      "source": [
        "**Objetivos**\n",
        "\n",
        "- Comprender el funcionamiento detallado de los bucles `while` y `for` en Python.\n",
        "- Controlar flujos repetitivos con banderas, `break` y `continue`.\n",
        "- Desarrollar habilidades prácticas en resolución de problemas utilizando estructuras repetitivas.\n",
        "\n",
        "---"
      ],
      "metadata": {
        "id": "yvkULT4_6OON"
      }
    },
    {
      "cell_type": "markdown",
      "source": [
        "**Contenido**\n",
        "\n",
        "- 1. Bucle `while`\n",
        "- 2. Dejar que el usuario decida cuándo salir\n",
        "- 3. Uso de bandera (flag)\n",
        "- 4. Uso de `break`\n",
        "- 5. Uso de `continue`\n",
        "- 6. Bucle `for`\n",
        "- 7. Bucle `for` con `range()`\n",
        "- 8. Ejercicios de reto final"
      ],
      "metadata": {
        "id": "vC9JHrQ06UNL"
      }
    },
    {
      "cell_type": "markdown",
      "source": [
        "Borrador\n"
      ],
      "metadata": {
        "id": "9qIaPHL0XUeL"
      }
    },
    {
      "cell_type": "code",
      "source": [
        "message = ''"
      ],
      "metadata": {
        "id": "_vPEnCkGYfqC"
      },
      "execution_count": null,
      "outputs": []
    },
    {
      "cell_type": "markdown",
      "source": [],
      "metadata": {
        "id": "vI5cRaxpYkAr"
      }
    },
    {
      "cell_type": "code",
      "source": [
        "while message != 'salir':\n",
        "  message = input('dime un mensaje y lo repetire o escribe salir:')\n",
        "  print(message)\n",
        "\n"
      ],
      "metadata": {
        "colab": {
          "base_uri": "https://localhost:8080/"
        },
        "id": "6lAYCtyqXd4s",
        "outputId": "26be3be5-adea-4470-f9c7-e4b59d4c3fd3"
      },
      "execution_count": null,
      "outputs": [
        {
          "output_type": "stream",
          "name": "stdout",
          "text": [
            "dime un mensaje y lo repetire o escribe salir:HOLA\n",
            "HOLA\n",
            "dime un mensaje y lo repetire o escribe salir:como estas\n",
            "como estas\n",
            "dime un mensaje y lo repetire o escribe salir:salir\n",
            "salir\n"
          ]
        }
      ]
    },
    {
      "cell_type": "code",
      "source": [
        "active = True\n",
        "\n",
        "while active:\n",
        "  message = input('dime un mensaje y lo repetire o escribe salir:')\n",
        "  print(message)\n",
        "  if message.lower().strip() == 'salir':\n",
        "    active = False\n",
        "    print(f'{message}adios ')\n"
      ],
      "metadata": {
        "colab": {
          "base_uri": "https://localhost:8080/"
        },
        "id": "folbmpeJZC3G",
        "outputId": "2624c1f3-104d-42b9-85f6-d63f58ce3562"
      },
      "execution_count": null,
      "outputs": [
        {
          "output_type": "stream",
          "name": "stdout",
          "text": [
            "dime un mensaje y lo repetire o escribe salir:comop estas\n",
            "comop estas\n",
            "dime un mensaje y lo repetire o escribe salir:salir\n",
            "salir\n",
            "saliradios \n"
          ]
        }
      ]
    },
    {
      "cell_type": "markdown",
      "source": [
        "Ejercicio 3.2\n",
        "\n",
        "Crea un simulador de encuestas que registre respuestas hasta que el usuario indique explícitamente que desea detenerse."
      ],
      "metadata": {
        "id": "B2RIwDQz_TQp"
      }
    },
    {
      "cell_type": "code",
      "source": [
        "flag = True\n",
        "\n",
        "while flag:\n",
        "    message = input(\"hola aun estas ahi?\")\n",
        "    print(message)\n",
        "    if message.lower().strip() == 'detente':\n",
        "      flag =  False\n",
        "      print('gracias')"
      ],
      "metadata": {
        "colab": {
          "base_uri": "https://localhost:8080/"
        },
        "id": "vRANeBg3ZLTv",
        "outputId": "c4b49759-db78-46a7-d9eb-b9b05539876a"
      },
      "execution_count": null,
      "outputs": [
        {
          "output_type": "stream",
          "name": "stdout",
          "text": [
            "hola aun estas ahi?no\n",
            "no\n",
            "hola aun estas ahi?hola\n",
            "hola\n",
            "hola aun estas ahi?como esatas\n",
            "como esatas\n",
            "hola aun estas ahi?detente\n",
            "detente\n",
            "gracias\n"
          ]
        }
      ]
    },
    {
      "cell_type": "code",
      "source": [
        "count = 0\n",
        "\n",
        "while count < 5:\n",
        "  print('hola')\n",
        "  count +=1\n"
      ],
      "metadata": {
        "colab": {
          "base_uri": "https://localhost:8080/"
        },
        "id": "W191hjTaZ7fE",
        "outputId": "66fbf50b-62a0-4cd7-e3a9-f203d4412eb6"
      },
      "execution_count": null,
      "outputs": [
        {
          "output_type": "stream",
          "name": "stdout",
          "text": [
            "hola\n",
            "hola\n",
            "hola\n",
            "hola\n",
            "hola\n"
          ]
        }
      ]
    },
    {
      "cell_type": "code",
      "source": [
        "#Crea una variable llamada edad con valor 20.Luego súmale 5 usando += y muestra el resultado con print().\n",
        "\n",
        "edad = 20\n",
        "\n",
        "edad += 5\n",
        "\n",
        "print(edad)\n"
      ],
      "metadata": {
        "colab": {
          "base_uri": "https://localhost:8080/"
        },
        "id": "14XmsgPblKh9",
        "outputId": "e3c736e3-44bd-434f-cbd5-e1608551c0fb"
      },
      "execution_count": null,
      "outputs": [
        {
          "output_type": "stream",
          "name": "stdout",
          "text": [
            "25\n"
          ]
        }
      ]
    },
    {
      "cell_type": "markdown",
      "source": [
        "Usa while para imprimir los números pares del 2 al 10.\n",
        "\n",
        "📌 Reglas:\n",
        "\n",
        "Usa una variable que comience en 2.\n",
        "\n",
        "Imprime el número en cada vuelta.\n",
        "\n",
        "Suma 2 en cada paso.\n",
        "\n",
        "👉 Intenta hacerlo tú.\n",
        "Avísame cuando lo termines o si necesitas ayuda. Luego pasamos al siguiente."
      ],
      "metadata": {
        "id": "Og1ZOfX7ld-I"
      }
    },
    {
      "cell_type": "code",
      "source": [
        "x = 2\n",
        "\n",
        "while x % 2 == 0 and x<=10:\n",
        "  print(x)\n",
        "  x += 2\n"
      ],
      "metadata": {
        "colab": {
          "base_uri": "https://localhost:8080/"
        },
        "id": "ffVwLCbclbPu",
        "outputId": "cd4ea7ca-53a4-4e92-c1ec-95ee64332d77"
      },
      "execution_count": null,
      "outputs": [
        {
          "output_type": "stream",
          "name": "stdout",
          "text": [
            "2\n",
            "4\n",
            "6\n",
            "8\n",
            "10\n"
          ]
        }
      ]
    },
    {
      "cell_type": "markdown",
      "source": [
        "🔁 Ejercicio 3:\n",
        "\n",
        "Haz un programa que cuente hacia atrás desde 5 hasta 1 usando while."
      ],
      "metadata": {
        "id": "afAKRaB5l-_8"
      }
    },
    {
      "cell_type": "code",
      "source": [
        "count = 5\n",
        "\n",
        "while count >= 1:\n",
        "  print(count)\n",
        "  count -= 1"
      ],
      "metadata": {
        "colab": {
          "base_uri": "https://localhost:8080/"
        },
        "id": "urljb_h0mAFL",
        "outputId": "f31ffd58-ac7f-40bc-f8e3-3fb0ac089b94"
      },
      "execution_count": null,
      "outputs": [
        {
          "output_type": "stream",
          "name": "stdout",
          "text": [
            "5\n",
            "4\n",
            "3\n",
            "2\n",
            "1\n"
          ]
        }
      ]
    },
    {
      "cell_type": "markdown",
      "source": [
        "🔁 Ejercicio 4:\n",
        "\n",
        "Haz un programa que le pida al usuario una contraseña con input(),\n",
        "y siga pidiéndola hasta que escriba \"python123\"."
      ],
      "metadata": {
        "id": "DbNxQIOWmfh3"
      }
    },
    {
      "cell_type": "code",
      "source": [
        "flag = True\n",
        "contrasena = ''\n",
        "while flag:\n",
        "    contrasena = input('ingrese la contraseña correcta: ')\n",
        "    if  contrasena.strip().lower() == 'python123':\n",
        "      flag = False\n",
        "\n",
        "\n",
        "\n"
      ],
      "metadata": {
        "colab": {
          "base_uri": "https://localhost:8080/"
        },
        "id": "RK9p46Q9mhhm",
        "outputId": "8c5da84e-71da-414e-fdcf-2ac6eb477aa5"
      },
      "execution_count": null,
      "outputs": [
        {
          "name": "stdout",
          "output_type": "stream",
          "text": [
            "ingrese la contraseña correcta: sds\n",
            "ingrese la contraseña correcta: sdsd\n",
            "ingrese la contraseña correcta: contraseña\n",
            "ingrese la contraseña correcta: python123\n"
          ]
        }
      ]
    },
    {
      "cell_type": "markdown",
      "source": [
        "🔁 Ejercicio 5:\n",
        "\n",
        "Haz un programa que le pida al usuario un número.\n",
        "Sigue pidiendo hasta que el número sea mayor a 100"
      ],
      "metadata": {
        "id": "bd7oovcToHxx"
      }
    },
    {
      "cell_type": "code",
      "source": [
        "flag = True\n",
        "\n",
        "\n",
        "while flag:\n",
        "  numero = int(input('dame un numero: '))\n",
        "  if numero > 100:\n",
        "    flag = False"
      ],
      "metadata": {
        "colab": {
          "base_uri": "https://localhost:8080/"
        },
        "id": "4L3jQ6FNoIgn",
        "outputId": "e07e59aa-3db2-4029-c314-b5c3ced0f4e1"
      },
      "execution_count": null,
      "outputs": [
        {
          "name": "stdout",
          "output_type": "stream",
          "text": [
            "dame un numero: 2\n",
            "dame un numero: 2\n",
            "dame un numero: 99\n",
            "dame un numero: 101\n"
          ]
        }
      ]
    },
    {
      "cell_type": "markdown",
      "source": [
        "#🔁 Ejercicio 6: Haz un programa que use while para mostrar esta salida:\n",
        "\n",
        "1\n",
        "2\n",
        "3\n",
        "¡Listo!"
      ],
      "metadata": {
        "id": "PSq55_6bow41"
      }
    },
    {
      "cell_type": "code",
      "source": [
        "numero = 1\n",
        "\n",
        "while numero < 4:\n",
        "  print(numero)\n",
        "  numero += 1\n",
        "\n",
        "print('!Listo!')\n",
        "\n",
        "\n"
      ],
      "metadata": {
        "colab": {
          "base_uri": "https://localhost:8080/"
        },
        "id": "Vew2CtJ6oq_c",
        "outputId": "5feb2ce8-a2ee-4f0c-ce71-95549d85d413"
      },
      "execution_count": null,
      "outputs": [
        {
          "output_type": "stream",
          "name": "stdout",
          "text": [
            "1\n",
            "2\n",
            "3\n",
            "!Listo!\n"
          ]
        }
      ]
    },
    {
      "cell_type": "markdown",
      "source": [
        "Haz un programa que multiplique un número por 2 en cada vuelta,\n",
        "empezando desde 1, hasta que el número sea mayor que 100.\n",
        "\n",
        "📌 Reglas:\n",
        "\n",
        "Empieza en 1.\n",
        "\n",
        "Usa *= para multiplicar por 2.\n",
        "\n",
        "Muestra el número en cada vuelta.\n",
        "\n",
        "👉 Inténtalo tú.\n",
        "Avísame cuando lo tengas."
      ],
      "metadata": {
        "id": "n4OpckVpqxWD"
      }
    },
    {
      "cell_type": "code",
      "source": [
        "numero = 1\n",
        "\n",
        "while numero < 100:\n",
        "    print(numero)\n",
        "    numero *= 2"
      ],
      "metadata": {
        "colab": {
          "base_uri": "https://localhost:8080/"
        },
        "id": "EbMc9J4-qvi5",
        "outputId": "2c9482b6-fd90-4732-af15-d29a8139514a"
      },
      "execution_count": null,
      "outputs": [
        {
          "output_type": "stream",
          "name": "stdout",
          "text": [
            "1\n",
            "2\n",
            "4\n",
            "8\n",
            "16\n",
            "32\n",
            "64\n"
          ]
        }
      ]
    },
    {
      "cell_type": "markdown",
      "source": [
        "🔁 Ejercicio 8:\n",
        "\n",
        "Haz un programa que le pida al usuario su nombre.\n",
        "Repite la pregunta hasta que escriba un nombre que empiece con la letra \"A\" (mayúscula o minúscula).\n",
        "\n",
        "📌 Reglas:\n",
        "\n",
        "Usa input()\n",
        "\n",
        "Usa while\n",
        "\n",
        "Usa .lower() y [0] para verificar la primera letra\n",
        "\n",
        "👉 Inténtalo tú.\n",
        "Dime cuando lo tengas o si te trabas."
      ],
      "metadata": {
        "id": "-8e7bNhHrY4v"
      }
    },
    {
      "cell_type": "code",
      "source": [
        "flag = True\n",
        "nombre = ''\n",
        "\n",
        "while flag:\n",
        "    nombre = input('Por favor ingresa tu nombre: ')\n",
        "    if nombre.lower()[0] == 'a':\n",
        "      flag = False\n"
      ],
      "metadata": {
        "colab": {
          "base_uri": "https://localhost:8080/"
        },
        "id": "F0ZWphJZqxNj",
        "outputId": "5dd9a4a4-6d76-4b6f-964b-ae38330b2c9e"
      },
      "execution_count": null,
      "outputs": [
        {
          "name": "stdout",
          "output_type": "stream",
          "text": [
            "Por favor ingresa tu nombre: SSDS\n",
            "Por favor ingresa tu nombre: SDS\n",
            "Por favor ingresa tu nombre: HOLA\n",
            "Por favor ingresa tu nombre: AMELIA\n"
          ]
        }
      ]
    },
    {
      "cell_type": "markdown",
      "source": [
        "🔁 Ejercicio 9 (recordatorio):\n",
        "\n",
        "Haz un programa que:\n",
        "\n",
        "Pida números con input()\n",
        "\n",
        "Los vaya sumando\n",
        "\n",
        "Termine cuando el usuario escriba 0\n",
        "\n",
        "Al final, muestra la suma total"
      ],
      "metadata": {
        "id": "LNOOOGoZscWW"
      }
    },
    {
      "cell_type": "code",
      "source": [
        "numero = 0\n",
        "flag = True\n",
        "suma = 0\n",
        "\n",
        "while flag:\n",
        "  numero = int(input('ingresa un número: '))\n",
        "  suma += numero\n",
        "  if numero == 0:\n",
        "    flag = False\n",
        "\n",
        "print(suma)"
      ],
      "metadata": {
        "colab": {
          "base_uri": "https://localhost:8080/"
        },
        "id": "D2KJ5q0Gsbzs",
        "outputId": "671202e4-9b85-4d5e-b239-cf1a9fff8f0c"
      },
      "execution_count": null,
      "outputs": [
        {
          "output_type": "stream",
          "name": "stdout",
          "text": [
            "ingresa un número: 2\n",
            "ingresa un número: 2\n",
            "ingresa un número: 2\n",
            "ingresa un número: 2\n",
            "ingresa un número: 0\n",
            "8\n"
          ]
        }
      ]
    },
    {
      "cell_type": "markdown",
      "source": [
        "🔁 Ejercicio 10 (último de esta tanda):\n",
        "\n",
        "Haz un programa que:\n",
        "\n",
        "Le pida al usuario una palabra\n",
        "\n",
        "Use while para imprimir cada letra una por una\n",
        "\n",
        "En líneas separadas\n",
        "\n",
        "📌 Pista:\n",
        "\n",
        "Usa una variable índice que empiece en 0\n",
        "\n",
        "Recorre la palabra con while y len()\n",
        "\n",
        "👉 Inténtalo tú.\n",
        "Avísame cuando lo tengas."
      ],
      "metadata": {
        "id": "2T5Mbmi5t6Mw"
      }
    },
    {
      "cell_type": "code",
      "source": [
        "palabra = input('ingresa la palabra: ')\n",
        "indice = 0\n",
        "flag =  True\n",
        "largo = len(palabra)\n",
        "\n",
        "while indice < largo:\n",
        "  print(palabra[indice])\n",
        "  indice += 1\n",
        "\n",
        "\n",
        "\n"
      ],
      "metadata": {
        "colab": {
          "base_uri": "https://localhost:8080/"
        },
        "id": "FiuZfMt8t5vO",
        "outputId": "f9f5db88-37ba-4de1-84ce-fddf5ea91926"
      },
      "execution_count": null,
      "outputs": [
        {
          "output_type": "stream",
          "name": "stdout",
          "text": [
            "ingresa la palabra: hola\n",
            "h\n",
            "o\n",
            "l\n",
            "a\n"
          ]
        }
      ]
    },
    {
      "cell_type": "markdown",
      "source": [
        "## 1. Bucle `while`\n"
      ],
      "metadata": {
        "id": "oscManXk6ZmY"
      }
    },
    {
      "cell_type": "markdown",
      "source": [
        "El bucle `while` repite acciones mientras una condición sea verdadera. Es ideal cuando no sabemos previamente cuántas veces se repetirá.\n"
      ],
      "metadata": {
        "id": "U9GbyDk86bxp"
      }
    },
    {
      "cell_type": "markdown",
      "source": [
        "**Ejemplo 1.1**\n"
      ],
      "metadata": {
        "id": "deNpmxkP6e0D"
      }
    },
    {
      "cell_type": "code",
      "execution_count": 15,
      "metadata": {
        "id": "kyekYQu95xx9",
        "outputId": "7d42e262-0fe3-445f-a796-252d0ce4aa1d",
        "colab": {
          "base_uri": "https://localhost:8080/"
        }
      },
      "outputs": [
        {
          "output_type": "stream",
          "name": "stdout",
          "text": [
            "Número actual: 1\n",
            "Número actual: 2\n",
            "Número actual: 3\n",
            "Número actual: 4\n",
            "Número actual: 5\n",
            "Terminó el conteo.\n"
          ]
        }
      ],
      "source": [
        "contador = 1\n",
        "while contador <= 5:\n",
        "    print(f\"Número actual: {contador}\")\n",
        "    contador += 1\n",
        "print(\"Terminó el conteo.\")"
      ]
    },
    {
      "cell_type": "code",
      "source": [
        "message = ''  #Se tiene que definir que cosa es message\n",
        "while message != 'salir':\n",
        "    message = input(\"Escribe 'salir' para terminar: \")\n"
      ],
      "metadata": {
        "id": "Nwe0A_rgl5KD",
        "outputId": "f9f88d74-44b0-4ec4-ebfc-ccf08a47b626",
        "colab": {
          "base_uri": "https://localhost:8080/",
          "height": 321
        }
      },
      "execution_count": 16,
      "outputs": [
        {
          "output_type": "error",
          "ename": "KeyboardInterrupt",
          "evalue": "Interrupted by user",
          "traceback": [
            "\u001b[0;31m---------------------------------------------------------------------------\u001b[0m",
            "\u001b[0;31mKeyboardInterrupt\u001b[0m                         Traceback (most recent call last)",
            "\u001b[0;32m/tmp/ipython-input-2226057813.py\u001b[0m in \u001b[0;36m<cell line: 0>\u001b[0;34m()\u001b[0m\n\u001b[1;32m      1\u001b[0m \u001b[0mmessage\u001b[0m \u001b[0;34m=\u001b[0m \u001b[0;34m''\u001b[0m  \u001b[0;31m#Se tiene que definir que cosa es message\u001b[0m\u001b[0;34m\u001b[0m\u001b[0;34m\u001b[0m\u001b[0m\n\u001b[1;32m      2\u001b[0m \u001b[0;32mwhile\u001b[0m \u001b[0mmessage\u001b[0m \u001b[0;34m!=\u001b[0m \u001b[0;34m'salir'\u001b[0m\u001b[0;34m:\u001b[0m\u001b[0;34m\u001b[0m\u001b[0;34m\u001b[0m\u001b[0m\n\u001b[0;32m----> 3\u001b[0;31m     \u001b[0mmessage\u001b[0m \u001b[0;34m=\u001b[0m \u001b[0minput\u001b[0m\u001b[0;34m(\u001b[0m\u001b[0;34m\"Escribe 'salir' para terminar: \"\u001b[0m\u001b[0;34m)\u001b[0m\u001b[0;34m\u001b[0m\u001b[0;34m\u001b[0m\u001b[0m\n\u001b[0m",
            "\u001b[0;32m/usr/local/lib/python3.12/dist-packages/ipykernel/kernelbase.py\u001b[0m in \u001b[0;36mraw_input\u001b[0;34m(self, prompt)\u001b[0m\n\u001b[1;32m   1175\u001b[0m                 \u001b[0;34m\"raw_input was called, but this frontend does not support input requests.\"\u001b[0m\u001b[0;34m\u001b[0m\u001b[0;34m\u001b[0m\u001b[0m\n\u001b[1;32m   1176\u001b[0m             )\n\u001b[0;32m-> 1177\u001b[0;31m         return self._input_request(\n\u001b[0m\u001b[1;32m   1178\u001b[0m             \u001b[0mstr\u001b[0m\u001b[0;34m(\u001b[0m\u001b[0mprompt\u001b[0m\u001b[0;34m)\u001b[0m\u001b[0;34m,\u001b[0m\u001b[0;34m\u001b[0m\u001b[0;34m\u001b[0m\u001b[0m\n\u001b[1;32m   1179\u001b[0m             \u001b[0mself\u001b[0m\u001b[0;34m.\u001b[0m\u001b[0m_parent_ident\u001b[0m\u001b[0;34m[\u001b[0m\u001b[0;34m\"shell\"\u001b[0m\u001b[0;34m]\u001b[0m\u001b[0;34m,\u001b[0m\u001b[0;34m\u001b[0m\u001b[0;34m\u001b[0m\u001b[0m\n",
            "\u001b[0;32m/usr/local/lib/python3.12/dist-packages/ipykernel/kernelbase.py\u001b[0m in \u001b[0;36m_input_request\u001b[0;34m(self, prompt, ident, parent, password)\u001b[0m\n\u001b[1;32m   1217\u001b[0m             \u001b[0;32mexcept\u001b[0m \u001b[0mKeyboardInterrupt\u001b[0m\u001b[0;34m:\u001b[0m\u001b[0;34m\u001b[0m\u001b[0;34m\u001b[0m\u001b[0m\n\u001b[1;32m   1218\u001b[0m                 \u001b[0;31m# re-raise KeyboardInterrupt, to truncate traceback\u001b[0m\u001b[0;34m\u001b[0m\u001b[0;34m\u001b[0m\u001b[0m\n\u001b[0;32m-> 1219\u001b[0;31m                 \u001b[0;32mraise\u001b[0m \u001b[0mKeyboardInterrupt\u001b[0m\u001b[0;34m(\u001b[0m\u001b[0;34m\"Interrupted by user\"\u001b[0m\u001b[0;34m)\u001b[0m \u001b[0;32mfrom\u001b[0m \u001b[0;32mNone\u001b[0m\u001b[0;34m\u001b[0m\u001b[0;34m\u001b[0m\u001b[0m\n\u001b[0m\u001b[1;32m   1220\u001b[0m             \u001b[0;32mexcept\u001b[0m \u001b[0mException\u001b[0m\u001b[0;34m:\u001b[0m\u001b[0;34m\u001b[0m\u001b[0;34m\u001b[0m\u001b[0m\n\u001b[1;32m   1221\u001b[0m                 \u001b[0mself\u001b[0m\u001b[0;34m.\u001b[0m\u001b[0mlog\u001b[0m\u001b[0;34m.\u001b[0m\u001b[0mwarning\u001b[0m\u001b[0;34m(\u001b[0m\u001b[0;34m\"Invalid Message:\"\u001b[0m\u001b[0;34m,\u001b[0m \u001b[0mexc_info\u001b[0m\u001b[0;34m=\u001b[0m\u001b[0;32mTrue\u001b[0m\u001b[0;34m)\u001b[0m\u001b[0;34m\u001b[0m\u001b[0;34m\u001b[0m\u001b[0m\n",
            "\u001b[0;31mKeyboardInterrupt\u001b[0m: Interrupted by user"
          ]
        }
      ]
    },
    {
      "cell_type": "markdown",
      "source": [
        "🔁 Ejercicio 1 (nivel intermedio):\n",
        "\n",
        "Haz un programa que:\n",
        "\n",
        "Pida palabras al usuario en un while.\n",
        "\n",
        "Si el usuario escribe una palabra que contiene la letra \"x\", usa continue para no imprimirla.\n",
        "\n",
        "Si el usuario escribe \"salir\", usa break para terminar.\n",
        "\n",
        "Si no, imprime la palabra.\n",
        "\n",
        "👉 Inténtalo tú."
      ],
      "metadata": {
        "id": "fTka-Yqa5u-u"
      }
    },
    {
      "cell_type": "code",
      "source": [
        "flag = True\n",
        "\n",
        "while flag:\n",
        "  palabra = input('ingresa palabra: ')\n",
        "  if palabra.lower().strip() == 'salir':\n",
        "    break\n",
        "  if 'x' in palabra:\n",
        "    continue\n",
        "\n",
        "  print(palabra)\n",
        "\n"
      ],
      "metadata": {
        "id": "xReGSM135sQs"
      },
      "execution_count": null,
      "outputs": []
    },
    {
      "cell_type": "markdown",
      "source": [
        "🔁 Ejercicio 2 (más difícil con break y continue):\n",
        "\n",
        "Haz un programa que:\n",
        "\n",
        "Pida números al usuario.\n",
        "\n",
        "Si el número es negativo, muestra \"Número inválido\" y usa continue (no lo sumes).\n",
        "\n",
        "Si el número es 0, usa break para terminar el programa.\n",
        "\n",
        "Si es positivo, súmalo a una variable total.\n",
        "\n",
        "Al final, muestra la suma total de todos los números positivos.\n",
        "\n",
        "👉 Inténtalo tú.\n",
        "Dime cuando lo termines."
      ],
      "metadata": {
        "id": "deb9pWXF8MBs"
      }
    },
    {
      "cell_type": "code",
      "source": [
        "flag = True\n",
        "total = 0\n",
        "\n",
        "while flag:\n",
        "  numero = int(input('ingresa el numero: '))\n",
        "  if numero == 0:\n",
        "    break\n",
        "  if numero > 0:\n",
        "    total += numero\n",
        "    print (total)\n",
        "  if numero < 0:\n",
        "    print('Numero inválido')\n",
        "    continue\n",
        "  if total > 10:\n",
        "    flag =  False\n",
        "\n",
        "print('proceso terminado')\n"
      ],
      "metadata": {
        "id": "q_Ny7cdT8Lpc"
      },
      "execution_count": null,
      "outputs": []
    },
    {
      "cell_type": "markdown",
      "source": [
        "🔁 Ejercicio 3 (final con break y continue):\n",
        "\n",
        "Haz un programa que:\n",
        "\n",
        "Pida nombres en un bucle.\n",
        "\n",
        "Si el nombre tiene menos de 3 letras, muestra \"Nombre muy corto\" y usa continue.\n",
        "\n",
        "Si el nombre es \"fin\" (sin importar mayúsculas), usa break para salir.\n",
        "\n",
        "Si es válido, guarda el nombre en una lista.\n",
        "\n",
        "Al final, imprime todos los nombres válidos."
      ],
      "metadata": {
        "id": "-cDXldD29Xn1"
      }
    },
    {
      "cell_type": "code",
      "source": [
        "nombre = ''\n",
        "lista = []\n",
        "flag = True\n",
        "\n",
        "while flag:\n",
        "  nombre = input('ingresa nombre :')\n",
        "  if nombre.lower().strip() == 'fin':\n",
        "    break\n",
        "  elif len(nombre) < 3:\n",
        "    print('Nombre muy corto')\n",
        "    continue\n",
        "  print('válido')\n",
        "  lista.append(nombre)\n",
        "\n",
        "print('proceso terminado')\n",
        "\n",
        "\n",
        "print(lista)\n",
        "\n"
      ],
      "metadata": {
        "id": "kSsQBaOq5wOd",
        "outputId": "c0fe6197-8787-4b2c-9115-8cb1662ed9ec",
        "colab": {
          "base_uri": "https://localhost:8080/"
        }
      },
      "execution_count": 22,
      "outputs": [
        {
          "output_type": "stream",
          "name": "stdout",
          "text": [
            "ingresa nombre :sol\n",
            "válido\n",
            "ingresa nombre :so\n",
            "Nombre muy corto\n",
            "ingresa nombre :gianmarco\n",
            "válido\n",
            "ingresa nombre :mejia\n",
            "válido\n",
            "ingresa nombre :salir\n",
            "válido\n",
            "ingresa nombre :fin\n",
            "proceso terminado\n",
            "['sol', 'gianmarco', 'mejia', 'salir']\n"
          ]
        }
      ]
    },
    {
      "cell_type": "markdown",
      "source": [
        "Haz un programa que:\n",
        "\n",
        "Pida al usuario una calificación entre 0 y 100\n",
        "\n",
        "Según el número, muestra:\n",
        "\n",
        "90 a 100: \"Excelente\"\n",
        "\n",
        "70 a 89: \"Aprobado\"\n",
        "\n",
        "50 a 69: \"Regular\"\n",
        "\n",
        "0 a 49: \"Reprobado\"\n",
        "\n",
        "Si el número es menor a 0 o mayor a 100, muestra \"Calificación inválida\""
      ],
      "metadata": {
        "id": "SnRim6J8AKGd"
      }
    },
    {
      "cell_type": "code",
      "source": [
        "cal = int(input('ingresa calificación del 0 al 100: '))\n",
        "\n",
        "if cal in range(0,101):\n",
        "  if cal >= 90:\n",
        "    print('excelente')\n",
        "  elif cal >= 70:\n",
        "    print('aprobado')\n",
        "  elif cal >= 50:\n",
        "    print('regular')\n",
        "  else:\n",
        "    print('reprobado')\n",
        "\n",
        "print('finalizado')\n"
      ],
      "metadata": {
        "id": "HDAHokLsANR9",
        "outputId": "9c3bf684-4e07-4d19-d066-fe31bbc21d11",
        "colab": {
          "base_uri": "https://localhost:8080/"
        }
      },
      "execution_count": 32,
      "outputs": [
        {
          "output_type": "stream",
          "name": "stdout",
          "text": [
            "ingresa calificación del 0 al 100: 200\n",
            "finalizado\n"
          ]
        }
      ]
    },
    {
      "cell_type": "markdown",
      "source": [
        "🔁 Último ejercicio del Día 2 (Condicionales + todo lo aprendido):\n",
        "\n",
        "Haz un programa que:\n",
        "\n",
        "Pida un número al usuario.\n",
        "\n",
        "Si el número es par y mayor que 50 → imprime \"Par alto\"\n",
        "\n",
        "Si es par y menor o igual a 50 → imprime \"Par bajo\"\n",
        "\n",
        "Si es impar y mayor que 50 → imprime \"Impar alto\"\n",
        "\n",
        "Si es impar y menor o igual a 50 → imprime \"Impar bajo\"\n",
        "\n",
        "📌 Usa if, elif, else\n",
        "📌 Para saber si un número es par: numero % 2 == 0"
      ],
      "metadata": {
        "id": "1tLW8406BEdD"
      }
    },
    {
      "cell_type": "code",
      "source": [
        "num = int(input('ingresa numero: '))\n",
        "\n",
        "if num % 2 == 0 and num > 50:\n",
        "  print('par alto')\n",
        "elif num % 2 == 0 and num <= 50:\n",
        "  print('par bajo')\n",
        "elif num % 2 != 0 and num > 50:\n",
        "  print('impar alto')\n",
        "elif num % 2 != 0 and num <= 50:\n",
        "  print('impar bajo')\n",
        "else:\n",
        "  print('no aplica')\n",
        ""
      ],
      "metadata": {
        "id": "seYlT0HoBEGC",
        "outputId": "5e410016-79f1-4988-d38b-4d5e177fe89c",
        "colab": {
          "base_uri": "https://localhost:8080/"
        }
      },
      "execution_count": 34,
      "outputs": [
        {
          "output_type": "stream",
          "name": "stdout",
          "text": [
            "ingresa numero: 60\n",
            "par alto\n"
          ]
        }
      ]
    },
    {
      "cell_type": "code",
      "source": [
        "for i in range (1,11):\n",
        "  print(i)"
      ],
      "metadata": {
        "id": "dqs_5dCVCJA9",
        "outputId": "60639c0c-43fc-48b1-8582-c18069ff46ef",
        "colab": {
          "base_uri": "https://localhost:8080/"
        }
      },
      "execution_count": 36,
      "outputs": [
        {
          "output_type": "stream",
          "name": "stdout",
          "text": [
            "1\n",
            "2\n",
            "3\n",
            "4\n",
            "5\n",
            "6\n",
            "7\n",
            "8\n",
            "9\n",
            "10\n"
          ]
        }
      ]
    },
    {
      "cell_type": "code",
      "source": [],
      "metadata": {
        "id": "kFaBQetfCWZ5"
      },
      "execution_count": null,
      "outputs": []
    },
    {
      "cell_type": "markdown",
      "source": [
        "🔁 Ejercicio siguiente (con for):\n",
        "\n",
        "Haz un programa que:\n",
        "\n",
        "Recorra los números del 1 al 20\n",
        "\n",
        "Si el número es par, imprime \"número X es par\"\n",
        "\n",
        "Si es impar, imprime \"número X es impar\"\n",
        "\n",
        "📌 Usa if dentro del for\n",
        "📌 Usa X como el número actua"
      ],
      "metadata": {
        "id": "B8QTzRZFCWvb"
      }
    },
    {
      "cell_type": "code",
      "source": [
        "for i in range(1,21):\n",
        "  if i % 2 == 0:\n",
        "    print(f'{i} es par')\n",
        "  else:\n",
        "    print(f'{i} es impar')\n",
        "print('programa finalizado')"
      ],
      "metadata": {
        "id": "P_LjR1ZWCXXh",
        "outputId": "1dc331ef-86f1-43ed-a8cf-37788940d0c0",
        "colab": {
          "base_uri": "https://localhost:8080/"
        }
      },
      "execution_count": 39,
      "outputs": [
        {
          "output_type": "stream",
          "name": "stdout",
          "text": [
            "1 es impar\n",
            "2 es par\n",
            "3 es impar\n",
            "4 es par\n",
            "5 es impar\n",
            "6 es par\n",
            "7 es impar\n",
            "8 es par\n",
            "9 es impar\n",
            "10 es par\n",
            "11 es impar\n",
            "12 es par\n",
            "13 es impar\n",
            "14 es par\n",
            "15 es impar\n",
            "16 es par\n",
            "17 es impar\n",
            "18 es par\n",
            "19 es impar\n",
            "20 es par\n",
            "programa finalizado\n"
          ]
        }
      ]
    },
    {
      "cell_type": "markdown",
      "source": [
        "Haz un programa que:\n",
        "\n",
        "Tenga una lista de nombres: [\"Ana\", \"Luis\", \"Carlos\", \"Eva\"]\n",
        "\n",
        "Use un for para recorrer la lista\n",
        "\n",
        "Imprima \"Hola, NOMBRE\" para cada uno"
      ],
      "metadata": {
        "id": "uX59L3RuC2hG"
      }
    },
    {
      "cell_type": "code",
      "source": [
        "for x in lista:\n",
        "    print(f'Hola, {x}')"
      ],
      "metadata": {
        "id": "mfykSxBcDzN6",
        "outputId": "8d7767ae-0ac1-4074-b405-bcf02020881b",
        "colab": {
          "base_uri": "https://localhost:8080/"
        }
      },
      "execution_count": 42,
      "outputs": [
        {
          "output_type": "stream",
          "name": "stdout",
          "text": [
            "Hola, ana\n",
            "Hola, Luis\n",
            "Hola, Carlos\n",
            "Hola, Eva\n"
          ]
        }
      ]
    },
    {
      "cell_type": "markdown",
      "source": [
        "Haz un programa que:\n",
        "\n",
        "Tenga una lista de números:\n",
        "numeros = [3, 8, 15, 22, 7, 14, 5]\n",
        "\n",
        "Use un for para recorrer la lista\n",
        "\n",
        "Imprima solo los números mayores a 10\n",
        "\n",
        "Si encuentra un número mayor a 20, muestra \"Alto\" y termina el bucle\n",
        "\n",
        "📌 Usa if y break\n",
        "\n",
        "👉 Inténtalo tú.\n",
        "Cuando lo tengas, dime y cerramos el tema de for."
      ],
      "metadata": {
        "id": "w1Ko8xWPD4L-"
      }
    },
    {
      "cell_type": "code",
      "source": [
        "numeros = [3, 8, 15, 22, 7, 14, 5]\n",
        "\n",
        "for x in numeros:\n",
        "  if x > 10:\n",
        "    print(x)\n",
        "  if x > 20:\n",
        "    print('alto')\n",
        "    break\n"
      ],
      "metadata": {
        "id": "fs4ZAm7pD35L",
        "outputId": "8b51ecb1-1ac8-4543-b600-f468cd1cb07e",
        "colab": {
          "base_uri": "https://localhost:8080/"
        }
      },
      "execution_count": 43,
      "outputs": [
        {
          "output_type": "stream",
          "name": "stdout",
          "text": [
            "15\n",
            "22\n",
            "alto\n"
          ]
        }
      ]
    },
    {
      "cell_type": "code",
      "source": [
        "🔁 Ejercicio nuevo con for (nivel intermedio):\n",
        "\n",
        "Haz un programa que:\n",
        "\n",
        "Pida al usuario 5 nombres (usa un bucle for)\n",
        "\n",
        "Los guarde en una lista\n",
        "\n",
        "Al final, imprima la lista completa\n",
        "\n",
        "📌 Usa range(5) y .append()\n",
        "\n",
        "👉 Inténtalo tú."
      ],
      "metadata": {
        "id": "Qp2Ea8a6EmW8"
      },
      "execution_count": null,
      "outputs": []
    },
    {
      "cell_type": "code",
      "source": [
        "lista = []\n",
        "i = 0\n",
        "\n",
        "for i in range(5):\n",
        "  nombre = str(input('ingresa el nombre: '))\n",
        "  lista.append(nombre)\n",
        "\n",
        "print(lista)\n"
      ],
      "metadata": {
        "id": "tCyI70nDEnWH",
        "outputId": "d1e966c6-87c3-4445-e85d-21d4a05f5a90",
        "colab": {
          "base_uri": "https://localhost:8080/"
        }
      },
      "execution_count": 48,
      "outputs": [
        {
          "output_type": "stream",
          "name": "stdout",
          "text": [
            "ingresa el nombre: piero\n",
            "ingresa el nombre: arqui\n",
            "ingresa el nombre: bibi\n",
            "ingresa el nombre: u\n",
            "ingresa el nombre: u\n",
            "['piero', 'arqui', 'bibi', 'u', 'u']\n"
          ]
        }
      ]
    },
    {
      "cell_type": "code",
      "source": [
        "len(lista)"
      ],
      "metadata": {
        "id": "YVwM4DIFFbkU",
        "outputId": "07bcf5f4-eb82-4abe-9114-a4ac45053fb8",
        "colab": {
          "base_uri": "https://localhost:8080/"
        }
      },
      "execution_count": 49,
      "outputs": [
        {
          "output_type": "execute_result",
          "data": {
            "text/plain": [
              "5"
            ]
          },
          "metadata": {},
          "execution_count": 49
        }
      ]
    },
    {
      "cell_type": "markdown",
      "source": [
        "Pida 5 números al usuario\n",
        "\n",
        "Los guarde en una lista\n",
        "\n",
        "Después, use un for para imprimir solo los números mayores a 10\n",
        "\n",
        "📌 Usa int(input()), .append(), y un segundo for con if"
      ],
      "metadata": {
        "id": "M7qATBCqFb5e"
      }
    },
    {
      "cell_type": "code",
      "source": [
        "lista = []\n",
        "i = 0\n",
        "\n",
        "for i in range(5):\n",
        "  numero = int(input('ingresa el num: '))\n",
        "  lista.append(numero)\n",
        "\n",
        "for x in lista:\n",
        "      if x > 10:\n",
        "        print(x)\n",
        ""
      ],
      "metadata": {
        "id": "IkaUXxZjFcvk",
        "outputId": "2c8d0089-0546-4985-ca42-fb2834dca7ec",
        "colab": {
          "base_uri": "https://localhost:8080/"
        }
      },
      "execution_count": 53,
      "outputs": [
        {
          "output_type": "stream",
          "name": "stdout",
          "text": [
            "ingresa el num: 200\n",
            "ingresa el num: 200\n",
            "ingresa el num: 200\n",
            "ingresa el num: 200\n",
            "ingresa el num: 1\n",
            "200\n",
            "200\n",
            "200\n",
            "200\n"
          ]
        }
      ]
    },
    {
      "cell_type": "markdown",
      "source": [
        "Haz un programa que:\n",
        "\n",
        "Pida al usuario una palabra\n",
        "\n",
        "Use un for para imprimir cada letra por separado\n",
        "\n",
        "Si la letra es \"a\", imprime \"vocal A encontrada\" en lugar de la letra\n",
        "\n",
        "📌 Usa for, if, y input()"
      ],
      "metadata": {
        "id": "wuREycV0GlO9"
      }
    },
    {
      "cell_type": "code",
      "source": [
        "palabra = input('ingresa una palabra: ')\n",
        "\n",
        "for x in palabra:\n",
        "  if x.lower().strip() == 'a':\n",
        "    print('vocal A encontrada')\n",
        "  else:\n",
        "    print(x)"
      ],
      "metadata": {
        "id": "6pBw35zNGk8s",
        "outputId": "bd9db7ed-cd4e-4ab1-ba21-a41444db4a58",
        "colab": {
          "base_uri": "https://localhost:8080/"
        }
      },
      "execution_count": 54,
      "outputs": [
        {
          "output_type": "stream",
          "name": "stdout",
          "text": [
            "ingresa una palabra: hola\n",
            "h\n",
            "o\n",
            "l\n",
            "vocal A encontrada\n"
          ]
        }
      ]
    },
    {
      "cell_type": "code",
      "source": [],
      "metadata": {
        "id": "uMfUnqZQHP_H"
      },
      "execution_count": null,
      "outputs": []
    },
    {
      "cell_type": "markdown",
      "source": [
        "Haz un programa que:\n",
        "\n",
        "Pida al usuario una palabra\n",
        "\n",
        "Use un for para recorrerla\n",
        "\n",
        "Cuente cuántas veces aparece la letra \"e\"\n",
        "\n",
        "Al final, imprime: \"La letra e aparece X veces\"\n",
        "\n",
        "📌 Usa una variable contador (contador = 0)\n",
        "📌 Usa if y for\n",
        "\n",
        "👉 Inténtalo tú."
      ],
      "metadata": {
        "id": "QZO7p1mGHQcS"
      }
    },
    {
      "cell_type": "code",
      "source": [
        "palabra = input('ingresa una palabra: ')\n",
        "contador = 0\n",
        "\n",
        "for x in palabra:\n",
        "  if x == 'e':\n",
        "    contador += 1\n",
        "\n",
        "print(f'la letra e aparece {contador} veces')"
      ],
      "metadata": {
        "id": "RRh9C1LZHRe4",
        "outputId": "16957ef1-14e9-4e13-f655-25ea7ef88ffe",
        "colab": {
          "base_uri": "https://localhost:8080/"
        }
      },
      "execution_count": 55,
      "outputs": [
        {
          "output_type": "stream",
          "name": "stdout",
          "text": [
            "ingresa una palabra: elefante\n",
            "la letra e aparece 3 veces\n"
          ]
        }
      ]
    },
    {
      "cell_type": "markdown",
      "source": [
        "🔁 Último ejercicio con for + strings + listas:\n",
        "\n",
        "Haz un programa que:\n",
        "\n",
        "Pida al usuario 5 palabras\n",
        "\n",
        "Guarde solo las que terminen en vocal en una lista\n",
        "\n",
        "Al final, imprime la lista de palabras guardadas\n",
        "\n",
        "📌 Usa .lower(), [-1] para ver la última letra, y in \"aeiou\"\n",
        "📌 Usa for, if, .append(), y listas\n",
        "\n",
        "👉 Inténtalo tú."
      ],
      "metadata": {
        "id": "DJEoOIZ9H7S9"
      }
    },
    {
      "cell_type": "code",
      "source": [
        "palabras = []\n",
        "\n",
        "for x in range(5):\n",
        "  palabra = input('ingresa palabra: ')\n",
        "  if palabra.lower()[-1] in 'aeiou':\n",
        "    palabras.append(palabra)\n",
        "\n",
        "print(palabras)\n"
      ],
      "metadata": {
        "id": "8dVu4B80H79c",
        "outputId": "0f9b5143-3fd3-428a-9e11-485666e1b721",
        "colab": {
          "base_uri": "https://localhost:8080/"
        }
      },
      "execution_count": 57,
      "outputs": [
        {
          "output_type": "stream",
          "name": "stdout",
          "text": [
            "ingresa palabra: HOLA\n",
            "ingresa palabra: MAM\n",
            "ingresa palabra: COMO\n",
            "ingresa palabra: ESTAS\n",
            "ingresa palabra: MAMA\n",
            "['HOLA', 'COMO', 'MAMA']\n"
          ]
        }
      ]
    },
    {
      "cell_type": "markdown",
      "source": [
        "Haz un programa que:\n",
        "\n",
        "Pida una edad al usuario (int)\n",
        "\n",
        "Si la edad es menor a 13 → imprime \"Niño\"\n",
        "\n",
        "Si es entre 13 y 17 → imprime \"Adolescente\"\n",
        "\n",
        "Si es 18 o más → imprime \"Adulto\"Pm"
      ],
      "metadata": {
        "id": "D6CngRWh-_le"
      }
    },
    {
      "cell_type": "code",
      "source": [
        "\n",
        "edad = int(input('ingresa la edad:'))\n",
        "\n",
        "if edad < 13 :\n",
        "    print('Niño')\n",
        "elif edad <= 17:\n",
        "    print('Adolescente')\n",
        "else:\n",
        "    print('adulto')\n",
        "\n",
        "print('analisis finalizado')\n",
        "\n"
      ],
      "metadata": {
        "id": "VzCi36RZ_ATl",
        "outputId": "dbc6df66-4cfb-4d55-9d86-be2cd4d07135",
        "colab": {
          "base_uri": "https://localhost:8080/"
        }
      },
      "execution_count": 30,
      "outputs": [
        {
          "output_type": "stream",
          "name": "stdout",
          "text": [
            "ingresa la edad:17\n",
            "adulto\n",
            "analisis finalizado\n"
          ]
        }
      ]
    },
    {
      "cell_type": "markdown",
      "source": [
        "**Ejercicio 1.1**\n",
        "\n",
        "Solicita al usuario un número y muestra todos los números desde 1 hasta ese número.\n",
        "\n"
      ],
      "metadata": {
        "id": "i9ktGgFL6iZv"
      }
    },
    {
      "cell_type": "code",
      "source": [],
      "metadata": {
        "id": "yiIKKpaO6nfb"
      },
      "execution_count": null,
      "outputs": []
    },
    {
      "cell_type": "markdown",
      "source": [
        "**Ejercicio 1.2**\n",
        "\n",
        "Realiza un programa que solicite números hasta que la suma acumulada sea mayor o igual a 100.\n",
        "\n"
      ],
      "metadata": {
        "id": "BZlXT-y86n0X"
      }
    },
    {
      "cell_type": "code",
      "source": [],
      "metadata": {
        "id": "unv7_Rev6w36"
      },
      "execution_count": null,
      "outputs": []
    },
    {
      "cell_type": "markdown",
      "source": [
        "## 2. Dejar que el usuario decida cuándo salir\n"
      ],
      "metadata": {
        "id": "HiAtV2fe6zi-"
      }
    },
    {
      "cell_type": "markdown",
      "source": [
        "Permite al usuario controlar cuándo finalizar la ejecución del bucle mediante una entrada específica.\n"
      ],
      "metadata": {
        "id": "9TaTdlCp62Ln"
      }
    },
    {
      "cell_type": "markdown",
      "source": [
        "**Ejemplo 2.1**"
      ],
      "metadata": {
        "id": "X3ehnMdu63sF"
      }
    },
    {
      "cell_type": "code",
      "source": [
        "mensaje = ''\n",
        "while mensaje.lower() != 'salir':\n",
        "    mensaje = input(\"Escribe 'salir' para terminar: \")\n",
        "    if mensaje.lower() != 'salir':\n",
        "        print(f\"Ingresaste: {mensaje}\")\n",
        "print(\"Programa terminado.\")"
      ],
      "metadata": {
        "id": "9AXqylJZ67KJ"
      },
      "execution_count": null,
      "outputs": []
    },
    {
      "cell_type": "markdown",
      "source": [
        "**Ejercicio 2.1.**\n",
        "\n",
        "Crea un programa que permita introducir números indefinidamente hasta escribir \"fin\" y luego muestre la suma de todos los números ingresados.\n"
      ],
      "metadata": {
        "id": "1_ZsLH6U69XU"
      }
    },
    {
      "cell_type": "code",
      "source": [],
      "metadata": {
        "id": "ZU5tnAfm7Bzt"
      },
      "execution_count": null,
      "outputs": []
    },
    {
      "cell_type": "markdown",
      "source": [
        "**Ejercicio 2.2.**\n",
        "\n",
        "Implementa un menú de opciones (mostrar, ingresar, salir) que repita hasta elegir salir.\n"
      ],
      "metadata": {
        "id": "EmhoSya87CI1"
      }
    },
    {
      "cell_type": "code",
      "source": [],
      "metadata": {
        "id": "EHTPcxGJ7H22"
      },
      "execution_count": null,
      "outputs": []
    },
    {
      "cell_type": "markdown",
      "source": [
        "## 3. Uso de bandera (flag)\n"
      ],
      "metadata": {
        "id": "uIYEi2vn7J_L"
      }
    },
    {
      "cell_type": "markdown",
      "source": [
        "Una bandera (`flag`) es una variable lógica usada para controlar cuándo debe finalizar un bucle.\n"
      ],
      "metadata": {
        "id": "YHe7O2jS7NCy"
      }
    },
    {
      "cell_type": "markdown",
      "source": [
        "**Ejemplo 3.1**"
      ],
      "metadata": {
        "id": "hrVhKmX_8K8X"
      }
    },
    {
      "cell_type": "code",
      "source": [
        "active = True\n",
        "\n",
        "while active:\n",
        "  message = input('dime un mensaje y lo repetiré (o escribe salir): ')\n",
        "  print(message)\n",
        "  if message.lower() == 'salir':\n",
        "    active = False\n",
        "print(\"Programa terminado.\")"
      ],
      "metadata": {
        "id": "71uD3bvimIZj",
        "outputId": "50692967-3871-4781-9b94-b6ebf2591f15",
        "colab": {
          "base_uri": "https://localhost:8080/"
        }
      },
      "execution_count": null,
      "outputs": [
        {
          "output_type": "stream",
          "name": "stdout",
          "text": [
            "dime un mensaje y lo repetiré (o escribe salir): 2\n",
            "2\n",
            "dime un mensaje y lo repetiré (o escribe salir): salir\n",
            "salir\n",
            "Programa terminado.\n"
          ]
        }
      ]
    },
    {
      "cell_type": "code",
      "source": [
        "activo = True\n",
        "while activo:\n",
        "    opcion = input(\"Continuar (s/n): \")\n",
        "    if opcion.lower() == 'n':\n",
        "        activo = False\n",
        "print(\"Programa finalizado.\")"
      ],
      "metadata": {
        "id": "njCEJiY37PiC"
      },
      "execution_count": null,
      "outputs": []
    },
    {
      "cell_type": "markdown",
      "source": [
        "**Ejercicio 3.1**\n",
        "\n",
        "Desarrolla un juego simple donde el usuario adivine un número secreto y use una bandera para determinar cuándo finalizar.\n"
      ],
      "metadata": {
        "id": "5_sLbMFD7SUj"
      }
    },
    {
      "cell_type": "code",
      "source": [
        "active = True\n",
        "secreto = 2\n",
        "\n",
        "while active:\n",
        "  secreto = int(input(\"Adivina el número secreto: \"))\n",
        "  print('secreto')\n",
        "  if secreto == 2:\n",
        "    active = False\n",
        "print(\"¡Ganaste!\")\n"
      ],
      "metadata": {
        "id": "a26x6Fld7h7t",
        "outputId": "b8878866-9cdc-4e3f-f392-bfbb6531c6fb",
        "colab": {
          "base_uri": "https://localhost:8080/"
        }
      },
      "execution_count": null,
      "outputs": [
        {
          "output_type": "stream",
          "name": "stdout",
          "text": [
            "Adivina el número secreto: 2\n",
            "¡Ganaste!\n"
          ]
        }
      ]
    },
    {
      "cell_type": "markdown",
      "source": [
        "**Ejercicio 3.2**\n",
        "\n",
        "\n",
        "Crea un simulador de encuestas que registre respuestas hasta que el usuario indique explícitamente que desea detenerse.\n"
      ],
      "metadata": {
        "id": "KtLRZMCf7iZ6"
      }
    },
    {
      "cell_type": "code",
      "source": [
        "active = True\n",
        "\n",
        "while active:\n",
        "\n",
        "  respuesta = input('registra tu respuesta: ')\n",
        "  print(respuesta)\n",
        "  if respuesta == \"deseo detenerme\":\n",
        "    active = False\n",
        "print('muahahah')"
      ],
      "metadata": {
        "id": "NF-Pza0K7l0_",
        "outputId": "152103e1-d583-4f6e-af35-df910d830880",
        "colab": {
          "base_uri": "https://localhost:8080/",
          "height": 738
        }
      },
      "execution_count": null,
      "outputs": [
        {
          "output_type": "stream",
          "name": "stdout",
          "text": [
            "registra tu respuesta: hola\n",
            "respuesta\n",
            "registra tu respuesta: \n",
            "respuesta\n",
            "registra tu respuesta: 2\n",
            "respuesta\n",
            "registra tu respuesta: 2\n",
            "respuesta\n",
            "registra tu respuesta: manzana\n",
            "respuesta\n",
            "registra tu respuesta: 2\n",
            "respuesta\n",
            "registra tu respuesta: 2\n",
            "respuesta\n",
            "registra tu respuesta: salir\n",
            "respuesta\n",
            "registra tu respuesta: 2\n",
            "respuesta\n",
            "registra tu respuesta: 2\n",
            "respuesta\n",
            "registra tu respuesta: 2\n",
            "respuesta\n"
          ]
        },
        {
          "output_type": "error",
          "ename": "KeyboardInterrupt",
          "evalue": "Interrupted by user",
          "traceback": [
            "\u001b[0;31m---------------------------------------------------------------------------\u001b[0m",
            "\u001b[0;31mKeyboardInterrupt\u001b[0m                         Traceback (most recent call last)",
            "\u001b[0;32m<ipython-input-27-053a26d29557>\u001b[0m in \u001b[0;36m<cell line: 0>\u001b[0;34m()\u001b[0m\n\u001b[1;32m      2\u001b[0m \u001b[0;34m\u001b[0m\u001b[0m\n\u001b[1;32m      3\u001b[0m \u001b[0;32mwhile\u001b[0m \u001b[0mactive\u001b[0m\u001b[0;34m:\u001b[0m\u001b[0;34m\u001b[0m\u001b[0;34m\u001b[0m\u001b[0m\n\u001b[0;32m----> 4\u001b[0;31m   \u001b[0mrespuesta\u001b[0m \u001b[0;34m=\u001b[0m \u001b[0minput\u001b[0m\u001b[0;34m(\u001b[0m\u001b[0;34m'registra tu respuesta: '\u001b[0m\u001b[0;34m)\u001b[0m\u001b[0;34m\u001b[0m\u001b[0;34m\u001b[0m\u001b[0m\n\u001b[0m\u001b[1;32m      5\u001b[0m   \u001b[0mprint\u001b[0m\u001b[0;34m(\u001b[0m\u001b[0;34m'respuesta'\u001b[0m\u001b[0;34m)\u001b[0m\u001b[0;34m\u001b[0m\u001b[0;34m\u001b[0m\u001b[0m\n\u001b[1;32m      6\u001b[0m   \u001b[0;32mif\u001b[0m \u001b[0mrespuesta\u001b[0m \u001b[0;34m==\u001b[0m \u001b[0;34m\"deseo detenerme\"\u001b[0m\u001b[0;34m:\u001b[0m\u001b[0;34m\u001b[0m\u001b[0;34m\u001b[0m\u001b[0m\n",
            "\u001b[0;32m/usr/local/lib/python3.11/dist-packages/ipykernel/kernelbase.py\u001b[0m in \u001b[0;36mraw_input\u001b[0;34m(self, prompt)\u001b[0m\n\u001b[1;32m   1175\u001b[0m                 \u001b[0;34m\"raw_input was called, but this frontend does not support input requests.\"\u001b[0m\u001b[0;34m\u001b[0m\u001b[0;34m\u001b[0m\u001b[0m\n\u001b[1;32m   1176\u001b[0m             )\n\u001b[0;32m-> 1177\u001b[0;31m         return self._input_request(\n\u001b[0m\u001b[1;32m   1178\u001b[0m             \u001b[0mstr\u001b[0m\u001b[0;34m(\u001b[0m\u001b[0mprompt\u001b[0m\u001b[0;34m)\u001b[0m\u001b[0;34m,\u001b[0m\u001b[0;34m\u001b[0m\u001b[0;34m\u001b[0m\u001b[0m\n\u001b[1;32m   1179\u001b[0m             \u001b[0mself\u001b[0m\u001b[0;34m.\u001b[0m\u001b[0m_parent_ident\u001b[0m\u001b[0;34m[\u001b[0m\u001b[0;34m\"shell\"\u001b[0m\u001b[0;34m]\u001b[0m\u001b[0;34m,\u001b[0m\u001b[0;34m\u001b[0m\u001b[0;34m\u001b[0m\u001b[0m\n",
            "\u001b[0;32m/usr/local/lib/python3.11/dist-packages/ipykernel/kernelbase.py\u001b[0m in \u001b[0;36m_input_request\u001b[0;34m(self, prompt, ident, parent, password)\u001b[0m\n\u001b[1;32m   1217\u001b[0m             \u001b[0;32mexcept\u001b[0m \u001b[0mKeyboardInterrupt\u001b[0m\u001b[0;34m:\u001b[0m\u001b[0;34m\u001b[0m\u001b[0;34m\u001b[0m\u001b[0m\n\u001b[1;32m   1218\u001b[0m                 \u001b[0;31m# re-raise KeyboardInterrupt, to truncate traceback\u001b[0m\u001b[0;34m\u001b[0m\u001b[0;34m\u001b[0m\u001b[0m\n\u001b[0;32m-> 1219\u001b[0;31m                 \u001b[0;32mraise\u001b[0m \u001b[0mKeyboardInterrupt\u001b[0m\u001b[0;34m(\u001b[0m\u001b[0;34m\"Interrupted by user\"\u001b[0m\u001b[0;34m)\u001b[0m \u001b[0;32mfrom\u001b[0m \u001b[0;32mNone\u001b[0m\u001b[0;34m\u001b[0m\u001b[0;34m\u001b[0m\u001b[0m\n\u001b[0m\u001b[1;32m   1220\u001b[0m             \u001b[0;32mexcept\u001b[0m \u001b[0mException\u001b[0m\u001b[0;34m:\u001b[0m\u001b[0;34m\u001b[0m\u001b[0;34m\u001b[0m\u001b[0m\n\u001b[1;32m   1221\u001b[0m                 \u001b[0mself\u001b[0m\u001b[0;34m.\u001b[0m\u001b[0mlog\u001b[0m\u001b[0;34m.\u001b[0m\u001b[0mwarning\u001b[0m\u001b[0;34m(\u001b[0m\u001b[0;34m\"Invalid Message:\"\u001b[0m\u001b[0;34m,\u001b[0m \u001b[0mexc_info\u001b[0m\u001b[0;34m=\u001b[0m\u001b[0;32mTrue\u001b[0m\u001b[0;34m)\u001b[0m\u001b[0;34m\u001b[0m\u001b[0;34m\u001b[0m\u001b[0m\n",
            "\u001b[0;31mKeyboardInterrupt\u001b[0m: Interrupted by user"
          ]
        }
      ]
    },
    {
      "cell_type": "code",
      "source": [
        "from typing import no_type_check_decorator\n",
        "no_type_check_decorator"
      ],
      "metadata": {
        "id": "K3F8jIAHqClG"
      },
      "execution_count": null,
      "outputs": []
    },
    {
      "cell_type": "markdown",
      "source": [],
      "metadata": {
        "id": "p_tM9Laf7mNx"
      }
    },
    {
      "cell_type": "markdown",
      "source": [
        "## 4. Uso de `break`\n"
      ],
      "metadata": {
        "id": "bQ49vDpd7nxl"
      }
    },
    {
      "cell_type": "markdown",
      "source": [
        "El comando `break` interrumpe inmediatamente la ejecución del bucle actual y continúa con el código siguiente fuera del bucle.\n"
      ],
      "metadata": {
        "id": "mNi_oK2e7p7h"
      }
    },
    {
      "cell_type": "markdown",
      "source": [
        "**Ejemplo 4.1**"
      ],
      "metadata": {
        "id": "i_NeJak88Mit"
      }
    },
    {
      "cell_type": "code",
      "source": [
        "while True:\n",
        "    contraseña = input(\"Introduce la contraseña: \")\n",
        "    if contraseña == '1234':\n",
        "        print(\"Acceso concedido.\")\n",
        "        break\n",
        "    print(\"Contraseña incorrecta, inténtalo de nuevo.\")"
      ],
      "metadata": {
        "id": "SZ3NAl_D7r7O"
      },
      "execution_count": null,
      "outputs": []
    },
    {
      "cell_type": "code",
      "source": [
        "Detiene el 'while' donde esta contenido."
      ],
      "metadata": {
        "id": "pcPLDjUspouO"
      },
      "execution_count": null,
      "outputs": []
    },
    {
      "cell_type": "code",
      "source": [
        "# buscar el número de multiplos de 13 menores a 277\n",
        "\n",
        "i=0\n",
        "\n",
        "while True:\n",
        "  i +=13\n",
        "  if i > 277:\n",
        "    break\n",
        "\n",
        "print(f'existen {i/13} multiplos de 13 menores que 277')"
      ],
      "metadata": {
        "id": "7Mi1ZDMyrBhV",
        "outputId": "7ce2bbb8-8ef8-4172-ed62-ff3648a81bea",
        "colab": {
          "base_uri": "https://localhost:8080/"
        }
      },
      "execution_count": null,
      "outputs": [
        {
          "output_type": "stream",
          "name": "stdout",
          "text": [
            "existen 22.0 multiplos de 13 menores que 277\n"
          ]
        }
      ]
    },
    {
      "cell_type": "markdown",
      "source": [
        "**Ejercicio 4.1.**\n",
        "\n",
        "Programa una simulación de un cajero automático que finalice inmediatamente al ingresar el pin correcto.\n",
        "\n"
      ],
      "metadata": {
        "id": "blY9Uyi_7sYT"
      }
    },
    {
      "cell_type": "code",
      "source": [
        "#imprime los multiplos de 13 menores a 277\n",
        "i = 0\n",
        "while True:\n",
        "  i +=1\n",
        "  if i < 277:\n",
        "      if i%13 == 0:\n",
        "          print(i)\n",
        "      else:\n",
        "        continue #detiene el proceso del while, pero regresa al while.\n",
        "      print(f'el numero {i} fue encontrado ')\n",
        "  else:\n",
        "    break\n",
        "print('programa terminado')"
      ],
      "metadata": {
        "id": "1J_JC_q8rfQX",
        "outputId": "c829bde8-3328-4982-bdcb-48de05308875",
        "colab": {
          "base_uri": "https://localhost:8080/"
        }
      },
      "execution_count": null,
      "outputs": [
        {
          "output_type": "stream",
          "name": "stdout",
          "text": [
            "13\n",
            "el numero 13 fue encontrado \n",
            "26\n",
            "el numero 26 fue encontrado \n",
            "39\n",
            "el numero 39 fue encontrado \n",
            "52\n",
            "el numero 52 fue encontrado \n",
            "65\n",
            "el numero 65 fue encontrado \n",
            "78\n",
            "el numero 78 fue encontrado \n",
            "91\n",
            "el numero 91 fue encontrado \n",
            "104\n",
            "el numero 104 fue encontrado \n",
            "117\n",
            "el numero 117 fue encontrado \n",
            "130\n",
            "el numero 130 fue encontrado \n",
            "143\n",
            "el numero 143 fue encontrado \n",
            "156\n",
            "el numero 156 fue encontrado \n",
            "169\n",
            "el numero 169 fue encontrado \n",
            "182\n",
            "el numero 182 fue encontrado \n",
            "195\n",
            "el numero 195 fue encontrado \n",
            "208\n",
            "el numero 208 fue encontrado \n",
            "221\n",
            "el numero 221 fue encontrado \n",
            "234\n",
            "el numero 234 fue encontrado \n",
            "247\n",
            "el numero 247 fue encontrado \n",
            "260\n",
            "el numero 260 fue encontrado \n",
            "273\n",
            "el numero 273 fue encontrado \n",
            "programa terminado\n"
          ]
        }
      ]
    },
    {
      "cell_type": "code",
      "source": [],
      "metadata": {
        "id": "luLubC-j70yf"
      },
      "execution_count": null,
      "outputs": []
    },
    {
      "cell_type": "markdown",
      "source": [
        "**Ejercicio 4.2.**\n",
        "\n",
        "Implementa un sistema que detenga la ejecución de un ciclo al detectar un número primo.\n"
      ],
      "metadata": {
        "id": "OMwgGQtN71pn"
      }
    },
    {
      "cell_type": "code",
      "source": [],
      "metadata": {
        "id": "lXAsluPh71FK"
      },
      "execution_count": null,
      "outputs": []
    },
    {
      "cell_type": "markdown",
      "source": [
        "## 5. Uso de `continue`\n"
      ],
      "metadata": {
        "id": "n3_A0xyy74E8"
      }
    },
    {
      "cell_type": "markdown",
      "source": [
        "El comando `continue` permite saltar la iteración actual y continuar directamente con la siguiente iteración del bucle.\n"
      ],
      "metadata": {
        "id": "k8xvQ7RF77Rc"
      }
    },
    {
      "cell_type": "markdown",
      "source": [
        "**Ejemplo 5.1**"
      ],
      "metadata": {
        "id": "SPFNjXXg8N5c"
      }
    },
    {
      "cell_type": "code",
      "source": [
        "for numero in range(10):\n",
        "    if numero % 2 == 0:\n",
        "        continue\n",
        "    print(numero, \"es impar.\")"
      ],
      "metadata": {
        "id": "z7ojd6o875S7",
        "outputId": "35946166-0525-4d41-b0a9-e7c2be7d6f55",
        "colab": {
          "base_uri": "https://localhost:8080/"
        }
      },
      "execution_count": null,
      "outputs": [
        {
          "output_type": "stream",
          "name": "stdout",
          "text": [
            "1 es impar.\n",
            "3 es impar.\n",
            "5 es impar.\n",
            "7 es impar.\n",
            "9 es impar.\n"
          ]
        }
      ]
    },
    {
      "cell_type": "markdown",
      "source": [
        "**Ejercicio 5.1.**\n",
        "\n",
        "Crea un programa que pida números pero ignore (no los imprima) aquellos que sean múltiplos de 5.\n"
      ],
      "metadata": {
        "id": "2ANEL3x77_aA"
      }
    },
    {
      "cell_type": "code",
      "source": [],
      "metadata": {
        "id": "JPcGOsFw8G6y"
      },
      "execution_count": null,
      "outputs": []
    },
    {
      "cell_type": "markdown",
      "source": [
        "\n",
        "**Ejercicio 5.2.**\n",
        "\n",
        "Solicita al usuario 7 números y muestra solamente aquellos que sean positivos."
      ],
      "metadata": {
        "id": "OfzwakeO79WP"
      }
    },
    {
      "cell_type": "code",
      "source": [],
      "metadata": {
        "id": "bPww6bOQ8IAY"
      },
      "execution_count": null,
      "outputs": []
    },
    {
      "cell_type": "code",
      "source": [],
      "metadata": {
        "id": "DOJVGqTWwU_R"
      },
      "execution_count": null,
      "outputs": []
    },
    {
      "cell_type": "markdown",
      "source": [
        "El programa debe generar un numero aleatorio del 1-100. Luego el usuario debe tratar de adivinar ese número y el programa le debe dar como pista si el número secreto esta por encima o por debajo del número que dió. Una vez que adivine felicita al usuario y pregunta si desea jugar otra vez."
      ],
      "metadata": {
        "id": "el_ce1o3waH7"
      }
    },
    {
      "cell_type": "code",
      "source": [
        "from random import randint"
      ],
      "metadata": {
        "id": "gonp3dpRwR8k"
      },
      "execution_count": null,
      "outputs": []
    },
    {
      "cell_type": "code",
      "source": [
        "numero = randint(1,100)\n",
        "print(numero)"
      ],
      "metadata": {
        "id": "U0dJlnqvwW1b",
        "outputId": "512fb228-7387-4c19-9716-a47f8c4159c2",
        "colab": {
          "base_uri": "https://localhost:8080/"
        }
      },
      "execution_count": null,
      "outputs": [
        {
          "output_type": "stream",
          "name": "stdout",
          "text": [
            "62\n"
          ]
        }
      ]
    },
    {
      "cell_type": "code",
      "source": [
        "\n",
        "\n",
        "\n",
        "Secret_number= randint(1,100)\n",
        "\n",
        "while True:\n",
        "  respuesta = int(input('adivina el número secreto: '))\n",
        "  if respuesta == secret_number:\n",
        "    print('ganaste')\n",
        "    message = input('Deseas jugar nuevamente? (s/n): ')\n",
        "    if message.lower().strip() == 's':\n",
        "      continue\n",
        "    else:\n",
        "      break\n",
        "\n",
        "  elif respuesta > secret_number:\n",
        "    print('el número secreto es menor')\n",
        "  else\n",
        "    print('el número secreto es mayor')\n",
        "\n",
        "\n",
        "\n",
        "\n"
      ],
      "metadata": {
        "id": "aVyysXR2woNA",
        "outputId": "e4bfeab1-9741-4e86-b96a-fd41a6fd762f",
        "colab": {
          "base_uri": "https://localhost:8080/",
          "height": 599
        }
      },
      "execution_count": null,
      "outputs": [
        {
          "metadata": {
            "tags": null
          },
          "name": "stdout",
          "output_type": "stream",
          "text": [
            "esta por debajo\n",
            "esta por debajo\n",
            "esta por debajo\n",
            "esta por debajo\n",
            "esta por debajo\n",
            "esta por encima\n",
            "esta por debajo\n",
            "esta por debajo\n",
            "esta por debajo\n",
            "esta por debajo\n",
            "esta por debajo\n",
            "esta por debajo\n",
            "esta por debajo\n",
            "esta por debajo\n"
          ]
        },
        {
          "output_type": "error",
          "ename": "KeyboardInterrupt",
          "evalue": "Interrupted by user",
          "traceback": [
            "\u001b[0;31m---------------------------------------------------------------------------\u001b[0m",
            "\u001b[0;31mKeyboardInterrupt\u001b[0m                         Traceback (most recent call last)",
            "\u001b[0;32m<ipython-input-49-b5c4ec0e68ba>\u001b[0m in \u001b[0;36m<cell line: 0>\u001b[0;34m()\u001b[0m\n\u001b[1;32m      3\u001b[0m \u001b[0;34m\u001b[0m\u001b[0m\n\u001b[1;32m      4\u001b[0m \u001b[0;32mwhile\u001b[0m \u001b[0mflag\u001b[0m \u001b[0;34m==\u001b[0m \u001b[0;32mTrue\u001b[0m\u001b[0;34m:\u001b[0m\u001b[0;34m\u001b[0m\u001b[0;34m\u001b[0m\u001b[0m\n\u001b[0;32m----> 5\u001b[0;31m   \u001b[0mrespuesta\u001b[0m \u001b[0;34m=\u001b[0m \u001b[0mint\u001b[0m\u001b[0;34m(\u001b[0m\u001b[0minput\u001b[0m\u001b[0;34m(\u001b[0m\u001b[0;34m'dime un numero: '\u001b[0m\u001b[0;34m)\u001b[0m\u001b[0;34m)\u001b[0m\u001b[0;34m\u001b[0m\u001b[0;34m\u001b[0m\u001b[0m\n\u001b[0m\u001b[1;32m      6\u001b[0m   \u001b[0;32mif\u001b[0m \u001b[0mrespuesta\u001b[0m \u001b[0;34m<\u001b[0m \u001b[0mnumero\u001b[0m\u001b[0;34m:\u001b[0m\u001b[0;34m\u001b[0m\u001b[0;34m\u001b[0m\u001b[0m\n\u001b[1;32m      7\u001b[0m     \u001b[0mprint\u001b[0m\u001b[0;34m(\u001b[0m\u001b[0;34m'esta por debajo'\u001b[0m\u001b[0;34m)\u001b[0m\u001b[0;34m\u001b[0m\u001b[0;34m\u001b[0m\u001b[0m\n",
            "\u001b[0;32m/usr/local/lib/python3.11/dist-packages/ipykernel/kernelbase.py\u001b[0m in \u001b[0;36mraw_input\u001b[0;34m(self, prompt)\u001b[0m\n\u001b[1;32m   1175\u001b[0m                 \u001b[0;34m\"raw_input was called, but this frontend does not support input requests.\"\u001b[0m\u001b[0;34m\u001b[0m\u001b[0;34m\u001b[0m\u001b[0m\n\u001b[1;32m   1176\u001b[0m             )\n\u001b[0;32m-> 1177\u001b[0;31m         return self._input_request(\n\u001b[0m\u001b[1;32m   1178\u001b[0m             \u001b[0mstr\u001b[0m\u001b[0;34m(\u001b[0m\u001b[0mprompt\u001b[0m\u001b[0;34m)\u001b[0m\u001b[0;34m,\u001b[0m\u001b[0;34m\u001b[0m\u001b[0;34m\u001b[0m\u001b[0m\n\u001b[1;32m   1179\u001b[0m             \u001b[0mself\u001b[0m\u001b[0;34m.\u001b[0m\u001b[0m_parent_ident\u001b[0m\u001b[0;34m[\u001b[0m\u001b[0;34m\"shell\"\u001b[0m\u001b[0;34m]\u001b[0m\u001b[0;34m,\u001b[0m\u001b[0;34m\u001b[0m\u001b[0;34m\u001b[0m\u001b[0m\n",
            "\u001b[0;32m/usr/local/lib/python3.11/dist-packages/ipykernel/kernelbase.py\u001b[0m in \u001b[0;36m_input_request\u001b[0;34m(self, prompt, ident, parent, password)\u001b[0m\n\u001b[1;32m   1217\u001b[0m             \u001b[0;32mexcept\u001b[0m \u001b[0mKeyboardInterrupt\u001b[0m\u001b[0;34m:\u001b[0m\u001b[0;34m\u001b[0m\u001b[0;34m\u001b[0m\u001b[0m\n\u001b[1;32m   1218\u001b[0m                 \u001b[0;31m# re-raise KeyboardInterrupt, to truncate traceback\u001b[0m\u001b[0;34m\u001b[0m\u001b[0;34m\u001b[0m\u001b[0m\n\u001b[0;32m-> 1219\u001b[0;31m                 \u001b[0;32mraise\u001b[0m \u001b[0mKeyboardInterrupt\u001b[0m\u001b[0;34m(\u001b[0m\u001b[0;34m\"Interrupted by user\"\u001b[0m\u001b[0;34m)\u001b[0m \u001b[0;32mfrom\u001b[0m \u001b[0;32mNone\u001b[0m\u001b[0;34m\u001b[0m\u001b[0;34m\u001b[0m\u001b[0m\n\u001b[0m\u001b[1;32m   1220\u001b[0m             \u001b[0;32mexcept\u001b[0m \u001b[0mException\u001b[0m\u001b[0;34m:\u001b[0m\u001b[0;34m\u001b[0m\u001b[0;34m\u001b[0m\u001b[0m\n\u001b[1;32m   1221\u001b[0m                 \u001b[0mself\u001b[0m\u001b[0;34m.\u001b[0m\u001b[0mlog\u001b[0m\u001b[0;34m.\u001b[0m\u001b[0mwarning\u001b[0m\u001b[0;34m(\u001b[0m\u001b[0;34m\"Invalid Message:\"\u001b[0m\u001b[0;34m,\u001b[0m \u001b[0mexc_info\u001b[0m\u001b[0;34m=\u001b[0m\u001b[0;32mTrue\u001b[0m\u001b[0;34m)\u001b[0m\u001b[0;34m\u001b[0m\u001b[0;34m\u001b[0m\u001b[0m\n",
            "\u001b[0;31mKeyboardInterrupt\u001b[0m: Interrupted by user"
          ]
        }
      ]
    },
    {
      "cell_type": "markdown",
      "source": [
        "## 6. Bucle `for`\n"
      ],
      "metadata": {
        "id": "7OcruVUY8R0h"
      }
    },
    {
      "cell_type": "markdown",
      "source": [
        "El bucle `for` recorre elementos de una secuencia conocida, permitiendo automatizar tareas repetitivas sobre listas, cadenas o cualquier secuencia iterable.\n"
      ],
      "metadata": {
        "id": "vIK_1Oz18Wg0"
      }
    },
    {
      "cell_type": "markdown",
      "source": [
        "**Ejemplo 6.1**"
      ],
      "metadata": {
        "id": "T5idR_D48UeL"
      }
    },
    {
      "cell_type": "code",
      "source": [
        "colores = ['rojo', 'verde', 'azul']\n",
        "for color in colores:\n",
        "    print(\"El color es\", color)"
      ],
      "metadata": {
        "id": "oQAKORFj8aol"
      },
      "execution_count": null,
      "outputs": []
    },
    {
      "cell_type": "markdown",
      "source": [
        "**Ejercicio 6.1.**\n",
        "\n",
        "Solicita 5 nombres y salúdalos individualmente usando un bucle `for`.\n"
      ],
      "metadata": {
        "id": "nSKYPrkA8dMT"
      }
    },
    {
      "cell_type": "code",
      "source": [],
      "metadata": {
        "id": "c9tmoekN8jco"
      },
      "execution_count": null,
      "outputs": []
    },
    {
      "cell_type": "markdown",
      "source": [
        "**Ejercicio 6.2.**\n",
        "\n",
        "Recorre una cadena de texto e imprime solo las letras vocales.\n"
      ],
      "metadata": {
        "id": "kpS-l4598jxI"
      }
    },
    {
      "cell_type": "code",
      "source": [],
      "metadata": {
        "id": "cAbGJKPi8orn"
      },
      "execution_count": null,
      "outputs": []
    },
    {
      "cell_type": "markdown",
      "source": [
        "## 7. Bucle `for` con `range()`\n"
      ],
      "metadata": {
        "id": "gq6iDWD88oPL"
      }
    },
    {
      "cell_type": "markdown",
      "source": [
        "La función `range()` genera una secuencia numérica ideal para controlar iteraciones con límites definidos.\n"
      ],
      "metadata": {
        "id": "F9nu8pBa8rQg"
      }
    },
    {
      "cell_type": "markdown",
      "source": [
        "**Ejemplo 7.1.**"
      ],
      "metadata": {
        "id": "W7FY33Xo8tMd"
      }
    },
    {
      "cell_type": "code",
      "source": [
        "for i in range(1, 6):\n",
        "    print(f\"Número: {i}\")"
      ],
      "metadata": {
        "id": "cu5H61Fm8szL"
      },
      "execution_count": null,
      "outputs": []
    },
    {
      "cell_type": "markdown",
      "source": [
        "**Ejercicio 7.1.**\n",
        "\n",
        "Realiza un programa que imprima todos los números pares entre 1 y 50.\n",
        "\n"
      ],
      "metadata": {
        "id": "W_t1FFCT8w83"
      }
    },
    {
      "cell_type": "code",
      "source": [],
      "metadata": {
        "id": "doe0H_jb86Ij"
      },
      "execution_count": null,
      "outputs": []
    },
    {
      "cell_type": "markdown",
      "source": [
        "**Ejercicio 7.2.**\n",
        "\n",
        "Usa `range()` para calcular y mostrar la suma de los primeros 20 números naturales.\n",
        "\n"
      ],
      "metadata": {
        "id": "J1D5oHeZ86ga"
      }
    },
    {
      "cell_type": "code",
      "source": [],
      "metadata": {
        "id": "go4Vvtnt87qz"
      },
      "execution_count": null,
      "outputs": []
    },
    {
      "cell_type": "markdown",
      "source": [
        "\n",
        "**Ejercicio 7.3.**\n",
        "\n",
        "Crea un programa que muestre una cuenta regresiva desde 15 hasta 0 con un mensaje especial en cero."
      ],
      "metadata": {
        "id": "7b7oby7_879-"
      }
    },
    {
      "cell_type": "markdown",
      "source": [
        "---\n",
        "\n",
        "## Ejercicios adicionales\n",
        "\n",
        "1. Simula un sistema de votación que cuente votos hasta que el usuario decida terminar y muestre el total.\n",
        "\n",
        "2. Crea un juego en el que el usuario adivine un número generado aleatoriamente con límite de intentos.\n",
        "\n",
        "3. Desarrolla un programa que imprima la tabla de multiplicar de cualquier número ingresado por el usuario.\n",
        "\n",
        "4. Realiza un programa que solicite números continuamente hasta que ingrese un número negativo y luego muestre la cantidad de números ingresados.\n",
        "\n",
        "5. Simula un cronómetro que imprima los segundos hasta llegar a un tiempo ingresado por el usuario.\n",
        "\n",
        "6. Pide al usuario una palabra e imprime sus letras alternando mayúsculas y minúsculas.\n",
        "\n",
        "7. Implementa un buscador que solicite nombres continuamente y los almacene en una lista hasta que el usuario escriba \"salir\".\n",
        "\n",
        "8. Solicita al usuario números y determina cuántos números primos se han ingresado al finalizar la entrada de datos.\n",
        "\n",
        "---"
      ],
      "metadata": {
        "id": "1DwFMbVi8-Uj"
      }
    },
    {
      "cell_type": "markdown",
      "source": [
        "## Conclusión\n",
        "\n",
        "A lo largo de este laboratorio, aprendiste cómo usar estructuras repetitivas para automatizar tareas, controlar condiciones dinámicas y solucionar problemas complejos de forma eficiente y clara en Python. Estas habilidades son esenciales para la programación estructurada y eficiente.\n"
      ],
      "metadata": {
        "id": "4AfCerGB9Hjl"
      }
    },
    {
      "cell_type": "markdown",
      "source": [
        "---\n",
        "\n",
        "# Gracias por completar este laboratorio!\n",
        "\n",
        "---\n"
      ],
      "metadata": {
        "id": "uPP5akR29Iub"
      }
    }
  ]
}