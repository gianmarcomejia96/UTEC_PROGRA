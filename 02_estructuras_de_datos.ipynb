{
  "nbformat": 4,
  "nbformat_minor": 0,
  "metadata": {
    "colab": {
      "provenance": [],
      "include_colab_link": true
    },
    "kernelspec": {
      "name": "python3",
      "display_name": "Python 3"
    },
    "language_info": {
      "name": "python"
    }
  },
  "cells": [
    {
      "cell_type": "markdown",
      "metadata": {
        "id": "view-in-github",
        "colab_type": "text"
      },
      "source": [
        "<a href=\"https://colab.research.google.com/github/gianmarcomejia96/UTEC_PROGRA/blob/main/02_estructuras_de_datos.ipynb\" target=\"_parent\"><img src=\"https://colab.research.google.com/assets/colab-badge.svg\" alt=\"Open In Colab\"/></a>"
      ]
    },
    {
      "cell_type": "markdown",
      "source": [
        "<img src=\"https://www.ctic.uni.edu.pe/wp-content/uploads/2022/04/588px-x-348px-web-1.png\" alt=\"HTML5 Icon\" width=\"900\" height=\"350\" >\n"
      ],
      "metadata": {
        "id": "a2Ojkh4ciEiA"
      }
    },
    {
      "cell_type": "markdown",
      "source": [
        "<h1 align=center><font size = 5>ESTRUCTURAS DE DATOS - PARTE 1\n",
        "</font></h1>\n",
        "\n",
        "---"
      ],
      "metadata": {
        "id": "-amNk-kqiHO2"
      }
    },
    {
      "cell_type": "markdown",
      "source": [
        "## Tabla de Contenidos\n",
        "\n",
        "<div class=\"alert alert-block alert-info\" style=\"margin-top: 20px\">\n",
        "\n",
        "<font size = 3>\n",
        "    \n",
        "1. <a href=\"#item31\">Listas</a>  \n",
        "2. <a href=\"#item31\">Tuplas</a>  \n",
        "3. <a href=\"#item31\">Slicing</a>  \n",
        "4. <a href=\"#item31\">List comprehension</a>  \n",
        "</font>\n",
        "</div>\n",
        "\n",
        "---\n",
        "\n",
        "\n",
        "\n"
      ],
      "metadata": {
        "id": "qJ6hLRHNiQCG"
      }
    },
    {
      "cell_type": "markdown",
      "source": [
        "## <b>Objetivo:</b>\n",
        "\n",
        "Este laboratorio está diseñado para cubrir los conceptos de listas, tuplas, slicing, y listas por comprensión, con ejercicios detallados para practicar la manipulación de estos tipos de datos en Python.\n",
        "\n",
        "---"
      ],
      "metadata": {
        "id": "1XCUOST_igWZ"
      }
    },
    {
      "cell_type": "markdown",
      "source": [
        "## <b>1. Trabajando con Listas numéricas</b>\n",
        "\n",
        "Las listas son una secuencia de elementos que pueden ser modificados después de su creación. Vamos a realizar varias operaciones con listas numéricas, utilizando también la función range() para generar secuencias de números.\n",
        "\n"
      ],
      "metadata": {
        "id": "MWslSPQKjLYb"
      }
    },
    {
      "cell_type": "markdown",
      "source": [
        "### Ejemplo 1.1: Creación de listas\n"
      ],
      "metadata": {
        "id": "WVuNuyWsjXsU"
      }
    },
    {
      "cell_type": "code",
      "source": [
        "my_list = [1, 2, 3, 5 , 10,  'hola', 'a', [1, 2, '3']]\n"
      ],
      "metadata": {
        "id": "PipEewFTEOzw"
      },
      "execution_count": null,
      "outputs": []
    },
    {
      "cell_type": "code",
      "source": [
        "print(my_list)"
      ],
      "metadata": {
        "colab": {
          "base_uri": "https://localhost:8080/"
        },
        "id": "KxEKK7FXEdO7",
        "outputId": "2f48f243-dbd6-4c76-ccce-2f6df4644c52"
      },
      "execution_count": null,
      "outputs": [
        {
          "output_type": "stream",
          "name": "stdout",
          "text": [
            "[1, 2, 3, 5, 10, 'hola', 'a', [1, 2, '3']]\n"
          ]
        }
      ]
    },
    {
      "cell_type": "code",
      "source": [
        "students = ['Angelo', 'Diego', 'Edgar', 'Edwin', 'Enrique']\n",
        "students"
      ],
      "metadata": {
        "colab": {
          "base_uri": "https://localhost:8080/"
        },
        "id": "cfq1oJTLEsA2",
        "outputId": "3e1875e4-a2af-4d0c-a090-9fb9a84af80b"
      },
      "execution_count": null,
      "outputs": [
        {
          "output_type": "execute_result",
          "data": {
            "text/plain": [
              "['Angelo', 'Diego', 'Edgar', 'Edwin', 'Enrique']"
            ]
          },
          "metadata": {},
          "execution_count": 2
        }
      ]
    },
    {
      "cell_type": "code",
      "source": [
        "#    -5      -4        -3        -2       -1\n",
        "#    0.       1.        2.      3.        4\n",
        "#['Angelo', 'Diego', 'Edgar', 'Edwin', 'Enrique']\n"
      ],
      "metadata": {
        "id": "U5MXz_e8E5kZ"
      },
      "execution_count": null,
      "outputs": []
    },
    {
      "cell_type": "code",
      "source": [
        "students[2]"
      ],
      "metadata": {
        "colab": {
          "base_uri": "https://localhost:8080/",
          "height": 35
        },
        "id": "fsgUcamWFVgl",
        "outputId": "0288d0ac-cd42-43a6-e310-2bca959fed28"
      },
      "execution_count": null,
      "outputs": [
        {
          "output_type": "execute_result",
          "data": {
            "text/plain": [
              "'Edgar'"
            ],
            "application/vnd.google.colaboratory.intrinsic+json": {
              "type": "string"
            }
          },
          "metadata": {},
          "execution_count": 4
        }
      ]
    },
    {
      "cell_type": "code",
      "source": [
        "students[3]"
      ],
      "metadata": {
        "colab": {
          "base_uri": "https://localhost:8080/",
          "height": 35
        },
        "id": "UypQMfueFfx8",
        "outputId": "266bf437-150e-4fe7-eef4-1d1f27c9ecd2"
      },
      "execution_count": null,
      "outputs": [
        {
          "output_type": "execute_result",
          "data": {
            "text/plain": [
              "'Edwin'"
            ],
            "application/vnd.google.colaboratory.intrinsic+json": {
              "type": "string"
            }
          },
          "metadata": {},
          "execution_count": 7
        }
      ]
    },
    {
      "cell_type": "code",
      "source": [
        "students[-4]"
      ],
      "metadata": {
        "colab": {
          "base_uri": "https://localhost:8080/",
          "height": 35
        },
        "id": "ufBGR5JpF-pq",
        "outputId": "c43f83bd-a5cd-48c8-b012-fd886412c0e0"
      },
      "execution_count": null,
      "outputs": [
        {
          "output_type": "execute_result",
          "data": {
            "text/plain": [
              "'Diego'"
            ],
            "application/vnd.google.colaboratory.intrinsic+json": {
              "type": "string"
            }
          },
          "metadata": {},
          "execution_count": 5
        }
      ]
    },
    {
      "cell_type": "code",
      "source": [
        "letras = [\"a\", \"b\", \"c\", \"d\", \"e\"]"
      ],
      "metadata": {
        "id": "zGA3-8rFYSq5"
      },
      "execution_count": null,
      "outputs": []
    },
    {
      "cell_type": "code",
      "source": [
        "letras[-2:]"
      ],
      "metadata": {
        "id": "w3zDFxhmYT6i",
        "outputId": "61c63c0e-12b1-4a1b-cc6f-c5513943ff7f",
        "colab": {
          "base_uri": "https://localhost:8080/"
        }
      },
      "execution_count": null,
      "outputs": [
        {
          "output_type": "execute_result",
          "data": {
            "text/plain": [
              "['d', 'e']"
            ]
          },
          "metadata": {},
          "execution_count": 9
        }
      ]
    },
    {
      "cell_type": "code",
      "source": [
        "#imprimir las letras del medio usando slicing\n",
        "\n",
        "letras[1:4]\n",
        "\n"
      ],
      "metadata": {
        "id": "DIAFkNHXYh-r",
        "outputId": "916d9a4e-126e-4585-96b9-ff473f081e58",
        "colab": {
          "base_uri": "https://localhost:8080/"
        }
      },
      "execution_count": null,
      "outputs": [
        {
          "output_type": "execute_result",
          "data": {
            "text/plain": [
              "['b', 'c', 'd']"
            ]
          },
          "metadata": {},
          "execution_count": 10
        }
      ]
    },
    {
      "cell_type": "code",
      "source": [
        "datos = [100, 200, 300, 400, 500, 600, 700, 800, 900]"
      ],
      "metadata": {
        "id": "fnvIekibZOAn"
      },
      "execution_count": null,
      "outputs": []
    },
    {
      "cell_type": "code",
      "source": [
        "import math\n",
        "\n",
        "n = len(datos)\n",
        "corte = math.floor(n/2)\n",
        "\n",
        "if n % 2 == 0:\n",
        "  print(datos[corte])\n",
        "  print(datos[corte+1])\n",
        "else:\n",
        "  print(datos[corte])\n",
        "  print(datos[corte+1])\n",
        "  print(datos[corte+2])\n"
      ],
      "metadata": {
        "id": "GvuNz1biY4va",
        "outputId": "f9bf78aa-77a1-4da9-b6d7-fd478b8eb5da",
        "colab": {
          "base_uri": "https://localhost:8080/"
        }
      },
      "execution_count": null,
      "outputs": [
        {
          "output_type": "stream",
          "name": "stdout",
          "text": [
            "500\n",
            "600\n",
            "700\n"
          ]
        }
      ]
    },
    {
      "cell_type": "code",
      "source": [
        "# Slicing\n",
        "#[2 - 4>\n",
        "students[2:4]"
      ],
      "metadata": {
        "colab": {
          "base_uri": "https://localhost:8080/"
        },
        "id": "UcJxYVYuGHaA",
        "outputId": "49fde8ce-a86e-494c-80a0-cdb096ed0bca"
      },
      "execution_count": null,
      "outputs": [
        {
          "output_type": "execute_result",
          "data": {
            "text/plain": [
              "['Edgar', 'Edwin']"
            ]
          },
          "metadata": {},
          "execution_count": 31
        }
      ]
    },
    {
      "cell_type": "code",
      "source": [
        "#[-3 - -1>\n",
        "students[-3:-1]"
      ],
      "metadata": {
        "colab": {
          "base_uri": "https://localhost:8080/"
        },
        "id": "IqER2YHLHILD",
        "outputId": "84506f4e-cbd1-4b06-e403-0a644c214799"
      },
      "execution_count": null,
      "outputs": [
        {
          "output_type": "execute_result",
          "data": {
            "text/plain": [
              "['Edgar', 'Edwin']"
            ]
          },
          "metadata": {},
          "execution_count": 32
        }
      ]
    },
    {
      "cell_type": "code",
      "source": [
        "\n",
        "my_list = [1, 2, 3, 4, 5, 6, [7, 8, 9], 10, 11, 12]\n",
        "\n",
        "print(my_list[7])\n",
        "print(my_list[-5])\n",
        "\n",
        "print(my_list[0: 3])\n",
        "\n",
        "print(my_list[-3:])\n",
        "print(my_list[5:])"
      ],
      "metadata": {
        "colab": {
          "base_uri": "https://localhost:8080/"
        },
        "id": "APpfOpVSHhfm",
        "outputId": "d85b0fba-6fd0-4f22-bb5d-0eb7c0e29635"
      },
      "execution_count": null,
      "outputs": [
        {
          "output_type": "stream",
          "name": "stdout",
          "text": [
            "10\n",
            "6\n",
            "[1, 2, 3]\n",
            "[10, 11, 12]\n",
            "[6, [7, 8, 9], 10, 11, 12]\n"
          ]
        }
      ]
    },
    {
      "cell_type": "code",
      "source": [
        "my_list = [1, 2, 3, 4, 5, 6, [7, 8, 9], 10, 11, 12]\n",
        "\n",
        "# 1. con indice negativo [3, 4, 5]\n",
        "# 2. extrae el listado [7, 8, 9]\n",
        "# 3. extrae el valor 8\n",
        "# 4. extrae el listado [[7, 8, 9], 10, 11, 12]\n",
        "\n",
        "# 1. [>  inicio,  fin +1\n",
        "print(my_list[2:5])\n",
        "print(my_list[-8:-5])\n",
        "\n",
        "# 2.\n",
        "print(my_list[6])\n",
        "print(my_list[-4])\n",
        "\n",
        "# 3.\n",
        "print(my_list[6][1])\n",
        "\n",
        "# 4.\n",
        "print(my_list[6:])\n"
      ],
      "metadata": {
        "colab": {
          "base_uri": "https://localhost:8080/"
        },
        "id": "oOCbWT5TI5aR",
        "outputId": "ab913077-2ae6-417e-8c3e-1236d4dc84c7"
      },
      "execution_count": null,
      "outputs": [
        {
          "output_type": "stream",
          "name": "stdout",
          "text": [
            "[3, 4, 5]\n",
            "[3, 4, 5]\n",
            "[7, 8, 9]\n",
            "[7, 8, 9]\n",
            "8\n",
            "[[7, 8, 9], 10, 11, 12]\n"
          ]
        }
      ]
    },
    {
      "cell_type": "code",
      "source": [
        "print(my_list[:5])\n"
      ],
      "metadata": {
        "colab": {
          "base_uri": "https://localhost:8080/"
        },
        "id": "qrV1KcHzQE4o",
        "outputId": "fd2c8aaa-ce4a-4331-cd7c-a3c4231e5f92"
      },
      "execution_count": null,
      "outputs": [
        {
          "output_type": "stream",
          "name": "stdout",
          "text": [
            "[1, 2, 3, 4, 5]\n"
          ]
        }
      ]
    },
    {
      "cell_type": "code",
      "source": [
        "a = my_list[6]\n",
        "a[1]"
      ],
      "metadata": {
        "colab": {
          "base_uri": "https://localhost:8080/"
        },
        "id": "d_6KrUN3OC-E",
        "outputId": "861b18ca-5617-4754-979d-e6a2be44db3c"
      },
      "execution_count": null,
      "outputs": [
        {
          "output_type": "execute_result",
          "data": {
            "text/plain": [
              "8"
            ]
          },
          "metadata": {},
          "execution_count": 33
        }
      ]
    },
    {
      "cell_type": "code",
      "source": [
        "len(my_list)"
      ],
      "metadata": {
        "colab": {
          "base_uri": "https://localhost:8080/"
        },
        "id": "NOFnfQQ5OKg-",
        "outputId": "faaa5ecc-cd00-4e20-e675-47f3883f4671"
      },
      "execution_count": null,
      "outputs": [
        {
          "output_type": "execute_result",
          "data": {
            "text/plain": [
              "10"
            ]
          },
          "metadata": {},
          "execution_count": 43
        }
      ]
    },
    {
      "cell_type": "code",
      "source": [
        "list_a = ['R', 'Python', 'C++']\n",
        "list_b = ['spark', 'julia', 'pytorch']\n",
        "\n",
        "list_a + list_b"
      ],
      "metadata": {
        "colab": {
          "base_uri": "https://localhost:8080/"
        },
        "id": "hgxbGMfsQclq",
        "outputId": "c93036c1-7be0-4440-9037-a59bd39934ac"
      },
      "execution_count": null,
      "outputs": [
        {
          "output_type": "execute_result",
          "data": {
            "text/plain": [
              "['R', 'Python', 'C++', 'spark', 'julia', 'pytorch']"
            ]
          },
          "metadata": {},
          "execution_count": 34
        }
      ]
    },
    {
      "cell_type": "code",
      "source": [
        "list_a.append(['spark', 'julia', 'pytorch'])\n",
        "print(list_a)"
      ],
      "metadata": {
        "colab": {
          "base_uri": "https://localhost:8080/"
        },
        "id": "C0O7PMxfQ2sf",
        "outputId": "e05957f8-6f46-454a-fed5-bf5666c596b5"
      },
      "execution_count": null,
      "outputs": [
        {
          "output_type": "stream",
          "name": "stdout",
          "text": [
            "['R', 'Python', 'C++', 'spark', 'julia', 'pytorch', ['spark', 'julia', 'pytorch'], ['spark', 'julia', 'pytorch']]\n"
          ]
        }
      ]
    },
    {
      "cell_type": "code",
      "source": [
        "\n",
        "# Escribe un programa que va a recibir el nombre de los estudiantes y los va a guardar en una lista\n",
        "\n",
        "list_names = []\n",
        "while True:\n",
        "    name = input('Hola, ¿Cuál es tu nombre? (escriba exit para salir): ')\n",
        "    if name == 'exit':\n",
        "        break\n",
        "    else:\n",
        "        list_names.append(name)\n",
        "        print('lista actualizada:', list_names)\n"
      ],
      "metadata": {
        "colab": {
          "base_uri": "https://localhost:8080/",
          "height": 356
        },
        "id": "fpjvIsyIRTuO",
        "outputId": "2168eccc-8c5a-4815-c22e-4c21457004a5"
      },
      "execution_count": null,
      "outputs": [
        {
          "output_type": "error",
          "ename": "KeyboardInterrupt",
          "evalue": "Interrupted by user",
          "traceback": [
            "\u001b[0;31m---------------------------------------------------------------------------\u001b[0m",
            "\u001b[0;31mKeyboardInterrupt\u001b[0m                         Traceback (most recent call last)",
            "\u001b[0;32m/tmp/ipython-input-2467965108.py\u001b[0m in \u001b[0;36m<cell line: 0>\u001b[0;34m()\u001b[0m\n\u001b[1;32m      3\u001b[0m \u001b[0mlist_names\u001b[0m \u001b[0;34m=\u001b[0m \u001b[0;34m[\u001b[0m\u001b[0;34m]\u001b[0m\u001b[0;34m\u001b[0m\u001b[0;34m\u001b[0m\u001b[0m\n\u001b[1;32m      4\u001b[0m \u001b[0;32mwhile\u001b[0m \u001b[0;32mTrue\u001b[0m\u001b[0;34m:\u001b[0m\u001b[0;34m\u001b[0m\u001b[0;34m\u001b[0m\u001b[0m\n\u001b[0;32m----> 5\u001b[0;31m     \u001b[0mname\u001b[0m \u001b[0;34m=\u001b[0m \u001b[0minput\u001b[0m\u001b[0;34m(\u001b[0m\u001b[0;34m'Hola, ¿Cuál es tu nombre? (escriba exit para salir): '\u001b[0m\u001b[0;34m)\u001b[0m\u001b[0;34m\u001b[0m\u001b[0;34m\u001b[0m\u001b[0m\n\u001b[0m\u001b[1;32m      6\u001b[0m     \u001b[0;32mif\u001b[0m \u001b[0mname\u001b[0m \u001b[0;34m==\u001b[0m \u001b[0;34m'exit'\u001b[0m\u001b[0;34m:\u001b[0m\u001b[0;34m\u001b[0m\u001b[0;34m\u001b[0m\u001b[0m\n\u001b[1;32m      7\u001b[0m         \u001b[0;32mbreak\u001b[0m\u001b[0;34m\u001b[0m\u001b[0;34m\u001b[0m\u001b[0m\n",
            "\u001b[0;32m/usr/local/lib/python3.12/dist-packages/ipykernel/kernelbase.py\u001b[0m in \u001b[0;36mraw_input\u001b[0;34m(self, prompt)\u001b[0m\n\u001b[1;32m   1175\u001b[0m                 \u001b[0;34m\"raw_input was called, but this frontend does not support input requests.\"\u001b[0m\u001b[0;34m\u001b[0m\u001b[0;34m\u001b[0m\u001b[0m\n\u001b[1;32m   1176\u001b[0m             )\n\u001b[0;32m-> 1177\u001b[0;31m         return self._input_request(\n\u001b[0m\u001b[1;32m   1178\u001b[0m             \u001b[0mstr\u001b[0m\u001b[0;34m(\u001b[0m\u001b[0mprompt\u001b[0m\u001b[0;34m)\u001b[0m\u001b[0;34m,\u001b[0m\u001b[0;34m\u001b[0m\u001b[0;34m\u001b[0m\u001b[0m\n\u001b[1;32m   1179\u001b[0m             \u001b[0mself\u001b[0m\u001b[0;34m.\u001b[0m\u001b[0m_parent_ident\u001b[0m\u001b[0;34m[\u001b[0m\u001b[0;34m\"shell\"\u001b[0m\u001b[0;34m]\u001b[0m\u001b[0;34m,\u001b[0m\u001b[0;34m\u001b[0m\u001b[0;34m\u001b[0m\u001b[0m\n",
            "\u001b[0;32m/usr/local/lib/python3.12/dist-packages/ipykernel/kernelbase.py\u001b[0m in \u001b[0;36m_input_request\u001b[0;34m(self, prompt, ident, parent, password)\u001b[0m\n\u001b[1;32m   1217\u001b[0m             \u001b[0;32mexcept\u001b[0m \u001b[0mKeyboardInterrupt\u001b[0m\u001b[0;34m:\u001b[0m\u001b[0;34m\u001b[0m\u001b[0;34m\u001b[0m\u001b[0m\n\u001b[1;32m   1218\u001b[0m                 \u001b[0;31m# re-raise KeyboardInterrupt, to truncate traceback\u001b[0m\u001b[0;34m\u001b[0m\u001b[0;34m\u001b[0m\u001b[0m\n\u001b[0;32m-> 1219\u001b[0;31m                 \u001b[0;32mraise\u001b[0m \u001b[0mKeyboardInterrupt\u001b[0m\u001b[0;34m(\u001b[0m\u001b[0;34m\"Interrupted by user\"\u001b[0m\u001b[0;34m)\u001b[0m \u001b[0;32mfrom\u001b[0m \u001b[0;32mNone\u001b[0m\u001b[0;34m\u001b[0m\u001b[0;34m\u001b[0m\u001b[0m\n\u001b[0m\u001b[1;32m   1220\u001b[0m             \u001b[0;32mexcept\u001b[0m \u001b[0mException\u001b[0m\u001b[0;34m:\u001b[0m\u001b[0;34m\u001b[0m\u001b[0;34m\u001b[0m\u001b[0m\n\u001b[1;32m   1221\u001b[0m                 \u001b[0mself\u001b[0m\u001b[0;34m.\u001b[0m\u001b[0mlog\u001b[0m\u001b[0;34m.\u001b[0m\u001b[0mwarning\u001b[0m\u001b[0;34m(\u001b[0m\u001b[0;34m\"Invalid Message:\"\u001b[0m\u001b[0;34m,\u001b[0m \u001b[0mexc_info\u001b[0m\u001b[0;34m=\u001b[0m\u001b[0;32mTrue\u001b[0m\u001b[0;34m)\u001b[0m\u001b[0;34m\u001b[0m\u001b[0;34m\u001b[0m\u001b[0m\n",
            "\u001b[0;31mKeyboardInterrupt\u001b[0m: Interrupted by user"
          ]
        }
      ]
    },
    {
      "cell_type": "code",
      "source": [
        "# Escribe un programa que va a recibir el nombre de los estudiantes y los va a guardar en una list\n",
        "\n",
        "lista = []\n",
        "flag = True\n",
        "\n",
        "while flag:\n",
        "  nombre = input('dame el nombre:')\n",
        "  if nombre.lower().strip() == 'salir':\n",
        "    flag=  False\n",
        "  else:\n",
        "    lista.append(nombre)\n",
        "    print(f'lista actualizada {lista}')\n",
        "\n"
      ],
      "metadata": {
        "id": "c-9TTF6McZ0d",
        "outputId": "2b4b3417-94cc-4ec6-c4fe-95cc6bf15eba",
        "colab": {
          "base_uri": "https://localhost:8080/"
        }
      },
      "execution_count": null,
      "outputs": [
        {
          "name": "stdout",
          "output_type": "stream",
          "text": [
            "dame el nombre:piero\n",
            "lista actulizada ['piero']\n",
            "dame el nombre:marquiño\n",
            "lista actulizada ['piero', 'marquiño']\n",
            "dame el nombre:carlos\n",
            "lista actulizada ['piero', 'marquiño', 'carlos']\n",
            "dame el nombre:aslir\n",
            "lista actulizada ['piero', 'marquiño', 'carlos', 'aslir']\n",
            "dame el nombre:salir\n"
          ]
        }
      ]
    },
    {
      "cell_type": "markdown",
      "source": [
        "Haz un programa que:\n",
        "\n",
        "Pida 5 números al usuario\n",
        "\n",
        "Guárdalos en una lista usando .append()\n",
        "\n",
        "Muestra:\n",
        "\n",
        "La suma total\n",
        "\n",
        "El promedio\n",
        "\n",
        "👉 Inténtalo tú.\n",
        "Cuando lo termines, pasamos a .remove(), .count(), y más."
      ],
      "metadata": {
        "id": "-9FX12tIfnJ0"
      }
    },
    {
      "cell_type": "code",
      "source": [
        "numeros = []\n",
        "\n",
        "for i in range(5):\n",
        "  numero = int(input('ingresa 5 números: '))\n",
        "  numeros.append(numero)\n",
        "\n",
        "print(sum(numeros))\n",
        "print(sum(numeros)/len(numeros))"
      ],
      "metadata": {
        "id": "ZUpnvTROfmzj",
        "outputId": "6dab1c7a-7e4b-4e65-fabe-78af229bde91",
        "colab": {
          "base_uri": "https://localhost:8080/"
        }
      },
      "execution_count": null,
      "outputs": [
        {
          "output_type": "stream",
          "name": "stdout",
          "text": [
            "ingresa 5 números: 1\n",
            "ingresa 5 números: 2\n",
            "ingresa 5 números: 3\n",
            "ingresa 5 números: 4\n",
            "ingresa 5 números: 5\n",
            "15\n",
            "3.0\n"
          ]
        }
      ]
    },
    {
      "cell_type": "code",
      "source": [
        "#✅ Acción: Usa la lista que ya tienes (numeros) Pide al usuario que ingrese un número a buscar\n",
        "\n",
        "#Imprime cuántas veces aparece ese número en la lista usando .count()\n",
        "\n",
        "#👉 Inténtalo tú.\n",
        "#Avísame cuando lo tengas."
      ],
      "metadata": {
        "id": "eOlK8md3g1rb"
      },
      "execution_count": null,
      "outputs": []
    },
    {
      "cell_type": "markdown",
      "source": [],
      "metadata": {
        "id": "umH9QWasg-ut"
      }
    },
    {
      "cell_type": "code",
      "source": [
        "numero = int(input('ingresa el número de búsqueda: '))\n",
        "\n",
        "print(numeros.count(numero))\n"
      ],
      "metadata": {
        "id": "Rzt96wo3g5vs",
        "outputId": "7e37eb2c-af74-40cf-80a7-fe35428fb623",
        "colab": {
          "base_uri": "https://localhost:8080/"
        }
      },
      "execution_count": null,
      "outputs": [
        {
          "output_type": "stream",
          "name": "stdout",
          "text": [
            "ingresa el número de búsqueda: 1\n",
            "1\n"
          ]
        }
      ]
    },
    {
      "cell_type": "code",
      "source": [],
      "metadata": {
        "id": "vdXa3J2thqkZ"
      },
      "execution_count": null,
      "outputs": []
    },
    {
      "cell_type": "markdown",
      "source": [
        "🔁 Ejercicio:\n",
        "\n",
        "Tienes una lista de temperaturas registradas en °C:\n",
        "\n",
        "Haz un programa que:\n",
        "\n",
        "Pida al usuario una temperatura a eliminar\n",
        "\n",
        "Si la temperatura existe, elimina solo la primera ocurrencia con .remove()\n",
        "\n",
        "Luego, muestra la posición de la última ocurrencia de esa temperatura usando .index() (si queda alguna)\n",
        "\n",
        "📌 Si ya no queda, imprime \"Temperatura eliminada por completo\""
      ],
      "metadata": {
        "id": "_EWPO2e1hq5T"
      }
    },
    {
      "cell_type": "code",
      "source": [
        "temp = [21, 25, 30, 30, 28, 25, 22, 19]"
      ],
      "metadata": {
        "id": "DPMTPn6Dhs5a"
      },
      "execution_count": null,
      "outputs": []
    },
    {
      "cell_type": "code",
      "source": [
        "eliminar = int(input('ingresa la temperatura que quieres eliminar: '))\n",
        "contar = temp.count(eliminar)\n",
        "\n",
        "if eliminar in temp and contar > 1:\n",
        "  temp.remove(eliminar)\n",
        "  if eliminar in temp:\n",
        "    post = temp.index(eliminar)\n",
        "    print(f' el numero {eliminar} se encuentra en la pos {post}')\n",
        "else:\n",
        "  print('temperatura eliminada por completo')\n"
      ],
      "metadata": {
        "id": "NM-dThvbht6S",
        "outputId": "176f693f-7d1d-4d42-c09d-29894b223d91",
        "colab": {
          "base_uri": "https://localhost:8080/",
          "height": 356
        }
      },
      "execution_count": null,
      "outputs": [
        {
          "output_type": "error",
          "ename": "KeyboardInterrupt",
          "evalue": "Interrupted by user",
          "traceback": [
            "\u001b[0;31m---------------------------------------------------------------------------\u001b[0m",
            "\u001b[0;31mKeyboardInterrupt\u001b[0m                         Traceback (most recent call last)",
            "\u001b[0;32m/tmp/ipython-input-1888697865.py\u001b[0m in \u001b[0;36m<cell line: 0>\u001b[0;34m()\u001b[0m\n\u001b[0;32m----> 1\u001b[0;31m \u001b[0meliminar\u001b[0m \u001b[0;34m=\u001b[0m \u001b[0mint\u001b[0m\u001b[0;34m(\u001b[0m\u001b[0minput\u001b[0m\u001b[0;34m(\u001b[0m\u001b[0;34m'ingresa la temperatura que quieres eliminar: '\u001b[0m\u001b[0;34m)\u001b[0m\u001b[0;34m)\u001b[0m\u001b[0;34m\u001b[0m\u001b[0;34m\u001b[0m\u001b[0m\n\u001b[0m\u001b[1;32m      2\u001b[0m \u001b[0mcontar\u001b[0m \u001b[0;34m=\u001b[0m \u001b[0mtemp\u001b[0m\u001b[0;34m.\u001b[0m\u001b[0mcount\u001b[0m\u001b[0;34m(\u001b[0m\u001b[0meliminar\u001b[0m\u001b[0;34m)\u001b[0m\u001b[0;34m\u001b[0m\u001b[0;34m\u001b[0m\u001b[0m\n\u001b[1;32m      3\u001b[0m \u001b[0;34m\u001b[0m\u001b[0m\n\u001b[1;32m      4\u001b[0m \u001b[0;32mif\u001b[0m \u001b[0meliminar\u001b[0m \u001b[0;32min\u001b[0m \u001b[0mtemp\u001b[0m \u001b[0;32mand\u001b[0m \u001b[0mcontar\u001b[0m \u001b[0;34m>\u001b[0m \u001b[0;36m1\u001b[0m\u001b[0;34m:\u001b[0m\u001b[0;34m\u001b[0m\u001b[0;34m\u001b[0m\u001b[0m\n\u001b[1;32m      5\u001b[0m   \u001b[0mtemp\u001b[0m\u001b[0;34m.\u001b[0m\u001b[0mremove\u001b[0m\u001b[0;34m(\u001b[0m\u001b[0meliminar\u001b[0m\u001b[0;34m)\u001b[0m\u001b[0;34m\u001b[0m\u001b[0;34m\u001b[0m\u001b[0m\n",
            "\u001b[0;32m/usr/local/lib/python3.12/dist-packages/ipykernel/kernelbase.py\u001b[0m in \u001b[0;36mraw_input\u001b[0;34m(self, prompt)\u001b[0m\n\u001b[1;32m   1175\u001b[0m                 \u001b[0;34m\"raw_input was called, but this frontend does not support input requests.\"\u001b[0m\u001b[0;34m\u001b[0m\u001b[0;34m\u001b[0m\u001b[0m\n\u001b[1;32m   1176\u001b[0m             )\n\u001b[0;32m-> 1177\u001b[0;31m         return self._input_request(\n\u001b[0m\u001b[1;32m   1178\u001b[0m             \u001b[0mstr\u001b[0m\u001b[0;34m(\u001b[0m\u001b[0mprompt\u001b[0m\u001b[0;34m)\u001b[0m\u001b[0;34m,\u001b[0m\u001b[0;34m\u001b[0m\u001b[0;34m\u001b[0m\u001b[0m\n\u001b[1;32m   1179\u001b[0m             \u001b[0mself\u001b[0m\u001b[0;34m.\u001b[0m\u001b[0m_parent_ident\u001b[0m\u001b[0;34m[\u001b[0m\u001b[0;34m\"shell\"\u001b[0m\u001b[0;34m]\u001b[0m\u001b[0;34m,\u001b[0m\u001b[0;34m\u001b[0m\u001b[0;34m\u001b[0m\u001b[0m\n",
            "\u001b[0;32m/usr/local/lib/python3.12/dist-packages/ipykernel/kernelbase.py\u001b[0m in \u001b[0;36m_input_request\u001b[0;34m(self, prompt, ident, parent, password)\u001b[0m\n\u001b[1;32m   1217\u001b[0m             \u001b[0;32mexcept\u001b[0m \u001b[0mKeyboardInterrupt\u001b[0m\u001b[0;34m:\u001b[0m\u001b[0;34m\u001b[0m\u001b[0;34m\u001b[0m\u001b[0m\n\u001b[1;32m   1218\u001b[0m                 \u001b[0;31m# re-raise KeyboardInterrupt, to truncate traceback\u001b[0m\u001b[0;34m\u001b[0m\u001b[0;34m\u001b[0m\u001b[0m\n\u001b[0;32m-> 1219\u001b[0;31m                 \u001b[0;32mraise\u001b[0m \u001b[0mKeyboardInterrupt\u001b[0m\u001b[0;34m(\u001b[0m\u001b[0;34m\"Interrupted by user\"\u001b[0m\u001b[0;34m)\u001b[0m \u001b[0;32mfrom\u001b[0m \u001b[0;32mNone\u001b[0m\u001b[0;34m\u001b[0m\u001b[0;34m\u001b[0m\u001b[0m\n\u001b[0m\u001b[1;32m   1220\u001b[0m             \u001b[0;32mexcept\u001b[0m \u001b[0mException\u001b[0m\u001b[0;34m:\u001b[0m\u001b[0;34m\u001b[0m\u001b[0;34m\u001b[0m\u001b[0m\n\u001b[1;32m   1221\u001b[0m                 \u001b[0mself\u001b[0m\u001b[0;34m.\u001b[0m\u001b[0mlog\u001b[0m\u001b[0;34m.\u001b[0m\u001b[0mwarning\u001b[0m\u001b[0;34m(\u001b[0m\u001b[0;34m\"Invalid Message:\"\u001b[0m\u001b[0;34m,\u001b[0m \u001b[0mexc_info\u001b[0m\u001b[0;34m=\u001b[0m\u001b[0;32mTrue\u001b[0m\u001b[0;34m)\u001b[0m\u001b[0;34m\u001b[0m\u001b[0;34m\u001b[0m\u001b[0m\n",
            "\u001b[0;31mKeyboardInterrupt\u001b[0m: Interrupted by user"
          ]
        }
      ]
    },
    {
      "cell_type": "code",
      "source": [
        "temperaturas = [21, 25, -999, 30, 28, -999, 27, 100, 26, 29, -999]"
      ],
      "metadata": {
        "id": "8H-z82CxldB7"
      },
      "execution_count": null,
      "outputs": []
    },
    {
      "cell_type": "markdown",
      "source": [
        "🎯 Tu programa debe:\n",
        "\n",
        "Eliminar todas las ocurrencias de -999 (valores perdidos)\n",
        "\n",
        "Calcular:\n",
        "\n",
        "Temperatura máxima\n",
        "\n",
        "Temperatura mínima\n",
        "\n",
        "Promedio\n",
        "\n",
        "Mostrar la lista final de temperaturas limpias en orden descendente"
      ],
      "metadata": {
        "id": "X_VRcNSRlglF"
      }
    },
    {
      "cell_type": "code",
      "source": [
        "while -999 in temperaturas:\n",
        "  temperaturas.remove(-999)\n",
        "\n",
        "print(max(temperaturas))\n",
        "print(min(temperaturas))\n",
        "print(sum(temperaturas)/len(temperaturas))\n",
        "\n",
        "temperaturas.sort(reverse=True)\n",
        "\n",
        "print(temperaturas)\n"
      ],
      "metadata": {
        "id": "oPm-p79PjYrl",
        "outputId": "9ff5d453-cc60-4714-b192-d0b62d8e4c84",
        "colab": {
          "base_uri": "https://localhost:8080/"
        }
      },
      "execution_count": null,
      "outputs": [
        {
          "output_type": "stream",
          "name": "stdout",
          "text": [
            "100\n",
            "21\n",
            "35.75\n",
            "[100, 30, 29, 28, 27, 26, 25, 21]\n"
          ]
        }
      ]
    },
    {
      "cell_type": "code",
      "source": [
        "colores = [\"rojo\", \"azul\", \"verde\", \"amarillo\"]\n",
        "#👉 Elimina el segundo color usando .pop()\n",
        "#Guarda el valor eliminado en una variable y muéstralo por pantalla\n"
      ],
      "metadata": {
        "id": "yQ7qvXj_pQzB"
      },
      "execution_count": null,
      "outputs": []
    },
    {
      "cell_type": "code",
      "source": [
        "color_eliminado = colores.pop(-1)\n",
        "\n",
        "print(color_eliminado)\n"
      ],
      "metadata": {
        "id": "IJnPRy_Vpu2_"
      },
      "execution_count": null,
      "outputs": []
    },
    {
      "cell_type": "code",
      "source": [
        "del colores[-1]"
      ],
      "metadata": {
        "id": "DKTlaNuqpqXv"
      },
      "execution_count": null,
      "outputs": []
    },
    {
      "cell_type": "code",
      "source": [
        "colores"
      ],
      "metadata": {
        "id": "yvi7Z3Z_pzJh",
        "outputId": "4e6dfec1-907e-4b06-8d5c-cee64cc94d28",
        "colab": {
          "base_uri": "https://localhost:8080/"
        }
      },
      "execution_count": null,
      "outputs": [
        {
          "output_type": "execute_result",
          "data": {
            "text/plain": [
              "['rojo', 'azul', 'verde']"
            ]
          },
          "metadata": {},
          "execution_count": 98
        }
      ]
    },
    {
      "cell_type": "markdown",
      "source": [
        "Tareas:\n",
        "\n",
        "Quita el encabezado \"Edad\"\n",
        "\n",
        "Encuentra la edad mayor\n",
        "\n",
        "Elimina esa edad usando del y index()\n",
        "\n",
        "Muestra la lista final"
      ],
      "metadata": {
        "id": "u1ZKUSjCp6T7"
      }
    },
    {
      "cell_type": "code",
      "source": [
        "edades = [\"Edad\", 21, 34, 45, 38, 29]"
      ],
      "metadata": {
        "id": "YBOCl_iup56Z"
      },
      "execution_count": null,
      "outputs": []
    },
    {
      "cell_type": "code",
      "source": [
        "del edades[0]\n",
        "edades\n",
        "mayor = max(edades)\n",
        "print(mayor)\n",
        "del edades[edades.index(mayor)]\n",
        "\n",
        "print(edades)\n"
      ],
      "metadata": {
        "id": "pIOHX8g2q3EH",
        "outputId": "b55ccf90-875f-406f-d02d-47e9ce7fe3b4",
        "colab": {
          "base_uri": "https://localhost:8080/"
        }
      },
      "execution_count": null,
      "outputs": [
        {
          "output_type": "stream",
          "name": "stdout",
          "text": [
            "45\n",
            "[21, 34, 38, 29]\n"
          ]
        }
      ]
    },
    {
      "cell_type": "code",
      "source": [
        "ingresos = [\"Ingresos\", 1200, 1500, -1, 1800, 1600, -1, 1700, -200, 100, -300]"
      ],
      "metadata": {
        "id": "rx7SJPxUrqMt"
      },
      "execution_count": null,
      "outputs": []
    },
    {
      "cell_type": "markdown",
      "source": [
        "🔁 Tu tarea:\n",
        "\n",
        "Elimina el encabezado \"Ingresos\"\n",
        "\n",
        "Recorre la lista con un for y elimina todos los valores negativos usando del o .pop()\n",
        "\n",
        "Solo elimina si el valor es menor que 0\n",
        "\n",
        "Muestra:\n",
        "\n",
        "Lista final limpia\n",
        "\n",
        "Promedio de ingresos válidos (sum / len)"
      ],
      "metadata": {
        "id": "ssgUO_y8rrjn"
      }
    },
    {
      "cell_type": "code",
      "source": [
        "del ingresos[0]\n",
        "\n",
        "for i in ingresos:\n",
        "  if i < 0:\n",
        "    ingresos.pop(ingresos.index(i))\n",
        "\n",
        "\n",
        "print(ingresos)\n",
        "print(f'el promedio de ingresos válidos es {sum(ingresos)/len(ingresos)}')"
      ],
      "metadata": {
        "id": "aV4VcDa5rs5d",
        "outputId": "388aec36-48e9-4325-d3d0-38b688f764e4",
        "colab": {
          "base_uri": "https://localhost:8080/"
        }
      },
      "execution_count": null,
      "outputs": [
        {
          "output_type": "stream",
          "name": "stdout",
          "text": [
            "[1200, 1500, 1800, 1600, 1700, 100]\n",
            "el promedio de ingresos válidos es 1316.6666666666667\n"
          ]
        }
      ]
    },
    {
      "cell_type": "code",
      "source": [
        "lista"
      ],
      "metadata": {
        "id": "jS95D0XKdICS",
        "outputId": "8eec713d-0091-4c70-a348-62a5063b6209",
        "colab": {
          "base_uri": "https://localhost:8080/"
        }
      },
      "execution_count": null,
      "outputs": [
        {
          "output_type": "execute_result",
          "data": {
            "text/plain": [
              "['ENRIQUE', 'NEYMAR', 'salir']"
            ]
          },
          "metadata": {},
          "execution_count": 44
        }
      ]
    },
    {
      "cell_type": "code",
      "source": [
        "lista"
      ],
      "metadata": {
        "id": "oy1NW3okczaA",
        "outputId": "abdb6df6-0a70-4e1f-81ae-d71134f7f4fb",
        "colab": {
          "base_uri": "https://localhost:8080/"
        }
      },
      "execution_count": null,
      "outputs": [
        {
          "output_type": "execute_result",
          "data": {
            "text/plain": [
              "[]"
            ]
          },
          "metadata": {},
          "execution_count": 39
        }
      ]
    },
    {
      "cell_type": "code",
      "source": [
        "list_names[-2]"
      ],
      "metadata": {
        "colab": {
          "base_uri": "https://localhost:8080/",
          "height": 35
        },
        "id": "pbLHPwTbSt5k",
        "outputId": "4b64ea98-e045-4d1b-edcf-12bb1012ca47"
      },
      "execution_count": null,
      "outputs": [
        {
          "output_type": "execute_result",
          "data": {
            "text/plain": [
              "'Geraldo'"
            ],
            "application/vnd.google.colaboratory.intrinsic+json": {
              "type": "string"
            }
          },
          "metadata": {},
          "execution_count": 56
        }
      ]
    },
    {
      "cell_type": "code",
      "source": [
        "# Crear una lista de frutas\n",
        "frutas = [\"manzana\", \"banana\", \"naranja\", \"uva\", \"pera\"]\n"
      ],
      "metadata": {
        "id": "_nYyKe_bjHY5"
      },
      "execution_count": null,
      "outputs": []
    },
    {
      "cell_type": "code",
      "execution_count": null,
      "metadata": {
        "id": "MNGFUaC6hyfi"
      },
      "outputs": [],
      "source": [
        "\n",
        "# Acceder a elementos individuales\n",
        "primera_fruta = frutas[0]\n",
        "ultima_fruta = frutas[-1]\n",
        "print(primera_fruta, ultima_fruta)\n",
        "\n"
      ]
    },
    {
      "cell_type": "code",
      "source": [
        "# Modificar un elemento\n",
        "frutas[1] = \"plátano\"\n",
        "print(frutas)"
      ],
      "metadata": {
        "id": "hbnOS3lsjdWc"
      },
      "execution_count": null,
      "outputs": []
    },
    {
      "cell_type": "markdown",
      "source": [
        "### Ejemplo 1.2: Métodos útiles de listas\n",
        "\n"
      ],
      "metadata": {
        "id": "oa1fRACgjlV_"
      }
    },
    {
      "cell_type": "code",
      "source": [
        "# Agregar un elemento al final\n",
        "frutas.append(\"kiwi\")\n",
        "print(frutas)\n"
      ],
      "metadata": {
        "id": "yrlpPiGWjol1"
      },
      "execution_count": null,
      "outputs": []
    },
    {
      "cell_type": "code",
      "source": [
        "\n",
        "# Insertar un elemento en una posición específica\n",
        "frutas.insert(2, \"mango\")\n",
        "print(frutas)\n"
      ],
      "metadata": {
        "id": "wx9q6KbWnZ56"
      },
      "execution_count": null,
      "outputs": []
    },
    {
      "cell_type": "code",
      "source": [
        "# Eliminar un elemento\n",
        "frutas.remove(\"naranja\")\n",
        "print(frutas)\n"
      ],
      "metadata": {
        "id": "XVXLcedpna3G"
      },
      "execution_count": null,
      "outputs": []
    },
    {
      "cell_type": "code",
      "source": [
        "# Ordenar una lista\n",
        "frutas.sort()\n",
        "print(frutas)\n"
      ],
      "metadata": {
        "id": "v0vdv2Wknb4y"
      },
      "execution_count": null,
      "outputs": []
    },
    {
      "cell_type": "code",
      "source": [
        "# Ordenar en reversa\n",
        "frutas.sort(reverse=True)\n",
        "print(frutas)"
      ],
      "metadata": {
        "id": "Z6ermqmGncXu"
      },
      "execution_count": null,
      "outputs": []
    },
    {
      "cell_type": "markdown",
      "source": [
        "### Ejemplo 1.3: Operaciones numéricas con listas\n",
        "\n"
      ],
      "metadata": {
        "id": "zxB2ys0rm21v"
      }
    },
    {
      "cell_type": "code",
      "source": [
        "digits = [1, 2, 3, 4, 5, 6, 7, 8, 9, 0]\n",
        "\n",
        "print(\"Mínimo:\", min(digits))\n",
        "print(\"Máximo:\", max(digits))\n",
        "print(\"Suma:\", sum(digits))\n",
        "\n",
        "\n",
        "numeros = [1, 2, 3, 4, 5, 6, 7, 8, 9, 10]\n",
        "\n",
        "# Mínimo, máximo y suma\n",
        "print(\"Mínimo:\", min(numeros))\n",
        "print(\"Máximo:\", max(numeros))\n",
        "print(\"Suma total:\", sum(numeros))\n",
        "\n",
        "# Longitud de la lista\n",
        "print(\"Cantidad de elementos:\", len(numeros))\n",
        "\n",
        "# Promedio de los valores en la lista\n",
        "promedio = sum(numeros) / len(numeros)\n",
        "print(\"Promedio:\", promedio)\n"
      ],
      "metadata": {
        "id": "kSOIel4Wm8D2"
      },
      "execution_count": null,
      "outputs": []
    },
    {
      "cell_type": "code",
      "source": [
        "my_nums = [1, 2, 3, 4, ...... , 99]"
      ],
      "metadata": {
        "id": "HwxxX_yiWDo9"
      },
      "execution_count": null,
      "outputs": []
    },
    {
      "cell_type": "code",
      "source": [
        "#[>\n",
        "for x in range(1, 100):\n",
        "  print(x)"
      ],
      "metadata": {
        "id": "_6HEQeFJWQQ_"
      },
      "execution_count": null,
      "outputs": []
    },
    {
      "cell_type": "markdown",
      "source": [
        "## 1.2: Uso de la función range()\n"
      ],
      "metadata": {
        "id": "x_ULJgErpMDb"
      }
    },
    {
      "cell_type": "markdown",
      "source": [
        "La función range() se utiliza para generar secuencias de números, y es especialmente útil cuando se quiere evitar la creación manual de listas largas de números consecutivos."
      ],
      "metadata": {
        "id": "2gHPgAIxpskX"
      }
    },
    {
      "cell_type": "markdown",
      "source": [
        "### Ejemplo 1.4: Creación de listas con range()\n"
      ],
      "metadata": {
        "id": "zgXTDTTIpvwz"
      }
    },
    {
      "cell_type": "code",
      "source": [
        "# Crear una lista con los números del 1 al 10\n",
        "lista_numeros = list(range(1, 11))\n",
        "print(\"Números del 1 al 10:\", lista_numeros)\n"
      ],
      "metadata": {
        "id": "oSjCMXolp0_a",
        "outputId": "7914c98a-2bd1-4764-a949-621513055481",
        "colab": {
          "base_uri": "https://localhost:8080/"
        }
      },
      "execution_count": null,
      "outputs": [
        {
          "output_type": "stream",
          "name": "stdout",
          "text": [
            "Números del 1 al 10: [1, 2, 3, 4, 5, 6, 7, 8, 9, 10]\n"
          ]
        }
      ]
    },
    {
      "cell_type": "code",
      "source": [
        "list(range(0,20,-1))"
      ],
      "metadata": {
        "id": "BOaucVgdEk9G",
        "outputId": "d130b006-554c-4cf0-90b9-09cbd54dc7ff",
        "colab": {
          "base_uri": "https://localhost:8080/"
        }
      },
      "execution_count": null,
      "outputs": [
        {
          "output_type": "execute_result",
          "data": {
            "text/plain": [
              "[]"
            ]
          },
          "metadata": {},
          "execution_count": 14
        }
      ]
    },
    {
      "cell_type": "code",
      "source": [
        "#usando range, imprima los multiplos de 13 menores de 200\n",
        "\n",
        "for i in range(0,200):\n",
        "  if i % 13 == 0:\n",
        "    print(i)\n"
      ],
      "metadata": {
        "id": "jjfkjfcDF3Fu",
        "outputId": "5f01b711-805f-413e-afc1-033758674b80",
        "colab": {
          "base_uri": "https://localhost:8080/"
        }
      },
      "execution_count": null,
      "outputs": [
        {
          "output_type": "stream",
          "name": "stdout",
          "text": [
            "0\n",
            "13\n",
            "26\n",
            "39\n",
            "52\n",
            "65\n",
            "78\n",
            "91\n",
            "104\n",
            "117\n",
            "130\n",
            "143\n",
            "156\n",
            "169\n",
            "182\n",
            "195\n"
          ]
        }
      ]
    },
    {
      "cell_type": "code",
      "source": [],
      "metadata": {
        "id": "GBE_flsVEqt1",
        "outputId": "74354f40-4856-4aaa-e3d2-124da0664534",
        "colab": {
          "base_uri": "https://localhost:8080/"
        }
      },
      "execution_count": null,
      "outputs": [
        {
          "output_type": "execute_result",
          "data": {
            "text/plain": [
              "[]"
            ]
          },
          "metadata": {},
          "execution_count": 11
        }
      ]
    },
    {
      "cell_type": "code",
      "source": [
        "# Crear una lista con los números pares entre 2 y 20\n",
        "pares = list(range(2, 21, 2))\n",
        "print(\"Números pares del 2 al 20:\", pares)\n"
      ],
      "metadata": {
        "id": "irHM5QenptAD",
        "outputId": "51a39234-a3eb-4ac0-857d-dc860c4052e6",
        "colab": {
          "base_uri": "https://localhost:8080/"
        }
      },
      "execution_count": null,
      "outputs": [
        {
          "output_type": "stream",
          "name": "stdout",
          "text": [
            "Números pares del 2 al 20: [2, 4, 6, 8, 10, 12, 14, 16, 18, 20]\n"
          ]
        }
      ]
    },
    {
      "cell_type": "code",
      "source": [
        "# Crear una lista de números en orden inverso (del 10 al 1)\n",
        "reversa = list(range(10, 0, -1))\n",
        "print(\"Números en orden inverso:\", reversa)\n"
      ],
      "metadata": {
        "id": "SFRs3Qv1p56E",
        "outputId": "5b5ea6cb-68d0-4fc4-8c3a-061b7b9bfd64",
        "colab": {
          "base_uri": "https://localhost:8080/"
        }
      },
      "execution_count": null,
      "outputs": [
        {
          "output_type": "stream",
          "name": "stdout",
          "text": [
            "Números en orden inverso: [10, 9, 8, 7, 6, 5, 4, 3, 2, 1]\n"
          ]
        }
      ]
    },
    {
      "cell_type": "code",
      "source": [
        "# Crear una lista de múltiplos de 5 entre 0 y 50\n",
        "multiplos_de_5 = list(range(0, 51, 5))\n",
        "print(\"Múltiplos de 5 entre 0 y 50:\", multiplos_de_5)\n"
      ],
      "metadata": {
        "id": "u9dMaOU8p6UX",
        "outputId": "42480758-fc6a-405d-cc99-fa1d7346e0da",
        "colab": {
          "base_uri": "https://localhost:8080/"
        }
      },
      "execution_count": null,
      "outputs": [
        {
          "output_type": "stream",
          "name": "stdout",
          "text": [
            "Múltiplos de 5 entre 0 y 50: [0, 5, 10, 15, 20, 25, 30, 35, 40, 45, 50]\n"
          ]
        }
      ]
    },
    {
      "cell_type": "markdown",
      "source": [
        "### Ejercicio 1.1: Operaciones numéricas con listas\n",
        "\n",
        "- Crea una lista de números entre 1 y 100 usando la función range() (verás cómo usarla en el próximo ejemplo).\n",
        "\n",
        "- Calcula la media de los valores de la lista usando las funciones sum() y len().\n",
        "\n",
        "- Usa sorted() para crear una lista ordenada inversamente de los primeros 50 números.\n",
        "\n",
        "- Crea una lista que contenga solo los números mayores a 50, multiplicados por 2."
      ],
      "metadata": {
        "id": "H0ED3Dkxm8cd"
      }
    },
    {
      "cell_type": "code",
      "source": [],
      "metadata": {
        "id": "8Yot9kIypKuw"
      },
      "execution_count": null,
      "outputs": []
    },
    {
      "cell_type": "markdown",
      "source": [
        "## <b>2. Listas por Comprensión</b>\n",
        "\n",
        "Las listas por comprensión son una forma concisa de crear listas nuevas a partir de una expresión. Se pueden utilizar para realizar operaciones sobre secuencias de forma más rápida y sin necesidad de ciclos explícitos.\n",
        "\n"
      ],
      "metadata": {
        "id": "8q_I9AOBjpH7"
      }
    },
    {
      "cell_type": "code",
      "source": [
        "for x in [1, 2, 3]:\n",
        "  print(x)"
      ],
      "metadata": {
        "colab": {
          "base_uri": "https://localhost:8080/"
        },
        "id": "FLUk0MHvXh4a",
        "outputId": "785b60a3-a7d7-4ed4-eff8-f645300bf9e6"
      },
      "execution_count": null,
      "outputs": [
        {
          "output_type": "stream",
          "name": "stdout",
          "text": [
            "1\n",
            "2\n",
            "3\n"
          ]
        }
      ]
    },
    {
      "cell_type": "code",
      "source": [
        "[x for x in [1, 2, 3]]"
      ],
      "metadata": {
        "colab": {
          "base_uri": "https://localhost:8080/"
        },
        "id": "1CJJOSSgXnQl",
        "outputId": "f3a5a283-44ce-44d4-b7d2-ea4ef1af83ae"
      },
      "execution_count": null,
      "outputs": [
        {
          "output_type": "execute_result",
          "data": {
            "text/plain": [
              "[1, 2, 3]"
            ]
          },
          "metadata": {},
          "execution_count": 64
        }
      ]
    },
    {
      "cell_type": "code",
      "source": [
        "[x for x in range(1, 11)]"
      ],
      "metadata": {
        "colab": {
          "base_uri": "https://localhost:8080/"
        },
        "id": "rrpmcf42Wwa4",
        "outputId": "9f8af519-4f0a-471e-9094-bfc07225e46e"
      },
      "execution_count": null,
      "outputs": [
        {
          "output_type": "execute_result",
          "data": {
            "text/plain": [
              "[1, 2, 3, 4, 5, 6, 7, 8, 9, 10]"
            ]
          },
          "metadata": {},
          "execution_count": 65
        }
      ]
    },
    {
      "cell_type": "code",
      "source": [
        "from math import log\n",
        "\n",
        "[log(x) for x in range(1, 21)]"
      ],
      "metadata": {
        "colab": {
          "base_uri": "https://localhost:8080/"
        },
        "id": "YK7VOEBEYTtW",
        "outputId": "e70d9b57-84a7-4926-848a-7c290f0c1116"
      },
      "execution_count": null,
      "outputs": [
        {
          "output_type": "execute_result",
          "data": {
            "text/plain": [
              "[0.0,\n",
              " 0.6931471805599453,\n",
              " 1.0986122886681098,\n",
              " 1.3862943611198906,\n",
              " 1.6094379124341003,\n",
              " 1.791759469228055,\n",
              " 1.9459101490553132,\n",
              " 2.0794415416798357,\n",
              " 2.1972245773362196,\n",
              " 2.302585092994046,\n",
              " 2.3978952727983707,\n",
              " 2.4849066497880004,\n",
              " 2.5649493574615367,\n",
              " 2.6390573296152584,\n",
              " 2.70805020110221,\n",
              " 2.772588722239781,\n",
              " 2.833213344056216,\n",
              " 2.8903717578961645,\n",
              " 2.9444389791664403,\n",
              " 2.995732273553991]"
            ]
          },
          "metadata": {},
          "execution_count": 70
        }
      ]
    },
    {
      "cell_type": "code",
      "source": [
        "[x*2 for x in range(100, 501) if x%17 == 0]"
      ],
      "metadata": {
        "colab": {
          "base_uri": "https://localhost:8080/"
        },
        "id": "qpWmt8aiY7MB",
        "outputId": "96072e2b-9a2c-42b4-b26a-f688df9a35df"
      },
      "execution_count": null,
      "outputs": [
        {
          "output_type": "execute_result",
          "data": {
            "text/plain": [
              "[204,\n",
              " 238,\n",
              " 272,\n",
              " 306,\n",
              " 340,\n",
              " 374,\n",
              " 408,\n",
              " 442,\n",
              " 476,\n",
              " 510,\n",
              " 544,\n",
              " 578,\n",
              " 612,\n",
              " 646,\n",
              " 680,\n",
              " 714,\n",
              " 748,\n",
              " 782,\n",
              " 816,\n",
              " 850,\n",
              " 884,\n",
              " 918,\n",
              " 952,\n",
              " 986]"
            ]
          },
          "metadata": {},
          "execution_count": 73
        }
      ]
    },
    {
      "cell_type": "code",
      "source": [
        "#4. Crear una lista con los caracteres de la palabra \"python\"\n",
        "\n",
        "#['p', 'y', 't', 'h', 'o', 'n']"
      ],
      "metadata": {
        "id": "60N6iXIlKIix"
      },
      "execution_count": null,
      "outputs": []
    },
    {
      "cell_type": "code",
      "source": [
        "[x for x in 'python']"
      ],
      "metadata": {
        "id": "0t5UL2rdKM9a",
        "outputId": "f403c600-b746-4189-bb2c-550e17ed4b09",
        "colab": {
          "base_uri": "https://localhost:8080/"
        }
      },
      "execution_count": null,
      "outputs": [
        {
          "output_type": "execute_result",
          "data": {
            "text/plain": [
              "['p', 'y', 't', 'h', 'o', 'n']"
            ]
          },
          "metadata": {},
          "execution_count": 19
        }
      ]
    },
    {
      "cell_type": "code",
      "source": [
        "#✅ 5. De una lista de palabras, obtener su longitud\n",
        "\n",
        "palabras = [\"dato\", \"modelo\", \"limpieza\"]\n",
        "\n",
        "[len(x) for x in palabras]\n",
        "\n"
      ],
      "metadata": {
        "id": "EjEPZ73JKYa3",
        "outputId": "02a989fd-dd34-494f-ae53-c9159511d056",
        "colab": {
          "base_uri": "https://localhost:8080/"
        }
      },
      "execution_count": null,
      "outputs": [
        {
          "output_type": "execute_result",
          "data": {
            "text/plain": [
              "[4, 6, 8]"
            ]
          },
          "metadata": {},
          "execution_count": 21
        }
      ]
    },
    {
      "cell_type": "code",
      "source": [
        "#✅ 6. De una lista de números, guardar solo los positivos\n",
        "\n",
        "#Dada: [3, -1, 5, -7, 0, 8]\n",
        "#👉 Resultado: [3, 5, 8]"
      ],
      "metadata": {
        "id": "seMacuY4Klth"
      },
      "execution_count": null,
      "outputs": []
    },
    {
      "cell_type": "code",
      "source": [
        "lista = [3, -1, 5, -7, 0, 8]\n",
        "\n",
        "[x for x in lista if x > 0:]"
      ],
      "metadata": {
        "id": "rLsRVcY1Krqt",
        "outputId": "b0c65270-7ef2-4aa9-a7b2-748a40429174",
        "colab": {
          "base_uri": "https://localhost:8080/"
        }
      },
      "execution_count": null,
      "outputs": [
        {
          "output_type": "execute_result",
          "data": {
            "text/plain": [
              "[3, 5, 8]"
            ]
          },
          "metadata": {},
          "execution_count": 27
        }
      ]
    },
    {
      "cell_type": "code",
      "source": [
        "# Crear una lista de tuplas (número, cuadrado) del 1 al 5\n",
        "\n",
        "# 👉 Resultado: [(1,1), (2,4), (3,9), (4,16), (5,25)]"
      ],
      "metadata": {
        "id": "DyqhjqGtLT1V"
      },
      "execution_count": null,
      "outputs": []
    },
    {
      "cell_type": "code",
      "source": [
        "[(x,x**2) for x in range(1,6)]"
      ],
      "metadata": {
        "id": "wGU6t-Q6LZ3s",
        "outputId": "39862037-616b-4bae-bfba-a949a2fe9504",
        "colab": {
          "base_uri": "https://localhost:8080/"
        }
      },
      "execution_count": null,
      "outputs": [
        {
          "output_type": "execute_result",
          "data": {
            "text/plain": [
              "[(1, 1), (2, 4), (3, 9), (4, 16), (5, 25)]"
            ]
          },
          "metadata": {},
          "execution_count": 32
        }
      ]
    },
    {
      "cell_type": "code",
      "source": [
        "#✅ 9. Invertir cada string de una lista\n",
        "\n",
        "lista = [\"python\", \"data\"]\n",
        "#👉 Resultado: [\"nohtyp\", \"atad\"]\n",
        "\n",
        "[[x[::-1]]for x in lista]"
      ],
      "metadata": {
        "id": "Lo52G6fGLyMD",
        "outputId": "181b1dda-fad7-47eb-e5b6-584d313d34f6",
        "colab": {
          "base_uri": "https://localhost:8080/"
        }
      },
      "execution_count": null,
      "outputs": [
        {
          "output_type": "execute_result",
          "data": {
            "text/plain": [
              "[['nohtyp'], ['atad']]"
            ]
          },
          "metadata": {},
          "execution_count": 50
        }
      ]
    },
    {
      "cell_type": "code",
      "source": [
        "#✅ 10. Aplanar una lista de listas\n",
        "\n",
        "lista = [[1, 2], [3, 4], [5]]\n",
        "#👉 Resultado: [1, 2, 3, 4, 5]"
      ],
      "metadata": {
        "id": "dcsJhvr4NH_f"
      },
      "execution_count": null,
      "outputs": []
    },
    {
      "cell_type": "code",
      "source": [
        "[x for sublista in lista for x in sublista]"
      ],
      "metadata": {
        "id": "TqOwQW82NKk9",
        "outputId": "0a3830dc-1f8e-4a26-bb30-a22084968116",
        "colab": {
          "base_uri": "https://localhost:8080/"
        }
      },
      "execution_count": null,
      "outputs": [
        {
          "output_type": "execute_result",
          "data": {
            "text/plain": [
              "[1, 2, 3, 4, 5]"
            ]
          },
          "metadata": {},
          "execution_count": 91
        }
      ]
    },
    {
      "cell_type": "code",
      "source": [
        "features_pas = ['ahorros_prom12', 'abonos_prom12', 'cargos_prom12', 'trxn_prom12']\n",
        "features_rcc = ['deuda_prom12', 'entidades_prom12', 'atraso_prom12']\n",
        "\n",
        "my_list1 = ['pas_'  + x.upper() for x in features_pas]\n",
        "my_list2 =  ['rcc_' + x.upper() for x in features_pas]\n",
        "\n",
        "my_list1 + my_list2"
      ],
      "metadata": {
        "colab": {
          "base_uri": "https://localhost:8080/"
        },
        "id": "W3J7UX4HZiho",
        "outputId": "2f602cdc-2fff-4f7a-ed2e-e57ca9495397"
      },
      "execution_count": null,
      "outputs": [
        {
          "output_type": "execute_result",
          "data": {
            "text/plain": [
              "['pas_AHORROS_PROM12',\n",
              " 'pas_ABONOS_PROM12',\n",
              " 'pas_CARGOS_PROM12',\n",
              " 'pas_TRXN_PROM12',\n",
              " 'rcc_AHORROS_PROM12',\n",
              " 'rcc_ABONOS_PROM12',\n",
              " 'rcc_CARGOS_PROM12',\n",
              " 'rcc_TRXN_PROM12']"
            ]
          },
          "metadata": {},
          "execution_count": 78
        }
      ]
    },
    {
      "cell_type": "markdown",
      "source": [
        "🟢 Nivel 1 – Ejercicio básico:\n",
        "\n",
        "Crea una lista con los primeros 10 números pares (empezando desde 2) usando una lista por comprensión.\n",
        "\n",
        "🔹 No te doy la solución completa, intenta hacerlo tú. Si no sale, te ayudo.\n",
        "🔹 Cuando termines, mándame tu código aquí y lo reviso."
      ],
      "metadata": {
        "id": "IoxeQEjVRsua"
      }
    },
    {
      "cell_type": "code",
      "source": [
        "[x for x in range(2,10,2)]"
      ],
      "metadata": {
        "id": "8RR7IcEIRrsB",
        "outputId": "7d3b8ba8-6f4a-495f-e230-118d0171bfaf",
        "colab": {
          "base_uri": "https://localhost:8080/"
        }
      },
      "execution_count": null,
      "outputs": [
        {
          "output_type": "execute_result",
          "data": {
            "text/plain": [
              "[2, 4, 6, 8]"
            ]
          },
          "metadata": {},
          "execution_count": 1
        }
      ]
    },
    {
      "cell_type": "markdown",
      "source": [
        "✅ Ejercicio 2: Normalizar datos\n",
        "\n",
        "Tienes esta lista de valores:\n",
        "\n",
        "valores = [100, 250, 500, 750, 1000]\n",
        "\n",
        "\n",
        "🎯 Crea una nueva lista donde cada valor esté entre 0 y 1,\n",
        "dividiendo cada número por 1000."
      ],
      "metadata": {
        "id": "0shaRiXWSDIV"
      }
    },
    {
      "cell_type": "code",
      "source": [
        "lista = [100,250,500,750,1000]\n",
        "\n",
        "[x/1000 for x in lista]"
      ],
      "metadata": {
        "id": "-BDOuCMzSCX7",
        "outputId": "788a47fc-4f1f-4fbd-c84c-df70bc92a7cd",
        "colab": {
          "base_uri": "https://localhost:8080/"
        }
      },
      "execution_count": null,
      "outputs": [
        {
          "output_type": "execute_result",
          "data": {
            "text/plain": [
              "[0.1, 0.25, 0.5, 0.75, 1.0]"
            ]
          },
          "metadata": {},
          "execution_count": 2
        }
      ]
    },
    {
      "cell_type": "markdown",
      "source": [
        "✅ Ejercicio 3: Redondear temperaturas\n",
        "\n",
        "Tienes esta lista:\n",
        "\n",
        "temperaturas = [22.345, 19.876, 30.567, 25.432]\n",
        "\n",
        "\n",
        "🎯 Crea una nueva lista redondeando cada temperatura a 1 decimal\n",
        "(con lista por comprensión)."
      ],
      "metadata": {
        "id": "vQJw8HqtSPO-"
      }
    },
    {
      "cell_type": "code",
      "source": [
        "temperaturas = [22.345, 19.876, 30.567, 25.432]\n",
        "\n",
        "[round(x,1) for x in temperaturas]\n"
      ],
      "metadata": {
        "id": "WgVZ0VyJSQkl",
        "outputId": "4cb00f46-7f8d-4258-ab4e-6e1f98d2ed1d",
        "colab": {
          "base_uri": "https://localhost:8080/"
        }
      },
      "execution_count": null,
      "outputs": [
        {
          "output_type": "execute_result",
          "data": {
            "text/plain": [
              "[22.3, 19.9, 30.6, 25.4]"
            ]
          },
          "metadata": {},
          "execution_count": 4
        }
      ]
    },
    {
      "cell_type": "markdown",
      "source": [
        "✅ Ejercicio 4: Extraer dominios de emails\n",
        "\n",
        "Tienes esta lista:\n",
        "\n",
        "emails = [\"ana@gmail.com\", \"luis@yahoo.com\", \"carla@outlook.com\"]\n",
        "\n",
        "\n",
        "🎯 Crea una nueva lista que contenga solo los dominios,\n",
        "por ejemplo: [\"gmail.com\", \"yahoo.com\", \"outlook.com\"]\n",
        "\n",
        "Pista: usa .split('@') dentro de la lista por comprensión."
      ],
      "metadata": {
        "id": "d4N0UX0lSjUA"
      }
    },
    {
      "cell_type": "code",
      "source": [
        "emails = [\"ana@gmail.com\", \"luis@yahoo.com\", \"carla@outlook.com\"]\n",
        "\n",
        "[x.split('@')[1] for x in emails]"
      ],
      "metadata": {
        "id": "qkvDtNnPSi3X",
        "outputId": "ff9815b0-1b05-4739-ce04-73cfa3946873",
        "colab": {
          "base_uri": "https://localhost:8080/"
        }
      },
      "execution_count": null,
      "outputs": [
        {
          "output_type": "execute_result",
          "data": {
            "text/plain": [
              "['gmail.com', 'yahoo.com', 'outlook.com']"
            ]
          },
          "metadata": {},
          "execution_count": 7
        }
      ]
    },
    {
      "cell_type": "markdown",
      "source": [
        "✅ Ejercicio 5: Contar caracteres por palabra\n",
        "\n",
        "Tienes esta lista:\n",
        "\n",
        "palabras = [\"modelo\", \"entrenamiento\", \"dato\", \"predicción\"]\n",
        "\n",
        "\n",
        "🎯 Crea una lista con la cantidad de letras que tiene cada palabra.\n",
        "\n",
        "Resultado esperado: [6, 13, 4, 10]"
      ],
      "metadata": {
        "id": "C6p33drjTUe9"
      }
    },
    {
      "cell_type": "code",
      "source": [
        "palabras = [\"modelo\", \"entrenamiento\", \"dato\", \"predicción\"]\n",
        "\n",
        "[len(x) for x in palabras]"
      ],
      "metadata": {
        "id": "bnououFxTUCl",
        "outputId": "c951a832-80fc-4ff9-ce40-96ee496100ca",
        "colab": {
          "base_uri": "https://localhost:8080/"
        }
      },
      "execution_count": null,
      "outputs": [
        {
          "output_type": "execute_result",
          "data": {
            "text/plain": [
              "[6, 13, 4, 10]"
            ]
          },
          "metadata": {},
          "execution_count": 12
        }
      ]
    },
    {
      "cell_type": "markdown",
      "source": [
        "Tienes esta lista:\n",
        "\n",
        "frases = [\"modelo entrenado\", \"datos limpios\", \"predicción final\"]\n",
        "\n",
        "\n",
        "🎯 Transforma todas las frases a mayúsculas\n",
        "y luego únelas en una sola cadena de texto separadas por espacio.\n",
        "\n",
        "Ejemplo resultado: \"MODELO ENTRENADO DATOS LIMPIOS PREDICCIÓN FINAL\"\n",
        "\n",
        "👉 Pista:\n",
        "Primero transforma con lista por comprensión y .upper()\n",
        "Luego une todo con ' '.join(...)\n",
        "\n",
        "👉 Tu acción:\n",
        "Hazlo en 2 pasos o 1 línea, como prefieras.\n",
        "Muestra tu código."
      ],
      "metadata": {
        "id": "OT873kpOUOG1"
      }
    },
    {
      "cell_type": "code",
      "source": [
        "frases = [\"modelo entrenado\", \"datos limpios\", \"predicción final\"]\n",
        "\n",
        "' '.join([x.upper() for x in frases])\n",
        "\n",
        "\n",
        "\n"
      ],
      "metadata": {
        "id": "Xrb-D5AXUQDT",
        "outputId": "2a4216c3-0ad5-4254-d178-d05ad0e55048",
        "colab": {
          "base_uri": "https://localhost:8080/",
          "height": 36
        }
      },
      "execution_count": null,
      "outputs": [
        {
          "output_type": "execute_result",
          "data": {
            "text/plain": [
              "'MODELO ENTRENADO DATOS LIMPIOS PREDICCIÓN FINAL'"
            ],
            "application/vnd.google.colaboratory.intrinsic+json": {
              "type": "string"
            }
          },
          "metadata": {},
          "execution_count": 32
        }
      ]
    },
    {
      "cell_type": "markdown",
      "source": [
        "✅ Ejercicio 7: Eliminar valores nulos\n",
        "\n",
        "Tienes esta lista de datos con valores faltantes:\n",
        "\n",
        "datos = [10, None, 25, None, 40, 50, None]\n",
        "\n",
        "\n",
        "🎯 Crea una nueva lista sin los valores None\n",
        "Usa lista por comprensión con una condición."
      ],
      "metadata": {
        "id": "JASpxT6aVVFs"
      }
    },
    {
      "cell_type": "code",
      "source": [
        "datos = [10, None, 25, None, 40, 50, None]\n",
        "\n",
        "datos_limpios = [x for x in datos if x is not None]\n",
        "\n",
        "datos_limpios"
      ],
      "metadata": {
        "id": "fuWosE5nSzRx",
        "outputId": "5fdb5fae-38a9-45ea-d3a1-180b6da98f25",
        "colab": {
          "base_uri": "https://localhost:8080/"
        }
      },
      "execution_count": null,
      "outputs": [
        {
          "output_type": "execute_result",
          "data": {
            "text/plain": [
              "[10, 25, 40, 50]"
            ]
          },
          "metadata": {},
          "execution_count": 36
        }
      ]
    },
    {
      "cell_type": "markdown",
      "source": [
        "✅ Ejercicio 9: Extraer el año de fechas\n",
        "\n",
        "Tienes esta lista con fechas:\n",
        "\n",
        "fechas = [\"2023-07-10\", \"2024-01-01\", \"2022-12-31\"]\n",
        "\n",
        "\n",
        "🎯 Crea una lista con solo el año de cada fecha.\n",
        "Ejemplo de resultado: [\"2023\", \"2024\", \"2022\"]\n",
        "\n",
        "🧠 Puedes usar split('-') para separar la fecha en partes."
      ],
      "metadata": {
        "id": "XNXpIX1cV6d5"
      }
    },
    {
      "cell_type": "code",
      "source": [
        "fechas = [\"2023-07-10\", \"2024-01-01\", \"2022-12-31\"]\n",
        "\n",
        "año = [ x.split(\"-\")[0] for x in fechas]\n",
        "\n",
        "año"
      ],
      "metadata": {
        "id": "rayy-1TCV5vc",
        "outputId": "5343a625-53b3-433d-e04f-47cf5f3f4113",
        "colab": {
          "base_uri": "https://localhost:8080/"
        }
      },
      "execution_count": 1,
      "outputs": [
        {
          "output_type": "execute_result",
          "data": {
            "text/plain": [
              "['2023', '2024', '2022']"
            ]
          },
          "metadata": {},
          "execution_count": 1
        }
      ]
    },
    {
      "cell_type": "markdown",
      "source": [
        "✅ Ejercicio real: Filtrar fechas futuras\n",
        "\n",
        "Tienes esta lista de strings con fechas:\n",
        "\n",
        "fechas = [\"2024-01-01\", \"2025-09-01\", \"2023-12-31\", \"2025-08-28\"]\n",
        "\n",
        "\n",
        "🎯 Crea una lista con solo las fechas que son mayores a hoy\n",
        "(es decir, fechas futuras).\n",
        "\n",
        "💡 Pista:\n",
        "\n",
        "Convierte cada string a objeto date con datetime.strptime(...).date()\n",
        "\n",
        "Compara con date.today() (hay que importar date también)\n",
        "\n",
        "👉 Tu acción:\n",
        "\n",
        "Importa lo necesario de datetime\n",
        "\n",
        "Convierte las fechas\n",
        "\n",
        "Filtra solo las que son posteriores a hoy\n",
        "\n",
        "Hazlo con lista por comprensión y muéstrame tu código 💪"
      ],
      "metadata": {
        "id": "ZNOvQbqZWVJ0"
      }
    },
    {
      "cell_type": "code",
      "source": [
        "fechas = [\"2024-01-01\", \"2025-09-03\", \"2023-12-31\", \"2025-08-28\"]\n",
        "\n"
      ],
      "metadata": {
        "id": "3Cyabys7WUqC"
      },
      "execution_count": null,
      "outputs": []
    },
    {
      "cell_type": "code",
      "source": [
        "from datetime import datetime\n",
        "from datetime import date\n"
      ],
      "metadata": {
        "id": "5AbxNBJuWcCD"
      },
      "execution_count": null,
      "outputs": []
    },
    {
      "cell_type": "code",
      "source": [
        "[datetime.strptime(x,\"%Y-%m-%d\").date() for x in fechas if datetime.strptime(x, \"%Y-%m-%d\").date() > date.today()]"
      ],
      "metadata": {
        "id": "zNgCbwqFWfL7",
        "outputId": "5b144146-f85e-4e1e-e331-8b98425dd8b8",
        "colab": {
          "base_uri": "https://localhost:8080/"
        }
      },
      "execution_count": null,
      "outputs": [
        {
          "output_type": "execute_result",
          "data": {
            "text/plain": [
              "[datetime.date(2025, 9, 3)]"
            ]
          },
          "metadata": {},
          "execution_count": 56
        }
      ]
    },
    {
      "cell_type": "markdown",
      "source": [
        "✅ Próximo reto (más avanzado): limpiar y convertir columnas\n",
        "\n",
        "Supón que tienes esta lista de datos como strings de una \"columna\":\n",
        "\n",
        "precios = [\"$100.50\", \"$250.00\", \"sin dato\", \"$320.75\", None]\n",
        "\n",
        "\n",
        "🎯 Crea una lista donde:\n",
        "\n",
        "Si el valor es un string como \"$100.50\", quita el símbolo $ y conviértelo a float\n",
        "\n",
        "Si es \"sin dato\" o None, conviértelo en None\n",
        "\n",
        "👉 Pista:\n",
        "\n",
        "Usa .replace(\"$\", \"\")\n",
        "\n",
        "Usa try...except o una función auxiliar\n",
        "\n",
        "👉 Tu acción:\n",
        "\n",
        "Escribe una función llamada limpiar_precio(x) que haga eso\n",
        "\n",
        "Úsala en una lista por comprensión\n",
        "\n",
        "Muestra tu código aquí."
      ],
      "metadata": {
        "id": "mmNkrlcCXsyO"
      }
    },
    {
      "cell_type": "code",
      "source": [
        "precios = [\"100.50\",\"250.00\", \"sin dato\", \"$320.75\", None]\n",
        "\n",
        "numeros = [float(x.replace(\"$\",\"\")) for x in precios if x is not None and x != \"sin dato\"]\n",
        "\n",
        "precios_ = [None for x in precios if x==\"sin dato\" or x is None]\n",
        "\n",
        "precios_\n",
        "\n",
        "precios_+numeros\n",
        "\n",
        "precios_ = [\n",
        "    float(x.replace(\"$\", \"\")) if isinstance(x, str) and x != \"sin dato\" else None\n",
        "    for x in precios\n",
        "]"
      ],
      "metadata": {
        "id": "wVGDNrrmXsTc",
        "outputId": "69b041cb-d956-40a6-b93e-984d589340a7",
        "colab": {
          "base_uri": "https://localhost:8080/"
        }
      },
      "execution_count": null,
      "outputs": [
        {
          "output_type": "execute_result",
          "data": {
            "text/plain": [
              "[None, None, 100.5, 250.0, 320.75]"
            ]
          },
          "metadata": {},
          "execution_count": 94
        }
      ]
    },
    {
      "cell_type": "code",
      "source": [
        "temps = [22.5, 18.0, 30.2, 25.0]\n",
        "[str(x)+ \"°\" for x in temps]\n",
        "\n"
      ],
      "metadata": {
        "id": "Tb_A_nyNe2ew",
        "outputId": "3a8b3195-9b9c-4f4a-cbb5-dddf9454e06e",
        "colab": {
          "base_uri": "https://localhost:8080/"
        }
      },
      "execution_count": null,
      "outputs": [
        {
          "output_type": "execute_result",
          "data": {
            "text/plain": [
              "['22.5°', '18.0°', '30.2°', '25.0°']"
            ]
          },
          "metadata": {},
          "execution_count": 103
        }
      ]
    },
    {
      "cell_type": "code",
      "source": [
        "my_list_3 =[\"a\",\"b\",\"c\"]\n",
        "\n",
        "my_list_4 =[\"c\",\"e\",\"f\"]\n",
        "\n",
        "['3_' + x.upper() for x in my_list_3]\n",
        "['4_' + x.upper() for x in my_list_4]\n",
        "\n",
        "set(my_list_3+my_list_4)\n",
        "\n",
        "\n"
      ],
      "metadata": {
        "id": "ERFrT4UMhZSu",
        "outputId": "f5515750-3411-4e02-f43d-9cf08f1c0d0e",
        "colab": {
          "base_uri": "https://localhost:8080/"
        }
      },
      "execution_count": 2,
      "outputs": [
        {
          "output_type": "execute_result",
          "data": {
            "text/plain": [
              "{'a', 'b', 'c', 'e', 'f'}"
            ]
          },
          "metadata": {},
          "execution_count": 2
        }
      ]
    },
    {
      "cell_type": "markdown",
      "source": [
        "✅ Ejercicio 1 (repetimos para retomar):\n",
        "numeros = [10, 20, 30, 40, 50, 60, 70]\n",
        "\n",
        "\n",
        "🎯 Crea una nueva lista con los primeros 3 elementos."
      ],
      "metadata": {
        "id": "-x2hfie8i784"
      }
    },
    {
      "cell_type": "code",
      "source": [
        " numeros = [10, 20, 30, 40, 50, 60, 70]\n",
        "\n",
        " numeros[0:3]"
      ],
      "metadata": {
        "id": "5vQfUhE5jTLn",
        "outputId": "d6b695b2-d7f4-477b-92ae-4422bf2f1744",
        "colab": {
          "base_uri": "https://localhost:8080/"
        }
      },
      "execution_count": 3,
      "outputs": [
        {
          "output_type": "execute_result",
          "data": {
            "text/plain": [
              "[10, 20, 30]"
            ]
          },
          "metadata": {},
          "execution_count": 3
        }
      ]
    },
    {
      "cell_type": "code",
      "source": [
        "#🎯 Obtené los últimos 2 elementos usando slicing.\n",
        "\n",
        "numeros[-2:]\n",
        "\n",
        "\n"
      ],
      "metadata": {
        "id": "i3uF8jCIjeHx",
        "outputId": "6e710301-4990-4720-b075-d95dd976cc0f",
        "colab": {
          "base_uri": "https://localhost:8080/"
        }
      },
      "execution_count": null,
      "outputs": [
        {
          "output_type": "execute_result",
          "data": {
            "text/plain": [
              "[60, 70]"
            ]
          },
          "metadata": {},
          "execution_count": 118
        }
      ]
    },
    {
      "cell_type": "code",
      "source": [
        "#🎯 Obtené los elementos del medio, sin incluir ni los 2 primeros ni los 2 últimos. Resultado esperado: [30, 40, 50]\n",
        "numeros[2:5]"
      ],
      "metadata": {
        "id": "jPSu6ZPtjo4z",
        "outputId": "440ea370-5a1f-44c2-c12b-f969f9e5ff20",
        "colab": {
          "base_uri": "https://localhost:8080/"
        }
      },
      "execution_count": null,
      "outputs": [
        {
          "output_type": "execute_result",
          "data": {
            "text/plain": [
              "[30, 40, 50]"
            ]
          },
          "metadata": {},
          "execution_count": 123
        }
      ]
    },
    {
      "cell_type": "markdown",
      "source": [
        "✅ Ejercicio 4:\n",
        "numeros = [10, 20, 30, 40, 50, 60, 70]\n",
        "\n",
        "\n",
        "🎯 Obtené todos los elementos en posiciones pares, usando slicing y paso (step).\n",
        "\n",
        "📌 Posiciones pares = índice 0, 2, 4, 6\n",
        "Resultado esperado: [10, 30, 50, 70]\n",
        "\n",
        "👉 Tu acción:\n",
        "Usá el tercer parámetro del slicing (inicio:fin:paso) para lograrlo.\n",
        "Mostrame tu línea."
      ],
      "metadata": {
        "id": "07D8ad_5kB8W"
      }
    },
    {
      "cell_type": "code",
      "source": [
        "numeros = [10, 20, 30, 40, 50, 60, 70]\n"
      ],
      "metadata": {
        "id": "Ql7jxXACkBhd"
      },
      "execution_count": null,
      "outputs": []
    },
    {
      "cell_type": "code",
      "source": [
        "numeros[0:7:2]"
      ],
      "metadata": {
        "id": "eZ3uCUyjkIR2",
        "outputId": "69f620d8-20db-4126-f39f-813ac885bf76",
        "colab": {
          "base_uri": "https://localhost:8080/"
        }
      },
      "execution_count": null,
      "outputs": [
        {
          "output_type": "execute_result",
          "data": {
            "text/plain": [
              "[10, 30, 50, 70]"
            ]
          },
          "metadata": {},
          "execution_count": 134
        }
      ]
    },
    {
      "cell_type": "code",
      "source": [
        "numeros[::-1]"
      ],
      "metadata": {
        "id": "RGrht6uVk3fT",
        "outputId": "cb87f7bd-89dc-4119-ebb6-83ced7e79f8b",
        "colab": {
          "base_uri": "https://localhost:8080/"
        }
      },
      "execution_count": null,
      "outputs": [
        {
          "output_type": "execute_result",
          "data": {
            "text/plain": [
              "[70, 60, 50, 40, 30, 20, 10]"
            ]
          },
          "metadata": {},
          "execution_count": 143
        }
      ]
    },
    {
      "cell_type": "markdown",
      "source": [
        "✅ Ejercicio 6 (más desafiante):\n",
        "numeros = [10, 20, 30, 40, 50, 60, 70]\n",
        "\n",
        "\n",
        "🎯 Usando slicing, obtené los 3 últimos elementos, pero en orden invertido\n",
        "Resultado esperado: [70, 60, 50]\n",
        "\n",
        "👉 Tu acción:\n",
        "Combiná slicing con paso negativo para sacar los últimos 3 en orden inverso.\n",
        "Mostrame tu línea."
      ],
      "metadata": {
        "id": "T6VPRiShlRSf"
      }
    },
    {
      "cell_type": "code",
      "source": [
        "numeros = [10, 20, 30, 40, 50, 60, 70]\n",
        "\n",
        "numeros[-3::][::-1]"
      ],
      "metadata": {
        "id": "nSWWO2WqlQ4m",
        "outputId": "258532a1-1e9c-4cd4-e5ab-2d493e8c786c",
        "colab": {
          "base_uri": "https://localhost:8080/"
        }
      },
      "execution_count": null,
      "outputs": [
        {
          "output_type": "execute_result",
          "data": {
            "text/plain": [
              "[70, 60, 50]"
            ]
          },
          "metadata": {},
          "execution_count": 150
        }
      ]
    },
    {
      "cell_type": "markdown",
      "source": [
        "✅ Ejercicio 7 (más difícil):\n",
        "numeros = [10, 20, 30, 40, 50, 60, 70, 80, 90]\n",
        "\n",
        "\n",
        "🎯 Obtené una lista con todos los números en índices impares,\n",
        "pero en orden inverso\n",
        "Resultado esperado: [90, 70, 50, 30, 10]\n",
        "\n",
        "👉 Tu acción:\n",
        "Usá slicing con paso negativo para sacar los valores en índices impares invertidos.\n",
        "Mostrame tu línea.\n",
        "\n",
        "Índices impares: 1, 3, 5, 7 → valores: [20, 40, 60, 80]\n",
        "Y querés eso en orden inverso → [80, 60, 40, 20]"
      ],
      "metadata": {
        "id": "t2ku0cpklkXp"
      }
    },
    {
      "cell_type": "code",
      "source": [
        "numeros = [10, 20, 30, 40, 50, 60, 70, 80, 90]\n",
        "\n",
        "numeros[1::2][::-1]\n",
        "\n",
        "\n",
        "numeros[::2]"
      ],
      "metadata": {
        "id": "EsrbFMgWljh_",
        "outputId": "7583cfbc-3992-4195-e938-d778f4dae4d3",
        "colab": {
          "base_uri": "https://localhost:8080/"
        }
      },
      "execution_count": null,
      "outputs": [
        {
          "output_type": "execute_result",
          "data": {
            "text/plain": [
              "[10, 30, 50, 70, 90]"
            ]
          },
          "metadata": {},
          "execution_count": 166
        }
      ]
    },
    {
      "cell_type": "markdown",
      "source": [
        "✅ Ejercicio 2: enumerate() con tuplas\n",
        "columnas = [\"edad\", \"altura\", \"peso\"]\n",
        "\n",
        "\n",
        "🎯 Querés numerar las columnas como:\n",
        "[(0, \"edad\"), (1, \"altura\"), (2, \"peso\")]\n",
        "\n",
        "👉 Tu acción:\n",
        "Usá enumerate() y convertí el resultado a lista.\n",
        "Mostrame tu código.\n",
        "\n",
        "Luego seguimos con el 3."
      ],
      "metadata": {
        "id": "VYF88M87rAFp"
      }
    },
    {
      "cell_type": "code",
      "source": [
        "columnas = [\"edad\", \"altura\", \"peso\"]\n",
        "\n",
        "list(enumerate(columnas))"
      ],
      "metadata": {
        "id": "YoePkgSfqiMW",
        "outputId": "85c1b3a0-1af4-4660-91d3-351930cdd8a1",
        "colab": {
          "base_uri": "https://localhost:8080/"
        }
      },
      "execution_count": null,
      "outputs": [
        {
          "output_type": "execute_result",
          "data": {
            "text/plain": [
              "[(0, 'edad'), (1, 'altura'), (2, 'peso')]"
            ]
          },
          "metadata": {},
          "execution_count": 178
        }
      ]
    },
    {
      "cell_type": "markdown",
      "source": [
        "✅ Ejercicio 3: claves compuestas con tuplas\n",
        "\n",
        "Supongamos que estás agrupando datos por género y país:\n",
        "\n",
        "datos = [\n",
        "    (\"Hombre\", \"Chile\", 5),\n",
        "    (\"Mujer\", \"Chile\", 8),\n",
        "    (\"Hombre\", \"Argentina\", 7),\n",
        "    (\"Mujer\", \"Chile\", 4),\n",
        "]\n",
        "\n",
        "\n",
        "🎯 Usá un diccionario para contar la suma de valores por (género, país)\n",
        "\n",
        "👉 Resultado esperado (clave = tupla):\n",
        "\n",
        "{\n",
        "    (\"Hombre\", \"Chile\"): 5,\n",
        "    (\"Mujer\", \"Chile\"): 12,\n",
        "    (\"Hombre\", \"Argentina\"): 7\n",
        "}\n",
        "\n",
        "\n",
        "👉 Tu acción:\n",
        "\n",
        "Usá un for para recorrer datos\n",
        "\n",
        "Usá la tupla (genero, pais) como clave\n",
        "\n",
        "Sumá los valores en un diccionario\n",
        "\n",
        "Probalo y mostrame tu código."
      ],
      "metadata": {
        "id": "OJh7hqd7rX0r"
      }
    },
    {
      "cell_type": "code",
      "source": [
        "datos = [ (\"Hombre\", \"Chile\", 5), (\"Mujer\", \"Chile\", 8), (\"Hombre\", \"Argentina\", 7), (\"Mujer\", \"Chile\", 4), ]\n",
        "\n",
        "conteo = {}\n",
        "\n",
        "for genero, pais, valor in datos:\n",
        "    clave = (genero, pais)\n",
        "    if clave in conteo:\n",
        "        conteo[clave] += valor\n",
        "    else:\n",
        "        conteo[clave] = valor\n",
        "conteo"
      ],
      "metadata": {
        "id": "9JuZnqrrrXLZ",
        "outputId": "26917fd7-ef7a-48c4-9a66-28c5092b90c1",
        "colab": {
          "base_uri": "https://localhost:8080/"
        }
      },
      "execution_count": null,
      "outputs": [
        {
          "output_type": "execute_result",
          "data": {
            "text/plain": [
              "{('Hombre', 'Chile'): 5, ('Mujer', 'Chile'): 12, ('Hombre', 'Argentina'): 7}"
            ]
          },
          "metadata": {},
          "execution_count": 181
        }
      ]
    },
    {
      "cell_type": "markdown",
      "source": [
        "✅ Ejercicio 1: zip() para combinar listas\n",
        "nombres = [\"Ana\", \"Luis\", \"Carlos\"]\n",
        "edades = [25, 30, 28]\n",
        "\n",
        "\n",
        "🎯 Combiná ambas listas en una lista de tuplas:\n",
        "Resultado esperado: [(\"Ana\", 25), (\"Luis\", 30), (\"Carlos\", 28)]"
      ],
      "metadata": {
        "id": "H9-fpHXdqimc"
      }
    },
    {
      "cell_type": "code",
      "source": [
        " nombres = [\"Ana\", \"Luis\", \"Carlos\"]\n",
        " edades = [25, 30, 28]\n",
        "\n",
        " hola = list(zip(nombres,edades))\n",
        " hola"
      ],
      "metadata": {
        "id": "LSeNRUOAlHDt",
        "outputId": "8ed1d96a-d2ec-4daf-c687-a9d109e268b0",
        "colab": {
          "base_uri": "https://localhost:8080/"
        }
      },
      "execution_count": null,
      "outputs": [
        {
          "output_type": "execute_result",
          "data": {
            "text/plain": [
              "[('Ana', 25), ('Luis', 30), ('Carlos', 28)]"
            ]
          },
          "metadata": {},
          "execution_count": 172
        }
      ]
    },
    {
      "cell_type": "markdown",
      "source": [
        "### Ejemplo 2.1: Generación de listas por comprensión\n"
      ],
      "metadata": {
        "id": "o3SzxNcajzk4"
      }
    },
    {
      "cell_type": "code",
      "source": [
        "# Crear una lista de cuadrados de los números del 1 al 10\n",
        "cuadrados = [x**2 for x in range(1, 11)]\n",
        "print(cuadrados)\n",
        "\n"
      ],
      "metadata": {
        "id": "Uu2JI0Ycj7DM"
      },
      "execution_count": null,
      "outputs": []
    },
    {
      "cell_type": "code",
      "source": [
        "# Crear una lista de números pares entre 1 y 20\n",
        "pares = [x for x in range(1, 21) if x % 2 == 0]\n",
        "print(pares)\n"
      ],
      "metadata": {
        "id": "j8UcjDF7j9JX"
      },
      "execution_count": null,
      "outputs": []
    },
    {
      "cell_type": "code",
      "source": [],
      "metadata": {
        "id": "I9jCroxPkHwd"
      },
      "execution_count": null,
      "outputs": []
    },
    {
      "cell_type": "markdown",
      "source": [
        "### Ejemplo 2.2: Listas por comprensión con manipulación de cadenas\n",
        "\n"
      ],
      "metadata": {
        "id": "v9o0-F4FkBRa"
      }
    },
    {
      "cell_type": "code",
      "source": [
        "# Crear una lista con las primeras letras en mayúsculas de una lista de nombres\n",
        "\n",
        "nombres = [\"juan\", \"pedro\", \"ana\", \"maria\"]\n",
        "nombres_mayuscula = [nombre.capitalize() for nombre in nombres]\n",
        "print(nombres_mayuscula)\n"
      ],
      "metadata": {
        "id": "V3ZGMDOKkY29",
        "outputId": "65375a15-24d5-40e0-fd85-b76fbf3ca7cc",
        "colab": {
          "base_uri": "https://localhost:8080/"
        }
      },
      "execution_count": 4,
      "outputs": [
        {
          "output_type": "stream",
          "name": "stdout",
          "text": [
            "['Juan', 'Pedro', 'Ana', 'Maria']\n"
          ]
        }
      ]
    },
    {
      "cell_type": "markdown",
      "source": [
        "### Ejercicio 2: Creación avanzada con listas por comprensión\n",
        "\n",
        "- Crea una lista de los números impares entre 1 y 50.\n",
        "- Genera una lista con los cubos de los primeros 10 números (1 al 10).\n",
        "- Dada una lista de palabras, crea una nueva lista que contenga las palabras con más de 4 letras en mayúsculas.\n"
      ],
      "metadata": {
        "id": "ONAVddiUkk0I"
      }
    },
    {
      "cell_type": "code",
      "source": [
        "# 1. Crea una lista de los números impares entre 1 y 50.\n",
        "\n",
        "lista_impares = [x for x in range(1,51) if x%2 != 0]\n",
        "print(lista_impares)\n"
      ],
      "metadata": {
        "id": "jfyhX8FmksPF",
        "colab": {
          "base_uri": "https://localhost:8080/"
        },
        "outputId": "7690486c-d010-4f66-cb8a-e3f078203b8c"
      },
      "execution_count": 5,
      "outputs": [
        {
          "output_type": "stream",
          "name": "stdout",
          "text": [
            "[1, 3, 5, 7, 9, 11, 13, 15, 17, 19, 21, 23, 25, 27, 29, 31, 33, 35, 37, 39, 41, 43, 45, 47, 49]\n"
          ]
        }
      ]
    },
    {
      "cell_type": "code",
      "source": [
        "# 2. Genera una lista con los cubos de los primeros 10 números (1 al 10).\n",
        "\n",
        "[x**3 for x in range(1, 11)]"
      ],
      "metadata": {
        "id": "rfqsAd-Zd941",
        "outputId": "2fdbe516-b3c4-4853-e92b-0e77ddd67e86",
        "colab": {
          "base_uri": "https://localhost:8080/"
        }
      },
      "execution_count": null,
      "outputs": [
        {
          "output_type": "execute_result",
          "data": {
            "text/plain": [
              "[1, 8, 27, 64, 125, 216, 343, 512, 729, 1000]"
            ]
          },
          "metadata": {},
          "execution_count": 81
        }
      ]
    },
    {
      "cell_type": "code",
      "source": [
        "# 3. Dada una lista de palabras, crea una nueva lista que contenga las palabras con más de 4 letras en mayúsculas\n",
        "\n",
        "word_list = []\n",
        "\n",
        "while True:\n",
        "  word = input(\"Ingrese una palabra (escriba exit para salir): \")\n",
        "  if word == \"exit\":\n",
        "    break\n",
        "  else:\n",
        "    word_list.append(word)\n",
        "    print(\"lista actualizada\", word_list)\n",
        "\n",
        "word_mayusculaa = [word.upper() for word in word_list if len(word) > 4]\n",
        "print(word_mayusculaa)"
      ],
      "metadata": {
        "id": "CHMhZlg7e0Vi"
      },
      "execution_count": null,
      "outputs": []
    },
    {
      "cell_type": "code",
      "source": [],
      "metadata": {
        "id": "yewoualfctGA"
      },
      "execution_count": null,
      "outputs": []
    },
    {
      "cell_type": "markdown",
      "source": [
        "Dada una lista de palabras, crea una nueva lista que contenga las palabras con más de 4 letras en **mayúsculas**"
      ],
      "metadata": {
        "id": "ruDgmVSectsJ"
      }
    },
    {
      "cell_type": "code",
      "source": [
        "palabras = []\n",
        "\n",
        "while True:\n",
        "  palabra = input('ingrese palabras: ')\n",
        "  if palabra == 'exit':\n",
        "    break\n",
        "  else:\n",
        "    palabras.append(palabra)\n",
        "    print(palabra)\n",
        "\n",
        "\n",
        "palabras_mayusc = [palabra.upper() for palabra in palabras if len(palabra)> 4]\n",
        "print(palabras_mayusc)\n"
      ],
      "metadata": {
        "id": "_eIvcM_4cuUQ",
        "outputId": "91c937d6-3e0c-4d55-9bf1-54f3fe16b3a0",
        "colab": {
          "base_uri": "https://localhost:8080/"
        }
      },
      "execution_count": 26,
      "outputs": [
        {
          "output_type": "stream",
          "name": "stdout",
          "text": [
            "ingrese palabras: CHAM\n",
            "CHAM\n",
            "ingrese palabras: OLGA\n",
            "OLGA\n",
            "ingrese palabras: HIDROCARBUROS\n",
            "HIDROCARBUROS\n",
            "ingrese palabras: exit\n",
            "['HIDROCARBUROS']\n"
          ]
        }
      ]
    },
    {
      "cell_type": "markdown",
      "source": [
        "✅ Nuevo ejercicio aplicado a ciencia de datos:\n",
        "\n",
        "Supongamos que estás limpiando una lista de nombres de columnas que vienen mal formateadas.\n",
        "\n",
        "🎯 Tu tarea:\n",
        "\n",
        "Ingresar nombres de columnas uno por uno\n",
        "\n",
        "Ignorar los que estén vacíos (\"\") o contengan \"?\"\n",
        "\n",
        "Guardar solo los válidos en minúsculas, sin espacios"
      ],
      "metadata": {
        "id": "A9snuWlJjDSt"
      }
    },
    {
      "cell_type": "code",
      "source": [
        "nombres =[]\n",
        "\n",
        "while True:\n",
        "  nombre = input('Ingresar nombres:')\n",
        "  if nombre == 'exit':\n",
        "    break\n",
        "  else:\n",
        "    nombres.append(nombre)\n",
        "\n",
        "nom_limpios = [nombre.strip().lower().replace(\" \",\"\") for nombre in nombres if nombre.strip() != \"\" and \"?\" not in nombre]\n",
        "print(nom_limpios)\n"
      ],
      "metadata": {
        "id": "bmIuDPwLjD1a",
        "outputId": "c04931c9-82bf-4481-ea66-a0fcf3e019cb",
        "colab": {
          "base_uri": "https://localhost:8080/"
        }
      },
      "execution_count": 30,
      "outputs": [
        {
          "output_type": "stream",
          "name": "stdout",
          "text": [
            "Ingresar nombres:  \n",
            "Ingresar nombres:   \n",
            "Ingresar nombres:gian\n",
            "Ingresar nombres:exit\n",
            "['gian']\n"
          ]
        }
      ]
    },
    {
      "cell_type": "code",
      "source": [
        "    for x in 'jOhN':\n",
        "    if x == x.upper():\n",
        "        print(x)\n"
      ],
      "metadata": {
        "id": "pyBwaIDlgN6d",
        "outputId": "32bb7b80-5730-4781-832e-14ca0936f5dd",
        "colab": {
          "base_uri": "https://localhost:8080/"
        }
      },
      "execution_count": null,
      "outputs": [
        {
          "output_type": "stream",
          "name": "stdout",
          "text": [
            "O\n",
            "N\n"
          ]
        }
      ]
    },
    {
      "cell_type": "code",
      "source": [
        "word = ''\n",
        "len([x for x in word if x == x.upper()])\n"
      ],
      "metadata": {
        "id": "IXVG9YlygvaK",
        "outputId": "8103b479-9df8-41a1-b1c1-b4fcf97a91c4",
        "colab": {
          "base_uri": "https://localhost:8080/"
        }
      },
      "execution_count": null,
      "outputs": [
        {
          "output_type": "execute_result",
          "data": {
            "text/plain": [
              "2"
            ]
          },
          "metadata": {},
          "execution_count": 89
        }
      ]
    },
    {
      "cell_type": "code",
      "source": [
        "\n",
        "word_list = []\n",
        "\n",
        "while True:\n",
        "  word = input(\"Ingrese una palabra (escriba exit para salir): \")\n",
        "  if word == \"exit\":\n",
        "    break\n",
        "  else:\n",
        "    word_list.append(word)\n",
        "    print(\"lista actualizada\", word_list)\n",
        "\n",
        "word_mayusculaa = [word for word in word_list if len([x for x in word if x == x.upper()]) > 4]\n",
        "print(word_mayusculaa)\n",
        "\n"
      ],
      "metadata": {
        "id": "81aTV_oOhEJH",
        "outputId": "1080cf93-4835-43fb-b304-e9b2a889e010",
        "colab": {
          "base_uri": "https://localhost:8080/"
        }
      },
      "execution_count": null,
      "outputs": [
        {
          "output_type": "stream",
          "name": "stdout",
          "text": [
            "Ingrese una palabra (escriba exit para salir): john\n",
            "lista actualizada ['john']\n",
            "Ingrese una palabra (escriba exit para salir): MIA\n",
            "lista actualizada ['john', 'MIA']\n",
            "Ingrese una palabra (escriba exit para salir): ANGELO\n",
            "lista actualizada ['john', 'MIA', 'ANGELO']\n",
            "Ingrese una palabra (escriba exit para salir): DIEGO\n",
            "lista actualizada ['john', 'MIA', 'ANGELO', 'DIEGO']\n",
            "Ingrese una palabra (escriba exit para salir): sebastian\n",
            "lista actualizada ['john', 'MIA', 'ANGELO', 'DIEGO', 'sebastian']\n",
            "Ingrese una palabra (escriba exit para salir): exit\n",
            "['ANGELO', 'DIEGO']\n"
          ]
        }
      ]
    },
    {
      "cell_type": "code",
      "source": [
        "\n",
        "def greatings():\n",
        "  \"\"\"Esta función saluda a los estudiantes nuevos\"\"\"\n",
        "  print('Bienvenido al curso!')\n"
      ],
      "metadata": {
        "id": "zgk6jHVril_m"
      },
      "execution_count": null,
      "outputs": []
    },
    {
      "cell_type": "code",
      "source": [
        "greatings()"
      ],
      "metadata": {
        "id": "LIQLj6bojbyE",
        "outputId": "36ce2064-3723-423f-d741-95a370cd4e65",
        "colab": {
          "base_uri": "https://localhost:8080/"
        }
      },
      "execution_count": null,
      "outputs": [
        {
          "output_type": "stream",
          "name": "stdout",
          "text": [
            "Bienvenido al curso!\n"
          ]
        }
      ]
    },
    {
      "cell_type": "code",
      "source": [
        "\n",
        "def greatings(name):\n",
        "  \"\"\"Esta función saluda a los estudiantes nuevos\"\"\"\n",
        "  print(f'Bienvenido al curso {name}!')\n",
        "\n"
      ],
      "metadata": {
        "id": "FbzXfVSkjuRP"
      },
      "execution_count": null,
      "outputs": []
    },
    {
      "cell_type": "code",
      "source": [
        "greatings('John')"
      ],
      "metadata": {
        "id": "d8jSxYh6j6dq",
        "outputId": "294d7e1d-43b9-4552-9706-82b40565f0cc",
        "colab": {
          "base_uri": "https://localhost:8080/"
        }
      },
      "execution_count": null,
      "outputs": [
        {
          "output_type": "stream",
          "name": "stdout",
          "text": [
            "Bienvenido al curso John!\n"
          ]
        }
      ]
    },
    {
      "cell_type": "code",
      "source": [
        "greatings('Edwin')"
      ],
      "metadata": {
        "id": "pC_-KvsbkEAN",
        "outputId": "a6238bec-1c72-431c-d0ac-c5116099a674",
        "colab": {
          "base_uri": "https://localhost:8080/"
        }
      },
      "execution_count": null,
      "outputs": [
        {
          "output_type": "stream",
          "name": "stdout",
          "text": [
            "Bienvenido al curso Edwin!\n"
          ]
        }
      ]
    },
    {
      "cell_type": "code",
      "source": [
        "greatings('Edgar')"
      ],
      "metadata": {
        "id": "C-ks16aUkICp",
        "outputId": "62f7da4b-6083-4707-d2dc-cde382f54c47",
        "colab": {
          "base_uri": "https://localhost:8080/"
        }
      },
      "execution_count": null,
      "outputs": [
        {
          "output_type": "stream",
          "name": "stdout",
          "text": [
            "Bienvenido al curso Edgar!\n"
          ]
        }
      ]
    },
    {
      "cell_type": "code",
      "source": [
        "\n",
        "def sum(a, b):\n",
        "  \"\"\"Esta función suma dos argumentos a y b\"\"\"\n",
        "  print(f'la suma es: {a + b}')\n"
      ],
      "metadata": {
        "id": "TqOew5R7kRnB"
      },
      "execution_count": null,
      "outputs": []
    },
    {
      "cell_type": "code",
      "source": [
        "sum(4, 5)"
      ],
      "metadata": {
        "id": "nIM-4R26khBD",
        "outputId": "eaee5b4d-7861-447b-b630-82030ef0ab0b",
        "colab": {
          "base_uri": "https://localhost:8080/"
        }
      },
      "execution_count": null,
      "outputs": [
        {
          "output_type": "stream",
          "name": "stdout",
          "text": [
            "la suma es: 9\n"
          ]
        }
      ]
    },
    {
      "cell_type": "code",
      "source": [
        "sum(5, 12)"
      ],
      "metadata": {
        "id": "9xYkTSNSkjfQ",
        "outputId": "b7477dd3-85ce-4263-d0e6-9d93ab4cd240",
        "colab": {
          "base_uri": "https://localhost:8080/"
        }
      },
      "execution_count": null,
      "outputs": [
        {
          "output_type": "stream",
          "name": "stdout",
          "text": [
            "la suma es: 17\n"
          ]
        }
      ]
    },
    {
      "cell_type": "code",
      "source": [
        "sum"
      ],
      "metadata": {
        "id": "7Z-CJ-Kok5LI",
        "outputId": "b17049de-4da8-46be-dfa4-bca9dcf9831f",
        "colab": {
          "base_uri": "https://localhost:8080/"
        }
      },
      "execution_count": 27,
      "outputs": [
        {
          "output_type": "execute_result",
          "data": {
            "text/plain": [
              "<function sum(iterable, /, start=0)>"
            ]
          },
          "metadata": {},
          "execution_count": 27
        }
      ]
    },
    {
      "cell_type": "markdown",
      "source": [
        "## <b>3. Trabajando con Slicing</b>\n"
      ],
      "metadata": {
        "id": "8Pw1lVQAk_1c"
      }
    },
    {
      "cell_type": "markdown",
      "source": [
        "El slicing es una técnica que te permite extraer sublistas de listas existentes, seleccionando elementos de una lista mediante índices."
      ],
      "metadata": {
        "id": "E4pOl2C8lKzF"
      }
    },
    {
      "cell_type": "markdown",
      "source": [
        "### Ejemplo 3.1: Slicing de listas\n"
      ],
      "metadata": {
        "id": "NhyOyyLtnaLV"
      }
    },
    {
      "cell_type": "code",
      "source": [
        "# Crear una lista de letras\n",
        "letras = ['a', 'b', 'c', 'd', 'e', 'f', 'g', 'h']\n",
        "\n"
      ],
      "metadata": {
        "id": "YZkf5aLHmhde"
      },
      "execution_count": null,
      "outputs": []
    },
    {
      "cell_type": "code",
      "source": [
        "# Extraer una subsección de la lista\n",
        "primeras_tres = letras[:3]  # Primeros 3 elementos\n",
        "print(primeras_tres)"
      ],
      "metadata": {
        "id": "qi5sJLuUmR0m"
      },
      "execution_count": null,
      "outputs": []
    },
    {
      "cell_type": "code",
      "source": [
        "desde_el_cuarto = letras[3:]  # Desde el cuarto hasta el final\n",
        "print(desde_el_cuarto)\n"
      ],
      "metadata": {
        "id": "8T_pNL9gmoT8"
      },
      "execution_count": null,
      "outputs": []
    },
    {
      "cell_type": "code",
      "source": [
        "ultimos_dos = letras[-2:]  # Los últimos dos elementos\n",
        "print(ultimos_dos)\n"
      ],
      "metadata": {
        "id": "hSQ9bC3Vmy96"
      },
      "execution_count": null,
      "outputs": []
    },
    {
      "cell_type": "markdown",
      "source": [
        "### Ejemplo 3.2: Slicing con pasos\n"
      ],
      "metadata": {
        "id": "QJzj1X6undzm"
      }
    },
    {
      "cell_type": "code",
      "source": [
        "# Crear una lista de números del 1 al 10\n",
        "numeros = list(range(1, 11))\n"
      ],
      "metadata": {
        "id": "9u0Sho8vno-g"
      },
      "execution_count": null,
      "outputs": []
    },
    {
      "cell_type": "code",
      "source": [
        "\n",
        "# Obtener todos los números en posiciones pares\n",
        "pares = numeros[1::2]  # Inicia en el segundo elemento y salta de 2 en 2\n",
        "print(pares)\n",
        "\n",
        "\n"
      ],
      "metadata": {
        "id": "EADKhXulntOP"
      },
      "execution_count": null,
      "outputs": []
    },
    {
      "cell_type": "code",
      "source": [
        "# Obtener cada tercer número\n",
        "tercios = numeros[::3]\n",
        "print(tercios)"
      ],
      "metadata": {
        "id": "lRCCtFKBnweq"
      },
      "execution_count": null,
      "outputs": []
    },
    {
      "cell_type": "markdown",
      "source": [
        "### Ejercicio 3: Aplicaciones de slicing\n",
        "\n",
        "Crea una lista con los números del 1 al 100. Luego, usando slicing:\n",
        "- Extrae los primeros 10 números.\n",
        "- Extrae los últimos 10 números.\n",
        "- Extrae todos los números en posiciones impares.\n",
        "- Usa slicing para dividir una lista de palabras en dos mitades."
      ],
      "metadata": {
        "id": "vp3MgC__lQyw"
      }
    },
    {
      "cell_type": "code",
      "source": [],
      "metadata": {
        "id": "8wxUXYwOlYNE"
      },
      "execution_count": null,
      "outputs": []
    },
    {
      "cell_type": "markdown",
      "source": [
        "## <b>4. Trabajando con Tuplas\n",
        "</b>"
      ],
      "metadata": {
        "id": "m2oeaICsrlMr"
      }
    },
    {
      "cell_type": "markdown",
      "source": [
        "Las tuplas son como listas, pero inmutables, lo que significa que no se pueden modificar después de su creación. Son útiles para almacenar datos que no deben cambiar."
      ],
      "metadata": {
        "id": "-m-yjEGmrpxH"
      }
    },
    {
      "cell_type": "markdown",
      "source": [
        "### Ejemplo 4.1: Crear y acceder a tuplas\n"
      ],
      "metadata": {
        "id": "iN8wV0F0rsJK"
      }
    },
    {
      "cell_type": "code",
      "source": [
        "# Crear una tupla\n",
        "coordenadas = (10.5, 20.3)\n",
        "\n",
        "# Acceder a los elementos de la tupla\n",
        "print(\"X:\", coordenadas[0])\n",
        "print(\"Y:\", coordenadas[1])\n"
      ],
      "metadata": {
        "id": "cBiHFdW_rqqi"
      },
      "execution_count": null,
      "outputs": []
    },
    {
      "cell_type": "markdown",
      "source": [
        "### Ejemplo 4.2: Intento de modificación de una tupla\n"
      ],
      "metadata": {
        "id": "YIMqOp-erw_K"
      }
    },
    {
      "cell_type": "code",
      "source": [
        "# Crear una tupla\n",
        "dimensiones = (200, 50)\n"
      ],
      "metadata": {
        "id": "4SMEGO6ZrzJj"
      },
      "execution_count": null,
      "outputs": []
    },
    {
      "cell_type": "code",
      "source": [
        "# Intentar modificar la tupla (esto generará un error)\n",
        "# dimensiones[0] = 250  # Descomenta esta línea para ver el error\n"
      ],
      "metadata": {
        "id": "0Zd9AM9Cr2ZN"
      },
      "execution_count": null,
      "outputs": []
    },
    {
      "cell_type": "code",
      "source": [
        "# Reasignar una nueva tupla\n",
        "dimensiones = (400, 100)\n",
        "print(\"Nuevas dimensiones:\", dimensiones)"
      ],
      "metadata": {
        "id": "lIv2eQcmr3aL"
      },
      "execution_count": null,
      "outputs": []
    },
    {
      "cell_type": "markdown",
      "source": [
        "### Ejercicio 4: Trabajando con tuplas\n",
        "- Crea una tupla que almacene las dimensiones de un objeto (ancho, alto).\n",
        "- Intenta modificar un elemento de la tupla y observa el error que genera.\n",
        "- Reescribe la tupla completa con nuevas dimensiones.\n"
      ],
      "metadata": {
        "id": "juG-GKwwr7hC"
      }
    },
    {
      "cell_type": "code",
      "source": [],
      "metadata": {
        "id": "flPWwLBRr-87"
      },
      "execution_count": null,
      "outputs": []
    },
    {
      "cell_type": "markdown",
      "source": [
        "## <b>5. Desafío</b>"
      ],
      "metadata": {
        "id": "K8ioDMpJl8zI"
      }
    },
    {
      "cell_type": "markdown",
      "source": [
        "### Desafío 1: Análisis de ventas de una tienda de ropa\n",
        "\n",
        "Eres el encargado de una tienda de ropa y tienes una lista de ventas diarias para diferentes productos. Cada día, vendes camisetas, pantalones y zapatos. Quieres analizar las ventas para entender mejor el rendimiento de cada producto.\n",
        "\n",
        "<b>Objetivo:</b>\n",
        "\n",
        "- Crea tres listas: una para camisetas, otra para pantalones y una para zapatos, con la cantidad vendida cada día durante una semana.\n",
        "- Usa slicing para extraer las ventas de los últimos 3 días de cada producto.\n",
        "- Usa listas por comprensión para calcular el total de ventas de cada producto y el promedio de ventas diarias.\n",
        "\n",
        "- Clasifica los productos en \"buenas ventas\" o \"malas ventas\" según si el promedio de ventas diarias es mayor o menor a 5.\n",
        "\n",
        "Instrucciones:\n",
        "- Genera los datos de ventas usando listas manualmente o simulándolos con valores constantes.\n",
        "- Calcula el total de ventas por producto usando sum() y el promedio con len().\n",
        "- Usa listas por comprensión para clasificar las ventas de los productos."
      ],
      "metadata": {
        "id": "mQkPuK6ymKTk"
      }
    },
    {
      "cell_type": "code",
      "source": [],
      "metadata": {
        "id": "43HiaKjEmmPg"
      },
      "execution_count": null,
      "outputs": []
    },
    {
      "cell_type": "markdown",
      "source": [
        "---\n",
        "\n",
        "# Gracias por completar este laboratorio!\n",
        "\n",
        "---"
      ],
      "metadata": {
        "id": "_G9dWzTgp6-m"
      }
    }
  ]
}