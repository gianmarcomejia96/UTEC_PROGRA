{
  "nbformat": 4,
  "nbformat_minor": 0,
  "metadata": {
    "colab": {
      "provenance": [],
      "include_colab_link": true
    },
    "kernelspec": {
      "name": "python3",
      "display_name": "Python 3"
    },
    "language_info": {
      "name": "python"
    }
  },
  "cells": [
    {
      "cell_type": "markdown",
      "metadata": {
        "id": "view-in-github",
        "colab_type": "text"
      },
      "source": [
        "<a href=\"https://colab.research.google.com/github/gianmarcomejia96/UTEC_PROGRA/blob/main/03_estructuras_de_datos_parte2.ipynb\" target=\"_parent\"><img src=\"https://colab.research.google.com/assets/colab-badge.svg\" alt=\"Open In Colab\"/></a>"
      ]
    },
    {
      "cell_type": "markdown",
      "source": [
        "\n",
        "<img src=\"https://www.ctic.uni.edu.pe/wp-content/uploads/2022/04/588px-x-348px-web-1.png\" alt=\"HTML5 Icon\" width=\"900\" height=\"350\" >\n"
      ],
      "metadata": {
        "id": "0xv6Piu7tRkP"
      }
    },
    {
      "cell_type": "markdown",
      "source": [
        "<h1 align=center><font size = 5>ESTRUCTURAS DE DATOS - PARTE 2\n",
        "</font></h1>\n",
        "\n",
        "---\n"
      ],
      "metadata": {
        "id": "iJvpwSTptUZI"
      }
    },
    {
      "cell_type": "markdown",
      "source": [
        "**Tabla de Contenidos**\n",
        "\n",
        "- Diccionarios\n",
        "- Sets\n",
        "- Matrices\n",
        "\n",
        "---"
      ],
      "metadata": {
        "id": "gM88wvb0uEt7"
      }
    },
    {
      "cell_type": "markdown",
      "source": [
        "## 1. Diccionarios\n",
        "\n",
        "**Concepto:**\n",
        "\n",
        "Un diccionario es una estructura de datos que almacena pares clave-valor. Las claves deben ser únicas y se utilizan para acceder a los valores asociados."
      ],
      "metadata": {
        "id": "P3deKEL-tbDJ"
      }
    },
    {
      "cell_type": "markdown",
      "source": [
        "### Ejemplo 1.1: Creación de Diccionarios y Acceso a Elementos\n"
      ],
      "metadata": {
        "id": "hlZnLeo_uPwN"
      }
    },
    {
      "cell_type": "code",
      "source": [
        "# Crear un diccionario\n",
        "persona = {'nombre': 'Ana', 'edad': 30, 'ciudad': 'Lima'}\n",
        "print(persona)"
      ],
      "metadata": {
        "id": "P-TTXZxuuRe7",
        "outputId": "b9a0be72-0540-423d-ff27-5cf102c68748",
        "colab": {
          "base_uri": "https://localhost:8080/"
        }
      },
      "execution_count": null,
      "outputs": [
        {
          "output_type": "stream",
          "name": "stdout",
          "text": [
            "{'nombre': 'Ana', 'edad': 30, 'ciudad': 'Lima'}\n"
          ]
        }
      ]
    },
    {
      "cell_type": "code",
      "source": [
        "persona = {'nombre':'Gianmarco','edad':30,'ciudad':'Lima'}\n",
        "\n",
        "persona['nombre']\n",
        "\n",
        "del persona['nombre']\n",
        "\n",
        "persona\n",
        "\n",
        "persona['nombre'] = 'Gianmarco'\n",
        "\n",
        "persona\n",
        "\n",
        "persona.get('Gianmarco')"
      ],
      "metadata": {
        "id": "wzHpgB7gtEcv"
      },
      "execution_count": null,
      "outputs": []
    },
    {
      "cell_type": "code",
      "source": [
        "persona.get('edad')"
      ],
      "metadata": {
        "id": "OFV1SS3Pt0Rs",
        "outputId": "273fca76-05fc-4e28-d668-458cfc711c73",
        "colab": {
          "base_uri": "https://localhost:8080/"
        }
      },
      "execution_count": null,
      "outputs": [
        {
          "output_type": "execute_result",
          "data": {
            "text/plain": [
              "30"
            ]
          },
          "metadata": {},
          "execution_count": 16
        }
      ]
    },
    {
      "cell_type": "code",
      "source": [
        "# Acceder a un valor\n",
        "print(\"Nombre:\", persona['nombre'])\n",
        "print(\"Ciudad:\", persona.get('ciudad'))\n"
      ],
      "metadata": {
        "id": "tPRrAukRuS1S",
        "outputId": "a86c23dd-00fa-4d9f-c0c1-95c6bb4efbe4",
        "colab": {
          "base_uri": "https://localhost:8080/"
        }
      },
      "execution_count": null,
      "outputs": [
        {
          "output_type": "stream",
          "name": "stdout",
          "text": [
            "Nombre: Gianmarco\n",
            "Ciudad: Lima\n"
          ]
        }
      ]
    },
    {
      "cell_type": "code",
      "source": [
        "\n",
        "# Añadir un nuevo par clave-valor\n",
        "persona['profesion'] = 'Ingeniera'\n",
        "print(persona)\n",
        "\n"
      ],
      "metadata": {
        "id": "Ineeezk6uUjd"
      },
      "execution_count": null,
      "outputs": []
    },
    {
      "cell_type": "code",
      "source": [
        "# Eliminar un par clave-valor\n",
        "del persona['ciudad']\n",
        "print(persona)"
      ],
      "metadata": {
        "id": "tuA4FSZNuVv1",
        "outputId": "d225010f-b65f-4a8a-e43d-4c97197559e4",
        "colab": {
          "base_uri": "https://localhost:8080/"
        }
      },
      "execution_count": null,
      "outputs": [
        {
          "output_type": "stream",
          "name": "stdout",
          "text": [
            "{'edad': 30, 'nombre': 'Gianmarco'}\n"
          ]
        }
      ]
    },
    {
      "cell_type": "markdown",
      "source": [
        "### Ejemplo 1.2: Métodos Útiles de Diccionarios\n"
      ],
      "metadata": {
        "id": "FiQWLZxXuY6G"
      }
    },
    {
      "cell_type": "code",
      "source": [
        "# Obtener todas las claves\n",
        "print(persona.keys())\n"
      ],
      "metadata": {
        "id": "0BNmkeBXua1R",
        "outputId": "c2d95cca-b3cf-43d9-ad75-3a1f820155a0",
        "colab": {
          "base_uri": "https://localhost:8080/"
        }
      },
      "execution_count": null,
      "outputs": [
        {
          "output_type": "stream",
          "name": "stdout",
          "text": [
            "dict_keys(['edad', 'ciudad', 'nombre'])\n"
          ]
        }
      ]
    },
    {
      "cell_type": "code",
      "source": [
        "# Obtener todos los valores\n",
        "print(persona.values())\n"
      ],
      "metadata": {
        "id": "67-6NfYiubwM",
        "outputId": "9bbc1e23-bb45-42d4-99c6-dd7f69110bc1",
        "colab": {
          "base_uri": "https://localhost:8080/"
        }
      },
      "execution_count": null,
      "outputs": [
        {
          "output_type": "stream",
          "name": "stdout",
          "text": [
            "dict_values([30, 'Lima', 'Gianmarco'])\n"
          ]
        },
        {
          "output_type": "execute_result",
          "data": {
            "text/plain": [
              "dict_values([30, 'Lima', 'Gianmarco'])"
            ]
          },
          "metadata": {},
          "execution_count": 20
        }
      ]
    },
    {
      "cell_type": "code",
      "source": [
        "features_describe = {'pas_avg12': 'Ahorros promedio de la persona en los últimos meses', 'age':'Edad de la persona recogida de reniec','dist':'Distrito de residencia declarado por el cliente en última llamada'}"
      ],
      "metadata": {
        "id": "ZSNEjbBTbMwV"
      },
      "execution_count": null,
      "outputs": []
    },
    {
      "cell_type": "code",
      "source": [
        "features_describe['age']"
      ],
      "metadata": {
        "id": "8ecyoI0Wd1MQ",
        "outputId": "6e6d782c-e16c-4002-df30-c7a2a580ce7f",
        "colab": {
          "base_uri": "https://localhost:8080/",
          "height": 35
        }
      },
      "execution_count": null,
      "outputs": [
        {
          "output_type": "execute_result",
          "data": {
            "text/plain": [
              "'Edad de la persona recogida de reniec'"
            ],
            "application/vnd.google.colaboratory.intrinsic+json": {
              "type": "string"
            }
          },
          "metadata": {},
          "execution_count": 9
        }
      ]
    },
    {
      "cell_type": "code",
      "source": [
        "persona.items()"
      ],
      "metadata": {
        "id": "zQN-_1L7d924",
        "outputId": "ab7610b6-a45e-4754-f181-d76cca6365dd",
        "colab": {
          "base_uri": "https://localhost:8080/"
        }
      },
      "execution_count": null,
      "outputs": [
        {
          "output_type": "execute_result",
          "data": {
            "text/plain": [
              "dict_items([('edad', 30), ('nombre', 'Gianmarco')])"
            ]
          },
          "metadata": {},
          "execution_count": 11
        }
      ]
    },
    {
      "cell_type": "code",
      "source": [
        "for key, value in persona.items():\n",
        "    print(key,value)"
      ],
      "metadata": {
        "id": "mkxqWI9Srl44",
        "outputId": "70304128-6a89-4b54-ff6e-29e826b74e81",
        "colab": {
          "base_uri": "https://localhost:8080/"
        }
      },
      "execution_count": null,
      "outputs": [
        {
          "output_type": "stream",
          "name": "stdout",
          "text": [
            "edad 30\n",
            "nombre Gianmarco\n"
          ]
        }
      ]
    },
    {
      "cell_type": "code",
      "source": [
        "resumen = {\n",
        "    \"edad\": 35.6,\n",
        "    \"ingreso\": 10500.0,\n",
        "    \"hijos\": 2.1\n",
        "}"
      ],
      "metadata": {
        "id": "Zimj3wV2swJl"
      },
      "execution_count": null,
      "outputs": []
    },
    {
      "cell_type": "code",
      "source": [
        "for key, value in resumen.items():\n",
        "  print(f' el promedio de {key} es: {value}')"
      ],
      "metadata": {
        "id": "xaNpV0-4tD-C",
        "outputId": "f6ca86ed-496c-48ec-9f77-3e812a314327",
        "colab": {
          "base_uri": "https://localhost:8080/"
        }
      },
      "execution_count": null,
      "outputs": [
        {
          "output_type": "stream",
          "name": "stdout",
          "text": [
            " el promedio de edad es: 35.6\n",
            " el promedio de ingreso es: 10500.0\n",
            " el promedio de hijos es: 2.1\n"
          ]
        }
      ]
    },
    {
      "cell_type": "code",
      "source": [
        "template = \"Hola {nombre}, tu edad es {edad} y vivís en {ciudad}.\"\n",
        "datos = {\n",
        "    \"nombre\": \"Luis\",\n",
        "    \"edad\": 30,\n",
        "    \"ciudad\": \"Córdoba\"\n",
        "}\n",
        "\n",
        "for key,value in datos.items():\n",
        "    template = template.replace(\"{\"+ key + \"}\",str(value))\n",
        "\n",
        "template"
      ],
      "metadata": {
        "id": "Cl5-yZg9tXAl",
        "outputId": "9380286f-4968-4125-a32c-da8d96dd3b1f",
        "colab": {
          "base_uri": "https://localhost:8080/",
          "height": 35
        }
      },
      "execution_count": null,
      "outputs": [
        {
          "output_type": "execute_result",
          "data": {
            "text/plain": [
              "'Hola Luis, tu edad es 30 y vivís en Córdoba.'"
            ],
            "application/vnd.google.colaboratory.intrinsic+json": {
              "type": "string"
            }
          },
          "metadata": {},
          "execution_count": 21
        }
      ]
    },
    {
      "cell_type": "code",
      "source": [
        "template.format(**datos)"
      ],
      "metadata": {
        "id": "fKJ0TQkVuZgp",
        "outputId": "5a61b134-70f9-4cbd-b5ce-e215d6696471",
        "colab": {
          "base_uri": "https://localhost:8080/",
          "height": 35
        }
      },
      "execution_count": null,
      "outputs": [
        {
          "output_type": "execute_result",
          "data": {
            "text/plain": [
              "'Hola Luis, tu edad es 30 y vivís en Córdoba.'"
            ],
            "application/vnd.google.colaboratory.intrinsic+json": {
              "type": "string"
            }
          },
          "metadata": {},
          "execution_count": 22
        }
      ]
    },
    {
      "cell_type": "code",
      "source": [],
      "metadata": {
        "id": "zm86BRyQtjqW"
      },
      "execution_count": null,
      "outputs": []
    },
    {
      "cell_type": "code",
      "source": [
        "# Comprobar si una clave existe en el diccionario\n",
        "if 'edad' in persona:\n",
        "    print(\"La clave 'edad' está en el diccionario.\")\n",
        "\n",
        "\n",
        "\n"
      ],
      "metadata": {
        "id": "UPfEsSI_ucnd",
        "outputId": "0fb01a73-0c71-47c1-bd73-1993d92d58d2",
        "colab": {
          "base_uri": "https://localhost:8080/"
        }
      },
      "execution_count": null,
      "outputs": [
        {
          "output_type": "stream",
          "name": "stdout",
          "text": [
            "La clave 'edad' está en el diccionario.\n"
          ]
        }
      ]
    },
    {
      "cell_type": "code",
      "source": [
        "persona['edad']"
      ],
      "metadata": {
        "id": "EyHR3tnhup7K",
        "outputId": "b08c1d96-07fb-4c14-e0cc-bfd496a0ed53",
        "colab": {
          "base_uri": "https://localhost:8080/"
        }
      },
      "execution_count": null,
      "outputs": [
        {
          "output_type": "execute_result",
          "data": {
            "text/plain": [
              "30"
            ]
          },
          "metadata": {},
          "execution_count": 31
        }
      ]
    },
    {
      "cell_type": "markdown",
      "source": [
        "### Ejercicio 1: Trabajando con Diccionarios\n",
        "\n",
        "- Crea un diccionario que contenga información sobre un automóvil (marca, modelo, año, color).\n",
        "- Accede a cada valor usando su clave.\n",
        "- Añade una clave para el precio del automóvil.\n",
        "- Elimina la clave del color del automóvil y muestra el diccionario actualizado.\n",
        "- Usa keys() y values() para imprimir las claves y valores del diccionario.\n",
        "\n"
      ],
      "metadata": {
        "id": "oECCq-N5uguf"
      }
    },
    {
      "cell_type": "code",
      "source": [
        "automovil = {'marca':'changan','modelo':'cs35 plus','color':'blanco'}\n",
        "\n",
        "automovil.values()\n",
        "automovil.keys()\n",
        "\n",
        "print(f'estas son {automovil['marca']} {automovil['modelo']} {automovil['color']}')\n",
        "\n",
        "automovil['precio'] = 18000\n",
        "\n",
        "automovil.values()\n",
        "\n",
        "del automovil['color']\n",
        "\n",
        "automovil\n",
        "\n",
        "for key, value in automovil.items():\n",
        "  print(f' el diccionario contiene {key} : {value}')\n"
      ],
      "metadata": {
        "id": "x2uN2fYnume5",
        "outputId": "173944a7-bb94-437f-bc52-6d6de174a808",
        "colab": {
          "base_uri": "https://localhost:8080/"
        }
      },
      "execution_count": null,
      "outputs": [
        {
          "output_type": "stream",
          "name": "stdout",
          "text": [
            "estas son changan cs35 plus blanco\n",
            " el diccionario contiene marca : changan\n",
            " el diccionario contiene modelo : cs35 plus\n",
            " el diccionario contiene precio : 18000\n"
          ]
        }
      ]
    },
    {
      "cell_type": "markdown",
      "source": [
        "## 2. Sets\n",
        "\n",
        "Los sets son colecciones de elementos únicos y desordenados. Son útiles para eliminar duplicados o realizar operaciones matemáticas como intersección y unión."
      ],
      "metadata": {
        "id": "-omdmjTguoW-"
      }
    },
    {
      "cell_type": "markdown",
      "source": [
        "### Ejemplo 2.1: Creación y Modificación de Sets"
      ],
      "metadata": {
        "id": "5GC8_tPvuu3r"
      }
    },
    {
      "cell_type": "code",
      "source": [
        "# Crear un set\n",
        "numeros = {1, 2, 3, 4, 5}\n",
        "print(numeros)\n"
      ],
      "metadata": {
        "id": "D2ClA0CAutom",
        "outputId": "b227a43c-41dd-4b03-a416-9103cc3cc7b5",
        "colab": {
          "base_uri": "https://localhost:8080/"
        }
      },
      "execution_count": null,
      "outputs": [
        {
          "output_type": "stream",
          "name": "stdout",
          "text": [
            "{1, 2, 3, 4, 5}\n"
          ]
        }
      ]
    },
    {
      "cell_type": "code",
      "source": [
        "my_set = {1,2,3,4}\n",
        "\n",
        "\n",
        "my_set2 = set((1,2,3,5))\n",
        "\n",
        "print(my_set)\n",
        "print(my_set2)\n",
        "\n",
        "lista = [1,1,2,3]\n",
        "\n",
        "lista_set = set(lista)\n",
        "\n",
        "print(lista_set)\n"
      ],
      "metadata": {
        "id": "py7uAUvVPpfP",
        "outputId": "83d7ece7-76a4-419b-ce46-a107df024568",
        "colab": {
          "base_uri": "https://localhost:8080/"
        }
      },
      "execution_count": null,
      "outputs": [
        {
          "output_type": "stream",
          "name": "stdout",
          "text": [
            "{1, 2, 3, 4}\n",
            "{1, 2, 3, 5}\n",
            "{1, 2, 3}\n"
          ]
        }
      ]
    },
    {
      "cell_type": "code",
      "source": [
        "lista = ['aa','aa']\n",
        "\n",
        "set_lista = set((lista))\n",
        "\n",
        "print(set_lista)\n",
        "\n",
        "list(set_lista)\n",
        "print(set_lista)"
      ],
      "metadata": {
        "id": "tqrzsb4vQrjd",
        "outputId": "c7f2be4d-3417-4fe9-d80a-9278717ff989",
        "colab": {
          "base_uri": "https://localhost:8080/"
        }
      },
      "execution_count": null,
      "outputs": [
        {
          "output_type": "stream",
          "name": "stdout",
          "text": [
            "{'aa'}\n",
            "{'aa'}\n"
          ]
        }
      ]
    },
    {
      "cell_type": "code",
      "source": [
        "lista_1 = ['columna1', 'columna2', 'columna3']\n",
        "lista_2 = ['columna1', 'columna2', 'columna5']\n",
        "\n",
        "\n",
        "list(set(lista_1+lista_2))\n"
      ],
      "metadata": {
        "id": "fUxFrredRI8w",
        "outputId": "4ac120ec-9268-4467-81ba-c0b9ca1f0038",
        "colab": {
          "base_uri": "https://localhost:8080/"
        }
      },
      "execution_count": null,
      "outputs": [
        {
          "output_type": "execute_result",
          "data": {
            "text/plain": [
              "['columna3', 'columna1', 'columna2', 'columna5']"
            ]
          },
          "metadata": {},
          "execution_count": 32
        }
      ]
    },
    {
      "cell_type": "code",
      "source": [
        "# Añadir elementos\n",
        "numeros.add(6)\n",
        "print(numeros)\n"
      ],
      "metadata": {
        "id": "deMM35okuyPM",
        "outputId": "d30b2c22-2881-465c-d5c0-eed1e79a589c",
        "colab": {
          "base_uri": "https://localhost:8080/"
        }
      },
      "execution_count": null,
      "outputs": [
        {
          "output_type": "stream",
          "name": "stdout",
          "text": [
            "{1, 2, 4, 5, 6}\n"
          ]
        }
      ]
    },
    {
      "cell_type": "code",
      "source": [
        "# Eliminar un elemento\n",
        "numeros.remove(2)\n",
        "print(numeros)\n"
      ],
      "metadata": {
        "id": "VQjmgrWyuzAr",
        "outputId": "3e5aae42-d914-4cfc-add6-3448135927f9",
        "colab": {
          "base_uri": "https://localhost:8080/"
        }
      },
      "execution_count": null,
      "outputs": [
        {
          "output_type": "stream",
          "name": "stdout",
          "text": [
            "{1, 4, 5, 6}\n"
          ]
        }
      ]
    },
    {
      "cell_type": "markdown",
      "source": [
        "### Ejemplo 2.2: Operaciones de Conjuntos\n"
      ],
      "metadata": {
        "id": "8I9pqkBWu3qE"
      }
    },
    {
      "cell_type": "code",
      "source": [
        "# Crear otro set\n",
        "otro_set = {4, 5, 6, 7}"
      ],
      "metadata": {
        "id": "169QsOxuvAbe"
      },
      "execution_count": null,
      "outputs": []
    },
    {
      "cell_type": "code",
      "source": [
        "# Unión de sets (todos los elementos)\n",
        "union = numeros.union(otro_set)\n",
        "print(\"Unión:\", union)\n"
      ],
      "metadata": {
        "id": "1hvqQ2F_vBtY",
        "outputId": "5f336663-5616-469e-a143-32f8899f80b6",
        "colab": {
          "base_uri": "https://localhost:8080/"
        }
      },
      "execution_count": null,
      "outputs": [
        {
          "output_type": "stream",
          "name": "stdout",
          "text": [
            "Unión: {1, 4, 5, 6, 7}\n"
          ]
        }
      ]
    },
    {
      "cell_type": "code",
      "source": [
        "# Intersección de sets (elementos comunes)\n",
        "interseccion = numeros.intersection(otro_set)\n",
        "print(\"Intersección:\", interseccion)\n"
      ],
      "metadata": {
        "id": "0AU3PFc1vCh2",
        "outputId": "63088ed8-241a-45f9-81ec-6c423459486c",
        "colab": {
          "base_uri": "https://localhost:8080/"
        }
      },
      "execution_count": null,
      "outputs": [
        {
          "output_type": "stream",
          "name": "stdout",
          "text": [
            "Intersección: {4, 5, 6}\n"
          ]
        }
      ]
    },
    {
      "cell_type": "markdown",
      "source": [
        "### Ejercicio 2: Operaciones con Sets\n",
        "\n",
        "- Crea dos sets de números: uno con números del 1 al 10 y otro con números del 5 al 15.\n",
        "- Encuentra la intersección y unión de ambos sets.\n",
        "- Elimina un número del primer set.\n",
        "- Usa un set para almacenar los nombres de tus amigos. Asegúrate de que no haya duplicados."
      ],
      "metadata": {
        "id": "y15kQNAQvFx_"
      }
    },
    {
      "cell_type": "code",
      "source": [
        "\n",
        "lista_1 = list(set([x for x in range(1,11)]))\n",
        "\n",
        "lista_2 = list(set([x for x in range(5,16)]))\n",
        "\n",
        "print(lista_1)\n",
        "print(lista_2)\n",
        "\n",
        "lista_1.remove(2)\n",
        "lista_1\n",
        "\n",
        "nombres = []\n",
        "\n",
        "while True:\n",
        "    nombre = input('ingrese nombres: ')\n",
        "    if nombre == 'exit':\n",
        "      break\n",
        "    else:\n",
        "     nombres.append(nombre)\n",
        "\n",
        "\n"
      ],
      "metadata": {
        "id": "CqudC_sBvJEQ",
        "outputId": "c71ea87f-ee87-44a7-f447-368a49f0971f",
        "colab": {
          "base_uri": "https://localhost:8080/"
        }
      },
      "execution_count": null,
      "outputs": [
        {
          "name": "stdout",
          "output_type": "stream",
          "text": [
            "[1, 2, 3, 4, 5, 6, 7, 8, 9, 10]\n",
            "[5, 6, 7, 8, 9, 10, 11, 12, 13, 14, 15]\n",
            "ingrese nombres: carlos\n",
            "ingrese nombres: gian\n",
            "ingrese nombres: omar\n",
            "ingrese nombres: juan\n",
            "ingrese nombres: gian\n",
            "ingrese nombres: carlos\n",
            "ingrese nombres: exit\n"
          ]
        }
      ]
    },
    {
      "cell_type": "code",
      "source": [
        "nombres\n",
        "\n",
        "nombres_finales = set(nombres)\n",
        "\n",
        "nombres_finales"
      ],
      "metadata": {
        "id": "rmGZvze0ThV-",
        "outputId": "edcbb251-36eb-43de-ba17-4577367d6927",
        "colab": {
          "base_uri": "https://localhost:8080/"
        }
      },
      "execution_count": null,
      "outputs": [
        {
          "output_type": "execute_result",
          "data": {
            "text/plain": [
              "{'carlos', 'gian', 'juan', 'omar'}"
            ]
          },
          "metadata": {},
          "execution_count": 51
        }
      ]
    },
    {
      "cell_type": "markdown",
      "source": [
        "## 3. Matrices\n",
        "\n",
        "En Python, las matrices pueden representarse como listas de listas. Para manipular matrices más avanzadas y realizar cálculos eficientes, utilizamos la librería NumPy."
      ],
      "metadata": {
        "id": "Pg3-dd-KvK9D"
      }
    },
    {
      "cell_type": "markdown",
      "source": [
        "### Ejemplo 3.1: Matrices con Listas de Listas\n"
      ],
      "metadata": {
        "id": "X7qGslkLvNya"
      }
    },
    {
      "cell_type": "code",
      "source": [
        "# Crear una matriz 3x3 con listas anidadas\n",
        "matriz = [\n",
        "    [1, 2, 3],\n",
        "    [4, 5, 6],\n",
        "    [7, 8, 9]\n",
        "]\n",
        "print(matriz)\n"
      ],
      "metadata": {
        "id": "TK57Y4GUvQ3Z",
        "outputId": "b9f0b6af-b9a5-4281-e59c-dfe45683d592",
        "colab": {
          "base_uri": "https://localhost:8080/"
        }
      },
      "execution_count": null,
      "outputs": [
        {
          "output_type": "stream",
          "name": "stdout",
          "text": [
            "[[1, 2, 3], [4, 5, 6], [7, 8, 9]]\n"
          ]
        }
      ]
    },
    {
      "cell_type": "code",
      "source": [
        "# Acceder a elementos de la matriz\n",
        "print(\"Elemento en [1][1]:\", matriz[1][1])\n",
        "\n",
        "matriz[1][2] = 2\n",
        "\n",
        "matriz\n"
      ],
      "metadata": {
        "id": "D0MpaT6xvSH6",
        "outputId": "497821a7-0154-4a0a-8a2d-c6012e43a91a",
        "colab": {
          "base_uri": "https://localhost:8080/"
        }
      },
      "execution_count": null,
      "outputs": [
        {
          "output_type": "stream",
          "name": "stdout",
          "text": [
            "Elemento en [1][1]: 5\n"
          ]
        },
        {
          "output_type": "execute_result",
          "data": {
            "text/plain": [
              "[[1, 2, 3], [4, 5, 2], [10, 8, 9]]"
            ]
          },
          "metadata": {},
          "execution_count": 60
        }
      ]
    },
    {
      "cell_type": "code",
      "source": [
        "}# Modificar un elemento\n",
        "matriz[2][0] = 10\n",
        "print(matriz)"
      ],
      "metadata": {
        "id": "02wHfdwMvUB_",
        "outputId": "db117f98-73fe-430c-b618-7ac174bbd4d6",
        "colab": {
          "base_uri": "https://localhost:8080/"
        }
      },
      "execution_count": null,
      "outputs": [
        {
          "output_type": "stream",
          "name": "stdout",
          "text": [
            "[[1, 2, 3], [4, 5, 6], [10, 8, 9]]\n"
          ]
        }
      ]
    },
    {
      "cell_type": "markdown",
      "source": [
        "### Ejemplo 3.2: Manipulación de Matrices con NumPy\n"
      ],
      "metadata": {
        "id": "3cCGTHmTvXXy"
      }
    },
    {
      "cell_type": "code",
      "source": [
        "import numpy as np\n",
        "\n",
        "# Crear una matriz 3x3 con NumPy\n",
        "matriz_np = np.array([\n",
        "    [1, 2, 3],\n",
        "    [4, 5, 6],\n",
        "    [7, 8, 9]\n",
        "])\n",
        "print(matriz_np)\n",
        "\n",
        "\n"
      ],
      "metadata": {
        "id": "FZytH_LBvZrP",
        "outputId": "1902f76f-e233-4dd7-95e5-0e6cdf2ec906",
        "colab": {
          "base_uri": "https://localhost:8080/"
        }
      },
      "execution_count": null,
      "outputs": [
        {
          "output_type": "stream",
          "name": "stdout",
          "text": [
            "[[1 2 3]\n",
            " [4 5 6]\n",
            " [7 8 9]]\n"
          ]
        }
      ]
    },
    {
      "cell_type": "code",
      "source": [
        "# Sumar 10 a cada elemento\n",
        "print(matriz_np + 10)\n",
        "\n"
      ],
      "metadata": {
        "id": "n2yT2V3tvbEE",
        "outputId": "23bfe568-e0fa-4cbc-9424-78526c9ba85c",
        "colab": {
          "base_uri": "https://localhost:8080/"
        }
      },
      "execution_count": null,
      "outputs": [
        {
          "output_type": "stream",
          "name": "stdout",
          "text": [
            "[[11 12 13]\n",
            " [14 15 16]\n",
            " [17 18 19]]\n"
          ]
        }
      ]
    },
    {
      "cell_type": "code",
      "source": [
        "# Multiplicar cada elemento por 2\n",
        "print(matriz_np * 2)"
      ],
      "metadata": {
        "id": "RS-Cqk3rvb7k",
        "outputId": "65eb3c90-dc32-4a84-884e-9159ac515409",
        "colab": {
          "base_uri": "https://localhost:8080/"
        }
      },
      "execution_count": null,
      "outputs": [
        {
          "output_type": "stream",
          "name": "stdout",
          "text": [
            "[[ 2  4  6]\n",
            " [ 8 10 12]\n",
            " [14 16 18]]\n"
          ]
        }
      ]
    },
    {
      "cell_type": "markdown",
      "source": [
        "### Ejercicio 3: Operaciones con Matrices\n",
        "\n",
        "- Crea una matriz 3x3 usando listas de listas.\n",
        "- Modifica un valor de la matriz y muestra la matriz actualizada.\n",
        "- Usa NumPy para crear una matriz 4x4 con números aleatorios enteros.\n",
        "- Realiza una operación de suma con la matriz (suma 5 a cada elemento).\n",
        "- Multiplica los elementos de la matriz por 2 usando NumPy."
      ],
      "metadata": {
        "id": "lR6HCR3DveEn"
      }
    },
    {
      "cell_type": "code",
      "source": [
        "import numpy as np"
      ],
      "metadata": {
        "id": "d-UyeBd3mOJv"
      },
      "execution_count": 3,
      "outputs": []
    },
    {
      "cell_type": "code",
      "source": [
        "import numpy as numpy"
      ],
      "metadata": {
        "id": "SASI5QJBmZEH"
      },
      "execution_count": 6,
      "outputs": []
    },
    {
      "cell_type": "code",
      "source": [
        "matriz = np.random.randint(0, 10, size=(4, 3,2))\n",
        "print(matriz)\n"
      ],
      "metadata": {
        "colab": {
          "base_uri": "https://localhost:8080/"
        },
        "id": "0U9-F_RNmQhH",
        "outputId": "0786e05b-dc91-4112-f43c-825035943e3a"
      },
      "execution_count": 14,
      "outputs": [
        {
          "output_type": "stream",
          "name": "stdout",
          "text": [
            "[[[0 0]\n",
            "  [1 1]\n",
            "  [9 3]]\n",
            "\n",
            " [[9 2]\n",
            "  [0 4]\n",
            "  [5 0]]\n",
            "\n",
            " [[5 8]\n",
            "  [1 2]\n",
            "  [4 8]]\n",
            "\n",
            " [[3 9]\n",
            "  [2 7]\n",
            "  [4 8]]]\n"
          ]
        }
      ]
    },
    {
      "cell_type": "code",
      "source": [
        "valores = np.array([10, 25, 35, 60, 90])"
      ],
      "metadata": {
        "id": "MODFbEKhmy77"
      },
      "execution_count": 15,
      "outputs": []
    },
    {
      "cell_type": "markdown",
      "source": [
        "📊 Ejercicio 1: Normalización de datos\n",
        "\n",
        "Tienes este array:\n",
        "\n",
        "valores = np.array([10, 25, 35, 60, 90])\n",
        "\n",
        "\n",
        "👉 Normaliza los valores para que estén entre 0 y 1.\n",
        "(Fórmula: (x - min) / (max - min))"
      ],
      "metadata": {
        "id": "Xa3Waievm3Vk"
      }
    },
    {
      "cell_type": "code",
      "source": [
        "minimo = np.min(valores)\n",
        "maximo = np.max(valores)\n",
        "\n",
        "normalizado = []\n",
        "\n",
        "for i in valores:\n",
        "  normal = (i - minimo)/(maximo - minimo)\n",
        "  normalizado.append(normal)\n",
        "\n",
        "\n",
        "\n"
      ],
      "metadata": {
        "id": "99-6lTZmm33j"
      },
      "execution_count": 19,
      "outputs": []
    },
    {
      "cell_type": "code",
      "source": [
        "normalizado2 = (valores - minimo) / (maximo - minimo)"
      ],
      "metadata": {
        "id": "qzce5_RCnvAZ"
      },
      "execution_count": 21,
      "outputs": []
    },
    {
      "cell_type": "code",
      "source": [
        "normalizado2"
      ],
      "metadata": {
        "colab": {
          "base_uri": "https://localhost:8080/"
        },
        "id": "RsBwG9F5nw15",
        "outputId": "560b8584-b26e-470f-aae6-9e15935bbacb"
      },
      "execution_count": 22,
      "outputs": [
        {
          "output_type": "execute_result",
          "data": {
            "text/plain": [
              "array([0.    , 0.1875, 0.3125, 0.625 , 1.    ])"
            ]
          },
          "metadata": {},
          "execution_count": 22
        }
      ]
    },
    {
      "cell_type": "markdown",
      "source": [
        "📉 Ejercicio 2: Filtrado de datos\n",
        "\n",
        "Crea una matriz 6x4 con números aleatorios entre 0 y 100.\n",
        "👉 Luego, extrae solo las filas donde todos los números son mayores a 50."
      ],
      "metadata": {
        "id": "4GA-A4lAn2Ub"
      }
    },
    {
      "cell_type": "code",
      "source": [
        "matriz = np.random.randint(0,100,size = (6,4))\n",
        "\n",
        "matriz"
      ],
      "metadata": {
        "colab": {
          "base_uri": "https://localhost:8080/"
        },
        "id": "njtpIxDmn10h",
        "outputId": "98bb62a8-7c02-474d-b57d-c562c65d9c2b"
      },
      "execution_count": 30,
      "outputs": [
        {
          "output_type": "execute_result",
          "data": {
            "text/plain": [
              "array([[82, 93, 35, 82],\n",
              "       [44, 72, 13, 30],\n",
              "       [13, 34, 85, 98],\n",
              "       [15, 25, 40, 36],\n",
              "       [79, 18, 20, 23],\n",
              "       [84, 65, 83, 73]])"
            ]
          },
          "metadata": {},
          "execution_count": 30
        }
      ]
    },
    {
      "cell_type": "code",
      "source": [
        "lista = matriz > 50"
      ],
      "metadata": {
        "id": "WQbgLVBsoJZk"
      },
      "execution_count": 26,
      "outputs": []
    },
    {
      "cell_type": "code",
      "source": [
        "filtro = np.all(matriz>50,axis=1)\n",
        "filtro"
      ],
      "metadata": {
        "id": "cC8aOmpVogpu",
        "outputId": "72229262-00c1-4205-dd3a-33adfedb7d95",
        "colab": {
          "base_uri": "https://localhost:8080/"
        }
      },
      "execution_count": 42,
      "outputs": [
        {
          "output_type": "execute_result",
          "data": {
            "text/plain": [
              "array([False, False, False, False, False,  True])"
            ]
          },
          "metadata": {},
          "execution_count": 42
        }
      ]
    },
    {
      "cell_type": "code",
      "source": [
        "filtro\n",
        "filtradas = matriz[filtro]\n",
        "filtradas"
      ],
      "metadata": {
        "id": "7jCb5B-bo0po",
        "outputId": "d451c7d5-31c3-43b0-a2c7-4608cde131d8",
        "colab": {
          "base_uri": "https://localhost:8080/"
        }
      },
      "execution_count": 43,
      "outputs": [
        {
          "output_type": "execute_result",
          "data": {
            "text/plain": [
              "array([[84, 65, 83, 73]])"
            ]
          },
          "metadata": {},
          "execution_count": 43
        }
      ]
    },
    {
      "cell_type": "markdown",
      "source": [
        "📈 Ejercicio 3: Promedios por columna\n",
        "\n",
        "Crea una matriz 5x3 con números aleatorios entre 10 y 500.\n",
        "👉 Calcula el promedio de cada columna.\n",
        "Luego, resta ese promedio a cada valor de su columna."
      ],
      "metadata": {
        "id": "Y30LxoDMp0RY"
      }
    },
    {
      "cell_type": "code",
      "source": [
        "matriz = np.random.randint(10,50,size=(5,3))\n",
        "\n",
        "matriz"
      ],
      "metadata": {
        "id": "8g41bWaapzk3",
        "outputId": "c26fcf1b-ee38-4d6f-b79f-f777184d8727",
        "colab": {
          "base_uri": "https://localhost:8080/"
        }
      },
      "execution_count": 47,
      "outputs": [
        {
          "output_type": "execute_result",
          "data": {
            "text/plain": [
              "array([[16, 12, 16],\n",
              "       [43, 23, 19],\n",
              "       [17, 44, 11],\n",
              "       [31, 31, 19],\n",
              "       [39, 17, 31]])"
            ]
          },
          "metadata": {},
          "execution_count": 47
        }
      ]
    },
    {
      "cell_type": "code",
      "source": [
        "promedio = np.average(matriz,axis=0)\n"
      ],
      "metadata": {
        "id": "V11sGYF7qD4R",
        "outputId": "9d3c732d-3253-4cc9-af1c-132a0e17c679",
        "colab": {
          "base_uri": "https://localhost:8080/"
        }
      },
      "execution_count": 48,
      "outputs": [
        {
          "output_type": "execute_result",
          "data": {
            "text/plain": [
              "array([29.2, 25.4, 19.2])"
            ]
          },
          "metadata": {},
          "execution_count": 48
        }
      ]
    },
    {
      "cell_type": "code",
      "source": [
        "nuevos = abs(matriz - promedio)\n",
        "\n",
        "nuevos"
      ],
      "metadata": {
        "id": "cosZu8tYqNxp",
        "outputId": "f0f00a80-2fad-4b99-97ea-bd6ace3bcd5f",
        "colab": {
          "base_uri": "https://localhost:8080/"
        }
      },
      "execution_count": 52,
      "outputs": [
        {
          "output_type": "execute_result",
          "data": {
            "text/plain": [
              "array([[13.2, 13.4,  3.2],\n",
              "       [13.8,  2.4,  0.2],\n",
              "       [12.2, 18.6,  8.2],\n",
              "       [ 1.8,  5.6,  0.2],\n",
              "       [ 9.8,  8.4, 11.8]])"
            ]
          },
          "metadata": {},
          "execution_count": 52
        }
      ]
    },
    {
      "cell_type": "code",
      "source": [
        "lista"
      ],
      "metadata": {
        "id": "r259BfjwoM28",
        "outputId": "b648bb32-fa95-4e83-9cbe-e10de65246cd",
        "colab": {
          "base_uri": "https://localhost:8080/"
        }
      },
      "execution_count": 27,
      "outputs": [
        {
          "output_type": "execute_result",
          "data": {
            "text/plain": [
              "array([[[ True,  True, False, False],\n",
              "        [ True, False, False, False],\n",
              "        [False, False,  True, False],\n",
              "        [ True, False,  True,  True],\n",
              "        [ True, False,  True, False],\n",
              "        [ True, False, False, False]]])"
            ]
          },
          "metadata": {},
          "execution_count": 27
        }
      ]
    },
    {
      "cell_type": "code",
      "source": [
        "matriz = np.random.randint(50, 151, size=(100, 5))"
      ],
      "metadata": {
        "id": "QcbOMyB6q6tr"
      },
      "execution_count": 53,
      "outputs": []
    },
    {
      "cell_type": "code",
      "source": [
        "q1 = np.percentile(matriz, 25, axis=0)\n",
        "q3 = np.percentile(matriz, 75, axis=0)"
      ],
      "metadata": {
        "id": "bAzRXmVtq7lt"
      },
      "execution_count": 54,
      "outputs": []
    },
    {
      "cell_type": "code",
      "source": [
        "iqr = q3 - q1"
      ],
      "metadata": {
        "id": "5kHESh7-rBpv"
      },
      "execution_count": 55,
      "outputs": []
    },
    {
      "cell_type": "code",
      "source": [
        "linf = q1 - 1.5*iqr\n",
        "\n",
        "lsup = q3 + 1.5*iqr"
      ],
      "metadata": {
        "id": "AkEWF0GdrEuq"
      },
      "execution_count": 56,
      "outputs": []
    },
    {
      "cell_type": "code",
      "source": [
        "sin_outliers = np.all((matriz >= linf) & (matriz <= lsup), axis=1)"
      ],
      "metadata": {
        "id": "sJy2mdPJrai5"
      },
      "execution_count": 57,
      "outputs": []
    },
    {
      "cell_type": "code",
      "source": [
        "matriz_limpia = matriz[sin_outliers]\n",
        "\n",
        "matriz_limpia"
      ],
      "metadata": {
        "id": "7rVfcI9frf95",
        "outputId": "d37ac3bf-2b1e-412e-c882-d1fb8434bc5d",
        "colab": {
          "base_uri": "https://localhost:8080/"
        }
      },
      "execution_count": 59,
      "outputs": [
        {
          "output_type": "execute_result",
          "data": {
            "text/plain": [
              "array([[100,  76,  81, 144, 113],\n",
              "       [ 59, 136, 114,  67,  85],\n",
              "       [146,  86,  92, 101,  57],\n",
              "       [144, 103, 112, 128, 149],\n",
              "       [ 80,  90,  84,  92,  52],\n",
              "       [122,  88, 112,  96, 142],\n",
              "       [116, 124,  59,  80, 137],\n",
              "       [ 94, 135,  56,  53,  89],\n",
              "       [127, 125, 134, 148,  96],\n",
              "       [ 62,  84,  55, 141, 136],\n",
              "       [134, 104,  93, 110, 145],\n",
              "       [ 77,  81,  71, 141,  81],\n",
              "       [ 66,  53,  68,  71,  59],\n",
              "       [119, 127, 108,  82,  75],\n",
              "       [150,  65, 137,  62,  92],\n",
              "       [ 72,  74,  92,  70, 115],\n",
              "       [123, 128, 103, 141,  95],\n",
              "       [ 97, 105, 130, 107, 145],\n",
              "       [ 99,  64,  56, 140, 123],\n",
              "       [146,  71, 126, 116,  73],\n",
              "       [117, 128, 119,  70, 114],\n",
              "       [ 59,  51,  63, 117,  82],\n",
              "       [ 72, 102, 143, 104,  97],\n",
              "       [145, 128, 144,  64,  81],\n",
              "       [ 87,  53, 119, 135,  81],\n",
              "       [ 54, 135,  64,  96,  91],\n",
              "       [ 87,  80,  62,  90, 107],\n",
              "       [139,  73, 145,  79,  83],\n",
              "       [108, 125,  61, 102,  84],\n",
              "       [101,  57, 141, 109,  92],\n",
              "       [107, 144, 122,  69, 125],\n",
              "       [ 50, 137,  89,  87, 114],\n",
              "       [136, 102, 118, 143, 121],\n",
              "       [145, 128, 125,  58, 116],\n",
              "       [138,  97,  88,  93, 102],\n",
              "       [126,  94,  83, 110,  63],\n",
              "       [ 58, 150,  66,  66, 129],\n",
              "       [ 96,  65, 117, 101,  76],\n",
              "       [149,  54, 143,  80, 101],\n",
              "       [ 50,  63, 129, 125, 134],\n",
              "       [107, 114,  99, 134,  50],\n",
              "       [136,  98,  69, 117, 131],\n",
              "       [118, 118,  56,  95, 138],\n",
              "       [140,  76, 135,  51, 105],\n",
              "       [119, 143, 131,  66,  65],\n",
              "       [116, 119, 135, 112, 143],\n",
              "       [131, 130,  88,  61, 136],\n",
              "       [123,  65, 148, 108, 136],\n",
              "       [102, 121,  57, 139, 124],\n",
              "       [123,  73,  95, 144,  80],\n",
              "       [ 50,  89, 100, 120, 108],\n",
              "       [140,  85, 139, 124,  67],\n",
              "       [128, 142, 136,  55,  79],\n",
              "       [111,  75, 127,  97, 146],\n",
              "       [139,  99, 117,  75, 101],\n",
              "       [ 83, 113, 120, 132, 126],\n",
              "       [ 75,  59,  75,  59,  71],\n",
              "       [120, 114, 103, 133,  59],\n",
              "       [139,  52,  91, 133,  81],\n",
              "       [112,  60,  57, 106, 131],\n",
              "       [145,  92,  79,  89,  91],\n",
              "       [ 57,  75, 106, 124,  65],\n",
              "       [ 82,  66,  67, 146, 124],\n",
              "       [ 67, 100,  71,  56, 138],\n",
              "       [ 96,  65,  96,  55, 124],\n",
              "       [109,  67, 113, 149, 103],\n",
              "       [ 96,  52,  94, 114, 132],\n",
              "       [120,  68, 109,  73, 104],\n",
              "       [116,  97, 129,  83,  87],\n",
              "       [105,  91,  65,  53,  83],\n",
              "       [ 90,  73,  70, 147, 125],\n",
              "       [ 83, 127,  66, 114,  75],\n",
              "       [ 88,  91, 140,  71, 141],\n",
              "       [ 91, 100, 108, 114,  67],\n",
              "       [125, 119,  88, 130, 100],\n",
              "       [133, 132,  80, 132,  86],\n",
              "       [ 84,  60, 127, 121,  76],\n",
              "       [107,  63,  50,  59,  56],\n",
              "       [ 94,  77,  93,  58, 135],\n",
              "       [102,  53, 137,  94,  52],\n",
              "       [ 51, 145, 112,  98, 146],\n",
              "       [ 68,  97,  74, 150,  82],\n",
              "       [ 76, 109, 130, 123,  82],\n",
              "       [120,  66, 122,  55,  52],\n",
              "       [137, 110,  67, 131, 111],\n",
              "       [ 58, 115, 109,  56, 125],\n",
              "       [ 66, 133, 106, 118, 130],\n",
              "       [118,  56,  94,  84, 103],\n",
              "       [ 67, 148,  63, 140,  90],\n",
              "       [139,  63, 120,  63, 106],\n",
              "       [116,  84, 110, 145, 130],\n",
              "       [114, 140,  62, 100, 132],\n",
              "       [102, 116, 125, 124, 103],\n",
              "       [ 98, 131, 108,  80,  87],\n",
              "       [ 58, 144,  98, 126, 130],\n",
              "       [ 74,  60, 112,  64, 115],\n",
              "       [ 93, 107, 118,  83,  55],\n",
              "       [107, 108, 133, 115, 127],\n",
              "       [113,  61, 100, 127, 150],\n",
              "       [ 71,  73, 125,  64, 115]])"
            ]
          },
          "metadata": {},
          "execution_count": 59
        }
      ]
    },
    {
      "cell_type": "code",
      "source": [],
      "metadata": {
        "colab": {
          "base_uri": "https://localhost:8080/"
        },
        "id": "YRx99Ppdm2HT",
        "outputId": "c466a620-e203-4399-e4bd-ae89e86d7ce0"
      },
      "execution_count": 20,
      "outputs": [
        {
          "output_type": "execute_result",
          "data": {
            "text/plain": [
              "[np.float64(0.0),\n",
              " np.float64(0.1875),\n",
              " np.float64(0.3125),\n",
              " np.float64(0.625),\n",
              " np.float64(1.0)]"
            ]
          },
          "metadata": {},
          "execution_count": 20
        }
      ]
    },
    {
      "cell_type": "code",
      "source": [
        "matriz = [[7,8,9],[10,11,12],[15,16,17]]\n",
        "\n",
        "matriz[0][0] = 1\n",
        "\n",
        "matriz\n",
        "\n",
        "matriz_2 = np.array([[1,2,3,4],[4,5,6,7],[9,10,11,12],[13,14,15,16]])\n",
        "\n",
        "matriz_2*2\n",
        "\n",
        "matriz_2"
      ],
      "metadata": {
        "id": "7RMRCaRPvh1s",
        "outputId": "ee1540fd-efd2-44fb-a71e-7211ae23d106",
        "colab": {
          "base_uri": "https://localhost:8080/",
          "height": 220
        }
      },
      "execution_count": 2,
      "outputs": [
        {
          "output_type": "error",
          "ename": "NameError",
          "evalue": "name 'np' is not defined",
          "traceback": [
            "\u001b[0;31m---------------------------------------------------------------------------\u001b[0m",
            "\u001b[0;31mNameError\u001b[0m                                 Traceback (most recent call last)",
            "\u001b[0;32m/tmp/ipython-input-1139912815.py\u001b[0m in \u001b[0;36m<cell line: 0>\u001b[0;34m()\u001b[0m\n\u001b[1;32m      5\u001b[0m \u001b[0mmatriz\u001b[0m\u001b[0;34m\u001b[0m\u001b[0;34m\u001b[0m\u001b[0m\n\u001b[1;32m      6\u001b[0m \u001b[0;34m\u001b[0m\u001b[0m\n\u001b[0;32m----> 7\u001b[0;31m \u001b[0mmatriz_2\u001b[0m \u001b[0;34m=\u001b[0m \u001b[0mnp\u001b[0m\u001b[0;34m.\u001b[0m\u001b[0marray\u001b[0m\u001b[0;34m(\u001b[0m\u001b[0;34m[\u001b[0m\u001b[0;34m[\u001b[0m\u001b[0;36m1\u001b[0m\u001b[0;34m,\u001b[0m\u001b[0;36m2\u001b[0m\u001b[0;34m,\u001b[0m\u001b[0;36m3\u001b[0m\u001b[0;34m,\u001b[0m\u001b[0;36m4\u001b[0m\u001b[0;34m]\u001b[0m\u001b[0;34m,\u001b[0m\u001b[0;34m[\u001b[0m\u001b[0;36m4\u001b[0m\u001b[0;34m,\u001b[0m\u001b[0;36m5\u001b[0m\u001b[0;34m,\u001b[0m\u001b[0;36m6\u001b[0m\u001b[0;34m,\u001b[0m\u001b[0;36m7\u001b[0m\u001b[0;34m]\u001b[0m\u001b[0;34m,\u001b[0m\u001b[0;34m[\u001b[0m\u001b[0;36m9\u001b[0m\u001b[0;34m,\u001b[0m\u001b[0;36m10\u001b[0m\u001b[0;34m,\u001b[0m\u001b[0;36m11\u001b[0m\u001b[0;34m,\u001b[0m\u001b[0;36m12\u001b[0m\u001b[0;34m]\u001b[0m\u001b[0;34m,\u001b[0m\u001b[0;34m[\u001b[0m\u001b[0;36m13\u001b[0m\u001b[0;34m,\u001b[0m\u001b[0;36m14\u001b[0m\u001b[0;34m,\u001b[0m\u001b[0;36m15\u001b[0m\u001b[0;34m,\u001b[0m\u001b[0;36m16\u001b[0m\u001b[0;34m]\u001b[0m\u001b[0;34m]\u001b[0m\u001b[0;34m)\u001b[0m\u001b[0;34m\u001b[0m\u001b[0;34m\u001b[0m\u001b[0m\n\u001b[0m\u001b[1;32m      8\u001b[0m \u001b[0;34m\u001b[0m\u001b[0m\n\u001b[1;32m      9\u001b[0m \u001b[0mmatriz_2\u001b[0m\u001b[0;34m*\u001b[0m\u001b[0;36m2\u001b[0m\u001b[0;34m\u001b[0m\u001b[0;34m\u001b[0m\u001b[0m\n",
            "\u001b[0;31mNameError\u001b[0m: name 'np' is not defined"
          ]
        }
      ]
    },
    {
      "cell_type": "markdown",
      "source": [
        "## 4. Desafío\n",
        "\n",
        "\n",
        "Eres el encargado de un almacén de productos electrónicos. Tienes un registro de ventas semanales para teléfonos, laptops y tabletas. Necesitas analizar las ventas para mejorar la gestión.\n",
        "\n",
        "- Crea tres listas: una para teléfonos, otra para laptops y otra para tabletas con las ventas de cada día durante una semana.\n",
        "- Usa slicing para obtener las ventas de los últimos 3 días de cada producto.\n",
        "- Usa listas por comprensión para calcular el total de ventas de cada producto y el promedio de ventas diarias.\n",
        "- Clasifica los productos en \"ventas altas\" o \"ventas bajas\" según si el promedio de ventas es mayor o menor a 5.\n",
        "\n",
        "Instrucciones:\n",
        "Usa sum() y len() para calcular el total de ventas y el promedio.\n",
        "Clasifica las ventas usando listas por comprensión."
      ],
      "metadata": {
        "id": "ROqSXb4Avk_T"
      }
    },
    {
      "cell_type": "code",
      "source": [],
      "metadata": {
        "id": "93wXCVCZv4TT"
      },
      "execution_count": null,
      "outputs": []
    },
    {
      "cell_type": "markdown",
      "source": [
        "---\n",
        "\n",
        "# Gracias por completar este laboratorio!\n",
        "\n",
        "---"
      ],
      "metadata": {
        "id": "qUpDNm7iv-Vh"
      }
    }
  ]
}