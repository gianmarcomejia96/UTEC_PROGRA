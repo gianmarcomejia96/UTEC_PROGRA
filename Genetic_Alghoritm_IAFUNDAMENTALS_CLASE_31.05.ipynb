{
  "nbformat": 4,
  "nbformat_minor": 0,
  "metadata": {
    "colab": {
      "provenance": [],
      "authorship_tag": "ABX9TyMTJdxtzT5JX3Ih2BTMJscL",
      "include_colab_link": true
    },
    "kernelspec": {
      "name": "python3",
      "display_name": "Python 3"
    },
    "language_info": {
      "name": "python"
    }
  },
  "cells": [
    {
      "cell_type": "markdown",
      "metadata": {
        "id": "view-in-github",
        "colab_type": "text"
      },
      "source": [
        "<a href=\"https://colab.research.google.com/github/gianmarcomejia96/UTEC_PROGRA/blob/main/Genetic_Alghoritm_IAFUNDAMENTALS_CLASE_31.05.ipynb\" target=\"_parent\"><img src=\"https://colab.research.google.com/assets/colab-badge.svg\" alt=\"Open In Colab\"/></a>"
      ]
    },
    {
      "cell_type": "code",
      "execution_count": null,
      "metadata": {
        "colab": {
          "base_uri": "https://localhost:8080/",
          "height": 193
        },
        "id": "MqYviGlljSkB",
        "outputId": "2b38c012-8edd-44e5-b66e-4cca814bb649"
      },
      "outputs": [
        {
          "output_type": "error",
          "ename": "NameError",
          "evalue": "name 'plot_tsp' is not defined",
          "traceback": [
            "\u001b[0;31m---------------------------------------------------------------------------\u001b[0m",
            "\u001b[0;31mNameError\u001b[0m                                 Traceback (most recent call last)",
            "\u001b[0;32m<ipython-input-11-4b5dd58d0cb5>\u001b[0m in \u001b[0;36m<cell line: 0>\u001b[0;34m()\u001b[0m\n\u001b[1;32m     23\u001b[0m \u001b[0mpopulation\u001b[0m \u001b[0;34m=\u001b[0m \u001b[0mcreate_initial_population\u001b[0m\u001b[0;34m(\u001b[0m\u001b[0;36m10\u001b[0m\u001b[0;34m,\u001b[0m\u001b[0mN\u001b[0m\u001b[0;34m)\u001b[0m\u001b[0;34m\u001b[0m\u001b[0;34m\u001b[0m\u001b[0m\n\u001b[1;32m     24\u001b[0m \u001b[0;34m\u001b[0m\u001b[0m\n\u001b[0;32m---> 25\u001b[0;31m \u001b[0mplot_tsp\u001b[0m\u001b[0;34m(\u001b[0m\u001b[0mcities\u001b[0m\u001b[0;34m,\u001b[0m \u001b[0mpopulation\u001b[0m\u001b[0;34m[\u001b[0m\u001b[0;36m0\u001b[0m\u001b[0;34m]\u001b[0m\u001b[0;34m)\u001b[0m\u001b[0;34m\u001b[0m\u001b[0;34m\u001b[0m\u001b[0m\n\u001b[0m\u001b[1;32m     26\u001b[0m \u001b[0mplot_tsp\u001b[0m\u001b[0;34m(\u001b[0m\u001b[0mcities\u001b[0m\u001b[0;34m,\u001b[0m \u001b[0mpopulation\u001b[0m\u001b[0;34m[\u001b[0m\u001b[0;34m-\u001b[0m\u001b[0;36m1\u001b[0m\u001b[0;34m]\u001b[0m\u001b[0;34m)\u001b[0m\u001b[0;34m\u001b[0m\u001b[0;34m\u001b[0m\u001b[0m\n",
            "\u001b[0;31mNameError\u001b[0m: name 'plot_tsp' is not defined"
          ]
        }
      ],
      "source": [
        "\n",
        "#Population Initialization: Selection\n",
        "\n",
        "#Roulette Wheel Selection: lo malo es que se queda con los mejores y se acota la diversificación, es decir, pierde representatitividad las siguientes generaciones.\n",
        "\n",
        "#Aleatorio\n",
        "N=20\n",
        "import random\n",
        "import numpy as np\n",
        "\n",
        "def fitness(solution):\n",
        "  distance = 0\n",
        "  for i in range(len(solution)-1):\n",
        "    distance += distances[solution[i]][solution[i+1]]\n",
        "  return distance\n",
        "\n",
        "\n",
        "def create_initial_population(pop_size, num_cities):\n",
        "\n",
        "    population = []\n",
        "    for i in range(pop_size):\n",
        "        sol = np.array(list(range(num_cities)))\n",
        "        np.random.shuffle(sol)\n",
        "        population.append(sol)\n",
        "\n",
        "    return population\n",
        "population = create_initial_population(10,N)\n",
        "\n",
        "plot_tsp(cities, population[0])\n",
        "plot_tsp(cities, population[-1])"
      ]
    },
    {
      "cell_type": "markdown",
      "source": [
        "Selección: le doy más proporción a los que tienen mejor fitness. Hago la % del fitness por cada muestra individual."
      ],
      "metadata": {
        "id": "Lrxvk3-ok4tq"
      }
    },
    {
      "cell_type": "code",
      "source": [
        "#esto es para maximizar\n",
        "\n",
        "def roulete_wheel_selecion(population, all_fitness):\n",
        "  total_fitness = sum(all_fitness)\n",
        "\n",
        "  selection_prob =[f/total_fitness for f in all_fitness]\n",
        "  return population[np.random.choice(len(population),p=selection_prob)] #devuelve indices entre 0 al tamaño de la población\n",
        "\n",
        "\n",
        "all_fitness = [fitness(sol) for sol in population]\n",
        "selected = roulete_wheel_selecion(population, all_fitness)\n",
        "print(selected)\n",
        "\n",
        "#Si es para minimizar? #relative portion o el % *-1\n",
        "\n",
        "def roulete_wheel_selecion(population, all_fitness):\n",
        "  max_fitness = max(all_fitness)\n",
        "  inverted_fitness = [max_fitness - f for f in all_fitness]\n",
        "\n",
        "  total_fitness = sum(inverted_fitness)\n",
        "  selection_prob\n",
        "\n",
        "  selection_prob =[f/total_fitness for f in all_fitness]\n",
        "  return population[np.random.choice(len(population),p=selection_prob)] #devuelve indices entre 0 al tamaño de la población\n",
        "\n",
        "\n",
        "\n"
      ],
      "metadata": {
        "id": "uABHt9DDk68s"
      },
      "execution_count": null,
      "outputs": []
    },
    {
      "cell_type": "markdown",
      "source": [],
      "metadata": {
        "id": "ThDmbkpSntvV"
      }
    },
    {
      "cell_type": "code",
      "source": [
        "#Si es para minimizar? #relative portion o el % *-1\n",
        "\n",
        "def roulete_wheel_selecion(population, all_fitness):\n",
        "  max_fitness = max(all_fitness)\n",
        "  inverted_fitness = [max_fitness - f for f in all_fitness]\n",
        "\n",
        "  total_fitness = sum(inverted_fitness)\n",
        "  selection_prob =[f/total_fitness for f in inverted_fitness]\n",
        "\n",
        "  return population[np.random.choice(len(population),p=selection_prob)] #devuelve indices entre 0 al t"
      ],
      "metadata": {
        "id": "hRlfrvIOk7rb"
      },
      "execution_count": null,
      "outputs": []
    },
    {
      "cell_type": "code",
      "source": [
        "#Selection - ii : Stochastic univesal sampling\n",
        "\n",
        "#Gira la ruleta una vez y usa multiples puntos seleccionados con un espacio constante a través de la ruleta.\n",
        "# De golpe, se busca considere malas soluciones.\n",
        "\n",
        "#Mayor diversificación\n",
        "\n",
        "\n",
        "#Rank Based Selection: Le pones un Rank y la diferencia entre las soluciones se vuelve equitativa.\n",
        "# Mayor equidad, #Mayor diversidad\n",
        "\n",
        "# Un individuo es una solución.\n",
        "\n",
        "\n",
        "#Fitness Scaling: Menor y mayor fitness.\n",
        "\n",
        "# 50 =  a x 4 + b\n",
        "# 100 = a x 45 +b\n",
        "# a=1.22 , b = 45.12\n",
        "\n",
        "#scaled fitness = a x (raw_fitness) + b\n",
        "\n",
        "#Genero los nuevos fitness scalados -> relative portion. en una primera generación, aplico en la siguiente.\n",
        "\n",
        "#El que mas se usa es el Tournament Selection:\n",
        "#1. defino un tamaño de torneo: n\n",
        "#2. Veo cual es el mejor de los n, luego lo hago nuevamente y tomo nuevamente cualquiera y volvemos a tomar el mejor.\n",
        "\n",
        "#Cross over:  una padre un madre, un punto de cruce.\n"
      ],
      "metadata": {
        "id": "C7j0GGIlk5_4"
      },
      "execution_count": null,
      "outputs": []
    },
    {
      "cell_type": "code",
      "source": [
        "#Crossover\n",
        "\n",
        "def single_point_crossover(parent_1, parent_2):\n",
        "  cross_over_point = random.randint(1,len(parent_1)-1)\n",
        "  offspring1 = parent_1[:cross_over_point] + parent_2[cross_over_point:] #primera mitad del p1 y segunda mitad del p2.\n",
        "  offspring2 = parent_2[:cross_over_point] + parent_1[cross_over_point:] #primera mitad del p2 y la segunda mitad del p1.\n",
        "\n",
        "  return offspring1, offspring2\n",
        "\n",
        "o1 , o2 = single_point_crossover(list(population[0]), list(population[1]))\n",
        "\n",
        "for e in population[0]: print(e, end = \",\")\n",
        "print()\n",
        "\n",
        "for e in population[1]: print(e, end = \",\")\n",
        "print()\n",
        "\n",
        "for e in o1: print(e, end = \",\")\n",
        "print()\n",
        "for e in o2: print(e, end = \",\")\n",
        "#en este caso, no pasa por todos los puntos.\n",
        "\n",
        "\n",
        "\n",
        "\n"
      ],
      "metadata": {
        "colab": {
          "base_uri": "https://localhost:8080/"
        },
        "id": "xCL1TPgHkwTG",
        "outputId": "3b5168e1-4421-4fff-9a60-e123bfd943bf"
      },
      "execution_count": null,
      "outputs": [
        {
          "output_type": "stream",
          "name": "stdout",
          "text": [
            "6,16,1,19,17,3,18,11,7,2,15,9,10,5,12,14,4,13,8,0,\n",
            "0,18,5,11,10,2,3,16,14,1,17,19,12,9,4,8,6,13,15,7,\n",
            "6,16,5,11,10,2,3,16,14,1,17,19,12,9,4,8,6,13,15,7,\n",
            "0,18,1,19,17,3,18,11,7,2,15,9,10,5,12,14,4,13,8,0,"
          ]
        }
      ]
    },
    {
      "cell_type": "code",
      "source": [
        "#ordered crossover: Igual que el crossover, pero se hace un cruce con los datos del padre para completar con los puntos que falten.\n",
        "#Es decir, el hijo, va a tener valaores del padre 2, y lo demas va a ser del padre 1 analizando y completando con los valores faltantes\n",
        "#Asegura que pase por todos los puntos.\n",
        "\n",
        "SAAFSAFSAD\n"
      ],
      "metadata": {
        "id": "nN5K74uW41RB"
      },
      "execution_count": null,
      "outputs": []
    },
    {
      "cell_type": "code",
      "source": [],
      "metadata": {
        "id": "3wFFHPrEkiHr"
      },
      "execution_count": null,
      "outputs": []
    }
  ]
}