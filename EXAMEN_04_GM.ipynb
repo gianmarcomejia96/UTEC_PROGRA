{
  "nbformat": 4,
  "nbformat_minor": 0,
  "metadata": {
    "colab": {
      "provenance": [],
      "authorship_tag": "ABX9TyOCzuCULfeCyRbersemIVoK",
      "include_colab_link": true
    },
    "kernelspec": {
      "name": "python3",
      "display_name": "Python 3"
    },
    "language_info": {
      "name": "python"
    }
  },
  "cells": [
    {
      "cell_type": "markdown",
      "metadata": {
        "id": "view-in-github",
        "colab_type": "text"
      },
      "source": [
        "<a href=\"https://colab.research.google.com/github/gianmarcomejia96/UTEC_PROGRA/blob/main/EXAMEN_04_GM.ipynb\" target=\"_parent\"><img src=\"https://colab.research.google.com/assets/colab-badge.svg\" alt=\"Open In Colab\"/></a>"
      ]
    },
    {
      "cell_type": "code",
      "execution_count": null,
      "metadata": {
        "id": "Um6wa33cJ7Vn"
      },
      "outputs": [],
      "source": [
        "import pandas as pd"
      ]
    },
    {
      "cell_type": "code",
      "source": [
        "#Nombre: Gianmarco Mejía Meléndez\n",
        "#Pregunta 1"
      ],
      "metadata": {
        "id": "EHR9KHILLMSF"
      },
      "execution_count": 58,
      "outputs": []
    },
    {
      "cell_type": "code",
      "source": [
        "df_diabetes = pd.read_csv('diabetes.csv')"
      ],
      "metadata": {
        "id": "-PqLpem3KJOl"
      },
      "execution_count": 2,
      "outputs": []
    },
    {
      "cell_type": "code",
      "source": [
        "print(df_diabetes.head(6))"
      ],
      "metadata": {
        "colab": {
          "base_uri": "https://localhost:8080/"
        },
        "id": "FuvEQyQGKm5w",
        "outputId": "6f4c9bb6-f645-4186-d5eb-c0ac57b2cfb4"
      },
      "execution_count": 16,
      "outputs": [
        {
          "output_type": "stream",
          "name": "stdout",
          "text": [
            "   Pregnancies  Glucose  BloodPressure  SkinThickness  Insulin   BMI  \\\n",
            "0            6      148             72             35        0  33.6   \n",
            "1            1       85             66             29        0  26.6   \n",
            "2            8      183             64              0        0  23.3   \n",
            "3            1       89             66             23       94  28.1   \n",
            "4            0      137             40             35      168  43.1   \n",
            "5            5      116             74              0        0  25.6   \n",
            "\n",
            "   DiabetesPedigreeFunction  Age Outcome  \n",
            "0                     0.627   50       1  \n",
            "1                     0.351   31       0  \n",
            "2                     0.672   32       1  \n",
            "3                     0.167   21       0  \n",
            "4                     2.288   33       1  \n",
            "5                     0.201   30       0  \n"
          ]
        }
      ]
    },
    {
      "cell_type": "code",
      "source": [
        "print(f\"# filas: {df_diabetes.shape[0]}\")\n",
        "print(f\"# columnas: {df_diabetes.shape[1]}\")\n",
        "print(\"Tipos de datos:\")\n",
        "print(df_diabetes.dtypes)\n"
      ],
      "metadata": {
        "colab": {
          "base_uri": "https://localhost:8080/"
        },
        "id": "-Ergs7c_KqGg",
        "outputId": "fdc69c0e-8555-4035-ffc0-16addadc46e0"
      },
      "execution_count": 9,
      "outputs": [
        {
          "output_type": "stream",
          "name": "stdout",
          "text": [
            "# filas: 768\n",
            "# columnas: 9\n",
            "Tipos de datos:\n",
            "Pregnancies                    int64\n",
            "Glucose                        int64\n",
            "BloodPressure                  int64\n",
            "SkinThickness                  int64\n",
            "Insulin                        int64\n",
            "BMI                          float64\n",
            "DiabetesPedigreeFunction     float64\n",
            "Age                            int64\n",
            "Outcome                     category\n",
            "dtype: object\n"
          ]
        }
      ]
    },
    {
      "cell_type": "code",
      "source": [
        "df_diabetes['Outcome'] = df_diabetes['Outcome'].astype('category')"
      ],
      "metadata": {
        "id": "O2ZmDYurKvlB"
      },
      "execution_count": 7,
      "outputs": []
    },
    {
      "cell_type": "code",
      "source": [
        "print(df_diabetes.info())"
      ],
      "metadata": {
        "colab": {
          "base_uri": "https://localhost:8080/"
        },
        "id": "HUYJ_W7dKya5",
        "outputId": "ab0a3056-8aec-4ca1-b8ec-39d6af02aaa7"
      },
      "execution_count": 8,
      "outputs": [
        {
          "output_type": "stream",
          "name": "stdout",
          "text": [
            "<class 'pandas.core.frame.DataFrame'>\n",
            "RangeIndex: 768 entries, 0 to 767\n",
            "Data columns (total 9 columns):\n",
            " #   Column                    Non-Null Count  Dtype   \n",
            "---  ------                    --------------  -----   \n",
            " 0   Pregnancies               768 non-null    int64   \n",
            " 1   Glucose                   768 non-null    int64   \n",
            " 2   BloodPressure             768 non-null    int64   \n",
            " 3   SkinThickness             768 non-null    int64   \n",
            " 4   Insulin                   768 non-null    int64   \n",
            " 5   BMI                       768 non-null    float64 \n",
            " 6   DiabetesPedigreeFunction  768 non-null    float64 \n",
            " 7   Age                       768 non-null    int64   \n",
            " 8   Outcome                   768 non-null    category\n",
            "dtypes: category(1), float64(2), int64(6)\n",
            "memory usage: 49.0 KB\n",
            "None\n"
          ]
        }
      ]
    },
    {
      "cell_type": "code",
      "source": [
        "#Pregunta 2"
      ],
      "metadata": {
        "id": "eqoe7kHnK1rR"
      },
      "execution_count": null,
      "outputs": []
    },
    {
      "cell_type": "code",
      "source": [
        "df_filtrado = df_diabetes[df_diabetes['Glucose'] > 120].copy()"
      ],
      "metadata": {
        "id": "pfr8y-uxLQN1"
      },
      "execution_count": 10,
      "outputs": []
    },
    {
      "cell_type": "code",
      "source": [
        "df_filtrado['BMI_Category'] = [\n",
        "    'Bajo' if bmi < 18.5 else\n",
        "    'Normal' if bmi < 25 else\n",
        "    'Sobrepeso' if bmi < 30 else\n",
        "    'Obeso'\n",
        "    for bmi in df_filtrado['BMI']\n",
        "]"
      ],
      "metadata": {
        "id": "dEMSVTIjLcHm"
      },
      "execution_count": 11,
      "outputs": []
    },
    {
      "cell_type": "code",
      "source": [
        "print(df_filtrado.head(6))"
      ],
      "metadata": {
        "colab": {
          "base_uri": "https://localhost:8080/"
        },
        "id": "iJp9lroNLoIA",
        "outputId": "941f4114-b4d9-4730-9943-032e16e73541"
      },
      "execution_count": 17,
      "outputs": [
        {
          "output_type": "stream",
          "name": "stdout",
          "text": [
            "    Pregnancies  Glucose  BloodPressure  SkinThickness  Insulin   BMI  \\\n",
            "0             6      148             72             35        0  33.6   \n",
            "2             8      183             64              0        0  23.3   \n",
            "4             0      137             40             35      168  43.1   \n",
            "8             2      197             70             45      543  30.5   \n",
            "9             8      125             96              0        0   0.0   \n",
            "11           10      168             74              0        0  38.0   \n",
            "\n",
            "    DiabetesPedigreeFunction  Age Outcome BMI_Category  \n",
            "0                      0.627   50       1        Obeso  \n",
            "2                      0.672   32       1       Normal  \n",
            "4                      2.288   33       1        Obeso  \n",
            "8                      0.158   53       1        Obeso  \n",
            "9                      0.232   54       1         Bajo  \n",
            "11                     0.537   34       1        Obeso  \n"
          ]
        }
      ]
    },
    {
      "cell_type": "code",
      "source": [
        "#Pregunta 3"
      ],
      "metadata": {
        "id": "tDLdMu3ULrK5"
      },
      "execution_count": null,
      "outputs": []
    },
    {
      "cell_type": "code",
      "source": [
        "df_age_groups = pd.read_csv(\"age_groups.csv\")"
      ],
      "metadata": {
        "id": "Pk3jzR2iL2QD"
      },
      "execution_count": 21,
      "outputs": []
    },
    {
      "cell_type": "code",
      "source": [
        "df_combinado = pd.merge(df_diabetes, df_age_groups, on='Age', how='left')"
      ],
      "metadata": {
        "id": "wk8T2tBOMOV1"
      },
      "execution_count": 23,
      "outputs": []
    },
    {
      "cell_type": "code",
      "source": [
        "print(df_combinado.head(6))"
      ],
      "metadata": {
        "colab": {
          "base_uri": "https://localhost:8080/"
        },
        "id": "JRLrQR7eMbMW",
        "outputId": "d17d19fe-466a-462f-d998-7bac5ec4b613"
      },
      "execution_count": 25,
      "outputs": [
        {
          "output_type": "stream",
          "name": "stdout",
          "text": [
            "   Pregnancies  Glucose  BloodPressure  SkinThickness  Insulin   BMI  \\\n",
            "0            6      148             72             35        0  33.6   \n",
            "1            1       85             66             29        0  26.6   \n",
            "2            8      183             64              0        0  23.3   \n",
            "3            1       89             66             23       94  28.1   \n",
            "4            0      137             40             35      168  43.1   \n",
            "5            5      116             74              0        0  25.6   \n",
            "\n",
            "   DiabetesPedigreeFunction  Age Outcome AgeGroup  \n",
            "0                     0.627   50       1   Adulto  \n",
            "1                     0.351   31       0   Adulto  \n",
            "2                     0.672   32       1   Adulto  \n",
            "3                     0.167   21       0    Joven  \n",
            "4                     2.288   33       1   Adulto  \n",
            "5                     0.201   30       0    Joven  \n"
          ]
        }
      ]
    },
    {
      "cell_type": "code",
      "source": [
        "#Pregunta 4"
      ],
      "metadata": {
        "id": "cPKVVxYcMfAH"
      },
      "execution_count": null,
      "outputs": []
    },
    {
      "cell_type": "code",
      "source": [
        "df_resumen = df_combinado.groupby('AgeGroup')[['Glucose', 'BMI']]"
      ],
      "metadata": {
        "id": "4ZpGO7wcMx4B"
      },
      "execution_count": 30,
      "outputs": []
    },
    {
      "cell_type": "code",
      "source": [
        "df_resumen = df_combinado.groupby('AgeGroup')[['Glucose', 'BMI']].mean()"
      ],
      "metadata": {
        "id": "OONqVXrvM8NT"
      },
      "execution_count": 32,
      "outputs": []
    },
    {
      "cell_type": "code",
      "source": [
        "print(df_resumen)"
      ],
      "metadata": {
        "colab": {
          "base_uri": "https://localhost:8080/"
        },
        "id": "EmgyWPwAM_VE",
        "outputId": "7bbf2f22-8702-4828-b135-3192bc370617"
      },
      "execution_count": 28,
      "outputs": [
        {
          "output_type": "stream",
          "name": "stdout",
          "text": [
            "                 Glucose        BMI\n",
            "AgeGroup                           \n",
            "Adulto        125.637037  33.562593\n",
            "Adulto_Mayor  139.679012  30.211111\n",
            "Joven         114.175060  31.322062\n"
          ]
        }
      ]
    },
    {
      "cell_type": "code",
      "source": [
        "df_resumen = df_resumen.sort_values(by='Glucose', ascending=False)"
      ],
      "metadata": {
        "id": "dqdD-nAINB-7"
      },
      "execution_count": 33,
      "outputs": []
    },
    {
      "cell_type": "code",
      "source": [
        "print(df_resumen)"
      ],
      "metadata": {
        "colab": {
          "base_uri": "https://localhost:8080/"
        },
        "id": "fyp3FD0ANQyV",
        "outputId": "288c4a83-4b35-4424-a159-2798ffaa3564"
      },
      "execution_count": 34,
      "outputs": [
        {
          "output_type": "stream",
          "name": "stdout",
          "text": [
            "                 Glucose        BMI\n",
            "AgeGroup                           \n",
            "Adulto_Mayor  139.679012  30.211111\n",
            "Adulto        125.637037  33.562593\n",
            "Joven         114.175060  31.322062\n"
          ]
        }
      ]
    },
    {
      "cell_type": "code",
      "source": [
        "#Pregunta 5"
      ],
      "metadata": {
        "id": "KFeftkzjNSw-"
      },
      "execution_count": null,
      "outputs": []
    },
    {
      "cell_type": "code",
      "source": [
        "adultos_diabeticos = df_combinado[(df_combinado['AgeGroup'] == 'Adulto') & (df_combinado['Outcome'] == 1)]"
      ],
      "metadata": {
        "id": "u0m90CkdNW8O"
      },
      "execution_count": 35,
      "outputs": []
    },
    {
      "cell_type": "code",
      "source": [
        "top5_bmi = adultos_diabeticos.nlargest(5, 'BMI')"
      ],
      "metadata": {
        "id": "57JUBBP5NchX"
      },
      "execution_count": 39,
      "outputs": []
    },
    {
      "cell_type": "code",
      "source": [
        "resultado = top5_bmi[['Age', 'Glucose', 'BMI', 'DiabetesPedigreeFunction']].sort_values(by='BMI', ascending=False)\n",
        "\n",
        "print(resultado)"
      ],
      "metadata": {
        "colab": {
          "base_uri": "https://localhost:8080/"
        },
        "id": "JwdMQO5INfdw",
        "outputId": "d79d4c3c-aa89-4d60-d4f3-8f278f6f1d38"
      },
      "execution_count": 40,
      "outputs": [
        {
          "output_type": "stream",
          "name": "stdout",
          "text": [
            "     Age  Glucose   BMI  DiabetesPedigreeFunction\n",
            "193   40      135  52.3                     0.578\n",
            "155   36      152  50.0                     0.337\n",
            "99    31      122  49.7                     0.325\n",
            "84    37      137  48.8                     0.227\n",
            "378   32      156  48.3                     0.238\n"
          ]
        }
      ]
    },
    {
      "cell_type": "code",
      "source": [
        "#Pregunta 6"
      ],
      "metadata": {
        "id": "Eljzra-jPLNF"
      },
      "execution_count": null,
      "outputs": []
    },
    {
      "cell_type": "code",
      "source": [
        "pivot_table = pd.pivot_table(\n",
        "    df_combinado,\n",
        "    index='AgeGroup',\n",
        "    columns='Outcome',\n",
        "    values=['Glucose', 'BMI'],\n",
        "    aggfunc='mean')\n"
      ],
      "metadata": {
        "colab": {
          "base_uri": "https://localhost:8080/"
        },
        "id": "St6ZSQybNp_R",
        "outputId": "bbbddb9e-3f04-4ce2-dc03-8846c10adb8c"
      },
      "execution_count": 42,
      "outputs": [
        {
          "output_type": "stream",
          "name": "stderr",
          "text": [
            "/tmp/ipython-input-42-413962116.py:1: FutureWarning: The default value of observed=False is deprecated and will change to observed=True in a future version of pandas. Specify observed=False to silence this warning and retain the current behavior\n",
            "  pivot_table = pd.pivot_table(\n"
          ]
        }
      ]
    },
    {
      "cell_type": "code",
      "source": [
        "print(\"Tabla:\")\n",
        "print(pivot_table)"
      ],
      "metadata": {
        "colab": {
          "base_uri": "https://localhost:8080/"
        },
        "id": "00jI8GPpNzkC",
        "outputId": "07b48f4e-a570-4886-9654-c32f1822bf05"
      },
      "execution_count": 44,
      "outputs": [
        {
          "output_type": "stream",
          "name": "stdout",
          "text": [
            "Tabla:\n",
            "                    BMI                Glucose            \n",
            "Outcome               0          1           0           1\n",
            "AgeGroup                                                  \n",
            "Adulto        31.923077  35.085000  111.830769  138.457143\n",
            "Adulto_Mayor  28.413953  32.244737  127.209302  153.789474\n",
            "Joven         29.909174  36.455556  106.978593  140.322222\n"
          ]
        }
      ]
    },
    {
      "cell_type": "code",
      "source": [
        "bmi_columns = pivot_table['BMI']\n",
        "filtro_bmi = bmi_columns[(bmi_columns[0] > 30) & (bmi_columns[1] > 30)]\n",
        "print(\"Filtrado por BMI:\")\n",
        "\n",
        "resultado_filtrado = pivot_table.loc[filtro_bmi.index]\n",
        "print(resultado_filtrado)\n"
      ],
      "metadata": {
        "colab": {
          "base_uri": "https://localhost:8080/"
        },
        "id": "h0ePNupeN5nL",
        "outputId": "ea5a5914-21c4-4024-ca2a-d3e06d2368a6"
      },
      "execution_count": 57,
      "outputs": [
        {
          "output_type": "stream",
          "name": "stdout",
          "text": [
            "Filtrado por BMI:\n",
            "                BMI             Glucose            \n",
            "Outcome           0       1           0           1\n",
            "AgeGroup                                           \n",
            "Adulto    31.923077  35.085  111.830769  138.457143\n"
          ]
        }
      ]
    },
    {
      "cell_type": "code",
      "source": [],
      "metadata": {
        "id": "GT3cWGsvOm34"
      },
      "execution_count": null,
      "outputs": []
    }
  ]
}