{
  "nbformat": 4,
  "nbformat_minor": 0,
  "metadata": {
    "colab": {
      "provenance": [],
      "include_colab_link": true
    },
    "kernelspec": {
      "name": "python3",
      "display_name": "Python 3"
    },
    "language_info": {
      "name": "python"
    }
  },
  "cells": [
    {
      "cell_type": "markdown",
      "metadata": {
        "id": "view-in-github",
        "colab_type": "text"
      },
      "source": [
        "<a href=\"https://colab.research.google.com/github/gianmarcomejia96/UTEC_PROGRA/blob/main/06_numpy_arrays_ipynb.ipynb\" target=\"_parent\"><img src=\"https://colab.research.google.com/assets/colab-badge.svg\" alt=\"Open In Colab\"/></a>"
      ]
    },
    {
      "cell_type": "markdown",
      "source": [
        "<img src=\"https://www.ctic.uni.edu.pe/wp-content/uploads/2022/04/588px-x-348px-web-1.png\" alt=\"HTML5 Icon\" width=\"900\" height=\"350\" >\n"
      ],
      "metadata": {
        "id": "ymw2mOrhFyiu"
      }
    },
    {
      "cell_type": "markdown",
      "source": [
        "# **NumPy Arrays**\n"
      ],
      "metadata": {
        "id": "MNMPVfxEF1mE"
      }
    },
    {
      "cell_type": "markdown",
      "source": [
        "**Objetivo**\n",
        "\n",
        "El objetivo de este laboratorio es brindar una comprensión profunda y práctica de la biblioteca NumPy en Python, una herramienta esencial para el cálculo numérico y el análisis en data science.\n"
      ],
      "metadata": {
        "id": "Gn8gUPBiGfrU"
      }
    },
    {
      "cell_type": "markdown",
      "source": [
        "**Índice del Laboratorio**\n",
        "\n",
        "- 1. Introducción y Configuración\n",
        "- 2. Creación de Arrays\n",
        "- 3. Propiedades de los Arrays\n",
        "- 4. Operaciones Básicas\n",
        "- 5. Indexación y Slicing\n",
        "- 6. Manipulación de la Forma\n",
        "- 7. Broadcasting\n",
        "- 8. Álgebra Lineal\n"
      ],
      "metadata": {
        "id": "MnbV7B5LGFuv"
      }
    },
    {
      "cell_type": "markdown",
      "source": [
        "## 1. Introducción y Configuración\n",
        "\n",
        "**¿Qué es NumPy?**\n",
        "\n",
        "NumPy (Numerical Python) es una librería esencial en Python para el cálculo numérico y el análisis de datos. Proporciona:\n",
        "\n",
        "\n",
        "- **Arrays multidimensionales:** Estructuras de datos eficientes para almacenar y manipular grandes conjuntos de datos numéricos.\n",
        "- **Funciones matemáticas:** Operaciones vectorizadas para realizar cálculos rápidos y eficientes.\n",
        "- **Herramientas avanzadas:** Funciones para álgebra lineal, transformadas de Fourier, generación de números aleatorios, y más.\n"
      ],
      "metadata": {
        "id": "AzvAvOKKIHFg"
      }
    },
    {
      "cell_type": "markdown",
      "source": [
        "**Instalación y Configuración**\n",
        "\n",
        "Antes de comenzar, asegúrate de tener NumPy instalado en tu entorno de Python. Puedes instalarlo usando pip:"
      ],
      "metadata": {
        "id": "fRG8iIwnIPcI"
      }
    },
    {
      "cell_type": "code",
      "execution_count": 2,
      "metadata": {
        "id": "E6n0_5YgEx3b",
        "outputId": "401638aa-dd72-478e-81fd-bb7e91853474",
        "colab": {
          "base_uri": "https://localhost:8080/"
        }
      },
      "outputs": [
        {
          "output_type": "stream",
          "name": "stdout",
          "text": [
            "Requirement already satisfied: numpy in /usr/local/lib/python3.11/dist-packages (2.0.2)\n",
            "Versión de NumPy: 2.0.2\n"
          ]
        }
      ],
      "source": [
        "# Instalación\n",
        "!pip install numpy\n",
        "\n",
        "# Importación y verificación de versión\n",
        "import numpy as np\n",
        "print(\"Versión de NumPy:\", np.__version__)\n"
      ]
    },
    {
      "cell_type": "markdown",
      "source": [
        "## 2. Creación de Arrays\n",
        "\n",
        "Los arrays son la base de NumPy y representan colecciones de elementos del mismo tipo de datos. Veamos cómo crearlos de diferentes maneras."
      ],
      "metadata": {
        "id": "RrMGewNBIZn6"
      }
    },
    {
      "cell_type": "markdown",
      "source": [
        "### 2.1. Crear un Array desde una Lista\n",
        "\n"
      ],
      "metadata": {
        "id": "2XsuIW6uId-l"
      }
    },
    {
      "cell_type": "markdown",
      "source": [
        "**Ejemplo 1:** Array Unidimensional"
      ],
      "metadata": {
        "id": "4pvP6k9WIhc0"
      }
    },
    {
      "cell_type": "code",
      "source": [
        "# Array unidimensional desde una lista\n",
        "array_1d = np.array([10, 20, 30, 40])\n",
        "print(\"Array 1D:\", array_1d)\n"
      ],
      "metadata": {
        "id": "qDP_GFbxIkKw"
      },
      "execution_count": null,
      "outputs": []
    },
    {
      "cell_type": "markdown",
      "source": [
        "**Ejemplo 2:** Array Multidimensional\n"
      ],
      "metadata": {
        "id": "mXxNsPyvIlV1"
      }
    },
    {
      "cell_type": "code",
      "source": [
        "# Array bidimensional desde una lista de listas\n",
        "array_2d = np.array([[1, 2, 3], [4, 5, 6]])\n",
        "print(\"Array 2D:\\n\", array_2d)\n"
      ],
      "metadata": {
        "id": "aS-adtWIIn4-"
      },
      "execution_count": null,
      "outputs": []
    },
    {
      "cell_type": "markdown",
      "source": [
        "**Ejercicios**\n",
        "\n",
        "Crea un array unidimensional con los números del 5 al 15.\n"
      ],
      "metadata": {
        "id": "1lO2bWukIpsZ"
      }
    },
    {
      "cell_type": "code",
      "source": [],
      "metadata": {
        "id": "UvYaoXNNIr3s"
      },
      "execution_count": null,
      "outputs": []
    },
    {
      "cell_type": "markdown",
      "source": [
        "Genera un array bidimensional de 2 filas y 3 columnas con números decimales.\n"
      ],
      "metadata": {
        "id": "fQAxYYgGIsPI"
      }
    },
    {
      "cell_type": "code",
      "source": [],
      "metadata": {
        "id": "6xk_t1lvItOc"
      },
      "execution_count": null,
      "outputs": []
    },
    {
      "cell_type": "markdown",
      "source": [
        "Crea un array tridimensional de forma (2, 2, 2) con números enteros."
      ],
      "metadata": {
        "id": "neWSQ9rhItix"
      }
    },
    {
      "cell_type": "code",
      "source": [],
      "metadata": {
        "id": "ipNPU5llIuMe"
      },
      "execution_count": null,
      "outputs": []
    },
    {
      "cell_type": "markdown",
      "source": [
        "### 2.2. Arrays Predefinidos\n",
        "\n",
        "NumPy ofrece funciones para crear arrays con valores predefinidos, lo cual es útil para inicializar matrices o vectores."
      ],
      "metadata": {
        "id": "BfYFGcnUIxHJ"
      }
    },
    {
      "cell_type": "markdown",
      "source": [
        "**Ejemplo 1:** Arrays de Ceros y Unos"
      ],
      "metadata": {
        "id": "PWIFkBp_Iy4P"
      }
    },
    {
      "cell_type": "code",
      "source": [
        "# Array de ceros de forma (3, 3)\n",
        "zeros_array = np.zeros((3, 3))\n",
        "print(\"Array de ceros:\\n\", zeros_array)\n",
        "\n",
        "# Array de unos de forma (2, 4)\n",
        "ones_array = np.ones((2, 4))\n",
        "print(\"Array de unos:\\n\", ones_array)\n"
      ],
      "metadata": {
        "id": "hbuDDRF8I25u"
      },
      "execution_count": null,
      "outputs": []
    },
    {
      "cell_type": "markdown",
      "source": [
        "**Ejemplo 2:** Array de Valores Constantes\n"
      ],
      "metadata": {
        "id": "LqQHXuY7I4Ym"
      }
    },
    {
      "cell_type": "code",
      "source": [
        "# Array lleno con el valor 7 de forma (3, 2)\n",
        "full_array = np.full((3, 2), 7)\n",
        "print(\"Array lleno de 7:\\n\", full_array)\n"
      ],
      "metadata": {
        "id": "9vwS36YPI7xY"
      },
      "execution_count": null,
      "outputs": []
    },
    {
      "cell_type": "markdown",
      "source": [
        "**Ejercicios**\n",
        "\n",
        "Crea un array de ceros de forma (5, 5).\n"
      ],
      "metadata": {
        "id": "b1SwQWMsI9FP"
      }
    },
    {
      "cell_type": "code",
      "source": [],
      "metadata": {
        "id": "-_yEyccZI-6P"
      },
      "execution_count": null,
      "outputs": []
    },
    {
      "cell_type": "markdown",
      "source": [
        "Genera un array de unos de forma (4, 1).\n"
      ],
      "metadata": {
        "id": "GhwXx5PtJAAW"
      }
    },
    {
      "cell_type": "code",
      "source": [],
      "metadata": {
        "id": "XT48dMVZJA5j"
      },
      "execution_count": null,
      "outputs": []
    },
    {
      "cell_type": "markdown",
      "source": [
        "Crea un array lleno con el número pi (π) de forma (2, 3)."
      ],
      "metadata": {
        "id": "SGvxmghRJBLI"
      }
    },
    {
      "cell_type": "code",
      "source": [],
      "metadata": {
        "id": "sS20FWviJBxa"
      },
      "execution_count": null,
      "outputs": []
    },
    {
      "cell_type": "markdown",
      "source": [
        "### 2.3. Arrays con Rangos\n",
        "\n",
        "Puedes crear arrays con secuencias de números utilizando funciones como arange y linspace."
      ],
      "metadata": {
        "id": "BAgwhzjLJED9"
      }
    },
    {
      "cell_type": "markdown",
      "source": [
        "**Ejemplo 1:** Usando arange\n"
      ],
      "metadata": {
        "id": "rtmwuh78JH0V"
      }
    },
    {
      "cell_type": "code",
      "source": [
        "# Números del 0 al 9\n",
        "arange_array = np.arange(10)\n",
        "print(\"Array con arange:\", arange_array)\n",
        "\n",
        "# Números del 5 al 20 con paso de 3\n",
        "step_array = np.arange(5, 21, 3)\n",
        "print(\"Array con paso de 3:\", step_array)\n"
      ],
      "metadata": {
        "id": "RP2Brk9_JNCb"
      },
      "execution_count": null,
      "outputs": []
    },
    {
      "cell_type": "markdown",
      "source": [
        "**Ejemplo 2:** Usando linspace\n"
      ],
      "metadata": {
        "id": "pd9S1zftJPsh"
      }
    },
    {
      "cell_type": "code",
      "source": [
        "# 5 números igualmente espaciados entre 0 y 1\n",
        "linspace_array = np.linspace(0, 1, 5)\n",
        "print(\"Array con linspace:\", linspace_array)\n",
        "\n",
        "# 4 números igualmente espaciados entre 10 y 50\n",
        "linspace_array2 = np.linspace(10, 50, 4)\n",
        "print(\"Otro array con linspace:\", linspace_array2)\n"
      ],
      "metadata": {
        "id": "Bl9p1w6bJTiE"
      },
      "execution_count": null,
      "outputs": []
    },
    {
      "cell_type": "markdown",
      "source": [
        "**Ejercicios**\n",
        "\n",
        "Crea un array con números del 0 al 50, cada 5 unidades.\n"
      ],
      "metadata": {
        "id": "rDSGA2q0JTDW"
      }
    },
    {
      "cell_type": "code",
      "source": [],
      "metadata": {
        "id": "Bi__OawoJYDp"
      },
      "execution_count": null,
      "outputs": []
    },
    {
      "cell_type": "markdown",
      "source": [
        "Genera un array con 7 números igualmente espaciados entre 2 y 3.\n"
      ],
      "metadata": {
        "id": "fxwDjQ-8JYbd"
      }
    },
    {
      "cell_type": "code",
      "source": [],
      "metadata": {
        "id": "qzw4xbfEJZQL"
      },
      "execution_count": null,
      "outputs": []
    },
    {
      "cell_type": "markdown",
      "source": [
        "Crea un array con números enteros del 10 al 1 en orden descendente."
      ],
      "metadata": {
        "id": "MKgchpFDJZjJ"
      }
    },
    {
      "cell_type": "markdown",
      "source": [
        "## 2.4. Arrays Aleatorios\n",
        "\n",
        "NumPy incluye funciones para generar arrays con números aleatorios, lo cual es útil en simulaciones y pruebas.\n",
        "\n"
      ],
      "metadata": {
        "id": "YQuW--NgJcMw"
      }
    },
    {
      "cell_type": "markdown",
      "source": [
        "**Ejemplo 1:** Números Aleatorios Uniformes"
      ],
      "metadata": {
        "id": "_AwItmsDJeNK"
      }
    },
    {
      "cell_type": "code",
      "source": [
        "# Array de forma (2, 3) con números aleatorios entre 0 y 1\n",
        "random_array = np.random.rand(2, 3)\n",
        "print(\"Array aleatorio uniforme:\\n\", random_array)\n"
      ],
      "metadata": {
        "id": "oT08w9NcJi54"
      },
      "execution_count": null,
      "outputs": []
    },
    {
      "cell_type": "markdown",
      "source": [
        "**Ejemplo 2:** Números Aleatorios Enteros"
      ],
      "metadata": {
        "id": "TBBPzNawJkOP"
      }
    },
    {
      "cell_type": "code",
      "source": [
        "# Array de enteros aleatorios entre 1 y 100 de forma (3, 3)\n",
        "random_int_array = np.random.randint(1, 100, (3, 3))\n",
        "print(\"Array aleatorio de enteros:\\n\", random_int_array)\n"
      ],
      "metadata": {
        "id": "GiSrB3l7Jm9w"
      },
      "execution_count": null,
      "outputs": []
    },
    {
      "cell_type": "markdown",
      "source": [
        "**Ejercicios**\n",
        "\n",
        "Genera un array de forma (5,) con números aleatorios entre 0 y 1.\n"
      ],
      "metadata": {
        "id": "D8xpw6UOJo6n"
      }
    },
    {
      "cell_type": "code",
      "source": [],
      "metadata": {
        "id": "hwCmoXRxJrPy"
      },
      "execution_count": null,
      "outputs": []
    },
    {
      "cell_type": "markdown",
      "source": [
        "Crea un array de enteros aleatorios entre 50 y 100 de forma (4, 2).\n"
      ],
      "metadata": {
        "id": "0aQPLSfXJrqZ"
      }
    },
    {
      "cell_type": "code",
      "source": [],
      "metadata": {
        "id": "BO8rQm96JtMW"
      },
      "execution_count": null,
      "outputs": []
    },
    {
      "cell_type": "markdown",
      "source": [
        "Genera un array aleatorio de forma (3, 3) y multiplica todos sus elementos por 10."
      ],
      "metadata": {
        "id": "uV1hVnPSJsxQ"
      }
    },
    {
      "cell_type": "code",
      "source": [],
      "metadata": {
        "id": "ituje20kJuOI"
      },
      "execution_count": null,
      "outputs": []
    },
    {
      "cell_type": "markdown",
      "source": [
        "## 3. Propiedades de los Arrays\n",
        "\n",
        "Es importante comprender las propiedades de los arrays para manipularlos eficazmente."
      ],
      "metadata": {
        "id": "6FMC8GNeKKO_"
      }
    },
    {
      "cell_type": "markdown",
      "source": [
        "**Ejemplo 1:** Explorando las Propiedades"
      ],
      "metadata": {
        "id": "fOVWQxxyKL-v"
      }
    },
    {
      "cell_type": "code",
      "source": [
        "array = np.array([[1, 2, 3], [4, 5, 6]])\n",
        "\n",
        "print(\"Array:\\n\", array)\n",
        "print(\"Dimensiones (ndim):\", array.ndim)\n",
        "print(\"Forma (shape):\", array.shape)\n",
        "print(\"Tamaño total (size):\", array.size)\n",
        "print(\"Tipo de datos (dtype):\", array.dtype)\n"
      ],
      "metadata": {
        "id": "XpZnpGyzKQqy"
      },
      "execution_count": null,
      "outputs": []
    },
    {
      "cell_type": "markdown",
      "source": [
        "**Ejemplo 2:** Tamaño en Memoria\n"
      ],
      "metadata": {
        "id": "j7WLYVfrKScL"
      }
    },
    {
      "cell_type": "code",
      "source": [
        "print(\"Tamaño en bytes de un elemento (itemsize):\", array.itemsize)\n",
        "print(\"Tamaño total en memoria (nbytes):\", array.nbytes)\n"
      ],
      "metadata": {
        "id": "8dF0Jx68KVPG"
      },
      "execution_count": null,
      "outputs": []
    },
    {
      "cell_type": "markdown",
      "source": [
        "**Ejercicios**\n",
        "\n",
        "Crea un array de forma (3, 4) y muestra todas sus propiedades.\n"
      ],
      "metadata": {
        "id": "LM9V_Q-4KZ-s"
      }
    },
    {
      "cell_type": "code",
      "source": [],
      "metadata": {
        "id": "KV_opwtRKcis"
      },
      "execution_count": null,
      "outputs": []
    },
    {
      "cell_type": "markdown",
      "source": [
        "Cambia el tipo de datos de un array a float64 y verifica el cambio en dtype.\n"
      ],
      "metadata": {
        "id": "ysZnX5CUKc0J"
      }
    },
    {
      "cell_type": "code",
      "source": [],
      "metadata": {
        "id": "gKxtGsNnKds1"
      },
      "execution_count": null,
      "outputs": []
    },
    {
      "cell_type": "markdown",
      "source": [
        "Calcula el tamaño total en memoria de un array de forma (1000,) con tipo de datos int32."
      ],
      "metadata": {
        "id": "GdDUhD_JKeJc"
      }
    },
    {
      "cell_type": "code",
      "source": [],
      "metadata": {
        "id": "rG4Cic73Keo9"
      },
      "execution_count": null,
      "outputs": []
    },
    {
      "cell_type": "markdown",
      "source": [
        "## 4. Operaciones Básicas\n",
        "\n",
        "Las operaciones vectorizadas en NumPy permiten realizar cálculos de forma eficiente sin necesidad de bucles."
      ],
      "metadata": {
        "id": "_ZfzbbZMKggL"
      }
    },
    {
      "cell_type": "code",
      "source": [],
      "metadata": {
        "id": "zqQaJZbNKiTT"
      },
      "execution_count": null,
      "outputs": []
    },
    {
      "cell_type": "markdown",
      "source": [
        "### 4.1. Operaciones Matemáticas\n",
        "\n",
        "**Ejemplo 1:** Operaciones Elemento a Elemento"
      ],
      "metadata": {
        "id": "ZZ5ZiJ23Kjr8"
      }
    },
    {
      "cell_type": "code",
      "source": [
        "a = np.array([1, 2, 3])\n",
        "b = np.array([4, 5, 6])\n",
        "\n",
        "print(\"Suma:\", a + b)\n",
        "print(\"Resta:\", a - b)\n",
        "print(\"Multiplicación:\", a * b)\n",
        "print(\"División:\", a / b)\n"
      ],
      "metadata": {
        "id": "J8k70bK1KnfQ",
        "outputId": "ca2e46d3-3d63-421e-f054-99255af8a22e",
        "colab": {
          "base_uri": "https://localhost:8080/"
        }
      },
      "execution_count": 3,
      "outputs": [
        {
          "output_type": "stream",
          "name": "stdout",
          "text": [
            "Suma: [5 7 9]\n",
            "Resta: [-3 -3 -3]\n",
            "Multiplicación: [ 4 10 18]\n",
            "División: [0.25 0.4  0.5 ]\n"
          ]
        }
      ]
    },
    {
      "cell_type": "code",
      "source": [
        "#broadcasting: Autocompletado de un array con un vector repetido adicional para multiplicarse con otro array."
      ],
      "metadata": {
        "id": "O_bflzXFl3kx"
      },
      "execution_count": null,
      "outputs": []
    },
    {
      "cell_type": "markdown",
      "source": [
        "**Ejemplo 2:** Operaciones con Escalares"
      ],
      "metadata": {
        "id": "3zdS8pjHKp5y"
      }
    },
    {
      "cell_type": "code",
      "source": [
        "# Multiplicación por un escalar\n",
        "scalar_mult = a * 10\n",
        "print(\"Multiplicación por escalar:\", scalar_mult)\n",
        "\n",
        "# Exponenciación\n",
        "exp_array = a ** 2\n",
        "print(\"Exponenciación:\", exp_array)\n"
      ],
      "metadata": {
        "id": "ToBiN8JpKsoA"
      },
      "execution_count": null,
      "outputs": []
    },
    {
      "cell_type": "markdown",
      "source": [
        "**Ejercicios**\n",
        "\n",
        "Dado x = np.array([2, 4, 6]) y y = np.array([1, 3, 5]), calcula x * y y x / y.\n"
      ],
      "metadata": {
        "id": "nhMdHCVMKwek"
      }
    },
    {
      "cell_type": "code",
      "source": [
        "X = np.array([2, 4, 6])\n",
        "Y = np.array([1, 3, 5])\n",
        "print(\"Multiplicación:\", X * Y)\n",
        "print(\"División:\", X / Y)"
      ],
      "metadata": {
        "id": "OH1e4ZKeKya9",
        "outputId": "8e6829ea-0686-4c0a-fce5-9220c2d45bac",
        "colab": {
          "base_uri": "https://localhost:8080/"
        }
      },
      "execution_count": 5,
      "outputs": [
        {
          "output_type": "stream",
          "name": "stdout",
          "text": [
            "Multiplicación: [ 2 12 30]\n",
            "División: [2.         1.33333333 1.2       ]\n"
          ]
        }
      ]
    },
    {
      "cell_type": "markdown",
      "source": [
        "Eleva al cubo cada elemento del array x.\n"
      ],
      "metadata": {
        "id": "IZz-g8RLKyuR"
      }
    },
    {
      "cell_type": "code",
      "source": [
        "X**3"
      ],
      "metadata": {
        "id": "7clSC3JQKzeS",
        "outputId": "4e17b1a2-fac0-40b6-a739-864f22036657",
        "colab": {
          "base_uri": "https://localhost:8080/"
        }
      },
      "execution_count": 7,
      "outputs": [
        {
          "output_type": "execute_result",
          "data": {
            "text/plain": [
              "array([  8,  64, 216])"
            ]
          },
          "metadata": {},
          "execution_count": 7
        }
      ]
    },
    {
      "cell_type": "markdown",
      "source": [
        "Suma 5 a cada elemento del array y y luego calcula la raíz cuadrada."
      ],
      "metadata": {
        "id": "Q2mjFACFKz8A"
      }
    },
    {
      "cell_type": "code",
      "source": [],
      "metadata": {
        "id": "8dgB9w6xmtEj"
      },
      "execution_count": null,
      "outputs": []
    },
    {
      "cell_type": "code",
      "source": [
        "[(x+5)**0.5 for x in Y]\n",
        "\n",
        "(X+5)**0.5\n",
        "\n"
      ],
      "metadata": {
        "id": "hcVvU9_kK0ex",
        "outputId": "76106d82-4b24-46d9-a67d-d76a548a3abf",
        "colab": {
          "base_uri": "https://localhost:8080/"
        }
      },
      "execution_count": 13,
      "outputs": [
        {
          "output_type": "execute_result",
          "data": {
            "text/plain": [
              "array([2.64575131, 3.        , 3.31662479])"
            ]
          },
          "metadata": {},
          "execution_count": 13
        }
      ]
    },
    {
      "cell_type": "markdown",
      "source": [
        "### 4.2. Funciones Matemáticas\n",
        "\n",
        "NumPy proporciona funciones universales (ufuncs) para realizar operaciones matemáticas."
      ],
      "metadata": {
        "id": "WODIREp4K2ib"
      }
    },
    {
      "cell_type": "markdown",
      "source": [
        "**Ejemplo 1:** Funciones Estadísticas"
      ],
      "metadata": {
        "id": "jNGzBcfVK4_o"
      }
    },
    {
      "cell_type": "code",
      "source": [
        "array = np.array([1, 5, 2, 8, 3])\n",
        "\n",
        "print(\"Suma total:\", array.sum())\n",
        "print(\"Promedio:\", array.mean())\n",
        "print(\"Mediana:\", np.median(array))\n",
        "print(\"Desviación estándar:\", array.std())\n"
      ],
      "metadata": {
        "id": "xASKDx3_K7iJ",
        "outputId": "33482484-4fbe-4f86-fc47-da959c66eba5",
        "colab": {
          "base_uri": "https://localhost:8080/"
        }
      },
      "execution_count": 14,
      "outputs": [
        {
          "output_type": "stream",
          "name": "stdout",
          "text": [
            "Suma total: 19\n",
            "Promedio: 3.8\n",
            "Mediana: 3.0\n",
            "Desviación estándar: 2.4819347291981715\n"
          ]
        }
      ]
    },
    {
      "cell_type": "markdown",
      "source": [
        "**Ejemplo 2:** Funciones Trigonométricas y Exponenciales"
      ],
      "metadata": {
        "id": "wq0HpPy_K829"
      }
    },
    {
      "cell_type": "code",
      "source": [
        "angles = np.array([0, np.pi/2, np.pi])\n",
        "\n",
        "print(\"Seno:\", np.sin(angles))\n",
        "print(\"Coseno:\", np.cos(angles))\n",
        "print(\"Exponencial:\", np.exp(array))\n"
      ],
      "metadata": {
        "id": "p6lBxM1tK_Uv",
        "outputId": "811e03a9-fac4-47c4-9f87-470166e0b5c2",
        "colab": {
          "base_uri": "https://localhost:8080/"
        }
      },
      "execution_count": 15,
      "outputs": [
        {
          "output_type": "stream",
          "name": "stdout",
          "text": [
            "Seno: [0.0000000e+00 1.0000000e+00 1.2246468e-16]\n",
            "Coseno: [ 1.000000e+00  6.123234e-17 -1.000000e+00]\n",
            "Exponencial: [2.71828183e+00 1.48413159e+02 7.38905610e+00 2.98095799e+03\n",
            " 2.00855369e+01]\n"
          ]
        }
      ]
    },
    {
      "cell_type": "markdown",
      "source": [
        "**Ejercicios**\n",
        "\n",
        "Calcula el valor máximo y mínimo de un array aleatorio de forma (10,).\n"
      ],
      "metadata": {
        "id": "HLe7TxnSLB4f"
      }
    },
    {
      "cell_type": "code",
      "source": [
        "import random"
      ],
      "metadata": {
        "id": "-sIV4FogLECl"
      },
      "execution_count": 17,
      "outputs": []
    },
    {
      "cell_type": "code",
      "source": [
        "#Calcula el valor máximo y mínimo de un array aleatorio de forma (10,).\n",
        "\n",
        "array_1 = np.random.rand(10)\n",
        "print('valor minimo :', np.min(array_1))\n",
        "print('valor maximo :', np.max(array_1))\n",
        "\n",
        "print(array.shape)\n"
      ],
      "metadata": {
        "id": "5CO0epW4pLM4",
        "outputId": "53452517-4718-4bf3-f4ae-e4414b9e5ee2",
        "colab": {
          "base_uri": "https://localhost:8080/"
        }
      },
      "execution_count": 30,
      "outputs": [
        {
          "output_type": "stream",
          "name": "stdout",
          "text": [
            "valor minimo : 0.08187796516710855\n",
            "valor maximo : 0.9021935497448405\n",
            "(10,)\n"
          ]
        }
      ]
    },
    {
      "cell_type": "markdown",
      "source": [
        "Dado un array de ángulos en grados, conviértelos a radianes y calcula su seno.\n"
      ],
      "metadata": {
        "id": "lHX70BQ8LEoH"
      }
    },
    {
      "cell_type": "code",
      "source": [
        "array = [50 ,60, 70,80,90]\n",
        "\n",
        "radianes = np.radians(array)\n",
        "print(radianes)\n",
        "\n",
        "print(3.1415/2)\n",
        "\n",
        "np.sin(radianes)"
      ],
      "metadata": {
        "id": "ZnbtCRT9LFxL",
        "outputId": "415a1ada-b958-4d14-caca-36c01d5c0d0f",
        "colab": {
          "base_uri": "https://localhost:8080/"
        }
      },
      "execution_count": 36,
      "outputs": [
        {
          "output_type": "stream",
          "name": "stdout",
          "text": [
            "[0.87266463 1.04719755 1.22173048 1.3962634  1.57079633]\n",
            "1.57075\n"
          ]
        },
        {
          "output_type": "execute_result",
          "data": {
            "text/plain": [
              "array([0.76604444, 0.8660254 , 0.93969262, 0.98480775, 1.        ])"
            ]
          },
          "metadata": {},
          "execution_count": 36
        }
      ]
    },
    {
      "cell_type": "markdown",
      "source": [
        "Genera un array y normalízalo restando la media y dividiendo por la desviación estándar."
      ],
      "metadata": {
        "id": "_e4fCBRnLGHq"
      }
    },
    {
      "cell_type": "code",
      "source": [
        "array_aleatorio_100 = np.random.rand(100)\n",
        "print(array_aleatorio_100)\n",
        "standarizacion_ = (array_aleatorio_100 - array_aleatorio_100.mean())/array_aleatorio_100.std()\n",
        "print(standarizacion_)\n",
        "\n",
        "#es diferente de normalización"
      ],
      "metadata": {
        "id": "v6VxZ1wULGli",
        "outputId": "46f8b762-42be-49f7-de0e-1b74ee25522a",
        "colab": {
          "base_uri": "https://localhost:8080/"
        }
      },
      "execution_count": 38,
      "outputs": [
        {
          "output_type": "stream",
          "name": "stdout",
          "text": [
            "[0.646097   0.26282486 0.57616318 0.69021641 0.58265328 0.52927479\n",
            " 0.02674352 0.33448287 0.2006528  0.14472417 0.25925591 0.40385404\n",
            " 0.37265023 0.76437835 0.69206369 0.2241339  0.63100176 0.3106937\n",
            " 0.69519832 0.58178433 0.1474831  0.32916779 0.26521424 0.91378346\n",
            " 0.25998791 0.13487049 0.80324835 0.66809361 0.25035145 0.40441177\n",
            " 0.91559992 0.19176296 0.51936157 0.84878018 0.73488757 0.43619273\n",
            " 0.18414542 0.31309888 0.35308673 0.6009617  0.58518168 0.46577166\n",
            " 0.53229632 0.41425112 0.3074956  0.48539233 0.3017712  0.98341939\n",
            " 0.1745924  0.23253539 0.24367477 0.48302839 0.89397517 0.47442984\n",
            " 0.81990771 0.52001773 0.95757373 0.23327193 0.07435607 0.22002055\n",
            " 0.97383151 0.6823195  0.69889319 0.94057639 0.02221983 0.5257928\n",
            " 0.10500813 0.22630986 0.76751457 0.19001543 0.64108419 0.87833373\n",
            " 0.89347533 0.30768174 0.88777243 0.3919943  0.08016511 0.8115222\n",
            " 0.04479515 0.45264505 0.66082015 0.95973331 0.00307909 0.55817086\n",
            " 0.47039803 0.84448884 0.28889899 0.84171432 0.72866355 0.14223389\n",
            " 0.55424908 0.03268345 0.15405753 0.70749729 0.29008134 0.01952623\n",
            " 0.17187711 0.29821786 0.91374666 0.08500261]\n",
            "[ 0.63477517 -0.73539492  0.38476684  0.79249886  0.40796849  0.21714426\n",
            " -1.57936855 -0.47922273 -0.95765549 -1.1575963  -0.74815362 -0.23122581\n",
            " -0.34277719  1.05762242  0.79910277 -0.87371228  0.58081078 -0.56426726\n",
            "  0.81030883  0.40486203 -1.14773333 -0.49822376 -0.72685303  1.59173484\n",
            " -0.74553679 -1.19282248  1.19657983  0.71341147 -0.77998645 -0.22923197\n",
            "  1.59822853 -0.98943602  0.18170522  1.35935284  0.95219503 -0.11561736\n",
            " -1.01666818 -0.55566892 -0.41271528  0.47341975  0.41700734 -0.00987483\n",
            "  0.227946   -0.19405703 -0.57570027  0.06026766 -0.59616457  1.84067823\n",
            " -1.05081953 -0.84367758 -0.8038551   0.05181673  1.52092162  0.02107754\n",
            "  1.25613585  0.18405095  1.74828187 -0.84104449 -1.40915713 -0.88841721\n",
            "  1.80640226  0.76426796  0.82351772  1.68751759 -1.59554043  0.20469641\n",
            " -1.29957824 -0.86593337  1.06883418 -0.99568333  0.61685475  1.46500462\n",
            "  1.51913474 -0.57503483  1.49874728 -0.27362353 -1.38839025  1.22615823\n",
            " -1.51483528 -0.0568015   0.68740935  1.75600222 -1.66396717  0.32044561\n",
            "  0.00666409  1.3440116  -0.6421818   1.33409288  0.92994458 -1.16649885\n",
            "  0.30642552 -1.55813374 -1.12423023  0.85427676 -0.63795497 -1.60516986\n",
            " -1.0605265  -0.6088675   1.59160327 -1.37109653]\n"
          ]
        }
      ]
    },
    {
      "cell_type": "markdown",
      "source": [
        "## 5. Indexación y Slicing\n",
        "\n",
        "La indexación y el slicing te permiten acceder y modificar partes específicas de un array."
      ],
      "metadata": {
        "id": "KF8Ww8C2LJun"
      }
    },
    {
      "cell_type": "markdown",
      "source": [
        "**Ejemplo 1:** Acceso a Elementos Individuales"
      ],
      "metadata": {
        "id": "kVCshuOMLMeH"
      }
    },
    {
      "cell_type": "code",
      "source": [
        "array = np.array([[10, 20, 30], [40, 50, 60]])\n",
        "\n",
        "# Acceder al elemento en la fila 1, columna 2\n",
        "element = array[1, 2]\n",
        "print(\"Elemento en (1, 2):\", element)\n"
      ],
      "metadata": {
        "id": "N6FHk0zCLOkn"
      },
      "execution_count": null,
      "outputs": []
    },
    {
      "cell_type": "code",
      "source": [
        "array = np.array( [1,2,3,4,5,6,7,8,9])\n",
        "\n",
        "array [1:3:1]\n"
      ],
      "metadata": {
        "id": "wm0oJVcJtJlZ",
        "outputId": "507582a6-2b7e-455f-f02f-390903cc091e",
        "colab": {
          "base_uri": "https://localhost:8080/"
        }
      },
      "execution_count": 59,
      "outputs": [
        {
          "output_type": "execute_result",
          "data": {
            "text/plain": [
              "array([2, 3])"
            ]
          },
          "metadata": {},
          "execution_count": 59
        }
      ]
    },
    {
      "cell_type": "code",
      "source": [
        "array_1 = np.array ([[1,2,3,4,5],[6,7,8,9,10]])\n",
        "\n",
        "array_1[1][2:4]"
      ],
      "metadata": {
        "id": "NI6vGiMetwzw",
        "outputId": "899b5a7e-b77f-4acd-e1c1-e9a59660a0a5",
        "colab": {
          "base_uri": "https://localhost:8080/"
        }
      },
      "execution_count": 64,
      "outputs": [
        {
          "output_type": "execute_result",
          "data": {
            "text/plain": [
              "array([8, 9])"
            ]
          },
          "metadata": {},
          "execution_count": 64
        }
      ]
    },
    {
      "cell_type": "markdown",
      "source": [
        "**Ejemplo 2:** Slicing de Subarrays"
      ],
      "metadata": {
        "id": "W04G7WXhLQY7"
      }
    },
    {
      "cell_type": "code",
      "source": [
        "array = np.array([[10, 20 , 30],[40, 50, 60]])\n",
        "\n",
        "\n",
        "# Obtener la primera fila\n",
        "first_row = array[0, :]\n",
        "print(\"Primera fila:\", first_row)\n",
        "\n",
        "# Obtener la segunda columna\n",
        "second_col = array[:, 1]\n",
        "print(\"Segunda columna:\", second_col)\n",
        "\n",
        "# Obtener un subarray de forma (2, 2)\n",
        "subarray = array[:, :2]\n",
        "print(\"Subarray:\\n\", subarray)\n",
        "\n",
        "array_copy = array"
      ],
      "metadata": {
        "id": "nYsbLlPkLTkE",
        "outputId": "8682928c-4c50-43f4-80c6-aaea54c319a4",
        "colab": {
          "base_uri": "https://localhost:8080/"
        }
      },
      "execution_count": 67,
      "outputs": [
        {
          "output_type": "stream",
          "name": "stdout",
          "text": [
            "Primera fila: [10 20 30]\n",
            "Segunda columna: [20 50]\n",
            "Subarray:\n",
            " [[10 20]\n",
            " [40 50]]\n"
          ]
        }
      ]
    },
    {
      "cell_type": "code",
      "source": [
        "array = array + 10"
      ],
      "metadata": {
        "id": "XSaASkUTvgnV"
      },
      "execution_count": 68,
      "outputs": []
    },
    {
      "cell_type": "code",
      "source": [
        "array_copy"
      ],
      "metadata": {
        "id": "ciy76BLAvjXR",
        "outputId": "e7dbe7ab-1558-4fc1-c2ee-5cddda873567",
        "colab": {
          "base_uri": "https://localhost:8080/"
        }
      },
      "execution_count": 70,
      "outputs": [
        {
          "output_type": "execute_result",
          "data": {
            "text/plain": [
              "array([[10, 20, 30],\n",
              "       [40, 50, 60]])"
            ]
          },
          "metadata": {},
          "execution_count": 70
        }
      ]
    },
    {
      "cell_type": "markdown",
      "source": [
        "**Ejercicios**\n",
        "\n",
        "Dado un array de forma (5, 5), extrae la submatriz central de forma (3, 3).\n"
      ],
      "metadata": {
        "id": "h0hmXAUWLVMH"
      }
    },
    {
      "cell_type": "code",
      "source": [
        "array_5 = np.array([\n",
        "      [10 , 20 , 30 , 40 ,50],\n",
        "       [60 , 70, 80, 90 ,100] ,\n",
        "        [120 , 1, 2, 3 ,4],\n",
        "        [2 , 3, 4, 5 ,6],\n",
        "        [5 , 5, 5, 5 ,5]])\n",
        "\n",
        "\n",
        "extract = array_5[1:4,1:4]\n",
        "\n",
        "print(extract)\n"
      ],
      "metadata": {
        "id": "pE8qS-fkLXMs",
        "outputId": "4660cdef-ff2f-4fc3-a4ae-d1dc1b7b1a65",
        "colab": {
          "base_uri": "https://localhost:8080/"
        }
      },
      "execution_count": 94,
      "outputs": [
        {
          "output_type": "stream",
          "name": "stdout",
          "text": [
            "[[70 80 90]\n",
            " [ 1  2  3]\n",
            " [ 3  4  5]]\n"
          ]
        }
      ]
    },
    {
      "cell_type": "code",
      "source": [
        "array_5.shape[0]"
      ],
      "metadata": {
        "id": "jTblMpghyntJ",
        "outputId": "c12d9268-3437-43f2-d29e-afc6911aef7a",
        "colab": {
          "base_uri": "https://localhost:8080/"
        }
      },
      "execution_count": 102,
      "outputs": [
        {
          "output_type": "execute_result",
          "data": {
            "text/plain": [
              "5"
            ]
          },
          "metadata": {},
          "execution_count": 102
        }
      ]
    },
    {
      "cell_type": "markdown",
      "source": [
        "Cambia los elementos de la última fila de un array a ceros.\n"
      ],
      "metadata": {
        "id": "kCzFymdvLXeE"
      }
    },
    {
      "cell_type": "code",
      "source": [
        "array_5[array_5.shape[0] -1 ] = 0\n",
        "\n",
        "array_5\n",
        "\n",
        "\n",
        "\n"
      ],
      "metadata": {
        "id": "uhlekJpXLYNM",
        "outputId": "711bb9f5-2df9-4bc8-cd44-ed176d5f1db5",
        "colab": {
          "base_uri": "https://localhost:8080/"
        }
      },
      "execution_count": 103,
      "outputs": [
        {
          "output_type": "execute_result",
          "data": {
            "text/plain": [
              "array([[ 10,  20,  30,  40,  50],\n",
              "       [ 60,  70,  80,  90, 100],\n",
              "       [120,   1,   2,   3,   4],\n",
              "       [  2,   3,   4,   5,   6],\n",
              "       [  0,   0,   0,   0,   0]])"
            ]
          },
          "metadata": {},
          "execution_count": 103
        }
      ]
    },
    {
      "cell_type": "markdown",
      "source": [
        "Invierte el orden de los elementos en un array unidimensional.\n"
      ],
      "metadata": {
        "id": "8Jd2SqOnLYjM"
      }
    },
    {
      "cell_type": "code",
      "source": [
        "array_uni = np.array([1,2,3,4,5])\n",
        "\n",
        "array_uni[::-1]"
      ],
      "metadata": {
        "id": "gfP97SQ-LZDH",
        "outputId": "0252f2df-6260-4aba-b330-baf9ff13cd05",
        "colab": {
          "base_uri": "https://localhost:8080/"
        }
      },
      "execution_count": 104,
      "outputs": [
        {
          "output_type": "execute_result",
          "data": {
            "text/plain": [
              "array([5, 4, 3, 2, 1])"
            ]
          },
          "metadata": {},
          "execution_count": 104
        }
      ]
    },
    {
      "cell_type": "code",
      "source": [
        "array_5[0:4,:4]"
      ],
      "metadata": {
        "id": "Z6oRI0Od0NQS",
        "outputId": "ab10634c-ccd1-4e38-d587-6a4a0d60b706",
        "colab": {
          "base_uri": "https://localhost:8080/"
        }
      },
      "execution_count": 110,
      "outputs": [
        {
          "output_type": "execute_result",
          "data": {
            "text/plain": [
              "array([[ 10,  20,  30,  40],\n",
              "       [ 60,  70,  80,  90],\n",
              "       [120,   1,   2,   3],\n",
              "       [  2,   3,   4,   5]])"
            ]
          },
          "metadata": {},
          "execution_count": 110
        }
      ]
    },
    {
      "cell_type": "markdown",
      "source": [
        "\n",
        "\n",
        "*   Elemento de la lista\n",
        "*   Elemento de la lista\n",
        "\n"
      ],
      "metadata": {
        "id": "acwmTHwa93VT"
      }
    },
    {
      "cell_type": "code",
      "source": [
        "cinco = np.arange(1,26).reshape(5,5)"
      ],
      "metadata": {
        "id": "PAMl5x4b0e6w"
      },
      "execution_count": 3,
      "outputs": []
    },
    {
      "cell_type": "code",
      "source": [
        "print(cinco)\n",
        "\n",
        "cinco[1:4,1:4]\n",
        "\n",
        "cinco[1:4,:]"
      ],
      "metadata": {
        "id": "3VmN6PPk0nQw",
        "outputId": "0782854c-1cbe-4530-81f2-a3200f5f4122",
        "colab": {
          "base_uri": "https://localhost:8080/"
        }
      },
      "execution_count": 4,
      "outputs": [
        {
          "output_type": "stream",
          "name": "stdout",
          "text": [
            "[[ 1  2  3  4  5]\n",
            " [ 6  7  8  9 10]\n",
            " [11 12 13 14 15]\n",
            " [16 17 18 19 20]\n",
            " [21 22 23 24 25]]\n"
          ]
        },
        {
          "output_type": "execute_result",
          "data": {
            "text/plain": [
              "array([[ 6,  7,  8,  9, 10],\n",
              "       [11, 12, 13, 14, 15],\n",
              "       [16, 17, 18, 19, 20]])"
            ]
          },
          "metadata": {},
          "execution_count": 4
        }
      ]
    },
    {
      "cell_type": "code",
      "source": [
        "cinco[:,1:4]\n"
      ],
      "metadata": {
        "id": "M_5hqerz3R6Z",
        "outputId": "ff1f23ff-2a00-4d24-edb1-96a6cb8095e6",
        "colab": {
          "base_uri": "https://localhost:8080/"
        }
      },
      "execution_count": 5,
      "outputs": [
        {
          "output_type": "execute_result",
          "data": {
            "text/plain": [
              "array([[ 2,  3,  4],\n",
              "       [ 7,  8,  9],\n",
              "       [12, 13, 14],\n",
              "       [17, 18, 19],\n",
              "       [22, 23, 24]])"
            ]
          },
          "metadata": {},
          "execution_count": 5
        }
      ]
    },
    {
      "cell_type": "markdown",
      "source": [],
      "metadata": {
        "id": "gZqDPMTF-KSz"
      }
    },
    {
      "cell_type": "code",
      "source": [
        "esquinas = np.array([cinco[0,0],cinco[0,4]])\n",
        "\n",
        "print(esquinas)"
      ],
      "metadata": {
        "id": "0IbZnqgk8-mY",
        "outputId": "850bbb06-6b6a-4279-c22c-581bf7326383",
        "colab": {
          "base_uri": "https://localhost:8080/"
        }
      },
      "execution_count": 13,
      "outputs": [
        {
          "output_type": "stream",
          "name": "stdout",
          "text": [
            "[1 5]\n"
          ]
        }
      ]
    },
    {
      "cell_type": "markdown",
      "source": [],
      "metadata": {
        "id": "IM9mhyTP4mhe"
      }
    },
    {
      "cell_type": "markdown",
      "source": [
        "## 6. Manipulación de la Forma"
      ],
      "metadata": {
        "id": "tUQbknw-La1r"
      }
    },
    {
      "cell_type": "markdown",
      "source": [
        "### 6.1. Reshape\n",
        "\n",
        "Cambiar la forma de un array sin alterar sus datos."
      ],
      "metadata": {
        "id": "awa1o4IaLiBN"
      }
    },
    {
      "cell_type": "markdown",
      "source": [
        "**Ejemplo 1:** Reshape Básico"
      ],
      "metadata": {
        "id": "wz7bgZdOLlBz"
      }
    },
    {
      "cell_type": "code",
      "source": [
        "array = np.arange(12)\n",
        "reshaped_array = array.reshape(3, 4)\n",
        "print(\"Array reestructurado:\\n\", reshaped_array)\n"
      ],
      "metadata": {
        "id": "pDdVT82jLoLT"
      },
      "execution_count": null,
      "outputs": []
    },
    {
      "cell_type": "markdown",
      "source": [
        "**Ejemplo 2:** Reshape con -1"
      ],
      "metadata": {
        "id": "wTsrHxKQLpk0"
      }
    },
    {
      "cell_type": "code",
      "source": [
        "# NumPy calcula automáticamente el tamaño faltante\n",
        "reshaped_array = array.reshape(2, -1)\n",
        "print(\"Array reestructurado con -1:\\n\", reshaped_array)\n"
      ],
      "metadata": {
        "id": "I9GVSmOfLuNM"
      },
      "execution_count": null,
      "outputs": []
    },
    {
      "cell_type": "markdown",
      "source": [
        "**Ejercicios**\n",
        "\n",
        "Convierte un array de forma (6,) en uno de forma (2, 3).\n"
      ],
      "metadata": {
        "id": "xFrtwPcILxiV"
      }
    },
    {
      "cell_type": "code",
      "source": [
        "array = np.arange(6)\n",
        "\n",
        "print(array)\n",
        "b= array.reshape(2,3)\n",
        "print(b)\n",
        "\n"
      ],
      "metadata": {
        "id": "pArTpgpALzyF",
        "outputId": "f90b82c4-d76f-4cf2-d76a-ef4fcef78213",
        "colab": {
          "base_uri": "https://localhost:8080/"
        }
      },
      "execution_count": 202,
      "outputs": [
        {
          "output_type": "stream",
          "name": "stdout",
          "text": [
            "[0 1 2 3 4 5]\n",
            "[[0 1 2]\n",
            " [3 4 5]]\n"
          ]
        }
      ]
    },
    {
      "cell_type": "markdown",
      "source": [
        "Dado un array de forma (4, 3), conviértelo en uno de forma (2, 2, 3).\n"
      ],
      "metadata": {
        "id": "t0XuWwrdL0HC"
      }
    },
    {
      "cell_type": "code",
      "source": [
        "array = np.arange(12).reshape(4,3)\n",
        "print(array)\n",
        "array.reshape(2,2,3)\n"
      ],
      "metadata": {
        "id": "9q0njuxFL1ac",
        "outputId": "ff3b08b7-83e3-40e6-f8d5-7e958302572b",
        "colab": {
          "base_uri": "https://localhost:8080/"
        }
      },
      "execution_count": 203,
      "outputs": [
        {
          "output_type": "stream",
          "name": "stdout",
          "text": [
            "[[ 0  1  2]\n",
            " [ 3  4  5]\n",
            " [ 6  7  8]\n",
            " [ 9 10 11]]\n"
          ]
        },
        {
          "output_type": "execute_result",
          "data": {
            "text/plain": [
              "array([[[ 0,  1,  2],\n",
              "        [ 3,  4,  5]],\n",
              "\n",
              "       [[ 6,  7,  8],\n",
              "        [ 9, 10, 11]]])"
            ]
          },
          "metadata": {},
          "execution_count": 203
        }
      ]
    },
    {
      "cell_type": "markdown",
      "source": [
        "Aplana un array multidimensional a un array unidimensional."
      ],
      "metadata": {
        "id": "P-mXYzDrL1tk"
      }
    },
    {
      "cell_type": "code",
      "source": [
        "array = array.reshape(2, 2, 3)\n",
        "\n",
        "array.reshape(-1) #flatening"
      ],
      "metadata": {
        "id": "nXzfrF39L2KE",
        "outputId": "d56b52ae-d28a-405a-f71f-f15c8ae84a11",
        "colab": {
          "base_uri": "https://localhost:8080/"
        }
      },
      "execution_count": 205,
      "outputs": [
        {
          "output_type": "execute_result",
          "data": {
            "text/plain": [
              "array([ 0,  1,  2,  3,  4,  5,  6,  7,  8,  9, 10, 11])"
            ]
          },
          "metadata": {},
          "execution_count": 205
        }
      ]
    },
    {
      "cell_type": "markdown",
      "source": [
        "### 6.2. Transposición\n",
        "\n",
        "Intercambia los ejes de un array."
      ],
      "metadata": {
        "id": "TFnrJvXzL33n"
      }
    },
    {
      "cell_type": "markdown",
      "source": [
        "**Ejemplo 1:** Transposición de Matriz"
      ],
      "metadata": {
        "id": "tI4uLHpaL7Tw"
      }
    },
    {
      "cell_type": "code",
      "source": [
        "import numpy as np\n",
        "\n",
        "matrix = np.array([[1, 2], [3, 4], [5, 6]])\n",
        "transposed_matrix = matrix.T\n",
        "print(\"Matriz original:\\n\", matrix)\n",
        "print(\"Matriz transpuesta:\\n\", transposed_matrix)\n"
      ],
      "metadata": {
        "id": "pNW8t7itL6xm",
        "outputId": "beaf3e36-f081-4557-97fd-886e8f78f9bc",
        "colab": {
          "base_uri": "https://localhost:8080/"
        }
      },
      "execution_count": 14,
      "outputs": [
        {
          "output_type": "stream",
          "name": "stdout",
          "text": [
            "Matriz original:\n",
            " [[1 2]\n",
            " [3 4]\n",
            " [5 6]]\n",
            "Matriz transpuesta:\n",
            " [[1 3 5]\n",
            " [2 4 6]]\n"
          ]
        }
      ]
    },
    {
      "cell_type": "markdown",
      "source": [
        "**Ejemplo 2:** Transposición de Arrays de Mayor Dimensión"
      ],
      "metadata": {
        "id": "_AI5fOwlL-4A"
      }
    },
    {
      "cell_type": "code",
      "source": [
        "array = np.arange(24).reshape(2, 3, 4)\n",
        "transposed_array = array.transpose(1, 0, 2)\n",
        "print(\"Array transpuesto:\\n\", transposed_array.shape)\n"
      ],
      "metadata": {
        "id": "78kfzyp8MCGo",
        "outputId": "1d986653-6ef2-457c-f9e7-8941148e4490",
        "colab": {
          "base_uri": "https://localhost:8080/"
        }
      },
      "execution_count": 16,
      "outputs": [
        {
          "output_type": "stream",
          "name": "stdout",
          "text": [
            "Array transpuesto:\n",
            " (3, 2, 4)\n"
          ]
        }
      ]
    },
    {
      "cell_type": "markdown",
      "source": [
        "**Ejercicios**\n",
        "\n",
        "Transpón una matriz de forma (5, 3).\n"
      ],
      "metadata": {
        "id": "XzHttlewMEM8"
      }
    },
    {
      "cell_type": "code",
      "source": [],
      "metadata": {
        "id": "dnulkEUjMGc6"
      },
      "execution_count": null,
      "outputs": []
    },
    {
      "cell_type": "markdown",
      "source": [
        "Dado un array de forma (2, 3, 4), reorganiza sus ejes para obtener un array de forma (4, 2, 3).\n"
      ],
      "metadata": {
        "id": "_h4vJO46MG0r"
      }
    },
    {
      "cell_type": "code",
      "source": [],
      "metadata": {
        "id": "wlOawsFFMIPr"
      },
      "execution_count": null,
      "outputs": []
    },
    {
      "cell_type": "markdown",
      "source": [
        "Verifica que la transposición de una matriz simétrica es igual a la matriz original."
      ],
      "metadata": {
        "id": "m3ygS37XMImF"
      }
    },
    {
      "cell_type": "code",
      "source": [],
      "metadata": {
        "id": "83OyARYcMJXZ"
      },
      "execution_count": null,
      "outputs": []
    },
    {
      "cell_type": "markdown",
      "source": [
        "### 6.3. Concatenación y División de Arrays\n",
        "\n",
        "Combina o divide arrays."
      ],
      "metadata": {
        "id": "Qc2skN72MLCv"
      }
    },
    {
      "cell_type": "markdown",
      "source": [
        "**Ejemplo 1:** Concatenación"
      ],
      "metadata": {
        "id": "vIMadNdRMOs1"
      }
    },
    {
      "cell_type": "code",
      "source": [
        "a = np.array([1, 2, 3])\n",
        "b = np.array([4, 5, 6])\n",
        "\n",
        "# Concatenación unidimensional\n",
        "concat_array = np.concatenate((a, b))\n",
        "print(\"Array concatenado:\", concat_array)\n",
        "\n",
        "# Concatenación bidimensional\n",
        "array1 = np.array([[1, 2], [3, 4]])\n",
        "array2 = np.array([[5, 6]])\n",
        "\n",
        "concat_2d = np.concatenate((array1, array2), axis=0)\n",
        "print(\"Array 2D concatenado:\\n\", concat_2d)\n"
      ],
      "metadata": {
        "id": "yVyNl1AZMRS1",
        "outputId": "1b06468a-090a-4e0b-df6b-295cc71cb48b",
        "colab": {
          "base_uri": "https://localhost:8080/"
        }
      },
      "execution_count": 19,
      "outputs": [
        {
          "output_type": "stream",
          "name": "stdout",
          "text": [
            "Array concatenado: [1 2 3 4 5 6]\n",
            "Array 2D concatenado:\n",
            " [[1 2]\n",
            " [3 4]\n",
            " [5 6]]\n"
          ]
        }
      ]
    },
    {
      "cell_type": "code",
      "source": [
        "\n",
        "# Concatenación bidimensional\n",
        "array1 = np.array([[1, 2], [3, 4]])\n",
        "array2 = np.array([[5, 6]])\n",
        "\n",
        "concat_2d = np.concatenate((array1, array2), axis=0)\n",
        "print(\"Array 2D concatenado:\\n\", concat_2d)"
      ],
      "metadata": {
        "id": "yVLKWGbDAqJi",
        "outputId": "14d5f12c-b8c5-4e42-efd6-85ecfff50633",
        "colab": {
          "base_uri": "https://localhost:8080/"
        }
      },
      "execution_count": 21,
      "outputs": [
        {
          "output_type": "stream",
          "name": "stdout",
          "text": [
            "Array 2D concatenado:\n",
            " [[1 2]\n",
            " [3 4]\n",
            " [5 6]]\n"
          ]
        }
      ]
    },
    {
      "cell_type": "markdown",
      "source": [
        "**Ejemplo 2:** División\n"
      ],
      "metadata": {
        "id": "z7BjilPiMS1O"
      }
    },
    {
      "cell_type": "code",
      "source": [],
      "metadata": {
        "id": "YBK5Yv69AnDu"
      },
      "execution_count": null,
      "outputs": []
    },
    {
      "cell_type": "code",
      "source": [
        "# División en arrays más pequeños\n",
        "split_array = np.array_split(concat_array, 3)\n",
        "print(\"Arrays divididos:\", split_array)\n"
      ],
      "metadata": {
        "id": "dUgLs1SBMVi8",
        "outputId": "3b094f6c-469a-499d-d617-8baeb0449cba",
        "colab": {
          "base_uri": "https://localhost:8080/"
        }
      },
      "execution_count": 22,
      "outputs": [
        {
          "output_type": "stream",
          "name": "stdout",
          "text": [
            "Arrays divididos: [array([1, 2]), array([3, 4]), array([5, 6])]\n"
          ]
        }
      ]
    },
    {
      "cell_type": "code",
      "source": [
        "array_x = np.random.rand(5,4 )\n",
        "\n",
        "print(array_x)"
      ],
      "metadata": {
        "id": "Q5zQxqMuBAss",
        "outputId": "16d007bf-65f6-4cd0-9fe9-8f8c15112b75",
        "colab": {
          "base_uri": "https://localhost:8080/"
        }
      },
      "execution_count": 30,
      "outputs": [
        {
          "output_type": "stream",
          "name": "stdout",
          "text": [
            "[[0.52903903 0.65921125 0.42509637 0.13160881]\n",
            " [0.50417993 0.45586781 0.4299762  0.10497737]\n",
            " [0.44099274 0.20537383 0.23637986 0.58146611]\n",
            " [0.00644633 0.62525077 0.74553899 0.48654515]\n",
            " [0.6401229  0.41819417 0.13695382 0.6791924 ]]\n"
          ]
        }
      ]
    },
    {
      "cell_type": "code",
      "source": [
        "split_array_x= np.array_split(array_x,2)\n",
        "split_array"
      ],
      "metadata": {
        "id": "qYKpZ2BKBaiG",
        "outputId": "91d11b32-056c-4cfe-c003-08331355658a",
        "colab": {
          "base_uri": "https://localhost:8080/"
        }
      },
      "execution_count": 33,
      "outputs": [
        {
          "output_type": "execute_result",
          "data": {
            "text/plain": [
              "[array([1, 2]), array([3, 4]), array([5, 6])]"
            ]
          },
          "metadata": {},
          "execution_count": 33
        }
      ]
    },
    {
      "cell_type": "code",
      "source": [
        "split_array_x_T= np.array_split(array_x.T,2)\n",
        "split_array_x_T\n",
        "\n",
        "\n"
      ],
      "metadata": {
        "id": "XXJARMX_BZ0X",
        "outputId": "dbb5dccb-c14b-469f-c060-ddbd3bab7426",
        "colab": {
          "base_uri": "https://localhost:8080/"
        }
      },
      "execution_count": 35,
      "outputs": [
        {
          "output_type": "execute_result",
          "data": {
            "text/plain": [
              "[array([[0.52903903, 0.50417993, 0.44099274, 0.00644633, 0.6401229 ],\n",
              "        [0.65921125, 0.45586781, 0.20537383, 0.62525077, 0.41819417]]),\n",
              " array([[0.42509637, 0.4299762 , 0.23637986, 0.74553899, 0.13695382],\n",
              "        [0.13160881, 0.10497737, 0.58146611, 0.48654515, 0.6791924 ]])]"
            ]
          },
          "metadata": {},
          "execution_count": 35
        }
      ]
    },
    {
      "cell_type": "markdown",
      "source": [
        "**Ejercicios**\n",
        "\n",
        "Une dos matrices de forma (2, 2) para crear una de forma (2, 4).\n"
      ],
      "metadata": {
        "id": "mb8oGeA_MXoC"
      }
    },
    {
      "cell_type": "code",
      "source": [],
      "metadata": {
        "id": "qg7yKTyHMZfS"
      },
      "execution_count": null,
      "outputs": []
    },
    {
      "cell_type": "markdown",
      "source": [
        "Divide un array de forma (12,) en tres arrays iguales.\n"
      ],
      "metadata": {
        "id": "81cnqVV4MZ2k"
      }
    },
    {
      "cell_type": "code",
      "source": [],
      "metadata": {
        "id": "0zMqE5LoMavw"
      },
      "execution_count": null,
      "outputs": []
    },
    {
      "cell_type": "markdown",
      "source": [
        "Combina verticalmente dos arrays de forma (3, 2)."
      ],
      "metadata": {
        "id": "ZfNxDrzaMbEH"
      }
    },
    {
      "cell_type": "code",
      "source": [],
      "metadata": {
        "id": "pVzdVF2RMbf1"
      },
      "execution_count": null,
      "outputs": []
    },
    {
      "cell_type": "markdown",
      "source": [
        "## 7. Broadcasting\n",
        "\n",
        "\n",
        "Broadcasting en NumPy es una poderosa técnica que permite realizar operaciones entre arreglos de diferentes formas (shapes) de manera eficiente y sin necesidad de escribir bucles explícitos. Se utiliza para extender las dimensiones de un arreglo más pequeño para que sea compatible con el arreglo más grande en una operación."
      ],
      "metadata": {
        "id": "Mi8xYzraMdP8"
      }
    },
    {
      "cell_type": "markdown",
      "source": [
        "**Ejemplo 1:** Suma con Broadcasting"
      ],
      "metadata": {
        "id": "OFAGBVBaMfVr"
      }
    },
    {
      "cell_type": "code",
      "source": [
        "a = np.array([1, 2, 3]) # Forma: (3,)\n",
        "b = np.array([[10], [20], [30]]) # Forma: (3, 1)\n",
        "\n",
        "result = a + b\n",
        "print(\"Resultado de broadcasting:\\n\", result)"
      ],
      "metadata": {
        "id": "HK1zoui5Mhxn",
        "outputId": "2e53b1c2-ec8c-4314-a86c-61f8e6b34fc2",
        "colab": {
          "base_uri": "https://localhost:8080/"
        }
      },
      "execution_count": 36,
      "outputs": [
        {
          "output_type": "stream",
          "name": "stdout",
          "text": [
            "Resultado de broadcasting:\n",
            " [[11 12 13]\n",
            " [21 22 23]\n",
            " [31 32 33]]\n"
          ]
        }
      ]
    },
    {
      "cell_type": "code",
      "source": [
        "a.ndim"
      ],
      "metadata": {
        "id": "RG0DCHIWEFFF",
        "outputId": "ebe1ce72-d0c7-4591-9e84-ac9f5c313cb7",
        "colab": {
          "base_uri": "https://localhost:8080/"
        }
      },
      "execution_count": 37,
      "outputs": [
        {
          "output_type": "execute_result",
          "data": {
            "text/plain": [
              "1"
            ]
          },
          "metadata": {},
          "execution_count": 37
        }
      ]
    },
    {
      "cell_type": "code",
      "source": [
        "b.ndim"
      ],
      "metadata": {
        "id": "LMiduzZdEHWC",
        "outputId": "a143da84-bc3b-4b84-b96d-e63d3eb80af8",
        "colab": {
          "base_uri": "https://localhost:8080/"
        }
      },
      "execution_count": 38,
      "outputs": [
        {
          "output_type": "execute_result",
          "data": {
            "text/plain": [
              "2"
            ]
          },
          "metadata": {},
          "execution_count": 38
        }
      ]
    },
    {
      "cell_type": "markdown",
      "source": [
        "texto en cursiva"
      ],
      "metadata": {
        "id": "gMWijsoBFQfg"
      }
    },
    {
      "cell_type": "markdown",
      "source": [
        "**Ejemplo 2:** Multiplicación con Broadcasting"
      ],
      "metadata": {
        "id": "E5DO-ezhMjFn"
      }
    },
    {
      "cell_type": "code",
      "source": [
        "array = np.array([[1, 2, 3], [4, 5, 6]])\n",
        "scalar = 2\n",
        "\n",
        "result = array * scalar\n",
        "print(\"Multiplicación por escalar:\\n\", result)\n"
      ],
      "metadata": {
        "id": "Cx7HVNsYMmKp",
        "outputId": "185de95a-b743-4b58-ca1c-9ab5653a28ea",
        "colab": {
          "base_uri": "https://localhost:8080/"
        }
      },
      "execution_count": 39,
      "outputs": [
        {
          "output_type": "stream",
          "name": "stdout",
          "text": [
            "Multiplicación por escalar:\n",
            " [[ 2  4  6]\n",
            " [ 8 10 12]]\n"
          ]
        }
      ]
    },
    {
      "cell_type": "code",
      "source": [
        "a = np.array([1, 2])  # Forma: (2,)\n",
        "b = np.array([[10],   # Forma: (3, 1)\n",
        "              [20],\n",
        "              [30]])\n",
        "\n",
        "# Esto lanza un error\n",
        "result = a + b\n",
        "\n",
        "# El error ocurre porque las dimensiones (2,) y (3, 1) no son compatibles."
      ],
      "metadata": {
        "id": "cAdEfNMZxKwR"
      },
      "execution_count": 42,
      "outputs": []
    },
    {
      "cell_type": "code",
      "source": [
        "a = np.array([[1, 2, 3], [4, 5, 6]])  # Forma: (2, 3)\n",
        "b = np.array([10, 20, 30])            # Forma: (3,)\n",
        "\n",
        "result = a * b\n",
        "print(result)\n"
      ],
      "metadata": {
        "id": "1VtgTXN5xUEw",
        "outputId": "128650b1-aa35-4e6a-ac75-29d77f3b553d",
        "colab": {
          "base_uri": "https://localhost:8080/"
        }
      },
      "execution_count": 44,
      "outputs": [
        {
          "output_type": "stream",
          "name": "stdout",
          "text": [
            "[[ 10  40  90]\n",
            " [ 40 100 180]]\n"
          ]
        }
      ]
    },
    {
      "cell_type": "markdown",
      "source": [
        "**Normalización de Datos:**\n",
        "\n",
        "Supongamos que tienes un arreglo con datos y quieres normalizar cada columna restando el promedio y dividiendo entre la desviación estándar:"
      ],
      "metadata": {
        "id": "ikCG36TUxZkq"
      }
    },
    {
      "cell_type": "code",
      "source": [
        "data = np.array([[1, 2, 3],\n",
        "                 [4, 5, 6],\n",
        "                 [7, 8, 9]])\n",
        "\n",
        "mean = data.mean(axis=0)  # Promedio de cada columna\n",
        "std = data.std(axis=0)    # Desviación estándar de cada columna\n",
        "\n",
        "normalized = (data - mean) / std\n",
        "print(normalized)\n"
      ],
      "metadata": {
        "id": "STMbCmqGxaBI",
        "outputId": "36feb889-e966-4fb2-da0d-3945924a554f",
        "colab": {
          "base_uri": "https://localhost:8080/"
        }
      },
      "execution_count": 46,
      "outputs": [
        {
          "output_type": "stream",
          "name": "stdout",
          "text": [
            "[[-1.22474487 -1.22474487 -1.22474487]\n",
            " [ 0.          0.          0.        ]\n",
            " [ 1.22474487  1.22474487  1.22474487]]\n"
          ]
        }
      ]
    },
    {
      "cell_type": "code",
      "source": [
        "#axis sirve para hacerlo por columna 0. a traves de la fila 1)"
      ],
      "metadata": {
        "id": "7Ymt5ZClHkif"
      },
      "execution_count": null,
      "outputs": []
    },
    {
      "cell_type": "code",
      "source": [
        "print(data.mean(axis=0))"
      ],
      "metadata": {
        "id": "K8jey7_JH9RA",
        "outputId": "500d93f0-ce3f-4bbb-c232-f1b86532ed8a",
        "colab": {
          "base_uri": "https://localhost:8080/"
        }
      },
      "execution_count": 47,
      "outputs": [
        {
          "output_type": "stream",
          "name": "stdout",
          "text": [
            "[4. 5. 6.]\n"
          ]
        }
      ]
    },
    {
      "cell_type": "markdown",
      "source": [
        "Si intentas operar arreglos con formas incompatibles, obtendrás un error como:\n",
        "\n"
      ],
      "metadata": {
        "id": "LXt9tCpMxiD3"
      }
    },
    {
      "cell_type": "markdown",
      "source": [
        "Ejercicios\n",
        "\n",
        "Suma un vector de forma (3,) a una matriz de forma (3, 3).\n"
      ],
      "metadata": {
        "id": "6GnTY3WyMoTc"
      }
    },
    {
      "cell_type": "code",
      "source": [],
      "metadata": {
        "id": "LVDCyji4MtPC"
      },
      "execution_count": null,
      "outputs": []
    },
    {
      "cell_type": "markdown",
      "source": [
        "Multiplica cada columna de una matriz de forma (4, 3) por un vector de forma (3,).\n"
      ],
      "metadata": {
        "id": "_7LyIs6-Mtgc"
      }
    },
    {
      "cell_type": "code",
      "source": [],
      "metadata": {
        "id": "eYeoNlxBMudM"
      },
      "execution_count": null,
      "outputs": []
    },
    {
      "cell_type": "markdown",
      "source": [
        "Resta un escalar de todos los elementos de un array.\n"
      ],
      "metadata": {
        "id": "kqUHVR8PMuzI"
      }
    },
    {
      "cell_type": "code",
      "source": [],
      "metadata": {
        "id": "qKzEd0FmMvR5"
      },
      "execution_count": null,
      "outputs": []
    },
    {
      "cell_type": "markdown",
      "source": [
        "## 8. Álgebra Lineal\n",
        "\n",
        "NumPy proporciona funciones avanzadas para realizar operaciones de álgebra lineal.\n",
        "\n"
      ],
      "metadata": {
        "id": "qwCQCFpPMw3A"
      }
    },
    {
      "cell_type": "markdown",
      "source": [
        "### 8.1. Producto Punto y Producto Cruz\n",
        "\n"
      ],
      "metadata": {
        "id": "3hxZV1dRMzsW"
      }
    },
    {
      "cell_type": "markdown",
      "source": [
        "### **Producto Punto (o Escalar)**\n",
        "\n",
        "El producto punto de dos vectores es una operación que resulta en un número escalar. Se calcula multiplicando las componentes correspondientes de los vectores y sumándolas.\n",
        "\n"
      ],
      "metadata": {
        "id": "EbUCUy7JdBHV"
      }
    },
    {
      "cell_type": "markdown",
      "source": [
        "\n",
        "Dado dos vectores:\n",
        "$\n",
        "\\mathbf{A} = (a_1, \\; a_2, \\; a_3) \\quad \\text{y} \\quad \\mathbf{B} = (b_1, \\; b_2, \\; b_3)\n",
        "$\n",
        "\n"
      ],
      "metadata": {
        "id": "aHbHuk7beNnZ"
      }
    },
    {
      "cell_type": "markdown",
      "source": [
        "Cálculo del producto punto\n"
      ],
      "metadata": {
        "id": "X0QiuRrjh59U"
      }
    },
    {
      "cell_type": "markdown",
      "source": [
        "\n",
        "$\n",
        "\\mathbf{A} \\cdot \\mathbf{B} = a_1 b_1 + a_2 b_2 + a_3 b_3\n",
        "$"
      ],
      "metadata": {
        "id": "AGNbVHLThvj-"
      }
    },
    {
      "cell_type": "markdown",
      "source": [
        "**Ejemplo 1:** Producto Punto\n"
      ],
      "metadata": {
        "id": "2pMPVmL8kTYj"
      }
    },
    {
      "cell_type": "code",
      "source": [
        "import numpy as np\n",
        "\n",
        "vector1 = np.array([1, 2, 3])\n",
        "vector2 = np.array([3, 4, 5])\n",
        "\n",
        "dot_product = np.dot(vector1, vector2)\n",
        "print(\"Producto punto:\", dot_product)\n"
      ],
      "metadata": {
        "id": "6XKNhROtM2vr",
        "outputId": "9eaab44c-f2fc-4c18-973e-cfe91fb22f8e",
        "colab": {
          "base_uri": "https://localhost:8080/"
        }
      },
      "execution_count": null,
      "outputs": [
        {
          "output_type": "stream",
          "name": "stdout",
          "text": [
            "Producto punto: 26\n"
          ]
        }
      ]
    },
    {
      "cell_type": "markdown",
      "source": [
        "### **Producto Cruz (o Vectorial)**\n",
        "\n",
        "El producto cruz de dos vectores da como resultado un nuevo vector perpendicular a ambos vectores originales.\n",
        "\n"
      ],
      "metadata": {
        "id": "TlVRoNYVfavl"
      }
    },
    {
      "cell_type": "markdown",
      "source": [
        "\n",
        "Dado dos vectores:\n",
        "$\n",
        "\\mathbf{A} = (a_1, \\; a_2, \\; a_3) \\quad \\text{y} \\quad \\mathbf{B} = (b_1, \\; b_2, \\; b_3)\n",
        "$\n",
        "\n"
      ],
      "metadata": {
        "id": "cmqdY9GjisO0"
      }
    },
    {
      "cell_type": "markdown",
      "source": [
        "Cálculo del producto cruz Usando componentes:"
      ],
      "metadata": {
        "id": "t_1fRT4viwGC"
      }
    },
    {
      "cell_type": "markdown",
      "source": [
        "$\n",
        "\\mathbf{A} \\times \\mathbf{B} = \\left( a_2 b_3 - a_3 b_2, \\; a_3 b_1 - a_1 b_3, \\; a_1 b_2 - a_2 b_1 \\right)\n",
        "$"
      ],
      "metadata": {
        "id": "vEOEwDcxf3oB"
      }
    },
    {
      "cell_type": "markdown",
      "source": [
        "O utilizando el determinante de una matriz:\n"
      ],
      "metadata": {
        "id": "CZ-B_SA9jYA8"
      }
    },
    {
      "cell_type": "markdown",
      "source": [
        "$\n",
        "\\mathbf{A} \\times \\mathbf{B} = \\begin{vmatrix}\n",
        "\\mathbf{i} & \\mathbf{j} & \\mathbf{k} \\\\\n",
        "a_1 & a_2 & a_3 \\\\\n",
        "b_1 & b_2 & b_3 \\\\\n",
        "\\end{vmatrix}\n",
        "$"
      ],
      "metadata": {
        "id": "lKgEndJni8zp"
      }
    },
    {
      "cell_type": "markdown",
      "source": [
        "Desarrollando el determinante:"
      ],
      "metadata": {
        "id": "gmka7mpUgGOK"
      }
    },
    {
      "cell_type": "markdown",
      "source": [
        "$\n",
        "\\mathbf{A} \\times \\mathbf{B} = \\left( a_2 b_3 - a_3 b_2 \\right) \\mathbf{i} - \\left( a_1 b_3 - a_3 b_1 \\right) \\mathbf{j} + \\left( a_1 b_2 - a_2 b_1 \\right) \\mathbf{k}\n",
        "$"
      ],
      "metadata": {
        "id": "gBzIXfqVf8lm"
      }
    },
    {
      "cell_type": "markdown",
      "source": [
        "**Ejemplo 2:** Producto Cruz"
      ],
      "metadata": {
        "id": "musW8j88M4Ce"
      }
    },
    {
      "cell_type": "code",
      "source": [
        "vector1 = np.array([1, 2, 3])\n",
        "vector2 = np.array([3, 4, 5])\n",
        "\n",
        "cross_product = np.cross(vector1, vector2)\n",
        "print(\"Producto cruz:\", cross_product)\n"
      ],
      "metadata": {
        "id": "DVV5Ct9UM7jI",
        "outputId": "cb1b1ae7-a3f4-4aa1-93c9-391e38b2aeb7",
        "colab": {
          "base_uri": "https://localhost:8080/"
        }
      },
      "execution_count": null,
      "outputs": [
        {
          "output_type": "stream",
          "name": "stdout",
          "text": [
            "Producto cruz: [-2  4 -2]\n"
          ]
        }
      ]
    },
    {
      "cell_type": "markdown",
      "source": [
        "**Ejercicios**\n",
        "\n",
        "Calcula el producto punto de dos vectores de tamaño 3.\n"
      ],
      "metadata": {
        "id": "9KKx0vUoM9om"
      }
    },
    {
      "cell_type": "code",
      "source": [],
      "metadata": {
        "id": "_lIBQXRdM_ss"
      },
      "execution_count": null,
      "outputs": []
    },
    {
      "cell_type": "markdown",
      "source": [
        "Encuentra el producto cruz de los vectores [2, 3, 4] y [5, 6, 7].\n"
      ],
      "metadata": {
        "id": "UdGwmryrNANS"
      }
    },
    {
      "cell_type": "code",
      "source": [],
      "metadata": {
        "id": "AbXYhb8xNBAd"
      },
      "execution_count": null,
      "outputs": []
    },
    {
      "cell_type": "markdown",
      "source": [
        "Verifica que el producto punto de dos vectores perpendiculares es cero."
      ],
      "metadata": {
        "id": "uxbUPwheNBWt"
      }
    },
    {
      "cell_type": "code",
      "source": [],
      "metadata": {
        "id": "psxC7t8uNCA9",
        "collapsed": true
      },
      "execution_count": null,
      "outputs": []
    },
    {
      "cell_type": "markdown",
      "source": [
        "### 8.2. Operaciones con Matrices\n",
        "\n"
      ],
      "metadata": {
        "id": "9GD5btdhNG5g"
      }
    },
    {
      "cell_type": "markdown",
      "source": [
        "**Operación Matmul (Multiplicación de Matrices)**\n",
        "\n",
        "La operación matmul, abreviatura de matrix multiplication (multiplicación de matrices), es una operación fundamental en álgebra lineal que combina dos matrices para producir una tercera matriz. Esta operación es esencial en campos como matemáticas, física, ingeniería y ciencias de la computación."
      ],
      "metadata": {
        "id": "jWwVl5pFl9Yz"
      }
    },
    {
      "cell_type": "markdown",
      "source": [
        "\n",
        "\n",
        "<img src=\"https://www.includehelp.com/python/images/numpy-1.jpg\" alt=\"HTML5 Icon\" width=\"700\" height=\"200\" >\n",
        "\n"
      ],
      "metadata": {
        "id": "Zp-U8VCQoLP_"
      }
    },
    {
      "cell_type": "markdown",
      "source": [
        "**Ejemplo 1:**  Multiplicación de Matrices"
      ],
      "metadata": {
        "id": "wRQX-iKIl--B"
      }
    },
    {
      "cell_type": "code",
      "source": [
        "matrix1 = np.array([[1, 2], [3, 4]])\n",
        "matrix2 = np.array([[2, 0], [1, 2]])\n",
        "\n",
        "product = np.matmul(matrix1, matrix2)\n",
        "print(\"Producto de matrices:\\n\", product)\n"
      ],
      "metadata": {
        "id": "ux8COFLsNL0W"
      },
      "execution_count": null,
      "outputs": []
    },
    {
      "cell_type": "markdown",
      "source": [
        "**Inversa**"
      ],
      "metadata": {
        "id": "2NBCIXI8NNSn"
      }
    },
    {
      "cell_type": "markdown",
      "source": [
        "La inversa de una matriz es un concepto fundamental en álgebra lineal. Dada una matriz cuadrada A, su inversa, denotada como\n",
        "A**(−1), es otra matriz que cumple con la siguiente propiedad:"
      ],
      "metadata": {
        "id": "X43jLSpzpmve"
      }
    },
    {
      "cell_type": "markdown",
      "source": [
        "$\n",
        "\\mathbf{A} \\times \\mathbf{A}^{-1} = \\mathbf{A}^{-1} \\times \\mathbf{A} = \\mathbf{I}\n",
        "$\n"
      ],
      "metadata": {
        "id": "_V-UdPoZp09d"
      }
    },
    {
      "cell_type": "code",
      "source": [
        "matrix = np.array([[4, 7], [2, 6]])\n",
        "\n",
        "# Inversa\n",
        "inverse = np.linalg.inv(matrix)\n",
        "print(\"Inversa de la matriz:\\n\", inverse)\n",
        "\n"
      ],
      "metadata": {
        "id": "Jj3v2s7NNQUy"
      },
      "execution_count": null,
      "outputs": []
    },
    {
      "cell_type": "markdown",
      "source": [
        "**Determinante**"
      ],
      "metadata": {
        "id": "zz8WueKgqI5r"
      }
    },
    {
      "cell_type": "markdown",
      "source": [
        "El determinante es una función que asigna a cada matriz cuadrada un número escalar. Es una herramienta fundamental en álgebra lineal, utilizada para determinar si una matriz es invertible, calcular áreas, volúmenes y resolver sistemas de ecuaciones lineales."
      ],
      "metadata": {
        "id": "_wmKTeLRrBHF"
      }
    },
    {
      "cell_type": "markdown",
      "source": [
        "Considera la matriz:"
      ],
      "metadata": {
        "id": "_z4qb9MOrZ2H"
      }
    },
    {
      "cell_type": "markdown",
      "source": [
        "$\n",
        "\\boldsymbol{A} = \\begin{pmatrix}\n",
        "a_{11} & a_{12} & a_{13} \\\\\n",
        "a_{21} & a_{22} & a_{23} \\\\\n",
        "a_{31} & a_{32} & a_{33} \\\\\n",
        "\\end{pmatrix}\n",
        "$"
      ],
      "metadata": {
        "id": "SrVgHTDarUiE"
      }
    },
    {
      "cell_type": "markdown",
      "source": [
        "El determinante se calcula mediante la regla de Sarrus o por expansión de cofactores.\n",
        "\n",
        "**Regla de Sarrus:**"
      ],
      "metadata": {
        "id": "2xrhxsZTrcbX"
      }
    },
    {
      "cell_type": "markdown",
      "source": [
        "\n",
        "\n",
        " <img src=\"https://upload.wikimedia.org/wikipedia/commons/f/fd/Regla_de_Sarrus_01.svg\" alt=\"HTML5 Icon\" width=\"300\" height=\"300\" >\n"
      ],
      "metadata": {
        "id": "Sl2HgAwUrsvZ"
      }
    },
    {
      "cell_type": "markdown",
      "source": [
        "$\n",
        "\\det(\\boldsymbol{A}) = a_{11}a_{22}a_{33} + a_{12}a_{23}a_{31} + a_{13}a_{21}a_{32} - (a_{13}a_{22}a_{31} + a_{11}a_{23}a_{32} + a_{12}a_{21}a_{33})\n",
        "$"
      ],
      "metadata": {
        "id": "XckBEUFArf-X"
      }
    },
    {
      "cell_type": "code",
      "source": [
        "# Determinante\n",
        "determinante = np.linalg.det(matrix)\n",
        "print(\"Determinante de la matriz:\", determinante)\n"
      ],
      "metadata": {
        "id": "UuO9Mon6qJ34"
      },
      "execution_count": null,
      "outputs": []
    },
    {
      "cell_type": "markdown",
      "source": [
        "**Ejercicios**\n",
        "\n",
        "Calcula el determinante de una matriz de 3x3.\n"
      ],
      "metadata": {
        "id": "F7gr4WrENP8T"
      }
    },
    {
      "cell_type": "code",
      "source": [],
      "metadata": {
        "id": "dgkHn3INNUYh"
      },
      "execution_count": null,
      "outputs": []
    },
    {
      "cell_type": "markdown",
      "source": [
        "Encuentra la matriz inversa de una matriz cuadrada.\n"
      ],
      "metadata": {
        "id": "lGSjm1zrNUw9"
      }
    },
    {
      "cell_type": "code",
      "source": [],
      "metadata": {
        "id": "mZR5WSB1NVgS"
      },
      "execution_count": null,
      "outputs": []
    },
    {
      "cell_type": "markdown",
      "source": [
        "Verifica que el producto de una matriz y su inversa es la matriz identidad."
      ],
      "metadata": {
        "id": "GLh5imFcNV0n"
      }
    },
    {
      "cell_type": "code",
      "source": [],
      "metadata": {
        "id": "3IAoS6gYNWOR"
      },
      "execution_count": null,
      "outputs": []
    },
    {
      "cell_type": "markdown",
      "source": [
        "**Ejercicio 1:** Multiplicación de Matrices y Producto Punto\n",
        "\n",
        "- Crea dos matrices A y B de dimensiones compatibles.\n",
        "- Calcula la multiplicación de matrices C=A×B.\n",
        "- Calcula el producto punto de dos vectores.\n",
        "- Verifica si la multiplicación de matrices es conmutativa en este caso (es decir, si A×B=B×A)."
      ],
      "metadata": {
        "id": "paCjwWe5tG4H"
      }
    },
    {
      "cell_type": "code",
      "source": [],
      "metadata": {
        "id": "Gu8zG4lBtOao"
      },
      "execution_count": null,
      "outputs": []
    },
    {
      "cell_type": "markdown",
      "source": [
        "**Ejercicio 2:** Cálculo de la Inversa y Verificación\n",
        "\n",
        "- Crea una matriz cuadrada invertible A.\n",
        "- Calcula la inversa de A.\n",
        "- Verifica que A×A**(−1) es la matriz identidad."
      ],
      "metadata": {
        "id": "Gxo8fCZNtSxW"
      }
    },
    {
      "cell_type": "code",
      "source": [],
      "metadata": {
        "id": "80LJelKGtfiW"
      },
      "execution_count": null,
      "outputs": []
    },
    {
      "cell_type": "markdown",
      "source": [
        "**Ejercicio 3:** Cálculo de Determinante, Valores y Vectores Propios\n",
        "\n",
        "- Crea una matriz cuadrada A.\n",
        "- Calcula el determinante de A.\n",
        "- Calcula los valores propios y vectores propios de A.\n",
        "- Verifica la relación A×v=λv para un par valor propio y vector propio."
      ],
      "metadata": {
        "id": "wSTrLOEKtkMv"
      }
    },
    {
      "cell_type": "code",
      "source": [],
      "metadata": {
        "id": "B0aCxCLHts_N"
      },
      "execution_count": null,
      "outputs": []
    },
    {
      "cell_type": "markdown",
      "source": [
        "### 8.3. Sistemas de Ecuaciones Lineales\n",
        "\n",
        "Resuelve sistemas de ecuaciones lineales utilizando NumPy.\n",
        "\n",
        "\n"
      ],
      "metadata": {
        "id": "cWDRPmBtNZ8H"
      }
    },
    {
      "cell_type": "markdown",
      "source": [
        "**Ejemplo 1:** Sistema de Ecuaciones\n",
        "\n",
        "Resuelve el siguiente sistema:\n",
        "\n",
        "2x + 3y =  8\n",
        "\n",
        " x − 4y = −2\n"
      ],
      "metadata": {
        "id": "9YWckbt9knKa"
      }
    },
    {
      "cell_type": "code",
      "source": [
        "# Coeficientes de las variables\n",
        "A = np.array([[2, 3], [1, -4]])\n",
        "\n",
        "# Vector de constantes\n",
        "B = np.array([8, -2])\n",
        "\n",
        "# Solución\n",
        "solution = np.linalg.solve(A, B)\n",
        "print(\"Solución del sistema:\", solution)\n"
      ],
      "metadata": {
        "id": "CTzE5lAGk0k7"
      },
      "execution_count": null,
      "outputs": []
    },
    {
      "cell_type": "markdown",
      "source": [
        "**Ejemplo 2:** Sistema de Ecuaciones de Mayor Dimensión\n",
        "\n",
        "Resuelve el sistema:\n",
        "  \n",
        " x +  y +  z =  6\n",
        "\n",
        "2x + 5y +  z = −4\n",
        "\n",
        "2x + 3y + 8z = 27"
      ],
      "metadata": {
        "id": "Uhqx7kLKk4R8"
      }
    },
    {
      "cell_type": "code",
      "source": [
        "A = np.array([[1, 1, 1], [2, 5, 1], [2, 3, 8]])\n",
        "B = np.array([6, -4, 27])\n",
        "\n",
        "solution = np.linalg.solve(A, B)\n",
        "print(\"Solución del sistema:\", solution)\n"
      ],
      "metadata": {
        "id": "7FVsicntk2_w"
      },
      "execution_count": null,
      "outputs": []
    },
    {
      "cell_type": "markdown",
      "source": [
        "**Ejercicios**\n",
        "\n",
        "Resuelve un sistema de ecuaciones de 3 variables y 3 ecuaciones.\n",
        "\n",
        "$\n",
        "\\begin{aligned}\n",
        "2x + 3y - z &= 5 \\\\\n",
        "4x + y + 2z &= 6 \\\\\n",
        "-3x + 2y + 3z &= -4\n",
        "\\end{aligned}\n",
        "$"
      ],
      "metadata": {
        "id": "ZMp2aQo7lNBJ"
      }
    },
    {
      "cell_type": "code",
      "source": [],
      "metadata": {
        "id": "IzPgFJnzlQL-"
      },
      "execution_count": null,
      "outputs": []
    },
    {
      "cell_type": "markdown",
      "source": [
        "Verifica la solución del sistema sustituyendo los valores encontrados en las ecuaciones originales.\n"
      ],
      "metadata": {
        "id": "xxQCcluOlPoX"
      }
    },
    {
      "cell_type": "code",
      "source": [],
      "metadata": {
        "id": "tTOgOVWnlSBD"
      },
      "execution_count": null,
      "outputs": []
    },
    {
      "cell_type": "markdown",
      "source": [
        "Intenta resolver un sistema de ecuaciones linealmente dependiente y observa el resultado.\n",
        "\n",
        "$\n",
        "\\begin{aligned}\n",
        "x + y &= 2 \\\\\n",
        "2x + 2y &= 4\n",
        "\\end{aligned}\n",
        "$"
      ],
      "metadata": {
        "id": "_nLDtZKVlSbj"
      }
    },
    {
      "cell_type": "code",
      "source": [],
      "metadata": {
        "id": "FblMZbWNlTEK"
      },
      "execution_count": null,
      "outputs": []
    },
    {
      "cell_type": "markdown",
      "source": [
        "## 9. Ejercicios Prácticos"
      ],
      "metadata": {
        "id": "_bEo7-mqlVf9"
      }
    },
    {
      "cell_type": "markdown",
      "source": [
        "**Ejercicio 1: Estadísticas**\n",
        "\n",
        "- Genera un array aleatorio de forma (4, 5) con números enteros entre 0 y 100.\n",
        "- Calcula el promedio, el valor mínimo y su índice global.\n",
        "- Encuentra el valor máximo de cada fila y de cada columna."
      ],
      "metadata": {
        "id": "qrHq4ppSmDOQ"
      }
    },
    {
      "cell_type": "code",
      "source": [],
      "metadata": {
        "id": "VZtm4M9umKZO"
      },
      "execution_count": null,
      "outputs": []
    },
    {
      "cell_type": "markdown",
      "source": [
        "**Ejercicio 2: Manipulación de Forma**\n",
        "\n",
        "- Crea una matriz de 3x3 con números consecutivos del 1 al 9.\n",
        "- Transpón la matriz y aplana el resultado.\n",
        "- Reshapea el array a una forma de (9, 1)."
      ],
      "metadata": {
        "id": "-dTGPcVMmK51"
      }
    },
    {
      "cell_type": "code",
      "source": [],
      "metadata": {
        "id": "wXBV4apdmTSh"
      },
      "execution_count": null,
      "outputs": []
    },
    {
      "cell_type": "markdown",
      "source": [
        "**Ejercicio 3: Álgebra Lineal**\n",
        "\n",
        "Resuelve el sistema de ecuaciones:\n",
        "\n",
        "3x +  2y −  z =  1\n",
        "\n",
        "2x −  2y + 4z = −2\n",
        "\n",
        "−x + 21y −  z =  0​\n",
        "\n",
        "\n",
        "- Encuentra la solución para las variables x, y, z.\n",
        "- Comprueba la solución sustituyéndola en las ecuaciones originales.\n",
        "- Calcula el determinante de la matriz de coeficientes.\n"
      ],
      "metadata": {
        "id": "Ik5SYZ_kmTwR"
      }
    },
    {
      "cell_type": "code",
      "source": [],
      "metadata": {
        "id": "UTSxGfpomvDe"
      },
      "execution_count": null,
      "outputs": []
    },
    {
      "cell_type": "markdown",
      "source": [
        "---\n",
        "\n",
        "# Gracias por completar este laboratorio!\n",
        "\n",
        "---"
      ],
      "metadata": {
        "id": "zxDh8KHMl33r"
      }
    }
  ]
}